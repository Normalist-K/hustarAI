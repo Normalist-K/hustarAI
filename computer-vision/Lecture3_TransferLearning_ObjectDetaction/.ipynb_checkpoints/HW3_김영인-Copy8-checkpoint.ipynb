{
 "cells": [
  {
   "cell_type": "markdown",
   "metadata": {},
   "source": [
    "# CIFAR-10 Challange - 김영인"
   ]
  },
  {
   "cell_type": "markdown",
   "metadata": {},
   "source": [
    "copy6 + augmentation(rotation, affine, colorjitter)"
   ]
  },
  {
   "cell_type": "code",
   "execution_count": 2,
   "metadata": {
    "ExecuteTime": {
     "end_time": "2020-10-07T11:44:35.949569Z",
     "start_time": "2020-10-07T11:44:35.928381Z"
    }
   },
   "outputs": [
    {
     "name": "stdout",
     "output_type": "stream",
     "text": [
      "device: cuda:0\n"
     ]
    }
   ],
   "source": [
    "import random\n",
    "\n",
    "import torch\n",
    "import numpy as np\n",
    "from matplotlib import pyplot as plt\n",
    "\n",
    "import torch.nn as nn\n",
    "import torch.nn.functional as F\n",
    "import torch.optim as optim\n",
    "\n",
    "from torch.utils.data import Dataset, DataLoader\n",
    "from torchvision import transforms, models, datasets\n",
    "\n",
    "random_seed = 4332\n",
    "torch.manual_seed(random_seed)\n",
    "torch.cuda.manual_seed(random_seed)\n",
    "torch.cuda.manual_seed_all(random_seed) # if use multi-GPU\n",
    "torch.backends.cudnn.deterministic = True\n",
    "torch.backends.cudnn.benchmark = False\n",
    "np.random.seed(random_seed)\n",
    "random.seed(random_seed)\n",
    "\n",
    "device0 = torch.device(\"cuda:0\" if torch.cuda.is_available() else \"cpu\")\n",
    "device1 = torch.device(\"cuda:1\" if torch.cuda.is_available() else \"cpu\")\n",
    "\n",
    "device = device0\n",
    "print(f\"device: {device}\") if torch.cuda.is_available() else print(\"device: cpu\")"
   ]
  },
  {
   "cell_type": "markdown",
   "metadata": {},
   "source": [
    "## Hyper parameter Setting "
   ]
  },
  {
   "cell_type": "code",
   "execution_count": 7,
   "metadata": {
    "ExecuteTime": {
     "end_time": "2020-10-07T11:44:47.207699Z",
     "start_time": "2020-10-07T11:44:47.204365Z"
    }
   },
   "outputs": [],
   "source": [
    "learning_rate = 1e-2\n",
    "training_epochs = 50\n",
    "batch_size = 64\n",
    "momentum = 0.9\n",
    "dropout_rate = .4"
   ]
  },
  {
   "cell_type": "markdown",
   "metadata": {},
   "source": [
    "## Load & Preprocess Data"
   ]
  },
  {
   "cell_type": "code",
   "execution_count": 8,
   "metadata": {
    "ExecuteTime": {
     "end_time": "2020-10-07T11:44:50.825313Z",
     "start_time": "2020-10-07T11:44:49.092532Z"
    }
   },
   "outputs": [
    {
     "name": "stdout",
     "output_type": "stream",
     "text": [
      "Files already downloaded and verified\n",
      "Files already downloaded and verified\n"
     ]
    }
   ],
   "source": [
    "transform_train = transforms.Compose([\n",
    "    transforms.RandomResizedCrop(224),\n",
    "    transforms.RandomHorizontalFlip(), # FLips the image w.r.t horizontal axis\n",
    "    transforms.RandomRotation(10),     #Rotates the image to a specified angel\n",
    "    transforms.RandomAffine(0, shear=10, scale=(0.8,1.2)), #Performs actions like zooms, change shear angles.\n",
    "    transforms.ColorJitter(brightness=0.2, contrast=0.2, saturation=0.2), # Set the color params\n",
    "    transforms.ToTensor(), # comvert the image to tensor so that it can work with torch\n",
    "    transforms.Normalize((0.4914, 0.4822, 0.4465), (0.2023, 0.1994, 0.2010)),\n",
    "])\n",
    "\n",
    "transform_test = transforms.Compose([\n",
    "    transforms.RandomResizedCrop(224),\n",
    "    transforms.ToTensor(),\n",
    "    transforms.Normalize((0.4914, 0.4822, 0.4465), (0.2023, 0.1994, 0.2010)),\n",
    "])\n",
    "\n",
    "trainset = datasets.CIFAR10(root='./data', train=True,\n",
    "                                      download=True, transform=transforms.ToTensor())\n",
    "trainloader = DataLoader(trainset, batch_size=batch_size,\n",
    "                                         shuffle=True, num_workers=2)\n",
    "\n",
    "testset = datasets.CIFAR10(root='./data', train=False,\n",
    "                                      download=True, transform=transforms.ToTensor())\n",
    "testloader = DataLoader(testset, batch_size=4,\n",
    "                                        shuffle=False, num_workers=2)\n",
    "\n",
    "classes = ('plane', 'car', 'bird', 'cat', 'deer', 'dog', 'frog', 'horse', 'ship', 'truck')"
   ]
  },
  {
   "cell_type": "markdown",
   "metadata": {},
   "source": [
    "## Load and Define pretrained model and fine-tuning"
   ]
  },
  {
   "cell_type": "code",
   "execution_count": 9,
   "metadata": {
    "ExecuteTime": {
     "end_time": "2020-10-07T11:44:52.420360Z",
     "start_time": "2020-10-07T11:44:52.411106Z"
    }
   },
   "outputs": [],
   "source": [
    "class ResNet18(nn.Module):\n",
    "    def __init__ (self):\n",
    "        super(ResNet18, self).__init__()\n",
    "        self.resnet = models.resnet18(pretrained=True)\n",
    "        self.classifier = nn.Sequential(\n",
    "            nn.Dropout(dropout_rate),\n",
    "            nn.Linear(1000, 128),\n",
    "            nn.BatchNorm1d(128),\n",
    "            nn.ReLU(),\n",
    "            nn.Dropout(dropout_rate),\n",
    "            nn.Linear(128, 10)\n",
    "        )\n",
    "        \n",
    "    def forward(self, x):\n",
    "        x = self.resnet(x) # batch_size * 10\n",
    "        x = self.classifier(x)\n",
    "        return x"
   ]
  },
  {
   "cell_type": "markdown",
   "metadata": {},
   "source": [
    "## Load Model"
   ]
  },
  {
   "cell_type": "code",
   "execution_count": 10,
   "metadata": {
    "ExecuteTime": {
     "end_time": "2020-10-07T11:44:56.589505Z",
     "start_time": "2020-10-07T11:44:56.243737Z"
    }
   },
   "outputs": [],
   "source": [
    "net = ResNet18()\n",
    "net = net.to(device)\n",
    "\n",
    "criterion = nn.CrossEntropyLoss() \n",
    "optimizer = optim.SGD(net.parameters(), lr=learning_rate, momentum=momentum)"
   ]
  },
  {
   "cell_type": "markdown",
   "metadata": {},
   "source": [
    "## Train"
   ]
  },
  {
   "cell_type": "code",
   "execution_count": null,
   "metadata": {
    "ExecuteTime": {
     "start_time": "2020-10-07T11:44:57.549Z"
    },
    "scrolled": true
   },
   "outputs": [
    {
     "name": "stdout",
     "output_type": "stream",
     "text": [
      "[1,   100] loss: 1.549\n",
      "[1,   200] loss: 1.105\n",
      "[1,   300] loss: 0.969\n",
      "[1,   400] loss: 0.941\n",
      "[1,   500] loss: 0.875\n",
      "[1,   600] loss: 0.847\n",
      "[1,   700] loss: 0.805\n",
      "[2,   100] loss: 0.704\n",
      "[2,   200] loss: 0.694\n",
      "[2,   300] loss: 0.682\n",
      "[2,   400] loss: 0.659\n",
      "[2,   500] loss: 0.646\n",
      "[2,   600] loss: 0.642\n",
      "[2,   700] loss: 0.631\n",
      "[3,   100] loss: 0.500\n",
      "[3,   200] loss: 0.522\n",
      "[3,   300] loss: 0.539\n",
      "[3,   400] loss: 0.554\n",
      "[3,   500] loss: 0.526\n",
      "[3,   600] loss: 0.542\n",
      "[3,   700] loss: 0.507\n",
      "[4,   100] loss: 0.415\n",
      "[4,   200] loss: 0.424\n",
      "[4,   300] loss: 0.444\n",
      "[4,   400] loss: 0.450\n",
      "[4,   500] loss: 0.422\n",
      "[4,   600] loss: 0.457\n",
      "[4,   700] loss: 0.445\n",
      "[5,   100] loss: 0.314\n",
      "[5,   200] loss: 0.340\n",
      "[5,   300] loss: 0.374\n",
      "[5,   400] loss: 0.395\n",
      "[5,   500] loss: 0.379\n",
      "[5,   600] loss: 0.362\n",
      "[5,   700] loss: 0.380\n",
      "[6,   100] loss: 0.277\n",
      "[6,   200] loss: 0.289\n",
      "[6,   300] loss: 0.300\n",
      "[6,   400] loss: 0.319\n",
      "[6,   500] loss: 0.327\n",
      "[6,   600] loss: 0.323\n",
      "[6,   700] loss: 0.338\n",
      "[7,   100] loss: 0.240\n",
      "[7,   200] loss: 0.234\n",
      "[7,   300] loss: 0.254\n",
      "[7,   400] loss: 0.265\n",
      "[7,   500] loss: 0.267\n",
      "[7,   600] loss: 0.295\n",
      "[7,   700] loss: 0.296\n",
      "[8,   100] loss: 0.207\n",
      "[8,   200] loss: 0.212\n",
      "[8,   300] loss: 0.205\n",
      "[8,   400] loss: 0.216\n",
      "[8,   500] loss: 0.252\n"
     ]
    }
   ],
   "source": [
    "net.train()\n",
    "\n",
    "for epoch in range(training_epochs):\n",
    "    running_loss = 0.0\n",
    "    for i, data in enumerate(trainloader, 0):\n",
    "        inputs, labels = data\n",
    "        inputs, labels = inputs.to(device), labels.to(device)\n",
    "        \n",
    "        optimizer.zero_grad()\n",
    "\n",
    "        outputs = net(inputs) \n",
    "        loss =  criterion(outputs, labels)\n",
    "        loss.backward()\n",
    "        \n",
    "        optimizer.step()\n",
    "        \n",
    "        running_loss += loss.item()\n",
    "        if i % 100 == 99:\n",
    "            print('[%d, %5d] loss: %.3f' % (epoch + 1, i + 1, running_loss / 100))\n",
    "            running_loss = 0.0\n",
    "        \n",
    "print('Finished Training')"
   ]
  },
  {
   "cell_type": "markdown",
   "metadata": {},
   "source": [
    "## Test"
   ]
  },
  {
   "cell_type": "code",
   "execution_count": 15,
   "metadata": {
    "ExecuteTime": {
     "end_time": "2020-10-07T11:05:11.997313Z",
     "start_time": "2020-10-07T11:04:57.947986Z"
    }
   },
   "outputs": [
    {
     "name": "stdout",
     "output_type": "stream",
     "text": [
      "Accuracy of plane : 84.800000 %\n",
      "Accuracy of   car : 91.200000 %\n",
      "Accuracy of  bird : 76.500000 %\n",
      "Accuracy of   cat : 65.900000 %\n",
      "Accuracy of  deer : 80.600000 %\n",
      "Accuracy of   dog : 67.800000 %\n",
      "Accuracy of  frog : 91.300000 %\n",
      "Accuracy of horse : 87.700000 %\n",
      "Accuracy of  ship : 91.600000 %\n",
      "Accuracy of truck : 87.700000 %\n",
      "Mean Accuracy :  82.51\n"
     ]
    }
   ],
   "source": [
    "class_correct = np.zeros(10)\n",
    "class_total = np.zeros(10)\n",
    "\n",
    "net.eval()\n",
    "\n",
    "with torch.no_grad():\n",
    "    for data in testloader:\n",
    "        images, labels = data\n",
    "        images = images.to(device)\n",
    "        labels = labels.to(device)\n",
    "        outputs = net(images)\n",
    "        _, predicted = torch.max(outputs, 1)\n",
    "        c = (predicted == labels).squeeze()\n",
    "        for i in range(4):\n",
    "            label = labels[i]\n",
    "            class_correct[label] += c[i].item()\n",
    "            class_total[label] += 1\n",
    "\n",
    "\n",
    "for i in range(10):\n",
    "    print('Accuracy of %5s : %2f %%' % (\n",
    "        classes[i], 100 * class_correct[i] / class_total[i]))\n",
    "print('Mean Accuracy : ', 100*np.sum(class_correct)/np.sum(class_total))"
   ]
  }
 ],
 "metadata": {
  "kernelspec": {
   "display_name": "Python 3",
   "language": "python",
   "name": "python3"
  },
  "language_info": {
   "codemirror_mode": {
    "name": "ipython",
    "version": 3
   },
   "file_extension": ".py",
   "mimetype": "text/x-python",
   "name": "python",
   "nbconvert_exporter": "python",
   "pygments_lexer": "ipython3",
   "version": "3.7.8"
  }
 },
 "nbformat": 4,
 "nbformat_minor": 4
}

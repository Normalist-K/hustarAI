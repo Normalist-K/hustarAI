{
 "cells": [
  {
   "cell_type": "markdown",
   "metadata": {},
   "source": [
    "# CIFAR-10 Challange - 김영인"
   ]
  },
  {
   "cell_type": "markdown",
   "metadata": {},
   "source": [
    "1. wide-resnet (28*10)\n",
    "2. \\+ Data Augmentation(RandomResizedCrop, RandomHorizontalFlip)\n",
    "3. \\+ Data Normalize(mean, std)\n",
    "4. \\+ regularization(weight decay, dropout)\n",
    "5. \\+ Optimizer(momentum, scheduler)"
   ]
  },
  {
   "cell_type": "code",
   "execution_count": 1,
   "metadata": {
    "ExecuteTime": {
     "end_time": "2020-10-08T07:44:17.987758Z",
     "start_time": "2020-10-08T07:44:17.307332Z"
    }
   },
   "outputs": [
    {
     "name": "stdout",
     "output_type": "stream",
     "text": [
      "device: cuda:0\n"
     ]
    }
   ],
   "source": [
    "import random\n",
    "\n",
    "import torch\n",
    "import numpy as np\n",
    "from matplotlib import pyplot as plt\n",
    "\n",
    "import torch.nn as nn\n",
    "import torch.nn.functional as F\n",
    "import torch.optim as optim\n",
    "\n",
    "from torch.utils.data import Dataset, DataLoader\n",
    "from torchvision import transforms, models, datasets\n",
    "\n",
    "random_seed = 4332\n",
    "torch.manual_seed(random_seed)\n",
    "torch.cuda.manual_seed(random_seed)\n",
    "torch.cuda.manual_seed_all(random_seed) # if use multi-GPU\n",
    "torch.backends.cudnn.deterministic = True\n",
    "torch.backends.cudnn.benchmark = False\n",
    "np.random.seed(random_seed)\n",
    "random.seed(random_seed)\n",
    "\n",
    "device0 = torch.device(\"cuda:0\" if torch.cuda.is_available() else \"cpu\")\n",
    "device1 = torch.device(\"cuda:1\" if torch.cuda.is_available() else \"cpu\")\n",
    "\n",
    "device = device0\n",
    "print(f\"device: {device}\") if torch.cuda.is_available() else print(\"device: cpu\")"
   ]
  },
  {
   "cell_type": "markdown",
   "metadata": {},
   "source": [
    "## Hyper parameter Setting "
   ]
  },
  {
   "cell_type": "code",
   "execution_count": 11,
   "metadata": {
    "ExecuteTime": {
     "end_time": "2020-10-08T07:47:28.176408Z",
     "start_time": "2020-10-08T07:47:28.164068Z"
    }
   },
   "outputs": [],
   "source": [
    "learning_rate = 0.1\n",
    "scheduler_step = 60\n",
    "scheduler_gamma = 0.2\n",
    "training_epochs = 200\n",
    "batch_size = 64\n",
    "momentum = 0.9\n",
    "weight_decay = 5e-4\n",
    "depth = 28\n",
    "widen_factor = 10\n",
    "dropout_rate = 0.3"
   ]
  },
  {
   "cell_type": "markdown",
   "metadata": {},
   "source": [
    "## Load & Preprocess Data"
   ]
  },
  {
   "cell_type": "code",
   "execution_count": 12,
   "metadata": {
    "ExecuteTime": {
     "end_time": "2020-10-08T07:47:30.586600Z",
     "start_time": "2020-10-08T07:47:28.876210Z"
    }
   },
   "outputs": [
    {
     "name": "stdout",
     "output_type": "stream",
     "text": [
      "Files already downloaded and verified\n",
      "Files already downloaded and verified\n"
     ]
    }
   ],
   "source": [
    "transform_train = transforms.Compose(\n",
    "    [transforms.RandomResizedCrop(32), # data augmentation, 224: image size, ImageNet pretrained model에 맞추기 위해서 224 size로 설정\n",
    "     transforms.RandomHorizontalFlip(), # data augmentation, 좌우로 대칭\n",
    "     transforms.ToTensor(), # numpy array를 pytorch tensor로 바꿔주는 역할\n",
    "     transforms.Normalize((0.4914, 0.4822, 0.4465), (0.2023, 0.1994, 0.2010)) # dataset의 mean, std를 이용해서 -1~1 로 normalize\n",
    "    ])\n",
    "\n",
    "transform_test = transforms.Compose([\n",
    "    transforms.RandomResizedCrop(32),\n",
    "    transforms.ToTensor(),\n",
    "    transforms.Normalize((0.4914, 0.4822, 0.4465), (0.2023, 0.1994, 0.2010)),\n",
    "])\n",
    "\n",
    "trainset = datasets.CIFAR10(root='./data', train=True,\n",
    "                                      download=True, transform=transform_train)\n",
    "trainloader = DataLoader(trainset, batch_size=batch_size,\n",
    "                                         shuffle=True, num_workers=2)\n",
    "\n",
    "testset = datasets.CIFAR10(root='./data', train=False,\n",
    "                                      download=True, transform=transform_test)\n",
    "testloader = DataLoader(testset, batch_size=4,\n",
    "                                        shuffle=False, num_workers=2)\n",
    "\n",
    "classes = ('plane', 'car', 'bird', 'cat', 'deer', 'dog', 'frog', 'horse', 'ship', 'truck')"
   ]
  },
  {
   "cell_type": "markdown",
   "metadata": {},
   "source": [
    "## Load and Define pretrained model and fine-tuning"
   ]
  },
  {
   "cell_type": "code",
   "execution_count": 13,
   "metadata": {
    "ExecuteTime": {
     "end_time": "2020-10-08T07:47:30.603940Z",
     "start_time": "2020-10-08T07:47:30.588336Z"
    }
   },
   "outputs": [],
   "source": [
    "def conv3x3(in_planes, out_planes, stride=1):\n",
    "    return nn.Conv2d(in_planes, out_planes, kernel_size=3, stride=stride, padding=1, bias=True)\n",
    "\n",
    "def conv_init(m):\n",
    "    classname = m.__class__.__name__\n",
    "    if classname.find('Conv') != -1:\n",
    "        init.xavier_uniform_(m.weight, gain=np.sqrt(2))\n",
    "        init.constant_(m.bias, 0)\n",
    "    elif classname.find('BatchNorm') != -1:\n",
    "        init.constant_(m.weight, 1)\n",
    "        init.constant_(m.bias, 0)\n",
    "\n",
    "class wide_basic(nn.Module):\n",
    "    def __init__(self, in_planes, planes, dropout_rate, stride=1):\n",
    "        super(wide_basic, self).__init__()\n",
    "        self.bn1 = nn.BatchNorm2d(in_planes)\n",
    "        self.conv1 = nn.Conv2d(in_planes, planes, kernel_size=3, padding=1, bias=True)\n",
    "        self.dropout = nn.Dropout(p=dropout_rate)\n",
    "        self.bn2 = nn.BatchNorm2d(planes)\n",
    "        self.conv2 = nn.Conv2d(planes, planes, kernel_size=3, stride=stride, padding=1, bias=True)\n",
    "\n",
    "        self.shortcut = nn.Sequential()\n",
    "        if stride != 1 or in_planes != planes:\n",
    "            self.shortcut = nn.Sequential(\n",
    "                nn.Conv2d(in_planes, planes, kernel_size=1, stride=stride, bias=True),\n",
    "            )\n",
    "\n",
    "    def forward(self, x):\n",
    "        out = self.dropout(self.conv1(F.relu(self.bn1(x))))\n",
    "        out = self.conv2(F.relu(self.bn2(out)))\n",
    "        out += self.shortcut(x)\n",
    "\n",
    "        return out\n",
    "\n",
    "class Wide_ResNet(nn.Module):\n",
    "    def __init__(self, depth, widen_factor, dropout_rate, num_classes):\n",
    "        super(Wide_ResNet, self).__init__()\n",
    "        self.in_planes = 16\n",
    "\n",
    "        assert ((depth-4)%6 ==0), 'Wide-resnet depth should be 6n+4'\n",
    "        n = (depth-4)/6\n",
    "        k = widen_factor\n",
    "\n",
    "        print('| Wide-Resnet %dx%d' %(depth, k))\n",
    "        nStages = [16, 16*k, 32*k, 64*k]\n",
    "\n",
    "        self.conv1 = conv3x3(3,nStages[0])\n",
    "        self.layer1 = self._wide_layer(wide_basic, nStages[1], n, dropout_rate, stride=1)\n",
    "        self.layer2 = self._wide_layer(wide_basic, nStages[2], n, dropout_rate, stride=2)\n",
    "        self.layer3 = self._wide_layer(wide_basic, nStages[3], n, dropout_rate, stride=2)\n",
    "        self.bn1 = nn.BatchNorm2d(nStages[3], momentum=0.9)\n",
    "        self.linear = nn.Linear(nStages[3], num_classes)\n",
    "\n",
    "    def _wide_layer(self, block, planes, num_blocks, dropout_rate, stride):\n",
    "        strides = [stride] + [1]*(int(num_blocks)-1)\n",
    "        layers = []\n",
    "\n",
    "        for stride in strides:\n",
    "            layers.append(block(self.in_planes, planes, dropout_rate, stride))\n",
    "            self.in_planes = planes\n",
    "\n",
    "        return nn.Sequential(*layers)\n",
    "\n",
    "    def forward(self, x):\n",
    "        out = self.conv1(x)\n",
    "        out = self.layer1(out)\n",
    "        out = self.layer2(out)\n",
    "        out = self.layer3(out)\n",
    "        out = F.relu(self.bn1(out))\n",
    "        out = F.avg_pool2d(out, 8)\n",
    "        out = out.view(out.size(0), -1)\n",
    "        out = self.linear(out)\n",
    "\n",
    "        return out"
   ]
  },
  {
   "cell_type": "markdown",
   "metadata": {},
   "source": [
    "## Load Model"
   ]
  },
  {
   "cell_type": "code",
   "execution_count": 14,
   "metadata": {
    "ExecuteTime": {
     "end_time": "2020-10-08T07:47:32.606006Z",
     "start_time": "2020-10-08T07:47:32.219143Z"
    }
   },
   "outputs": [
    {
     "name": "stdout",
     "output_type": "stream",
     "text": [
      "| Wide-Resnet 28x10\n"
     ]
    }
   ],
   "source": [
    "net=Wide_ResNet(depth, widen_factor, dropout_rate, 10)\n",
    "net = net.to(device)\n",
    "\n",
    "criterion = nn.CrossEntropyLoss() \n",
    "optimizer = optim.SGD(net.parameters(), lr=learning_rate, momentum=momentum, weight_decay=weight_decay)\n",
    "scheduler = optim.lr_scheduler.StepLR(optimizer, \n",
    "                                      step_size = scheduler_step,\n",
    "                                      gamma = scheduler_gamma)"
   ]
  },
  {
   "cell_type": "markdown",
   "metadata": {},
   "source": [
    "## Train"
   ]
  },
  {
   "cell_type": "code",
   "execution_count": 15,
   "metadata": {
    "ExecuteTime": {
     "end_time": "2020-10-08T12:26:07.330327Z",
     "start_time": "2020-10-08T07:47:34.350531Z"
    },
    "scrolled": true
   },
   "outputs": [
    {
     "name": "stdout",
     "output_type": "stream",
     "text": [
      "=== # 0 epoch start! ===\n",
      "[1,   100] loss: 2.229\n",
      "[1,   200] loss: 2.010\n",
      "[1,   300] loss: 1.911\n",
      "[1,   400] loss: 1.863\n",
      "[1,   500] loss: 1.827\n",
      "[1,   600] loss: 1.775\n",
      "[1,   700] loss: 1.768\n",
      "=== # 1 epoch start! ===\n",
      "[2,   100] loss: 1.689\n",
      "[2,   200] loss: 1.631\n",
      "[2,   300] loss: 1.620\n",
      "[2,   400] loss: 1.572\n",
      "[2,   500] loss: 1.529\n",
      "[2,   600] loss: 1.522\n",
      "[2,   700] loss: 1.497\n",
      "=== # 2 epoch start! ===\n",
      "[3,   100] loss: 1.443\n",
      "[3,   200] loss: 1.420\n",
      "[3,   300] loss: 1.408\n",
      "[3,   400] loss: 1.401\n",
      "[3,   500] loss: 1.379\n",
      "[3,   600] loss: 1.367\n",
      "[3,   700] loss: 1.333\n",
      "=== # 3 epoch start! ===\n",
      "[4,   100] loss: 1.357\n",
      "[4,   200] loss: 1.322\n",
      "[4,   300] loss: 1.322\n",
      "[4,   400] loss: 1.299\n",
      "[4,   500] loss: 1.281\n",
      "[4,   600] loss: 1.293\n",
      "[4,   700] loss: 1.295\n",
      "=== # 4 epoch start! ===\n",
      "[5,   100] loss: 1.229\n",
      "[5,   200] loss: 1.262\n",
      "[5,   300] loss: 1.284\n",
      "[5,   400] loss: 1.231\n",
      "[5,   500] loss: 1.250\n",
      "[5,   600] loss: 1.240\n",
      "[5,   700] loss: 1.228\n",
      "=== # 5 epoch start! ===\n",
      "[6,   100] loss: 1.205\n",
      "[6,   200] loss: 1.179\n",
      "[6,   300] loss: 1.242\n",
      "[6,   400] loss: 1.207\n",
      "[6,   500] loss: 1.221\n",
      "[6,   600] loss: 1.162\n",
      "[6,   700] loss: 1.226\n",
      "=== # 6 epoch start! ===\n",
      "[7,   100] loss: 1.155\n",
      "[7,   200] loss: 1.186\n",
      "[7,   300] loss: 1.166\n",
      "[7,   400] loss: 1.130\n",
      "[7,   500] loss: 1.175\n",
      "[7,   600] loss: 1.150\n",
      "[7,   700] loss: 1.167\n",
      "=== # 7 epoch start! ===\n",
      "[8,   100] loss: 1.118\n",
      "[8,   200] loss: 1.137\n",
      "[8,   300] loss: 1.118\n",
      "[8,   400] loss: 1.135\n",
      "[8,   500] loss: 1.139\n"
     ]
    },
    {
     "name": "stderr",
     "output_type": "stream",
     "text": [
      "Exception ignored in: <function _MultiProcessingDataLoaderIter.__del__ at 0x7ff4a246a5f0>\n",
      "Traceback (most recent call last):\n",
      "  File \"/home/pirl/anaconda3/envs/pytorch/lib/python3.7/site-packages/torch/utils/data/dataloader.py\", line 1101, in __del__\n",
      "    self._shutdown_workers()\n",
      "  File \"/home/pirl/anaconda3/envs/pytorch/lib/python3.7/site-packages/torch/utils/data/dataloader.py\", line 1075, in _shutdown_workers\n",
      "    w.join(timeout=_utils.MP_STATUS_CHECK_INTERVAL)\n",
      "  File \"/home/pirl/anaconda3/envs/pytorch/lib/python3.7/multiprocessing/process.py\", line 138, in join\n",
      "    assert self._parent_pid == os.getpid(), 'can only join a child process'\n",
      "AssertionError: can only join a child process\n"
     ]
    },
    {
     "name": "stdout",
     "output_type": "stream",
     "text": [
      "[8,   600] loss: 1.111\n",
      "[8,   700] loss: 1.106\n",
      "=== # 8 epoch start! ===\n"
     ]
    },
    {
     "name": "stderr",
     "output_type": "stream",
     "text": [
      "Exception ignored in: <function _MultiProcessingDataLoaderIter.__del__ at 0x7ff4a246a5f0>\n",
      "Traceback (most recent call last):\n",
      "  File \"/home/pirl/anaconda3/envs/pytorch/lib/python3.7/site-packages/torch/utils/data/dataloader.py\", line 1101, in __del__\n",
      "    self._shutdown_workers()\n",
      "  File \"/home/pirl/anaconda3/envs/pytorch/lib/python3.7/site-packages/torch/utils/data/dataloader.py\", line 1075, in _shutdown_workers\n",
      "    w.join(timeout=_utils.MP_STATUS_CHECK_INTERVAL)\n",
      "  File \"/home/pirl/anaconda3/envs/pytorch/lib/python3.7/multiprocessing/process.py\", line 138, in join\n",
      "    assert self._parent_pid == os.getpid(), 'can only join a child process'\n",
      "AssertionError: can only join a child process\n"
     ]
    },
    {
     "name": "stdout",
     "output_type": "stream",
     "text": [
      "[9,   100] loss: 1.120\n",
      "[9,   200] loss: 1.137\n",
      "[9,   300] loss: 1.107\n",
      "[9,   400] loss: 1.105\n",
      "[9,   500] loss: 1.088\n",
      "[9,   600] loss: 1.071\n",
      "[9,   700] loss: 1.105\n",
      "=== # 9 epoch start! ===\n"
     ]
    },
    {
     "name": "stderr",
     "output_type": "stream",
     "text": [
      "Exception ignored in: <function _MultiProcessingDataLoaderIter.__del__ at 0x7ff4a246a5f0>\n",
      "Traceback (most recent call last):\n",
      "  File \"/home/pirl/anaconda3/envs/pytorch/lib/python3.7/site-packages/torch/utils/data/dataloader.py\", line 1101, in __del__\n",
      "    self._shutdown_workers()\n",
      "  File \"/home/pirl/anaconda3/envs/pytorch/lib/python3.7/site-packages/torch/utils/data/dataloader.py\", line 1075, in _shutdown_workers\n",
      "w.join(timeout=_utils.MP_STATUS_CHECK_INTERVAL)    \n",
      "  File \"/home/pirl/anaconda3/envs/pytorch/lib/python3.7/multiprocessing/process.py\", line 138, in join\n",
      "    assert self._parent_pid == os.getpid(), 'can only join a child process'\n",
      "AssertionError: can only join a child process\n"
     ]
    },
    {
     "name": "stdout",
     "output_type": "stream",
     "text": [
      "[10,   100] loss: 1.074\n",
      "[10,   200] loss: 1.093\n",
      "[10,   300] loss: 1.103\n",
      "[10,   400] loss: 1.093\n",
      "[10,   500] loss: 1.094\n",
      "[10,   600] loss: 1.054\n",
      "[10,   700] loss: 1.100\n",
      "=== # 10 epoch start! ===\n"
     ]
    },
    {
     "name": "stderr",
     "output_type": "stream",
     "text": [
      "Exception ignored in: <function _MultiProcessingDataLoaderIter.__del__ at 0x7ff4a246a5f0>\n",
      "Traceback (most recent call last):\n",
      "  File \"/home/pirl/anaconda3/envs/pytorch/lib/python3.7/site-packages/torch/utils/data/dataloader.py\", line 1101, in __del__\n",
      "    self._shutdown_workers()\n",
      "  File \"/home/pirl/anaconda3/envs/pytorch/lib/python3.7/site-packages/torch/utils/data/dataloader.py\", line 1075, in _shutdown_workers\n",
      "    w.join(timeout=_utils.MP_STATUS_CHECK_INTERVAL)\n",
      "  File \"/home/pirl/anaconda3/envs/pytorch/lib/python3.7/multiprocessing/process.py\", line 138, in join\n",
      "    assert self._parent_pid == os.getpid(), 'can only join a child process'\n",
      "AssertionError: can only join a child process\n"
     ]
    },
    {
     "name": "stdout",
     "output_type": "stream",
     "text": [
      "[11,   100] loss: 1.083\n",
      "[11,   200] loss: 1.066\n",
      "[11,   300] loss: 1.081\n",
      "[11,   400] loss: 1.092\n",
      "[11,   500] loss: 1.079\n",
      "[11,   600] loss: 1.036\n",
      "[11,   700] loss: 1.053\n",
      "=== # 11 epoch start! ===\n"
     ]
    },
    {
     "name": "stderr",
     "output_type": "stream",
     "text": [
      "Exception ignored in: <function _MultiProcessingDataLoaderIter.__del__ at 0x7ff4a246a5f0>\n",
      "Traceback (most recent call last):\n",
      "  File \"/home/pirl/anaconda3/envs/pytorch/lib/python3.7/site-packages/torch/utils/data/dataloader.py\", line 1101, in __del__\n",
      "    self._shutdown_workers()\n",
      "  File \"/home/pirl/anaconda3/envs/pytorch/lib/python3.7/site-packages/torch/utils/data/dataloader.py\", line 1075, in _shutdown_workers\n",
      "    w.join(timeout=_utils.MP_STATUS_CHECK_INTERVAL)\n",
      "  File \"/home/pirl/anaconda3/envs/pytorch/lib/python3.7/multiprocessing/process.py\", line 138, in join\n",
      "    assert self._parent_pid == os.getpid(), 'can only join a child process'\n",
      "AssertionError: can only join a child process\n"
     ]
    },
    {
     "name": "stdout",
     "output_type": "stream",
     "text": [
      "[12,   100] loss: 1.095\n",
      "[12,   200] loss: 1.059\n",
      "[12,   300] loss: 1.041\n",
      "[12,   400] loss: 1.046\n",
      "[12,   500] loss: 1.053\n",
      "[12,   600] loss: 1.054\n",
      "[12,   700] loss: 1.066\n",
      "=== # 12 epoch start! ===\n"
     ]
    },
    {
     "name": "stderr",
     "output_type": "stream",
     "text": [
      "Exception ignored in: <function _MultiProcessingDataLoaderIter.__del__ at 0x7ff4a246a5f0>\n",
      "Traceback (most recent call last):\n",
      "  File \"/home/pirl/anaconda3/envs/pytorch/lib/python3.7/site-packages/torch/utils/data/dataloader.py\", line 1101, in __del__\n",
      "    self._shutdown_workers()\n",
      "  File \"/home/pirl/anaconda3/envs/pytorch/lib/python3.7/site-packages/torch/utils/data/dataloader.py\", line 1075, in _shutdown_workers\n",
      "    w.join(timeout=_utils.MP_STATUS_CHECK_INTERVAL)\n",
      "  File \"/home/pirl/anaconda3/envs/pytorch/lib/python3.7/multiprocessing/process.py\", line 138, in join\n",
      "    assert self._parent_pid == os.getpid(), 'can only join a child process'\n",
      "AssertionError: can only join a child process\n"
     ]
    },
    {
     "name": "stdout",
     "output_type": "stream",
     "text": [
      "[13,   100] loss: 1.077\n",
      "[13,   200] loss: 1.046\n",
      "[13,   300] loss: 1.067\n",
      "[13,   400] loss: 1.028\n",
      "[13,   500] loss: 1.042\n",
      "[13,   600] loss: 1.032\n",
      "[13,   700] loss: 1.031\n",
      "=== # 13 epoch start! ===\n"
     ]
    },
    {
     "name": "stderr",
     "output_type": "stream",
     "text": [
      "Exception ignored in: <function _MultiProcessingDataLoaderIter.__del__ at 0x7ff4a246a5f0>\n",
      "Traceback (most recent call last):\n",
      "  File \"/home/pirl/anaconda3/envs/pytorch/lib/python3.7/site-packages/torch/utils/data/dataloader.py\", line 1101, in __del__\n",
      "    self._shutdown_workers()\n",
      "  File \"/home/pirl/anaconda3/envs/pytorch/lib/python3.7/site-packages/torch/utils/data/dataloader.py\", line 1075, in _shutdown_workers\n",
      "    w.join(timeout=_utils.MP_STATUS_CHECK_INTERVAL)\n",
      "  File \"/home/pirl/anaconda3/envs/pytorch/lib/python3.7/multiprocessing/process.py\", line 138, in join\n",
      "    assert self._parent_pid == os.getpid(), 'can only join a child process'\n",
      "AssertionError: can only join a child process\n",
      "Exception ignored in: <function _MultiProcessingDataLoaderIter.__del__ at 0x7ff4a246a5f0>\n",
      "Traceback (most recent call last):\n",
      "  File \"/home/pirl/anaconda3/envs/pytorch/lib/python3.7/site-packages/torch/utils/data/dataloader.py\", line 1101, in __del__\n",
      "    self._shutdown_workers()\n",
      "  File \"/home/pirl/anaconda3/envs/pytorch/lib/python3.7/site-packages/torch/utils/data/dataloader.py\", line 1075, in _shutdown_workers\n",
      "    w.join(timeout=_utils.MP_STATUS_CHECK_INTERVAL)\n",
      "  File \"/home/pirl/anaconda3/envs/pytorch/lib/python3.7/multiprocessing/process.py\", line 138, in join\n",
      "    assert self._parent_pid == os.getpid(), 'can only join a child process'\n",
      "AssertionError: can only join a child process\n"
     ]
    },
    {
     "name": "stdout",
     "output_type": "stream",
     "text": [
      "[14,   100] loss: 1.034\n",
      "[14,   200] loss: 1.018\n",
      "[14,   300] loss: 1.027\n",
      "[14,   400] loss: 1.047\n",
      "[14,   500] loss: 1.045\n",
      "[14,   600] loss: 1.045\n",
      "[14,   700] loss: 1.026\n",
      "=== # 14 epoch start! ===\n"
     ]
    },
    {
     "name": "stderr",
     "output_type": "stream",
     "text": [
      "Exception ignored in: <function _MultiProcessingDataLoaderIter.__del__ at 0x7ff4a246a5f0>\n",
      "Traceback (most recent call last):\n",
      "  File \"/home/pirl/anaconda3/envs/pytorch/lib/python3.7/site-packages/torch/utils/data/dataloader.py\", line 1101, in __del__\n",
      "    self._shutdown_workers()\n",
      "  File \"/home/pirl/anaconda3/envs/pytorch/lib/python3.7/site-packages/torch/utils/data/dataloader.py\", line 1075, in _shutdown_workers\n",
      "    w.join(timeout=_utils.MP_STATUS_CHECK_INTERVAL)\n",
      "  File \"/home/pirl/anaconda3/envs/pytorch/lib/python3.7/multiprocessing/process.py\", line 138, in join\n",
      "Exception ignored in:     assert self._parent_pid == os.getpid(), 'can only join a child process'<function _MultiProcessingDataLoaderIter.__del__ at 0x7ff4a246a5f0>\n",
      "\n",
      "AssertionErrorTraceback (most recent call last):\n",
      ": can only join a child process  File \"/home/pirl/anaconda3/envs/pytorch/lib/python3.7/site-packages/torch/utils/data/dataloader.py\", line 1101, in __del__\n",
      "\n",
      "    self._shutdown_workers()\n",
      "  File \"/home/pirl/anaconda3/envs/pytorch/lib/python3.7/site-packages/torch/utils/data/dataloader.py\", line 1075, in _shutdown_workers\n",
      "    w.join(timeout=_utils.MP_STATUS_CHECK_INTERVAL)\n",
      "  File \"/home/pirl/anaconda3/envs/pytorch/lib/python3.7/multiprocessing/process.py\", line 138, in join\n",
      "    assert self._parent_pid == os.getpid(), 'can only join a child process'\n",
      "AssertionError: can only join a child process\n"
     ]
    },
    {
     "name": "stdout",
     "output_type": "stream",
     "text": [
      "[15,   100] loss: 1.017\n",
      "[15,   200] loss: 1.046\n",
      "[15,   300] loss: 1.015\n",
      "[15,   400] loss: 1.013\n",
      "[15,   500] loss: 1.046\n",
      "[15,   600] loss: 1.023\n",
      "[15,   700] loss: 1.022\n",
      "=== # 15 epoch start! ===\n"
     ]
    },
    {
     "name": "stderr",
     "output_type": "stream",
     "text": [
      "Exception ignored in: <function _MultiProcessingDataLoaderIter.__del__ at 0x7ff4a246a5f0>\n",
      "Traceback (most recent call last):\n",
      "  File \"/home/pirl/anaconda3/envs/pytorch/lib/python3.7/site-packages/torch/utils/data/dataloader.py\", line 1101, in __del__\n",
      "    self._shutdown_workers()\n",
      "  File \"/home/pirl/anaconda3/envs/pytorch/lib/python3.7/site-packages/torch/utils/data/dataloader.py\", line 1075, in _shutdown_workers\n",
      "    w.join(timeout=_utils.MP_STATUS_CHECK_INTERVAL)\n",
      "  File \"/home/pirl/anaconda3/envs/pytorch/lib/python3.7/multiprocessing/process.py\", line 138, in join\n",
      "    assert self._parent_pid == os.getpid(), 'can only join a child process'\n",
      "AssertionError: can only join a child process\n",
      "Exception ignored in: <function _MultiProcessingDataLoaderIter.__del__ at 0x7ff4a246a5f0>\n",
      "Traceback (most recent call last):\n",
      "  File \"/home/pirl/anaconda3/envs/pytorch/lib/python3.7/site-packages/torch/utils/data/dataloader.py\", line 1101, in __del__\n",
      "    self._shutdown_workers()\n",
      "  File \"/home/pirl/anaconda3/envs/pytorch/lib/python3.7/site-packages/torch/utils/data/dataloader.py\", line 1075, in _shutdown_workers\n",
      "    w.join(timeout=_utils.MP_STATUS_CHECK_INTERVAL)\n",
      "  File \"/home/pirl/anaconda3/envs/pytorch/lib/python3.7/multiprocessing/process.py\", line 138, in join\n",
      "    assert self._parent_pid == os.getpid(), 'can only join a child process'\n",
      "AssertionError: can only join a child process\n"
     ]
    },
    {
     "name": "stdout",
     "output_type": "stream",
     "text": [
      "[16,   100] loss: 1.000\n",
      "[16,   200] loss: 1.025\n",
      "[16,   300] loss: 1.019\n",
      "[16,   400] loss: 1.014\n",
      "[16,   500] loss: 1.052\n",
      "[16,   600] loss: 1.019\n",
      "[16,   700] loss: 1.029\n",
      "=== # 16 epoch start! ===\n"
     ]
    },
    {
     "name": "stderr",
     "output_type": "stream",
     "text": [
      "Exception ignored in: <function _MultiProcessingDataLoaderIter.__del__ at 0x7ff4a246a5f0>\n",
      "Traceback (most recent call last):\n",
      "  File \"/home/pirl/anaconda3/envs/pytorch/lib/python3.7/site-packages/torch/utils/data/dataloader.py\", line 1101, in __del__\n",
      "    self._shutdown_workers()\n",
      "  File \"/home/pirl/anaconda3/envs/pytorch/lib/python3.7/site-packages/torch/utils/data/dataloader.py\", line 1075, in _shutdown_workers\n",
      "    w.join(timeout=_utils.MP_STATUS_CHECK_INTERVAL)\n",
      "  File \"/home/pirl/anaconda3/envs/pytorch/lib/python3.7/multiprocessing/process.py\", line 138, in join\n",
      "    assert self._parent_pid == os.getpid(), 'can only join a child process'\n",
      "AssertionError: can only join a child process\n",
      "Exception ignored in: <function _MultiProcessingDataLoaderIter.__del__ at 0x7ff4a246a5f0>\n",
      "Traceback (most recent call last):\n",
      "  File \"/home/pirl/anaconda3/envs/pytorch/lib/python3.7/site-packages/torch/utils/data/dataloader.py\", line 1101, in __del__\n",
      "    self._shutdown_workers()\n",
      "  File \"/home/pirl/anaconda3/envs/pytorch/lib/python3.7/site-packages/torch/utils/data/dataloader.py\", line 1075, in _shutdown_workers\n",
      "    w.join(timeout=_utils.MP_STATUS_CHECK_INTERVAL)\n",
      "  File \"/home/pirl/anaconda3/envs/pytorch/lib/python3.7/multiprocessing/process.py\", line 138, in join\n",
      "    assert self._parent_pid == os.getpid(), 'can only join a child process'\n",
      "AssertionError: can only join a child process\n"
     ]
    },
    {
     "name": "stdout",
     "output_type": "stream",
     "text": [
      "[17,   100] loss: 1.013\n",
      "[17,   200] loss: 1.010\n",
      "[17,   300] loss: 1.023\n",
      "[17,   400] loss: 1.017\n",
      "[17,   500] loss: 1.011\n",
      "[17,   600] loss: 1.020\n",
      "[17,   700] loss: 1.015\n",
      "=== # 17 epoch start! ===\n"
     ]
    },
    {
     "name": "stderr",
     "output_type": "stream",
     "text": [
      "Exception ignored in: <function _MultiProcessingDataLoaderIter.__del__ at 0x7ff4a246a5f0>\n",
      "Traceback (most recent call last):\n",
      "  File \"/home/pirl/anaconda3/envs/pytorch/lib/python3.7/site-packages/torch/utils/data/dataloader.py\", line 1101, in __del__\n",
      "    self._shutdown_workers()\n",
      "  File \"/home/pirl/anaconda3/envs/pytorch/lib/python3.7/site-packages/torch/utils/data/dataloader.py\", line 1075, in _shutdown_workers\n",
      "    w.join(timeout=_utils.MP_STATUS_CHECK_INTERVAL)\n",
      "  File \"/home/pirl/anaconda3/envs/pytorch/lib/python3.7/multiprocessing/process.py\", line 138, in join\n",
      "    assert self._parent_pid == os.getpid(), 'can only join a child process'\n",
      "AssertionError: can only join a child process\n",
      "Exception ignored in: <function _MultiProcessingDataLoaderIter.__del__ at 0x7ff4a246a5f0>\n",
      "Traceback (most recent call last):\n",
      "  File \"/home/pirl/anaconda3/envs/pytorch/lib/python3.7/site-packages/torch/utils/data/dataloader.py\", line 1101, in __del__\n",
      "    self._shutdown_workers()\n",
      "  File \"/home/pirl/anaconda3/envs/pytorch/lib/python3.7/site-packages/torch/utils/data/dataloader.py\", line 1075, in _shutdown_workers\n",
      "    w.join(timeout=_utils.MP_STATUS_CHECK_INTERVAL)\n",
      "  File \"/home/pirl/anaconda3/envs/pytorch/lib/python3.7/multiprocessing/process.py\", line 138, in join\n",
      "    assert self._parent_pid == os.getpid(), 'can only join a child process'\n",
      "AssertionError: can only join a child process\n"
     ]
    },
    {
     "name": "stdout",
     "output_type": "stream",
     "text": [
      "[18,   100] loss: 1.011\n",
      "[18,   200] loss: 0.998\n",
      "[18,   300] loss: 1.016\n",
      "[18,   400] loss: 1.013\n",
      "[18,   500] loss: 0.997\n",
      "[18,   600] loss: 1.010\n",
      "[18,   700] loss: 1.024\n",
      "=== # 18 epoch start! ===\n"
     ]
    },
    {
     "name": "stderr",
     "output_type": "stream",
     "text": [
      "Exception ignored in: <function _MultiProcessingDataLoaderIter.__del__ at 0x7ff4a246a5f0>\n",
      "Traceback (most recent call last):\n",
      "  File \"/home/pirl/anaconda3/envs/pytorch/lib/python3.7/site-packages/torch/utils/data/dataloader.py\", line 1101, in __del__\n",
      "    self._shutdown_workers()\n",
      "  File \"/home/pirl/anaconda3/envs/pytorch/lib/python3.7/site-packages/torch/utils/data/dataloader.py\", line 1075, in _shutdown_workers\n",
      "    w.join(timeout=_utils.MP_STATUS_CHECK_INTERVAL)\n",
      "  File \"/home/pirl/anaconda3/envs/pytorch/lib/python3.7/multiprocessing/process.py\", line 138, in join\n",
      "    assert self._parent_pid == os.getpid(), 'can only join a child process'\n",
      "AssertionErrorException ignored in: : can only join a child process\n",
      "<function _MultiProcessingDataLoaderIter.__del__ at 0x7ff4a246a5f0>\n",
      "Traceback (most recent call last):\n",
      "  File \"/home/pirl/anaconda3/envs/pytorch/lib/python3.7/site-packages/torch/utils/data/dataloader.py\", line 1101, in __del__\n",
      "    self._shutdown_workers()\n",
      "  File \"/home/pirl/anaconda3/envs/pytorch/lib/python3.7/site-packages/torch/utils/data/dataloader.py\", line 1075, in _shutdown_workers\n",
      "    w.join(timeout=_utils.MP_STATUS_CHECK_INTERVAL)\n",
      "  File \"/home/pirl/anaconda3/envs/pytorch/lib/python3.7/multiprocessing/process.py\", line 138, in join\n",
      "    assert self._parent_pid == os.getpid(), 'can only join a child process'\n",
      "AssertionError: can only join a child process\n"
     ]
    },
    {
     "name": "stdout",
     "output_type": "stream",
     "text": [
      "[19,   100] loss: 0.992\n",
      "[19,   200] loss: 1.007\n",
      "[19,   300] loss: 0.975\n",
      "[19,   400] loss: 1.029\n",
      "[19,   500] loss: 0.986\n",
      "[19,   600] loss: 1.011\n",
      "[19,   700] loss: 0.997\n",
      "=== # 19 epoch start! ===\n"
     ]
    },
    {
     "name": "stderr",
     "output_type": "stream",
     "text": [
      "Exception ignored in: Exception ignored in: <function _MultiProcessingDataLoaderIter.__del__ at 0x7ff4a246a5f0>\n",
      "<function _MultiProcessingDataLoaderIter.__del__ at 0x7ff4a246a5f0>Traceback (most recent call last):\n",
      "\n",
      "  File \"/home/pirl/anaconda3/envs/pytorch/lib/python3.7/site-packages/torch/utils/data/dataloader.py\", line 1101, in __del__\n",
      "Traceback (most recent call last):\n",
      "  File \"/home/pirl/anaconda3/envs/pytorch/lib/python3.7/site-packages/torch/utils/data/dataloader.py\", line 1101, in __del__\n",
      "        self._shutdown_workers()self._shutdown_workers()\n",
      "  File \"/home/pirl/anaconda3/envs/pytorch/lib/python3.7/site-packages/torch/utils/data/dataloader.py\", line 1075, in _shutdown_workers\n",
      "    w.join(timeout=_utils.MP_STATUS_CHECK_INTERVAL)\n",
      "  File \"/home/pirl/anaconda3/envs/pytorch/lib/python3.7/multiprocessing/process.py\", line 138, in join\n",
      "    assert self._parent_pid == os.getpid(), 'can only join a child process'\n",
      "AssertionError: can only join a child process\n",
      "\n",
      "  File \"/home/pirl/anaconda3/envs/pytorch/lib/python3.7/site-packages/torch/utils/data/dataloader.py\", line 1075, in _shutdown_workers\n",
      "    w.join(timeout=_utils.MP_STATUS_CHECK_INTERVAL)\n",
      "  File \"/home/pirl/anaconda3/envs/pytorch/lib/python3.7/multiprocessing/process.py\", line 138, in join\n",
      "    assert self._parent_pid == os.getpid(), 'can only join a child process'\n",
      "AssertionError: can only join a child process\n"
     ]
    },
    {
     "name": "stdout",
     "output_type": "stream",
     "text": [
      "[20,   100] loss: 1.011\n",
      "[20,   200] loss: 0.979\n",
      "[20,   300] loss: 1.008\n",
      "[20,   400] loss: 0.993\n",
      "[20,   500] loss: 1.030\n",
      "[20,   600] loss: 0.988\n",
      "[20,   700] loss: 0.984\n",
      "=== # 20 epoch start! ===\n"
     ]
    },
    {
     "name": "stderr",
     "output_type": "stream",
     "text": [
      "Exception ignored in: <function _MultiProcessingDataLoaderIter.__del__ at 0x7ff4a246a5f0>\n",
      "Traceback (most recent call last):\n",
      "  File \"/home/pirl/anaconda3/envs/pytorch/lib/python3.7/site-packages/torch/utils/data/dataloader.py\", line 1101, in __del__\n",
      "    self._shutdown_workers()\n",
      "  File \"/home/pirl/anaconda3/envs/pytorch/lib/python3.7/site-packages/torch/utils/data/dataloader.py\", line 1075, in _shutdown_workers\n",
      "    w.join(timeout=_utils.MP_STATUS_CHECK_INTERVAL)\n",
      "  File \"/home/pirl/anaconda3/envs/pytorch/lib/python3.7/multiprocessing/process.py\", line 138, in join\n",
      "    assert self._parent_pid == os.getpid(), 'can only join a child process'\n",
      "AssertionError: can only join a child process\n"
     ]
    },
    {
     "name": "stdout",
     "output_type": "stream",
     "text": [
      "[21,   100] loss: 0.979\n",
      "[21,   200] loss: 1.000\n",
      "[21,   300] loss: 1.003\n",
      "[21,   400] loss: 0.984\n",
      "[21,   500] loss: 1.024\n",
      "[21,   600] loss: 1.001\n",
      "[21,   700] loss: 0.988\n",
      "=== # 21 epoch start! ===\n",
      "[22,   100] loss: 0.980\n",
      "[22,   200] loss: 0.981\n",
      "[22,   300] loss: 0.977\n",
      "[22,   400] loss: 0.967\n",
      "[22,   500] loss: 1.033\n",
      "[22,   600] loss: 0.995\n",
      "[22,   700] loss: 1.010\n",
      "=== # 22 epoch start! ===\n",
      "[23,   100] loss: 0.992\n",
      "[23,   200] loss: 0.968\n",
      "[23,   300] loss: 1.004\n",
      "[23,   400] loss: 0.997\n",
      "[23,   500] loss: 0.978\n",
      "[23,   600] loss: 0.980\n",
      "[23,   700] loss: 0.990\n",
      "=== # 23 epoch start! ===\n",
      "[24,   100] loss: 0.996\n",
      "[24,   200] loss: 0.995\n",
      "[24,   300] loss: 0.976\n",
      "[24,   400] loss: 0.984\n",
      "[24,   500] loss: 0.983\n",
      "[24,   600] loss: 0.978\n",
      "[24,   700] loss: 0.991\n",
      "=== # 24 epoch start! ===\n",
      "[25,   100] loss: 0.984\n",
      "[25,   200] loss: 0.968\n",
      "[25,   300] loss: 1.005\n",
      "[25,   400] loss: 0.994\n",
      "[25,   500] loss: 0.991\n",
      "[25,   600] loss: 0.956\n",
      "[25,   700] loss: 1.000\n",
      "=== # 25 epoch start! ===\n",
      "[26,   100] loss: 0.973\n",
      "[26,   200] loss: 0.951\n",
      "[26,   300] loss: 0.973\n",
      "[26,   400] loss: 0.972\n",
      "[26,   500] loss: 0.978\n",
      "[26,   600] loss: 1.003\n",
      "[26,   700] loss: 1.013\n",
      "=== # 26 epoch start! ===\n",
      "[27,   100] loss: 0.977\n",
      "[27,   200] loss: 0.997\n",
      "[27,   300] loss: 0.957\n",
      "[27,   400] loss: 0.979\n",
      "[27,   500] loss: 0.949\n",
      "[27,   600] loss: 0.961\n",
      "[27,   700] loss: 1.018\n",
      "=== # 27 epoch start! ===\n",
      "[28,   100] loss: 0.962\n",
      "[28,   200] loss: 0.977\n",
      "[28,   300] loss: 1.006\n",
      "[28,   400] loss: 0.982\n",
      "[28,   500] loss: 0.966\n",
      "[28,   600] loss: 0.976\n",
      "[28,   700] loss: 0.951\n",
      "=== # 28 epoch start! ===\n",
      "[29,   100] loss: 0.975\n",
      "[29,   200] loss: 0.982\n",
      "[29,   300] loss: 0.983\n",
      "[29,   400] loss: 0.986\n",
      "[29,   500] loss: 0.990\n",
      "[29,   600] loss: 0.975\n",
      "[29,   700] loss: 0.976\n",
      "=== # 29 epoch start! ===\n",
      "[30,   100] loss: 0.982\n",
      "[30,   200] loss: 0.967\n",
      "[30,   300] loss: 0.968\n",
      "[30,   400] loss: 0.961\n",
      "[30,   500] loss: 0.975\n",
      "[30,   600] loss: 0.952\n",
      "[30,   700] loss: 1.013\n",
      "=== # 30 epoch start! ===\n",
      "[31,   100] loss: 0.968\n",
      "[31,   200] loss: 0.973\n",
      "[31,   300] loss: 0.983\n",
      "[31,   400] loss: 0.989\n",
      "[31,   500] loss: 0.983\n",
      "[31,   600] loss: 0.970\n",
      "[31,   700] loss: 0.984\n",
      "=== # 31 epoch start! ===\n",
      "[32,   100] loss: 0.937\n",
      "[32,   200] loss: 0.979\n",
      "[32,   300] loss: 0.972\n",
      "[32,   400] loss: 0.976\n",
      "[32,   500] loss: 0.996\n",
      "[32,   600] loss: 0.993\n",
      "[32,   700] loss: 0.955\n",
      "=== # 32 epoch start! ===\n",
      "[33,   100] loss: 0.986\n",
      "[33,   200] loss: 0.936\n",
      "[33,   300] loss: 0.974\n",
      "[33,   400] loss: 0.975\n",
      "[33,   500] loss: 0.988\n",
      "[33,   600] loss: 0.971\n",
      "[33,   700] loss: 0.975\n",
      "=== # 33 epoch start! ===\n",
      "[34,   100] loss: 0.970\n",
      "[34,   200] loss: 0.960\n",
      "[34,   300] loss: 0.957\n",
      "[34,   400] loss: 0.957\n",
      "[34,   500] loss: 0.976\n",
      "[34,   600] loss: 0.988\n",
      "[34,   700] loss: 0.995\n",
      "=== # 34 epoch start! ===\n",
      "[35,   100] loss: 1.002\n",
      "[35,   200] loss: 0.956\n",
      "[35,   300] loss: 0.981\n",
      "[35,   400] loss: 0.955\n",
      "[35,   500] loss: 0.977\n",
      "[35,   600] loss: 0.952\n",
      "[35,   700] loss: 0.962\n",
      "=== # 35 epoch start! ===\n",
      "[36,   100] loss: 0.965\n",
      "[36,   200] loss: 0.986\n",
      "[36,   300] loss: 0.954\n",
      "[36,   400] loss: 0.970\n",
      "[36,   500] loss: 0.970\n",
      "[36,   600] loss: 0.965\n",
      "[36,   700] loss: 0.980\n",
      "=== # 36 epoch start! ===\n",
      "[37,   100] loss: 0.960\n",
      "[37,   200] loss: 0.958\n",
      "[37,   300] loss: 0.978\n",
      "[37,   400] loss: 0.995\n",
      "[37,   500] loss: 0.980\n",
      "[37,   600] loss: 0.934\n",
      "[37,   700] loss: 1.010\n",
      "=== # 37 epoch start! ===\n",
      "[38,   100] loss: 0.913\n",
      "[38,   200] loss: 0.995\n",
      "[38,   300] loss: 0.976\n",
      "[38,   400] loss: 0.942\n",
      "[38,   500] loss: 0.950\n",
      "[38,   600] loss: 0.990\n",
      "[38,   700] loss: 0.981\n",
      "=== # 38 epoch start! ===\n",
      "[39,   100] loss: 0.946\n",
      "[39,   200] loss: 0.987\n",
      "[39,   300] loss: 0.988\n",
      "[39,   400] loss: 1.001\n",
      "[39,   500] loss: 0.952\n",
      "[39,   600] loss: 0.989\n",
      "[39,   700] loss: 0.986\n",
      "=== # 39 epoch start! ===\n",
      "[40,   100] loss: 0.978\n",
      "[40,   200] loss: 0.977\n",
      "[40,   300] loss: 0.962\n",
      "[40,   400] loss: 0.969\n",
      "[40,   500] loss: 0.935\n",
      "[40,   600] loss: 0.984\n",
      "[40,   700] loss: 0.973\n",
      "=== # 40 epoch start! ===\n",
      "[41,   100] loss: 0.987\n",
      "[41,   200] loss: 0.975\n",
      "[41,   300] loss: 0.950\n",
      "[41,   400] loss: 0.971\n",
      "[41,   500] loss: 0.949\n",
      "[41,   600] loss: 0.982\n",
      "[41,   700] loss: 0.985\n",
      "=== # 41 epoch start! ===\n",
      "[42,   100] loss: 0.977\n",
      "[42,   200] loss: 0.975\n",
      "[42,   300] loss: 0.950\n",
      "[42,   400] loss: 0.995\n",
      "[42,   500] loss: 0.984\n",
      "[42,   600] loss: 0.939\n",
      "[42,   700] loss: 0.966\n",
      "=== # 42 epoch start! ===\n",
      "[43,   100] loss: 0.972\n",
      "[43,   200] loss: 0.980\n",
      "[43,   300] loss: 0.946\n",
      "[43,   400] loss: 0.956\n",
      "[43,   500] loss: 0.983\n",
      "[43,   600] loss: 0.966\n",
      "[43,   700] loss: 0.994\n",
      "=== # 43 epoch start! ===\n",
      "[44,   100] loss: 0.994\n",
      "[44,   200] loss: 0.954\n",
      "[44,   300] loss: 0.985\n",
      "[44,   400] loss: 0.983\n",
      "[44,   500] loss: 0.968\n",
      "[44,   600] loss: 0.970\n",
      "[44,   700] loss: 0.957\n",
      "=== # 44 epoch start! ===\n",
      "[45,   100] loss: 0.950\n",
      "[45,   200] loss: 0.981\n",
      "[45,   300] loss: 0.946\n",
      "[45,   400] loss: 0.970\n",
      "[45,   500] loss: 0.982\n",
      "[45,   600] loss: 0.950\n",
      "[45,   700] loss: 0.968\n",
      "=== # 45 epoch start! ===\n",
      "[46,   100] loss: 0.980\n",
      "[46,   200] loss: 0.967\n",
      "[46,   300] loss: 0.968\n",
      "[46,   400] loss: 0.987\n",
      "[46,   500] loss: 0.947\n",
      "[46,   600] loss: 0.978\n",
      "[46,   700] loss: 0.944\n",
      "=== # 46 epoch start! ===\n",
      "[47,   100] loss: 0.998\n",
      "[47,   200] loss: 0.942\n",
      "[47,   300] loss: 0.996\n",
      "[47,   400] loss: 0.978\n",
      "[47,   500] loss: 0.939\n",
      "[47,   600] loss: 0.966\n",
      "[47,   700] loss: 0.952\n",
      "=== # 47 epoch start! ===\n",
      "[48,   100] loss: 0.983\n",
      "[48,   200] loss: 0.942\n",
      "[48,   300] loss: 0.954\n",
      "[48,   400] loss: 0.972\n",
      "[48,   500] loss: 0.960\n",
      "[48,   600] loss: 0.954\n",
      "[48,   700] loss: 0.984\n",
      "=== # 48 epoch start! ===\n",
      "[49,   100] loss: 0.984\n",
      "[49,   200] loss: 0.946\n",
      "[49,   300] loss: 0.948\n",
      "[49,   400] loss: 0.969\n",
      "[49,   500] loss: 0.977\n",
      "[49,   600] loss: 0.967\n",
      "[49,   700] loss: 0.934\n",
      "=== # 49 epoch start! ===\n",
      "[50,   100] loss: 0.974\n",
      "[50,   200] loss: 0.937\n",
      "[50,   300] loss: 0.974\n",
      "[50,   400] loss: 0.988\n",
      "[50,   500] loss: 0.990\n",
      "[50,   600] loss: 0.974\n",
      "[50,   700] loss: 0.946\n",
      "=== # 50 epoch start! ===\n",
      "[51,   100] loss: 0.947\n",
      "[51,   200] loss: 0.962\n",
      "[51,   300] loss: 0.957\n",
      "[51,   400] loss: 0.963\n",
      "[51,   500] loss: 0.947\n",
      "[51,   600] loss: 0.990\n",
      "[51,   700] loss: 0.989\n",
      "=== # 51 epoch start! ===\n",
      "[52,   100] loss: 1.001\n",
      "[52,   200] loss: 0.965\n",
      "[52,   300] loss: 0.938\n",
      "[52,   400] loss: 0.957\n",
      "[52,   500] loss: 0.975\n",
      "[52,   600] loss: 0.954\n",
      "[52,   700] loss: 0.960\n",
      "=== # 52 epoch start! ===\n",
      "[53,   100] loss: 0.966\n",
      "[53,   200] loss: 0.964\n",
      "[53,   300] loss: 0.953\n",
      "[53,   400] loss: 0.952\n",
      "[53,   500] loss: 0.932\n",
      "[53,   600] loss: 0.949\n",
      "[53,   700] loss: 0.968\n",
      "=== # 53 epoch start! ===\n",
      "[54,   100] loss: 0.956\n",
      "[54,   200] loss: 0.917\n",
      "[54,   300] loss: 0.947\n",
      "[54,   400] loss: 0.933\n",
      "[54,   500] loss: 0.986\n",
      "[54,   600] loss: 0.990\n",
      "[54,   700] loss: 0.958\n",
      "=== # 54 epoch start! ===\n",
      "[55,   100] loss: 0.952\n",
      "[55,   200] loss: 0.965\n",
      "[55,   300] loss: 0.941\n",
      "[55,   400] loss: 0.972\n",
      "[55,   500] loss: 0.969\n",
      "[55,   600] loss: 0.971\n",
      "[55,   700] loss: 0.981\n",
      "=== # 55 epoch start! ===\n",
      "[56,   100] loss: 0.974\n"
     ]
    },
    {
     "name": "stderr",
     "output_type": "stream",
     "text": [
      "Exception ignored in: <function _MultiProcessingDataLoaderIter.__del__ at 0x7ff4a246a5f0>\n",
      "Traceback (most recent call last):\n",
      "  File \"/home/pirl/anaconda3/envs/pytorch/lib/python3.7/site-packages/torch/utils/data/dataloader.py\", line 1101, in __del__\n",
      "    self._shutdown_workers()\n",
      "  File \"/home/pirl/anaconda3/envs/pytorch/lib/python3.7/site-packages/torch/utils/data/dataloader.py\", line 1075, in _shutdown_workers\n",
      "    w.join(timeout=_utils.MP_STATUS_CHECK_INTERVAL)\n",
      "  File \"/home/pirl/anaconda3/envs/pytorch/lib/python3.7/multiprocessing/process.py\", line 138, in join\n",
      "    assert self._parent_pid == os.getpid(), 'can only join a child process'\n",
      "AssertionError: can only join a child process\n"
     ]
    },
    {
     "name": "stdout",
     "output_type": "stream",
     "text": [
      "[56,   200] loss: 0.966\n",
      "[56,   300] loss: 0.966\n",
      "[56,   400] loss: 0.965\n",
      "[56,   500] loss: 0.955\n",
      "[56,   600] loss: 0.986\n",
      "[56,   700] loss: 0.942\n",
      "=== # 56 epoch start! ===\n"
     ]
    },
    {
     "name": "stderr",
     "output_type": "stream",
     "text": [
      "Exception ignored in: <function _MultiProcessingDataLoaderIter.__del__ at 0x7ff4a246a5f0>\n",
      "Traceback (most recent call last):\n",
      "  File \"/home/pirl/anaconda3/envs/pytorch/lib/python3.7/site-packages/torch/utils/data/dataloader.py\", line 1101, in __del__\n",
      "    self._shutdown_workers()\n",
      "  File \"/home/pirl/anaconda3/envs/pytorch/lib/python3.7/site-packages/torch/utils/data/dataloader.py\", line 1075, in _shutdown_workers\n",
      "    w.join(timeout=_utils.MP_STATUS_CHECK_INTERVAL)\n",
      "  File \"/home/pirl/anaconda3/envs/pytorch/lib/python3.7/multiprocessing/process.py\", line 138, in join\n",
      "    assert self._parent_pid == os.getpid(), 'can only join a child process'\n",
      "AssertionError: can only join a child process\n",
      "Exception ignored in: <function _MultiProcessingDataLoaderIter.__del__ at 0x7ff4a246a5f0>\n",
      "Traceback (most recent call last):\n",
      "  File \"/home/pirl/anaconda3/envs/pytorch/lib/python3.7/site-packages/torch/utils/data/dataloader.py\", line 1101, in __del__\n",
      "    self._shutdown_workers()\n",
      "  File \"/home/pirl/anaconda3/envs/pytorch/lib/python3.7/site-packages/torch/utils/data/dataloader.py\", line 1075, in _shutdown_workers\n",
      "    w.join(timeout=_utils.MP_STATUS_CHECK_INTERVAL)\n",
      "  File \"/home/pirl/anaconda3/envs/pytorch/lib/python3.7/multiprocessing/process.py\", line 138, in join\n",
      "    assert self._parent_pid == os.getpid(), 'can only join a child process'\n",
      "AssertionError: can only join a child process\n"
     ]
    },
    {
     "name": "stdout",
     "output_type": "stream",
     "text": [
      "[57,   100] loss: 0.987\n",
      "[57,   200] loss: 0.983\n",
      "[57,   300] loss: 0.964\n",
      "[57,   400] loss: 0.982\n",
      "[57,   500] loss: 0.968\n",
      "[57,   600] loss: 0.965\n",
      "[57,   700] loss: 0.956\n",
      "=== # 57 epoch start! ===\n"
     ]
    },
    {
     "name": "stderr",
     "output_type": "stream",
     "text": [
      "Exception ignored in: <function _MultiProcessingDataLoaderIter.__del__ at 0x7ff4a246a5f0>\n",
      "Traceback (most recent call last):\n",
      "  File \"/home/pirl/anaconda3/envs/pytorch/lib/python3.7/site-packages/torch/utils/data/dataloader.py\", line 1101, in __del__\n",
      "    self._shutdown_workers()Exception ignored in: \n",
      "<function _MultiProcessingDataLoaderIter.__del__ at 0x7ff4a246a5f0>  File \"/home/pirl/anaconda3/envs/pytorch/lib/python3.7/site-packages/torch/utils/data/dataloader.py\", line 1075, in _shutdown_workers\n",
      "\n",
      "Traceback (most recent call last):\n",
      "self._shutdown_workers()      File \"/home/pirl/anaconda3/envs/pytorch/lib/python3.7/site-packages/torch/utils/data/dataloader.py\", line 1101, in __del__\n",
      "w.join(timeout=_utils.MP_STATUS_CHECK_INTERVAL)\n",
      "      File \"/home/pirl/anaconda3/envs/pytorch/lib/python3.7/multiprocessing/process.py\", line 138, in join\n",
      "    assert self._parent_pid == os.getpid(), 'can only join a child process'\n",
      "\n",
      "AssertionError:   File \"/home/pirl/anaconda3/envs/pytorch/lib/python3.7/site-packages/torch/utils/data/dataloader.py\", line 1075, in _shutdown_workers\n",
      "can only join a child process    w.join(timeout=_utils.MP_STATUS_CHECK_INTERVAL)\n",
      "  File \"/home/pirl/anaconda3/envs/pytorch/lib/python3.7/multiprocessing/process.py\", line 138, in join\n",
      "\n",
      "    assert self._parent_pid == os.getpid(), 'can only join a child process'\n",
      "AssertionError: can only join a child process\n"
     ]
    },
    {
     "name": "stdout",
     "output_type": "stream",
     "text": [
      "[58,   100] loss: 0.949\n",
      "[58,   200] loss: 0.940\n",
      "[58,   300] loss: 0.984\n",
      "[58,   400] loss: 0.962\n",
      "[58,   500] loss: 0.985\n",
      "[58,   600] loss: 0.975\n",
      "[58,   700] loss: 0.960\n",
      "=== # 58 epoch start! ===\n"
     ]
    },
    {
     "name": "stderr",
     "output_type": "stream",
     "text": [
      "Exception ignored in: <function _MultiProcessingDataLoaderIter.__del__ at 0x7ff4a246a5f0>\n",
      "Traceback (most recent call last):\n",
      "  File \"/home/pirl/anaconda3/envs/pytorch/lib/python3.7/site-packages/torch/utils/data/dataloader.py\", line 1101, in __del__\n",
      "    self._shutdown_workers()\n",
      "  File \"/home/pirl/anaconda3/envs/pytorch/lib/python3.7/site-packages/torch/utils/data/dataloader.py\", line 1075, in _shutdown_workers\n",
      "    w.join(timeout=_utils.MP_STATUS_CHECK_INTERVAL)\n",
      "  File \"/home/pirl/anaconda3/envs/pytorch/lib/python3.7/multiprocessing/process.py\", line 138, in join\n",
      "    Exception ignored in: assert self._parent_pid == os.getpid(), 'can only join a child process'\n",
      "<function _MultiProcessingDataLoaderIter.__del__ at 0x7ff4a246a5f0>AssertionError: \n",
      "Traceback (most recent call last):\n",
      "can only join a child process  File \"/home/pirl/anaconda3/envs/pytorch/lib/python3.7/site-packages/torch/utils/data/dataloader.py\", line 1101, in __del__\n",
      "\n",
      "    self._shutdown_workers()\n",
      "  File \"/home/pirl/anaconda3/envs/pytorch/lib/python3.7/site-packages/torch/utils/data/dataloader.py\", line 1075, in _shutdown_workers\n",
      "    w.join(timeout=_utils.MP_STATUS_CHECK_INTERVAL)\n",
      "  File \"/home/pirl/anaconda3/envs/pytorch/lib/python3.7/multiprocessing/process.py\", line 138, in join\n",
      "    assert self._parent_pid == os.getpid(), 'can only join a child process'\n",
      "AssertionError: can only join a child process\n"
     ]
    },
    {
     "name": "stdout",
     "output_type": "stream",
     "text": [
      "[59,   100] loss: 0.985\n"
     ]
    },
    {
     "ename": "KeyboardInterrupt",
     "evalue": "",
     "output_type": "error",
     "traceback": [
      "\u001b[0;31m---------------------------------------------------------------------------\u001b[0m",
      "\u001b[0;31mKeyboardInterrupt\u001b[0m                         Traceback (most recent call last)",
      "\u001b[0;32m<ipython-input-15-932295c54556>\u001b[0m in \u001b[0;36m<module>\u001b[0;34m\u001b[0m\n\u001b[1;32m     16\u001b[0m         \u001b[0moptimizer\u001b[0m\u001b[0;34m.\u001b[0m\u001b[0mstep\u001b[0m\u001b[0;34m(\u001b[0m\u001b[0;34m)\u001b[0m\u001b[0;34m\u001b[0m\u001b[0;34m\u001b[0m\u001b[0m\n\u001b[1;32m     17\u001b[0m \u001b[0;34m\u001b[0m\u001b[0m\n\u001b[0;32m---> 18\u001b[0;31m         \u001b[0mrunning_loss\u001b[0m \u001b[0;34m+=\u001b[0m \u001b[0mloss\u001b[0m\u001b[0;34m.\u001b[0m\u001b[0mitem\u001b[0m\u001b[0;34m(\u001b[0m\u001b[0;34m)\u001b[0m\u001b[0;34m\u001b[0m\u001b[0;34m\u001b[0m\u001b[0m\n\u001b[0m\u001b[1;32m     19\u001b[0m         \u001b[0;32mif\u001b[0m \u001b[0mi\u001b[0m \u001b[0;34m%\u001b[0m \u001b[0;36m100\u001b[0m \u001b[0;34m==\u001b[0m \u001b[0;36m99\u001b[0m\u001b[0;34m:\u001b[0m\u001b[0;34m\u001b[0m\u001b[0;34m\u001b[0m\u001b[0m\n\u001b[1;32m     20\u001b[0m             \u001b[0mprint\u001b[0m\u001b[0;34m(\u001b[0m\u001b[0;34m'[%d, %5d] loss: %.3f'\u001b[0m \u001b[0;34m%\u001b[0m \u001b[0;34m(\u001b[0m\u001b[0mepoch\u001b[0m \u001b[0;34m+\u001b[0m \u001b[0;36m1\u001b[0m\u001b[0;34m,\u001b[0m \u001b[0mi\u001b[0m \u001b[0;34m+\u001b[0m \u001b[0;36m1\u001b[0m\u001b[0;34m,\u001b[0m \u001b[0mrunning_loss\u001b[0m \u001b[0;34m/\u001b[0m \u001b[0;36m100\u001b[0m\u001b[0;34m)\u001b[0m\u001b[0;34m)\u001b[0m\u001b[0;34m\u001b[0m\u001b[0;34m\u001b[0m\u001b[0m\n",
      "\u001b[0;31mKeyboardInterrupt\u001b[0m: "
     ]
    }
   ],
   "source": [
    "net.train()\n",
    "\n",
    "for epoch in range(training_epochs):\n",
    "    running_loss = 0.0\n",
    "    print(f'=== # {epoch} epoch start! ===')\n",
    "    for i, data in enumerate(trainloader, 0):\n",
    "        inputs, labels = data\n",
    "        inputs, labels = inputs.to(device), labels.to(device)\n",
    "        \n",
    "        optimizer.zero_grad()\n",
    "\n",
    "        outputs = net(inputs) \n",
    "        loss =  criterion(outputs, labels)\n",
    "        loss.backward()\n",
    "        \n",
    "        optimizer.step()\n",
    "        \n",
    "        running_loss += loss.item()\n",
    "        if i % 100 == 99:\n",
    "            print('[%d, %5d] loss: %.3f' % (epoch + 1, i + 1, running_loss / 100))\n",
    "            running_loss = 0.0\n",
    "        \n",
    "print('Finished Training')"
   ]
  },
  {
   "cell_type": "markdown",
   "metadata": {},
   "source": [
    "## Test"
   ]
  },
  {
   "cell_type": "code",
   "execution_count": 16,
   "metadata": {
    "ExecuteTime": {
     "end_time": "2020-10-08T12:26:40.791390Z",
     "start_time": "2020-10-08T12:26:10.277454Z"
    }
   },
   "outputs": [
    {
     "name": "stderr",
     "output_type": "stream",
     "text": [
      "Exception ignored in: <function _MultiProcessingDataLoaderIter.__del__ at 0x7ff4a246a5f0>\n",
      "Traceback (most recent call last):\n",
      "  File \"/home/pirl/anaconda3/envs/pytorch/lib/python3.7/site-packages/torch/utils/data/dataloader.py\", line 1101, in __del__\n",
      "    self._shutdown_workers()\n",
      "  File \"/home/pirl/anaconda3/envs/pytorch/lib/python3.7/site-packages/torch/utils/data/dataloader.py\", line 1075, in _shutdown_workers\n",
      "    w.join(timeout=_utils.MP_STATUS_CHECK_INTERVAL)\n",
      "  File \"/home/pirl/anaconda3/envs/pytorch/lib/python3.7/multiprocessing/process.py\", line 138, in join\n",
      "    assert self._parent_pid == os.getpid(), 'can only join a child process'\n",
      "AssertionError: can only join a child process\n",
      "Exception ignored in: <function _MultiProcessingDataLoaderIter.__del__ at 0x7ff4a246a5f0>\n",
      "Traceback (most recent call last):\n",
      "  File \"/home/pirl/anaconda3/envs/pytorch/lib/python3.7/site-packages/torch/utils/data/dataloader.py\", line 1101, in __del__\n",
      "    self._shutdown_workers()\n",
      "  File \"/home/pirl/anaconda3/envs/pytorch/lib/python3.7/site-packages/torch/utils/data/dataloader.py\", line 1075, in _shutdown_workers\n",
      "    w.join(timeout=_utils.MP_STATUS_CHECK_INTERVAL)\n",
      "  File \"/home/pirl/anaconda3/envs/pytorch/lib/python3.7/multiprocessing/process.py\", line 138, in join\n",
      "    assert self._parent_pid == os.getpid(), 'can only join a child process'\n",
      "AssertionError: can only join a child process\n"
     ]
    },
    {
     "name": "stdout",
     "output_type": "stream",
     "text": [
      "Accuracy of plane : 66.400000 %\n",
      "Accuracy of   car : 77.200000 %\n",
      "Accuracy of  bird : 48.700000 %\n",
      "Accuracy of   cat : 42.500000 %\n",
      "Accuracy of  deer : 66.900000 %\n",
      "Accuracy of   dog : 56.500000 %\n",
      "Accuracy of  frog : 69.300000 %\n",
      "Accuracy of horse : 76.100000 %\n",
      "Accuracy of  ship : 77.000000 %\n",
      "Accuracy of truck : 72.500000 %\n",
      "Mean Accuracy :  65.31\n"
     ]
    }
   ],
   "source": [
    "class_correct = np.zeros(10)\n",
    "class_total = np.zeros(10)\n",
    "\n",
    "net.eval()\n",
    "\n",
    "with torch.no_grad():\n",
    "    for data in testloader:\n",
    "        images, labels = data\n",
    "        images = images.to(device)\n",
    "        labels = labels.to(device)\n",
    "        outputs = net(images)\n",
    "        _, predicted = torch.max(outputs, 1)\n",
    "        c = (predicted == labels).squeeze()\n",
    "        for i in range(4):\n",
    "            label = labels[i]\n",
    "            class_correct[label] += c[i].item()\n",
    "            class_total[label] += 1\n",
    "\n",
    "\n",
    "for i in range(10):\n",
    "    print('Accuracy of %5s : %2f %%' % (\n",
    "        classes[i], 100 * class_correct[i] / class_total[i]))\n",
    "print('Mean Accuracy : ', 100*np.sum(class_correct)/np.sum(class_total))"
   ]
  },
  {
   "cell_type": "code",
   "execution_count": null,
   "metadata": {},
   "outputs": [],
   "source": []
  }
 ],
 "metadata": {
  "kernelspec": {
   "display_name": "Python 3",
   "language": "python",
   "name": "python3"
  },
  "language_info": {
   "codemirror_mode": {
    "name": "ipython",
    "version": 3
   },
   "file_extension": ".py",
   "mimetype": "text/x-python",
   "name": "python",
   "nbconvert_exporter": "python",
   "pygments_lexer": "ipython3",
   "version": "3.7.8"
  }
 },
 "nbformat": 4,
 "nbformat_minor": 4
}

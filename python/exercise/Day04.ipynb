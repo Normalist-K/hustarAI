{
 "cells": [
  {
   "cell_type": "markdown",
   "metadata": {},
   "source": [
    "# 파일\n",
    "## 실습 2"
   ]
  },
  {
   "cell_type": "code",
   "execution_count": 16,
   "metadata": {},
   "outputs": [],
   "source": [
    "fw = open(\"test.txt\", \"w\")\n",
    "\n",
    "data = \"\"\"first line\n",
    "second line\n",
    "thrid line\n",
    "\"\"\"\n",
    "\n",
    "fw.write(data)\n",
    "\n",
    "fw.close()"
   ]
  },
  {
   "cell_type": "code",
   "execution_count": 9,
   "metadata": {},
   "outputs": [
    {
     "name": "stdout",
     "output_type": "stream",
     "text": [
      "Enter a file name: test.txt\n",
      "FIRST LINE\n",
      "SECOND LINE\n",
      "THRID LINE\n"
     ]
    }
   ],
   "source": [
    "import os\n",
    "\n",
    "file_name = input(\"Enter a file name: \")\n",
    "\n",
    "if os.path.exists(f\"{file_name}\"):\n",
    "    fr = open(\"test.txt\", \"r\")\n",
    "\n",
    "    while True:\n",
    "        line = fr.readline().rstrip()\n",
    "        if not line:\n",
    "            break\n",
    "        print(line.upper())\n",
    "\n",
    "    fr.close()\n",
    "else:\n",
    "    print(\"파일이 존재하지 않습니다.\")"
   ]
  },
  {
   "cell_type": "code",
   "execution_count": 18,
   "metadata": {},
   "outputs": [],
   "source": [
    "fw = open(\"new.txt\", \"w\")\n",
    "\n",
    "data = \"\"\"first line\n",
    "second line\n",
    "thrid line\n",
    "\"\"\"\n",
    "\n",
    "fw.write(data)\n",
    "\n",
    "fw.close()"
   ]
  },
  {
   "cell_type": "code",
   "execution_count": 19,
   "metadata": {},
   "outputs": [],
   "source": [
    "fa = open(\"new.txt\", \"a\") # append mode\n",
    "fa.close()"
   ]
  },
  {
   "cell_type": "code",
   "execution_count": 20,
   "metadata": {},
   "outputs": [
    {
     "name": "stdout",
     "output_type": "stream",
     "text": [
      "first line\n",
      "second line\n",
      "thrid line\n",
      "python is fun!\n"
     ]
    }
   ],
   "source": [
    "with open(\"new.txt\", \"a\") as fa:\n",
    "    fa.write('python is fun!')\n",
    "    \n",
    "with open(\"new.txt\", \"r\") as fr:\n",
    "    print(fr.read())"
   ]
  },
  {
   "cell_type": "markdown",
   "metadata": {},
   "source": [
    "## 과제 참고"
   ]
  },
  {
   "cell_type": "code",
   "execution_count": 23,
   "metadata": {},
   "outputs": [
    {
     "data": {
      "text/plain": [
       "58"
      ]
     },
     "execution_count": 23,
     "metadata": {},
     "output_type": "execute_result"
    }
   ],
   "source": [
    "stu_list = [[201801, 84, 73], [201802, 92, 89], [201803, 57, 62], [201804, 58, 68]]\n",
    "\n",
    "stu_list[3][1]"
   ]
  },
  {
   "cell_type": "markdown",
   "metadata": {},
   "source": [
    "# 함수와 모듈"
   ]
  },
  {
   "cell_type": "code",
   "execution_count": 26,
   "metadata": {},
   "outputs": [
    {
     "name": "stdout",
     "output_type": "stream",
     "text": [
      "4 11\n",
      "4 11\n"
     ]
    }
   ],
   "source": [
    "def my_len(a):\n",
    "    length = 0\n",
    "    for _ in a:\n",
    "        length += 1\n",
    "    return length\n",
    "\n",
    "a = [1, 2, 3, 4]\n",
    "b = \"hello world\"\n",
    "\n",
    "print(len(a), len(b))\n",
    "print(my_len(a), my_len(b))"
   ]
  },
  {
   "cell_type": "markdown",
   "metadata": {},
   "source": [
    "# 파이썬 기본 복습\n",
    "\n",
    "## 파이썬의 특이한 연산자 (산술 연산자, 대입 연산자, 논리 연산자, 비트 연산자 제외)\n",
    "1. **()**  : 함수 호출\n",
    "2. **.**  : 메서드 호출\n",
    "3. **=** : 좌변 / 우변의 위치에 따라 기능이 다름\n",
    "4. **[]** : 인덱싱, 슬라이싱\n",
    "\n",
    "## 기본 자료형\n",
    "int float str list dict tuple set\n",
    "\n",
    "## 키워드\n",
    "1. for _ in [sequential data]:\n",
    "2. if (condition): / elif (condition): / else:\n",
    "3. while (condition):\n"
   ]
  },
  {
   "cell_type": "code",
   "execution_count": 30,
   "metadata": {},
   "outputs": [
    {
     "name": "stdout",
     "output_type": "stream",
     "text": [
      "3 -1 2 0.5\n"
     ]
    }
   ],
   "source": [
    "def add(a, b):\n",
    "    return a + b\n",
    "\n",
    "def sub(a, b):\n",
    "    return a - b\n",
    "\n",
    "def mul(a, b):\n",
    "    return a * b\n",
    "\n",
    "def div(a, b):\n",
    "    return a / b\n",
    "\n",
    "a = 1\n",
    "b = 2\n",
    "c = add(a, b)\n",
    "d = sub(a, b)\n",
    "e = mul(a, b)\n",
    "f = div(a, b)\n",
    "print(c, d, e, f)"
   ]
  },
  {
   "cell_type": "markdown",
   "metadata": {},
   "source": [
    "## 가변 매개변수"
   ]
  },
  {
   "cell_type": "code",
   "execution_count": 34,
   "metadata": {},
   "outputs": [
    {
     "name": "stdout",
     "output_type": "stream",
     "text": [
      "(1, 2, 3) <class 'tuple'>\n"
     ]
    }
   ],
   "source": [
    "def variable_arg(*n):\n",
    "    print(n, type(n))\n",
    "    \n",
    "variable_arg(1, 2, 3)"
   ]
  },
  {
   "cell_type": "code",
   "execution_count": 36,
   "metadata": {},
   "outputs": [
    {
     "data": {
      "text/plain": [
       "[1, 2, 3, 4]"
      ]
     },
     "execution_count": 36,
     "metadata": {},
     "output_type": "execute_result"
    }
   ],
   "source": [
    "A = [1, 2 ,3]\n",
    "\n",
    "def global_var():\n",
    "    global A\n",
    "    A.append(4)\n",
    "\n",
    "global_var()\n",
    "A"
   ]
  },
  {
   "cell_type": "code",
   "execution_count": 42,
   "metadata": {},
   "outputs": [
    {
     "data": {
      "text/plain": [
       "(1, [1, 2, 3, 4])"
      ]
     },
     "execution_count": 42,
     "metadata": {},
     "output_type": "execute_result"
    }
   ],
   "source": [
    "A = 1\n",
    "B = [1, 2, 3]\n",
    "\n",
    "def global_var():\n",
    "    A = 2\n",
    "    B.append(4)\n",
    "\n",
    "global_var()\n",
    "A, B"
   ]
  },
  {
   "cell_type": "code",
   "execution_count": 43,
   "metadata": {},
   "outputs": [
    {
     "data": {
      "text/plain": [
       "(2, [1, 2, 3, 4])"
      ]
     },
     "execution_count": 43,
     "metadata": {},
     "output_type": "execute_result"
    }
   ],
   "source": [
    "C = 1\n",
    "D = [1, 2, 3]\n",
    "\n",
    "def global_var():\n",
    "    global C, D\n",
    "    C = 2\n",
    "    D.append(4)\n",
    "\n",
    "global_var()\n",
    "C, D"
   ]
  },
  {
   "cell_type": "code",
   "execution_count": 46,
   "metadata": {},
   "outputs": [],
   "source": [
    "## 교재 실습 2"
   ]
  },
  {
   "cell_type": "code",
   "execution_count": 45,
   "metadata": {},
   "outputs": [
    {
     "name": "stdout",
     "output_type": "stream",
     "text": [
      "120\n",
      "120\n"
     ]
    }
   ],
   "source": [
    "def factorial(n):\n",
    "    if n == 1:\n",
    "        return 1\n",
    "    else:\n",
    "        return n * factorial(n-1)\n",
    "\n",
    "print(factorial(5))\n",
    "\n",
    "def factorial2(n):\n",
    "    fact = 1\n",
    "    for i in range(1, n + 1):\n",
    "        fact *= i\n",
    "    return fact\n",
    "\n",
    "print(factorial2(5))"
   ]
  },
  {
   "cell_type": "code",
   "execution_count": null,
   "metadata": {},
   "outputs": [],
   "source": []
  },
  {
   "cell_type": "code",
   "execution_count": null,
   "metadata": {},
   "outputs": [],
   "source": []
  },
  {
   "cell_type": "code",
   "execution_count": null,
   "metadata": {},
   "outputs": [],
   "source": []
  },
  {
   "cell_type": "code",
   "execution_count": null,
   "metadata": {},
   "outputs": [],
   "source": []
  }
 ],
 "metadata": {
  "kernelspec": {
   "display_name": "Python 3",
   "language": "python",
   "name": "python3"
  },
  "language_info": {
   "codemirror_mode": {
    "name": "ipython",
    "version": 3
   },
   "file_extension": ".py",
   "mimetype": "text/x-python",
   "name": "python",
   "nbconvert_exporter": "python",
   "pygments_lexer": "ipython3",
   "version": "3.8.3"
  }
 },
 "nbformat": 4,
 "nbformat_minor": 4
}

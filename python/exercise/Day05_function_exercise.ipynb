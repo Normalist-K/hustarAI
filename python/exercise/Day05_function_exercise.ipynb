{
 "cells": [
  {
   "cell_type": "markdown",
   "metadata": {},
   "source": [
    "# function\n",
    "\n",
    "## 교재 실습 5"
   ]
  },
  {
   "cell_type": "code",
   "execution_count": 37,
   "metadata": {},
   "outputs": [
    {
     "name": "stdout",
     "output_type": "stream",
     "text": [
      "1 9 [2, 3, 5]\n"
     ]
    }
   ],
   "source": [
    "# 시간 복잡도: O(4N) -> O(N)\n",
    "def get_min_max(l):\n",
    "    min_val = min(l)\n",
    "    max_val = max(l)\n",
    "    \n",
    "    l.remove(min_val)\n",
    "    l.remove(max_val)\n",
    "    \n",
    "    return min_val, max_val\n",
    "\n",
    "# 시간 복잡도: O(N Log N)\n",
    "def get_min_max2(l):\n",
    "    l.sort()\n",
    "    return l.pop(0), l.pop(len(l)-1)\n",
    "\n",
    "l = [3, 5, 9, 1, 2]\n",
    "min_val, max_val = get_min_max2(l)\n",
    "\n",
    "print(min_val, max_val, l)"
   ]
  },
  {
   "cell_type": "markdown",
   "metadata": {},
   "source": [
    "## 교재 실습 8"
   ]
  },
  {
   "cell_type": "code",
   "execution_count": 30,
   "metadata": {},
   "outputs": [
    {
     "name": "stdout",
     "output_type": "stream",
     "text": [
      "{'e': 2, 'p': 2, ' ': 1, 'l': 1, 'r': 1, 'd': 1, 'a': 1}\n",
      "p\n"
     ]
    }
   ],
   "source": [
    "def letter_dict(string):\n",
    "    d = {}\n",
    "    for char in set(string):\n",
    "        d[char] = string.count(char)\n",
    "    return d\n",
    "\n",
    "def max_letter(d):\n",
    "    max_value = 0\n",
    "    max_key = ''\n",
    "    for key, value in d.items():\n",
    "        if value >= max_value:\n",
    "            max_value = value\n",
    "            max_key = key\n",
    "    return max_key\n",
    "\n",
    "a = letter_dict('red apple')\n",
    "print(a)\n",
    "print(max_letter(a))"
   ]
  },
  {
   "cell_type": "markdown",
   "metadata": {},
   "source": [
    "## 교재 실습 9"
   ]
  },
  {
   "cell_type": "code",
   "execution_count": 45,
   "metadata": {},
   "outputs": [
    {
     "name": "stdout",
     "output_type": "stream",
     "text": [
      "{('n', 2), ('w', 1), ('l', 2), ('o', 1), ('b', 1), (' ', 1), ('e', 1), ('a', 3), ('y', 1)}\n",
      "{'e': 3, 'p': 2, ' ': 2, 'l': 3, 'r': 1, 'd': 1, 'a': 4, 'b': 1, 'n': 2, 'w': 1, 'o': 1, 'y': 1}\n",
      "a\n"
     ]
    }
   ],
   "source": [
    "def comb_dict(dict1, dict2):\n",
    "    dict3 = dict1.copy()\n",
    "    for key, value in dict2.items():\n",
    "        if key in dict3:\n",
    "            dict3[key] += value\n",
    "        else:\n",
    "            dict3[key] = value\n",
    "    return dict3\n",
    "\n",
    "# 조교님 코드\n",
    "def comb_dict2(a, b):\n",
    "    set_a = set(a)\n",
    "    set_b = set(b)\n",
    "    comb = set_a.union(set_b)\n",
    "    comb_dict = {}\n",
    "    for i in comb:\n",
    "        if i in a and i in b:\n",
    "            comb_dict[i] = a[i] + b[i]\n",
    "        elif i in a:\n",
    "            comb_dict[i] = a[i]\n",
    "        else:\n",
    "            comb_dict[i] = b[i]\n",
    "    return comb_dict\n",
    "\n",
    "b = letter_dict('yellow banana')\n",
    "print(set(b.items()))\n",
    "c = comb_dict(a, b)\n",
    "\n",
    "print(c)\n",
    "print(max_letter(c))"
   ]
  },
  {
   "cell_type": "code",
   "execution_count": 40,
   "metadata": {},
   "outputs": [
    {
     "data": {
      "text/plain": [
       "(140037056070848, 140037056395776, 140037056070848, 140037056082880)"
      ]
     },
     "execution_count": 40,
     "metadata": {},
     "output_type": "execute_result"
    }
   ],
   "source": [
    "l = [1, 2]\n",
    "l_copy = l.copy()\n",
    "l_s = l\n",
    "l_i = l[:]\n",
    "id(l), id(l_copy), id(l_s), id(l_i)"
   ]
  },
  {
   "cell_type": "code",
   "execution_count": 43,
   "metadata": {},
   "outputs": [
    {
     "data": {
      "text/plain": [
       "False"
      ]
     },
     "execution_count": 43,
     "metadata": {},
     "output_type": "execute_result"
    }
   ],
   "source": []
  },
  {
   "cell_type": "markdown",
   "metadata": {},
   "source": [
    "## 과제 1"
   ]
  },
  {
   "cell_type": "code",
   "execution_count": 107,
   "metadata": {},
   "outputs": [],
   "source": [
    "# 소수이면 True, 아니면 False return\n",
    "def check_prime(num):\n",
    "    \n",
    "    # num이 1이면 False\n",
    "    if num == 1:\n",
    "        return False\n",
    "    \n",
    "    # num이 2나 3이면 True\n",
    "    elif num in (2, 3):\n",
    "        return True\n",
    "    \n",
    "    # 10 미만의 수인 경우, 2와 3의 배수가 아니면 prime\n",
    "    elif num % 2 == 0 or num % 3 == 0:\n",
    "        return False\n",
    "    elif num < 10:\n",
    "        return True\n",
    "    \n",
    "    # 10 보다 큰 수의 경우 3의 배수가 아닌 홀수로 나눠보면 된다 ( 5, 7, 11, 13, 17, 19, ...) -> 패턴 (K, K+2) * 6n\n",
    "    # 또한 num까지 모든 수를 비교할 필요없이, num의 제곱근까지만 검사하면 소수인지를 판별할 수 있다\n",
    "    k = 5\n",
    "    root = num ** 0.5\n",
    "    while k <= root:\n",
    "        if num % k == 0 or num % (k + 2) == 0:\n",
    "            return False\n",
    "        k += 6\n",
    "    return True"
   ]
  },
  {
   "cell_type": "code",
   "execution_count": 106,
   "metadata": {},
   "outputs": [
    {
     "name": "stdout",
     "output_type": "stream",
     "text": [
      "13는 소수입니다.\n",
      "15는 소수가 아닙니다.\n"
     ]
    }
   ],
   "source": [
    "a = 13\n",
    "b = 15\n",
    "\n",
    "if check_prime(a):\n",
    "    print(f\"{a}는 소수입니다.\")\n",
    "else:\n",
    "    print(f\"{a}는 소수가 아닙니다.\")\n",
    "\n",
    "if check_prime(b):\n",
    "    print(f\"{b}는 소수입니다.\")\n",
    "else:\n",
    "    print(f\"{b}는 소수가 아닙니다.\")"
   ]
  },
  {
   "cell_type": "markdown",
   "metadata": {},
   "source": [
    "## 과제 2"
   ]
  },
  {
   "cell_type": "code",
   "execution_count": 109,
   "metadata": {},
   "outputs": [],
   "source": [
    "# 천 단위마다 쉼표(,) 추가하기\n",
    "def add_comma(val):\n",
    "    new_val = []\n",
    "    for idx, char in enumerate(str(val)[::-1]):\n",
    "        new_val.append(char)\n",
    "        if (idx + 1) % 3 == 0:\n",
    "            new_val.append(',')\n",
    "    return ''.join(new_val[::-1])"
   ]
  },
  {
   "cell_type": "code",
   "execution_count": 110,
   "metadata": {},
   "outputs": [
    {
     "name": "stdout",
     "output_type": "stream",
     "text": [
      "1,234\n",
      "12,345,678\n",
      "12\n"
     ]
    }
   ],
   "source": [
    "comma_added_1234 = add_comma(1234)\n",
    "comma_added_12345678 = add_comma(12345678)\n",
    "comma_added_12 = add_comma(12)\n",
    "\n",
    "print(comma_added_1234)\n",
    "print(comma_added_12345678)\n",
    "print(comma_added_12)"
   ]
  },
  {
   "cell_type": "code",
   "execution_count": 87,
   "metadata": {},
   "outputs": [
    {
     "data": {
      "text/plain": [
       "'876,543'"
      ]
     },
     "execution_count": 87,
     "metadata": {},
     "output_type": "execute_result"
    }
   ],
   "source": [
    "','.join(['12345678'[-1:-4:-1], '12345678'[-4:-7:-1]])"
   ]
  },
  {
   "cell_type": "markdown",
   "metadata": {},
   "source": [
    "## 과제 3"
   ]
  },
  {
   "cell_type": "code",
   "execution_count": 113,
   "metadata": {},
   "outputs": [],
   "source": [
    "# 단어열의 n-gram 구하기\n",
    "def tokenize(trg, N = 1):\n",
    "    token = trg.split()\n",
    "    N_token = []\n",
    "    \n",
    "    # N이 1이면 token 출력, 1보다 크면 N_token으로 새로 생성\n",
    "    if N == 1: \n",
    "        return token\n",
    "    \n",
    "    else:\n",
    "        # 예외처리: N이 총 단어의 개수보다 크면 N을 단어 수만큼 고정\n",
    "        if N > len(token): \n",
    "            N = len(token)\n",
    "        \n",
    "        # 총 단어 개수 - N + 1번 반복 -> join()활용해서 N개의 단어를 N_token에 추가\n",
    "        for idx in range(len(token) - N + 1): \n",
    "            N_token.append(' '.join(token[idx:idx + N])) \n",
    "        \n",
    "        return N_token"
   ]
  },
  {
   "cell_type": "code",
   "execution_count": 114,
   "metadata": {},
   "outputs": [
    {
     "name": "stdout",
     "output_type": "stream",
     "text": [
      "['There', 'was', 'a', 'farmer', 'who', 'had', 'a', 'dog', '.']\n",
      "['There was', 'was a', 'a farmer', 'farmer who', 'who had', 'had a', 'a dog', 'dog .']\n",
      "['There was a', 'was a farmer', 'a farmer who', 'farmer who had', 'who had a', 'had a dog', 'a dog .']\n",
      "['There was a farmer who had a dog .']\n"
     ]
    }
   ],
   "source": [
    "a = \"There was a farmer who had a dog .\"\n",
    "print(tokenize(a))\n",
    "print(tokenize(a, 2))\n",
    "print(tokenize(a, 3))\n",
    "print(tokenize(a, 11))"
   ]
  },
  {
   "cell_type": "markdown",
   "metadata": {},
   "source": [
    "## 과제 4"
   ]
  },
  {
   "cell_type": "code",
   "execution_count": 115,
   "metadata": {},
   "outputs": [],
   "source": [
    "# 여러 벡터(2차원)를 전달받아, 평균과 분산을 구하기\n",
    "def mean_and_var(*val):\n",
    "\n",
    "    # parameter를 zip() 이용해서 x, y tuple로 변환\n",
    "    x, y = zip(*val) \n",
    "    \n",
    "    # 평균 구하기\n",
    "    m = [sum(x) / len(x), sum(y) / len(y)]\n",
    "    \n",
    "    # 분산 구하기\n",
    "    x_cal = [ ((i - m[0]) ** 2) for i in x]\n",
    "    y_cal = [ ((j - m[1]) ** 2) for j in y]\n",
    "    \n",
    "    var = [sum(x_cal)/len(x_cal), sum(y_cal)/len(y_cal)]\n",
    "    \n",
    "    return m, var"
   ]
  },
  {
   "cell_type": "code",
   "execution_count": 116,
   "metadata": {},
   "outputs": [
    {
     "name": "stdout",
     "output_type": "stream",
     "text": [
      "평균: [0.5, 0.5]\n",
      "분산: [0.16666666666666666, 0.16666666666666666]\n"
     ]
    }
   ],
   "source": [
    "v1 = (0, 1)\n",
    "v2 = (0.5, 0.5)\n",
    "v3 = (1, 0)\n",
    "m, var = mean_and_var(v1, v2, v3)\n",
    "print(f'평균: {m}')\n",
    "print(f'분산: {var}')"
   ]
  },
  {
   "cell_type": "code",
   "execution_count": null,
   "metadata": {},
   "outputs": [],
   "source": []
  }
 ],
 "metadata": {
  "kernelspec": {
   "display_name": "Python 3",
   "language": "python",
   "name": "python3"
  },
  "language_info": {
   "codemirror_mode": {
    "name": "ipython",
    "version": 3
   },
   "file_extension": ".py",
   "mimetype": "text/x-python",
   "name": "python",
   "nbconvert_exporter": "python",
   "pygments_lexer": "ipython3",
   "version": "3.8.3"
  }
 },
 "nbformat": 4,
 "nbformat_minor": 4
}

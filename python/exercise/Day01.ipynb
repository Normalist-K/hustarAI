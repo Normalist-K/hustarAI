{
 "cells": [
  {
   "cell_type": "markdown",
   "metadata": {},
   "source": [
    "# Day 2\n",
    "\n",
    "## Ubuntu 사용하기\n",
    "- 디렉토리 이름은 한글로 바꾸기\n",
    "- terminal에서 아래 명령어 입력\n",
    "\n",
    "<code> export LANG=G           </code>\n",
    "\n",
    "<code> xdg-user-dir-gtk-update </code>\n",
    "  \n",
    "## Anaconda 설치\n",
    "- 아나콘다 홈페이지에서 .sh파일 다운로드\n",
    "\n",
    "<code> sh Anaconda3-2020.07-Linux-x86_64.sh </code>\n",
    "\n",
    "## MarkDown Language\n",
    "- \\# : head 1~6까지\n",
    "- \\* : 한 개 - *기울기*, 두 개 - **볼드**\n",
    "- \\~ : ~취소선~ "
   ]
  },
  {
   "cell_type": "code",
   "execution_count": 2,
   "metadata": {},
   "outputs": [
    {
     "name": "stdout",
     "output_type": "stream",
     "text": [
      "hello world\n"
     ]
    }
   ],
   "source": [
    "print(\"hello world\")"
   ]
  },
  {
   "cell_type": "code",
   "execution_count": 35,
   "metadata": {},
   "outputs": [
    {
     "name": "stdout",
     "output_type": "stream",
     "text": [
      "화씨온도: 100\n",
      "섭씨온도: 37.78\n"
     ]
    }
   ],
   "source": [
    "# 실습 1 - 화씨를 섭씨로 바꾸기\n",
    "\n",
    "F = int(input(\"화씨온도: \"))\n",
    "C = (F - 32) * 5 / 9\n",
    "print(f\"섭씨온도: %.2f\" % C)"
   ]
  },
  {
   "cell_type": "code",
   "execution_count": 22,
   "metadata": {},
   "outputs": [
    {
     "name": "stdout",
     "output_type": "stream",
     "text": [
      "투입한 돈: 5000\n",
      "물건값: 2300\n",
      "거스름돈: 2700\n",
      "500원: 5\n",
      "100원: 1\n"
     ]
    }
   ],
   "source": [
    "# 실습 2 - 자판기\n",
    "\n",
    "money = int(input(\"투입한 돈: \"))\n",
    "price = int(input(\"물건값: \"))\n",
    "change = money - price\n",
    "five = change // 500\n",
    "one = (change & 500) // 100\n",
    "\n",
    "print(f\"거스름돈: {change}\\n500원: {five}\\n100원: {one}\")"
   ]
  },
  {
   "cell_type": "code",
   "execution_count": 29,
   "metadata": {},
   "outputs": [
    {
     "name": "stdout",
     "output_type": "stream",
     "text": [
      "o\n"
     ]
    }
   ],
   "source": [
    "# 실습 3 - 문자열의 마지막 문자 출력하기\n",
    "\n",
    "word = \"Hello\"\n",
    "word[-1]  # 음의 인덱스 사용\n",
    "\n",
    "# len() 함수 사용\n",
    "length = len(word)\n",
    "print(word[length-1])"
   ]
  },
  {
   "cell_type": "code",
   "execution_count": 31,
   "metadata": {},
   "outputs": [
    {
     "name": "stdout",
     "output_type": "stream",
     "text": [
      "날짜(연/월/일)입력: 2020/7/30\n",
      "입력한 날짜의 10년 후는 2030년 7월 30일\n"
     ]
    }
   ],
   "source": [
    "# 실습 4 - 날짜를 입력받아 10년 후 날짜 출력하기\n",
    "\n",
    "year, month, day = map(int, input(\"날짜(연/월/일)입력: \").split(\"/\"))\n",
    "print(f\"입력한 날짜의 10년 후는 {year + 10}년 {month}월 {day}일\")"
   ]
  },
  {
   "cell_type": "code",
   "execution_count": 5,
   "metadata": {},
   "outputs": [
    {
     "data": {
      "text/plain": [
       "['False',\n",
       " 'None',\n",
       " 'True',\n",
       " 'and',\n",
       " 'as',\n",
       " 'assert',\n",
       " 'async',\n",
       " 'await',\n",
       " 'break',\n",
       " 'class',\n",
       " 'continue',\n",
       " 'def',\n",
       " 'del',\n",
       " 'elif',\n",
       " 'else',\n",
       " 'except',\n",
       " 'finally',\n",
       " 'for',\n",
       " 'from',\n",
       " 'global',\n",
       " 'if',\n",
       " 'import',\n",
       " 'in',\n",
       " 'is',\n",
       " 'lambda',\n",
       " 'nonlocal',\n",
       " 'not',\n",
       " 'or',\n",
       " 'pass',\n",
       " 'raise',\n",
       " 'return',\n",
       " 'try',\n",
       " 'while',\n",
       " 'with',\n",
       " 'yield']"
      ]
     },
     "execution_count": 5,
     "metadata": {},
     "output_type": "execute_result"
    }
   ],
   "source": [
    "import keyword\n",
    "keyword.kwlist"
   ]
  },
  {
   "cell_type": "code",
   "execution_count": 9,
   "metadata": {},
   "outputs": [
    {
     "data": {
      "text/plain": [
       "(bool, str)"
      ]
     },
     "execution_count": 9,
     "metadata": {},
     "output_type": "execute_result"
    }
   ],
   "source": [
    "type(True), type(\"True\")"
   ]
  },
  {
   "cell_type": "code",
   "execution_count": 15,
   "metadata": {},
   "outputs": [
    {
     "name": "stdout",
     "output_type": "stream",
     "text": [
      "1\n",
      "<class 'int'>\n",
      "2\n",
      "3\n"
     ]
    }
   ],
   "source": [
    "a = 1\n",
    "print(a)\n",
    "print(type(a))\n",
    "\n",
    "a = a + 1\n",
    "print(a)\n",
    "\n",
    "a += 1    # 축약 연산자 (+=, -=, *=, /=)\n",
    "print(a)"
   ]
  },
  {
   "cell_type": "code",
   "execution_count": 18,
   "metadata": {},
   "outputs": [
    {
     "name": "stdout",
     "output_type": "stream",
     "text": [
      "Enter your number: 1\n",
      "1 <class 'int'>\n"
     ]
    }
   ],
   "source": [
    "num = int(input(\"Enter your number: \"))\n",
    "print(num, type(num))"
   ]
  },
  {
   "cell_type": "code",
   "execution_count": 19,
   "metadata": {},
   "outputs": [
    {
     "data": {
      "text/plain": [
       "'1.5'"
      ]
     },
     "execution_count": 19,
     "metadata": {},
     "output_type": "execute_result"
    }
   ],
   "source": [
    "s = str(1.5)\n",
    "s"
   ]
  },
  {
   "cell_type": "code",
   "execution_count": 25,
   "metadata": {},
   "outputs": [
    {
     "name": "stdout",
     "output_type": "stream",
     "text": [
      "I eat 3 apples.\n",
      "I ate 10 apples, and I was sick for three days.\n"
     ]
    }
   ],
   "source": [
    "print(\"I eat %d apples.\" % 3)\n",
    "\n",
    "number = 10\n",
    "day = \"three\"\n",
    "print(\"I ate %d apples, and I was sick for %s days.\" % (number, day))"
   ]
  },
  {
   "cell_type": "code",
   "execution_count": 32,
   "metadata": {},
   "outputs": [
    {
     "name": "stdout",
     "output_type": "stream",
     "text": [
      "nohtyp\n",
      "pto\n"
     ]
    }
   ],
   "source": [
    "word = 'python'\n",
    "print(word[::-1])\n",
    "print(word[::2])"
   ]
  },
  {
   "cell_type": "code",
   "execution_count": null,
   "metadata": {},
   "outputs": [],
   "source": []
  }
 ],
 "metadata": {
  "kernelspec": {
   "display_name": "Python 3",
   "language": "python",
   "name": "python3"
  },
  "language_info": {
   "codemirror_mode": {
    "name": "ipython",
    "version": 3
   },
   "file_extension": ".py",
   "mimetype": "text/x-python",
   "name": "python",
   "nbconvert_exporter": "python",
   "pygments_lexer": "ipython3",
   "version": "3.8.3"
  }
 },
 "nbformat": 4,
 "nbformat_minor": 4
}

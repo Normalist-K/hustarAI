{
 "cells": [
  {
   "cell_type": "code",
   "execution_count": null,
   "metadata": {},
   "outputs": [],
   "source": [
    "a = 150.37\n",
    "b = 312\n",
    "c = \"abc\"\n",
    "d = 1234556\n",
    "\n",
    "# 소수점 제어: '%.소수점자릿수f' % 숫자\n",
    "print(f\"{a:.3f}\")\n",
    "\n",
    "# 자릿수 제어: '%자릿수s' '%자릿수d'\n",
    "print(f\"{b:10d}\")\n",
    "print(f\"{c:5s}\", end=\"|\")\n",
    "print()\n",
    "\n",
    "# 자릿수 제어: float\n",
    "print(f\"{a:8.3f}\")\n",
    "print(f\"{a:8}\")\n",
    "\n",
    "# 오른쪽 정렬 (문자열: default 왼쪽정렬)\n",
    "print(f\"{c:>5s}\")\n",
    "\n",
    "# 채우기\n",
    "print(f\"{b:05d}\")\n",
    "print(f\"{a:08.3f}\")\n",
    "\n",
    "# 채우기와 정렬 조합\n",
    "print(f\"{b:0<5d}\")\n",
    "print(f\"{b:x<5d}\")\n",
    "print(f\"{a:0<8.3f}\")\n",
    "print(f\"{a:-<8.3f}\")\n",
    "\n",
    "# 숫자에 comma 넣기\n",
    "print(f\"{d:,}\")"
   ]
  }
 ],
 "metadata": {
  "kernelspec": {
   "display_name": "Python 3",
   "language": "python",
   "name": "python3"
  },
  "language_info": {
   "codemirror_mode": {
    "name": "ipython",
    "version": 3
   },
   "file_extension": ".py",
   "mimetype": "text/x-python",
   "name": "python",
   "nbconvert_exporter": "python",
   "pygments_lexer": "ipython3",
   "version": "3.8.3"
  }
 },
 "nbformat": 4,
 "nbformat_minor": 4
}

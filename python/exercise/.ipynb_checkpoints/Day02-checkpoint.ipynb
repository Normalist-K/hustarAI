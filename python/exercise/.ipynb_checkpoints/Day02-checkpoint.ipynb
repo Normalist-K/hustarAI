{
 "cells": [
  {
   "cell_type": "markdown",
   "metadata": {},
   "source": [
    "# 문자열 관련 함수"
   ]
  },
  {
   "cell_type": "code",
   "execution_count": 1,
   "metadata": {},
   "outputs": [
    {
     "data": {
      "text/plain": [
       "'1,2,3,4'"
      ]
     },
     "execution_count": 1,
     "metadata": {},
     "output_type": "execute_result"
    }
   ],
   "source": [
    "','.join('1234')"
   ]
  },
  {
   "cell_type": "code",
   "execution_count": 2,
   "metadata": {},
   "outputs": [
    {
     "data": {
      "text/plain": [
       "'o'"
      ]
     },
     "execution_count": 2,
     "metadata": {},
     "output_type": "execute_result"
    }
   ],
   "source": [
    "# 실습 3 - len()을 이용해서 마지막 문자 구하기\n",
    "\n",
    "word = 'hello'\n",
    "last_idx = len(word) - 1\n",
    "word[last_idx]"
   ]
  },
  {
   "cell_type": "code",
   "execution_count": 1,
   "metadata": {},
   "outputs": [
    {
     "data": {
      "text/plain": [
       "['one', 'two', 'three']"
      ]
     },
     "execution_count": 1,
     "metadata": {},
     "output_type": "execute_result"
    }
   ],
   "source": [
    "s2 = \"one:two:three\"\n",
    "s2.split(\":\")"
   ]
  },
  {
   "cell_type": "code",
   "execution_count": 2,
   "metadata": {},
   "outputs": [
    {
     "data": {
      "text/plain": [
       "['python', 'is', 'fun']"
      ]
     },
     "execution_count": 2,
     "metadata": {},
     "output_type": "execute_result"
    }
   ],
   "source": [
    "s1 = \"python is fun\"\n",
    "s1.split(\" \")"
   ]
  },
  {
   "cell_type": "code",
   "execution_count": 8,
   "metadata": {},
   "outputs": [
    {
     "name": "stdout",
     "output_type": "stream",
     "text": [
      "python\tis\n",
      "fun and easy\n"
     ]
    },
    {
     "data": {
      "text/plain": [
       "['python', 'is', 'fun', 'and', 'easy']"
      ]
     },
     "execution_count": 8,
     "metadata": {},
     "output_type": "execute_result"
    }
   ],
   "source": [
    "s3 = \"python\\tis\\nfun and easy\" # escape로 white space 만들기\n",
    "print(s3)\n",
    "\n",
    "s3.split() # white space로 분리하기"
   ]
  },
  {
   "cell_type": "markdown",
   "metadata": {},
   "source": [
    "# 리스트"
   ]
  },
  {
   "cell_type": "code",
   "execution_count": 13,
   "metadata": {},
   "outputs": [
    {
     "data": {
      "text/plain": [
       "[1, 2, 3, 4, 5, 6]"
      ]
     },
     "execution_count": 13,
     "metadata": {},
     "output_type": "execute_result"
    }
   ],
   "source": [
    "a = [1, 2, 3]\n",
    "b = [4, 5, 6]\n",
    "\n",
    "a + b"
   ]
  },
  {
   "cell_type": "code",
   "execution_count": 14,
   "metadata": {},
   "outputs": [
    {
     "data": {
      "text/plain": [
       "[1, 2, 3, 1, 2, 3, 1, 2, 3]"
      ]
     },
     "execution_count": 14,
     "metadata": {},
     "output_type": "execute_result"
    }
   ],
   "source": [
    "a * 3"
   ]
  },
  {
   "cell_type": "code",
   "execution_count": 15,
   "metadata": {},
   "outputs": [
    {
     "data": {
      "text/plain": [
       "[3]"
      ]
     },
     "execution_count": 15,
     "metadata": {},
     "output_type": "execute_result"
    }
   ],
   "source": [
    "del a[0:2]\n",
    "a"
   ]
  },
  {
   "cell_type": "code",
   "execution_count": 16,
   "metadata": {
    "scrolled": true
   },
   "outputs": [
    {
     "name": "stdout",
     "output_type": "stream",
     "text": [
      "날짜(연/월/일)입력: 2020/06/01\n",
      "입력한 날짜의 10년 후는 2030년 6월 1일\n"
     ]
    }
   ],
   "source": [
    "# 실습 4 - 날짜를 입력받아 10년 후 날짜 출력하기\n",
    "\n",
    "year, month, day = map(int, input(\"날짜(연/월/일)입력: \").split(\"/\"))\n",
    "print(f\"입력한 날짜의 10년 후는 {year + 10}년 {month}월 {day}일\")"
   ]
  },
  {
   "cell_type": "code",
   "execution_count": 23,
   "metadata": {
    "scrolled": true
   },
   "outputs": [
    {
     "name": "stdout",
     "output_type": "stream",
     "text": [
      "입력한 날짜의 10년 후는 2030년 07월 29일\n"
     ]
    }
   ],
   "source": [
    "# date = input(\"날짜(연/월/일)입력: \")\n",
    "date = \"2020/07/29\"\n",
    "year, month, day = date.split(\"/\")\n",
    "year = int(year) + 10\n",
    "print(f\"입력한 날짜의 10년 후는 %s년 %s월 %s일\" % (year, month, day))"
   ]
  },
  {
   "cell_type": "markdown",
   "metadata": {},
   "source": [
    "# 조건문"
   ]
  },
  {
   "cell_type": "markdown",
   "metadata": {},
   "source": [
    "## bool 자료형"
   ]
  },
  {
   "cell_type": "code",
   "execution_count": 26,
   "metadata": {},
   "outputs": [
    {
     "data": {
      "text/plain": [
       "(False, True)"
      ]
     },
     "execution_count": 26,
     "metadata": {},
     "output_type": "execute_result"
    }
   ],
   "source": [
    "bool(0.0), bool([0])"
   ]
  },
  {
   "cell_type": "markdown",
   "metadata": {},
   "source": [
    "## 관계 연산자 / 논리 연산자\n",
    "- 관리 연산자\n",
    "  - <, >, ==, <=, >=, !=\n",
    "- 논리 연산자\n",
    "  - not, and, or"
   ]
  },
  {
   "cell_type": "markdown",
   "metadata": {},
   "source": [
    "## if문"
   ]
  },
  {
   "cell_type": "code",
   "execution_count": 30,
   "metadata": {},
   "outputs": [
    {
     "name": "stdout",
     "output_type": "stream",
     "text": [
      "불합격: 총합 점수 부족\n",
      "불합격: 수학 점수 부족\n",
      "합격\n",
      "불합격: 총합 점수 부족\n",
      "불합격: 영어 접수 부족\n"
     ]
    }
   ],
   "source": [
    "# 실습 1 - 영어, 수학 시험 합격 여부 출력 프로그램\n",
    "\n",
    "# english = int(input(\"영어 점수 입력: \"))\n",
    "# math = int(input(\"수학 점수 입력: \"))\n",
    "scores = [(80, 20), (90, 30), (70, 80), (35, 30), (35, 95)]\n",
    "\n",
    "for english, math in scores:\n",
    "    total = english + math\n",
    "\n",
    "    if total < 110:\n",
    "        print(\"불합격: 총합 점수 부족\")\n",
    "    else:\n",
    "        if english < 40:\n",
    "            print(\"불합격: 영어 접수 부족\")\n",
    "        elif math < 40:\n",
    "            print(\"불합격: 수학 점수 부족\")\n",
    "        else:\n",
    "            print(\"합격\")\n",
    "\n"
   ]
  },
  {
   "cell_type": "code",
   "execution_count": null,
   "metadata": {},
   "outputs": [],
   "source": [
    "# 실습 2 - 세 개의 정수 입력, 가장 큰 수만 출력 (조건문으로만, 반복문 x)\n",
    "\n",
    "# num1, num2, num3 = list(map(int, input(\"세 개의 정수를 입력하세요.\").split()))\n",
    "num1, num2, num3 = [10, 20, 30]\n",
    "max_num = 0\n",
    "\n",
    "if num1 > num2 and num1 > num3:\n",
    "    max_num = num1\n",
    "elif num2 > num1 and num2 > num3:\n",
    "    max_num = num2\n",
    "else:\n",
    "    max_num = num3\n",
    "    \n",
    "print(f\"가장 큰 수는 {max_num}입니다.\")"
   ]
  },
  {
   "cell_type": "markdown",
   "metadata": {},
   "source": [
    "# 반복문"
   ]
  },
  {
   "cell_type": "markdown",
   "metadata": {},
   "source": [
    "## while문"
   ]
  },
  {
   "cell_type": "code",
   "execution_count": 42,
   "metadata": {},
   "outputs": [
    {
     "name": "stdout",
     "output_type": "stream",
     "text": [
      "asdf,bb\n",
      "asdf bb\n"
     ]
    }
   ],
   "source": [
    "print(\"asdf\", \"bb\", sep=',')\n",
    "print(\"asdf\", \"bb\")"
   ]
  },
  {
   "cell_type": "code",
   "execution_count": 50,
   "metadata": {},
   "outputs": [
    {
     "name": "stdout",
     "output_type": "stream",
     "text": [
      "55\n",
      "3628800\n"
     ]
    }
   ],
   "source": [
    "# 실습 3\n",
    "\n",
    "n = 0\n",
    "total = 0\n",
    "while n < 10:\n",
    "    n += 1\n",
    "    total += n\n",
    "    \n",
    "print(total)\n",
    "\n",
    "n = 0\n",
    "total = 1\n",
    "while n < 10:\n",
    "    n += 1\n",
    "    total *= n\n",
    "    \n",
    "print(total)"
   ]
  },
  {
   "cell_type": "markdown",
   "metadata": {},
   "source": [
    "## for문"
   ]
  },
  {
   "cell_type": "code",
   "execution_count": 55,
   "metadata": {},
   "outputs": [
    {
     "name": "stdout",
     "output_type": "stream",
     "text": [
      "H e l l o ,   w o r l d "
     ]
    }
   ],
   "source": [
    "for char in \"Hello, world\":\n",
    "    print(char, end = ' ')"
   ]
  },
  {
   "cell_type": "code",
   "execution_count": 57,
   "metadata": {},
   "outputs": [
    {
     "data": {
      "text/plain": [
       "[0, 1, 2, 3, 4, 5, 6, 7, 8, 9]"
      ]
     },
     "execution_count": 57,
     "metadata": {},
     "output_type": "execute_result"
    }
   ],
   "source": [
    "list(range(10))"
   ]
  },
  {
   "cell_type": "code",
   "execution_count": 58,
   "metadata": {},
   "outputs": [
    {
     "data": {
      "text/plain": [
       "range(0, 10)"
      ]
     },
     "execution_count": 58,
     "metadata": {},
     "output_type": "execute_result"
    }
   ],
   "source": [
    "range(10)"
   ]
  },
  {
   "cell_type": "code",
   "execution_count": 59,
   "metadata": {},
   "outputs": [
    {
     "name": "stdout",
     "output_type": "stream",
     "text": [
      "hello hello hello hello hello hello hello hello hello hello "
     ]
    }
   ],
   "source": [
    "for _ in range(10):\n",
    "    print(\"hello\", end = ' ')"
   ]
  },
  {
   "cell_type": "code",
   "execution_count": null,
   "metadata": {},
   "outputs": [],
   "source": []
  },
  {
   "cell_type": "code",
   "execution_count": null,
   "metadata": {},
   "outputs": [],
   "source": []
  },
  {
   "cell_type": "code",
   "execution_count": null,
   "metadata": {},
   "outputs": [],
   "source": []
  },
  {
   "cell_type": "code",
   "execution_count": null,
   "metadata": {},
   "outputs": [],
   "source": []
  },
  {
   "cell_type": "code",
   "execution_count": null,
   "metadata": {},
   "outputs": [],
   "source": []
  },
  {
   "cell_type": "code",
   "execution_count": null,
   "metadata": {},
   "outputs": [],
   "source": []
  },
  {
   "cell_type": "code",
   "execution_count": null,
   "metadata": {},
   "outputs": [],
   "source": []
  }
 ],
 "metadata": {
  "kernelspec": {
   "display_name": "Python 3",
   "language": "python",
   "name": "python3"
  },
  "language_info": {
   "codemirror_mode": {
    "name": "ipython",
    "version": 3
   },
   "file_extension": ".py",
   "mimetype": "text/x-python",
   "name": "python",
   "nbconvert_exporter": "python",
   "pygments_lexer": "ipython3",
   "version": "3.8.3"
  }
 },
 "nbformat": 4,
 "nbformat_minor": 4
}

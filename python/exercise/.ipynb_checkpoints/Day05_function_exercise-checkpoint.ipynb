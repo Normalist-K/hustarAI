{
 "cells": [
  {
   "cell_type": "markdown",
   "metadata": {},
   "source": [
    "# function\n",
    "\n",
    "## 교재 실습 5"
   ]
  },
  {
   "cell_type": "code",
   "execution_count": 37,
   "metadata": {},
   "outputs": [
    {
     "name": "stdout",
     "output_type": "stream",
     "text": [
      "1 9 [2, 3, 5]\n"
     ]
    }
   ],
   "source": [
    "# 시간 복잡도: O(4N) -> O(N)\n",
    "def get_min_max(l):\n",
    "    min_val = min(l)\n",
    "    max_val = max(l)\n",
    "    \n",
    "    l.remove(min_val)\n",
    "    l.remove(max_val)\n",
    "    \n",
    "    return min_val, max_val\n",
    "\n",
    "# 시간 복잡도: O(N Log N)\n",
    "def get_min_max2(l):\n",
    "    l.sort()\n",
    "    return l.pop(0), l.pop(len(l)-1)\n",
    "\n",
    "l = [3, 5, 9, 1, 2]\n",
    "min_val, max_val = get_min_max2(l)\n",
    "\n",
    "print(min_val, max_val, l)"
   ]
  },
  {
   "cell_type": "markdown",
   "metadata": {},
   "source": [
    "## 교재 실습 8"
   ]
  },
  {
   "cell_type": "code",
   "execution_count": 30,
   "metadata": {},
   "outputs": [
    {
     "name": "stdout",
     "output_type": "stream",
     "text": [
      "{'e': 2, 'p': 2, ' ': 1, 'l': 1, 'r': 1, 'd': 1, 'a': 1}\n",
      "p\n"
     ]
    }
   ],
   "source": [
    "def letter_dict(string):\n",
    "    d = {}\n",
    "    for char in set(string):\n",
    "        d[char] = string.count(char)\n",
    "    return d\n",
    "\n",
    "def max_letter(d):\n",
    "    max_value = 0\n",
    "    max_key = ''\n",
    "    for key, value in d.items():\n",
    "        if value >= max_value:\n",
    "            max_value = value\n",
    "            max_key = key\n",
    "    return max_key\n",
    "\n",
    "a = letter_dict('red apple')\n",
    "print(a)\n",
    "print(max_letter(a))"
   ]
  },
  {
   "cell_type": "markdown",
   "metadata": {},
   "source": [
    "## 교재 실습 9"
   ]
  },
  {
   "cell_type": "code",
   "execution_count": 45,
   "metadata": {},
   "outputs": [
    {
     "name": "stdout",
     "output_type": "stream",
     "text": [
      "{('n', 2), ('w', 1), ('l', 2), ('o', 1), ('b', 1), (' ', 1), ('e', 1), ('a', 3), ('y', 1)}\n",
      "{'e': 3, 'p': 2, ' ': 2, 'l': 3, 'r': 1, 'd': 1, 'a': 4, 'b': 1, 'n': 2, 'w': 1, 'o': 1, 'y': 1}\n",
      "a\n"
     ]
    }
   ],
   "source": [
    "def comb_dict(dict1, dict2):\n",
    "    dict3 = dict1.copy()\n",
    "    for key, value in dict2.items():\n",
    "        if key in dict3:\n",
    "            dict3[key] += value\n",
    "        else:\n",
    "            dict3[key] = value\n",
    "    return dict3\n",
    "\n",
    "# 조교님 코드\n",
    "def comb_dict2(a, b):\n",
    "    set_a = set(a)\n",
    "    set_b = set(b)\n",
    "    comb = set_a.union(set_b)\n",
    "    comb_dict = {}\n",
    "    for i in comb:\n",
    "        if i in a and i in b:\n",
    "            comb_dict[i] = a[i] + b[i]\n",
    "        elif i in a:\n",
    "            comb_dict[i] = a[i]\n",
    "        else:\n",
    "            comb_dict[i] = b[i]\n",
    "    return comb_dict\n",
    "\n",
    "b = letter_dict('yellow banana')\n",
    "print(set(b.items()))\n",
    "c = comb_dict(a, b)\n",
    "\n",
    "print(c)\n",
    "print(max_letter(c))"
   ]
  },
  {
   "cell_type": "code",
   "execution_count": 40,
   "metadata": {},
   "outputs": [
    {
     "data": {
      "text/plain": [
       "(140037056070848, 140037056395776, 140037056070848, 140037056082880)"
      ]
     },
     "execution_count": 40,
     "metadata": {},
     "output_type": "execute_result"
    }
   ],
   "source": [
    "l = [1, 2]\n",
    "l_copy = l.copy()\n",
    "l_s = l\n",
    "l_i = l[:]\n",
    "id(l), id(l_copy), id(l_s), id(l_i)"
   ]
  },
  {
   "cell_type": "code",
   "execution_count": 43,
   "metadata": {},
   "outputs": [
    {
     "data": {
      "text/plain": [
       "False"
      ]
     },
     "execution_count": 43,
     "metadata": {},
     "output_type": "execute_result"
    }
   ],
   "source": []
  },
  {
   "cell_type": "markdown",
   "metadata": {},
   "source": [
    "## 과제 1"
   ]
  },
  {
   "cell_type": "code",
   "execution_count": null,
   "metadata": {},
   "outputs": [],
   "source": [
    "# 소수이면 True, 아니면 False return\n",
    "def check_prime(num):\n",
    "    pass\n",
    "\n",
    "def main():\n",
    "    a = 13\n",
    "    b = 15\n",
    "    \n",
    "    if check_prime(a):\n",
    "        print(f\"{a}는 소수입니다.\")\n",
    "    else:\n",
    "        print(f\"{a}는 소수가 아닙니다.\")\n",
    "        \n",
    "    if check_prime(b):\n",
    "        print(f\"{b}는 소수입니다.\")\n",
    "    else:\n",
    "        print(f\"{b}는 소수가 아닙니다.\")\n",
    "        "
   ]
  },
  {
   "cell_type": "code",
   "execution_count": null,
   "metadata": {},
   "outputs": [],
   "source": []
  },
  {
   "cell_type": "code",
   "execution_count": null,
   "metadata": {},
   "outputs": [],
   "source": []
  },
  {
   "cell_type": "code",
   "execution_count": null,
   "metadata": {},
   "outputs": [],
   "source": []
  },
  {
   "cell_type": "code",
   "execution_count": null,
   "metadata": {},
   "outputs": [],
   "source": []
  },
  {
   "cell_type": "code",
   "execution_count": null,
   "metadata": {},
   "outputs": [],
   "source": []
  },
  {
   "cell_type": "code",
   "execution_count": null,
   "metadata": {},
   "outputs": [],
   "source": []
  },
  {
   "cell_type": "code",
   "execution_count": null,
   "metadata": {},
   "outputs": [],
   "source": []
  }
 ],
 "metadata": {
  "kernelspec": {
   "display_name": "Python 3",
   "language": "python",
   "name": "python3"
  },
  "language_info": {
   "codemirror_mode": {
    "name": "ipython",
    "version": 3
   },
   "file_extension": ".py",
   "mimetype": "text/x-python",
   "name": "python",
   "nbconvert_exporter": "python",
   "pygments_lexer": "ipython3",
   "version": "3.8.3"
  }
 },
 "nbformat": 4,
 "nbformat_minor": 4
}

{
 "cells": [
  {
   "cell_type": "markdown",
   "metadata": {},
   "source": [
    "# 파이썬 프로그래밍 실습2\n",
    "## 2020년 7월 29일(수)\n",
    "## 이치묵 cmlee119@naver.com"
   ]
  },
  {
   "cell_type": "markdown",
   "metadata": {},
   "source": [
    "### 실습문제 5\n",
    "#### 숫자로 구성된 리스트를 전달받아 최대값, 최소값을 반환하고, 두수를 리스트에서 제거하는 함수를 작성하시오"
   ]
  },
  {
   "cell_type": "code",
   "execution_count": 2,
   "metadata": {},
   "outputs": [
    {
     "name": "stdout",
     "output_type": "stream",
     "text": [
      "1\n",
      "9\n",
      "[3, 5, 2]\n"
     ]
    }
   ],
   "source": [
    "def get_min_max(l):\n",
    "    if len(l) == 0:\n",
    "        return 0, 0\n",
    "    \n",
    "    iMin = min(l)\n",
    "    l.remove(iMin)\n",
    "    \n",
    "    if len(l) == 0:\n",
    "        return 0, 0\n",
    "    \n",
    "    iMax = max(l)\n",
    "    l.remove(iMax)\n",
    "    \n",
    "    return iMin, iMax\n",
    "\n",
    "#min max를 한번에 찾기\n",
    "def get_min_max_v2(l):\n",
    "    if len(l) <= 2:\n",
    "        l.clear()\n",
    "        return 0, 0\n",
    "    \n",
    "    iMin = l[0]\n",
    "    iMax = l[0]\n",
    "    \n",
    "    newList = [0 for _ in range(len(l) - 2)]\n",
    "\n",
    "    for value in l:\n",
    "        if value < iMin:\n",
    "            iMin = value\n",
    "        elif value > iMax:\n",
    "            iMax = value\n",
    "    \n",
    "    l.remove(iMax)\n",
    "    l.remove(iMin)\n",
    "    \n",
    "    return iMin, iMax\n",
    "\n",
    "l = [3, 5, 9, 1, 2]\n",
    "min_val, max_val = get_min_max_v2(l)\n",
    "print(min_val)\n",
    "print(max_val)\n",
    "print(l)"
   ]
  },
  {
   "cell_type": "markdown",
   "metadata": {},
   "source": [
    "### 실습문제 6\n",
    "#### 로또 추첨 프로그램\n",
    "#### 1~45 숫자 중 6개를 임의로 선택 후 출력\n",
    "#### 단, 중복된 번호를 가질 수 없음"
   ]
  },
  {
   "cell_type": "code",
   "execution_count": 126,
   "metadata": {},
   "outputs": [
    {
     "name": "stdout",
     "output_type": "stream",
     "text": [
      "**로또 추첨을 시작합니다.**\n",
      "\n",
      "추첨된 로또 번호 ==> 11 41 9 44 5 45\n"
     ]
    }
   ],
   "source": [
    "import random\n",
    "\n",
    "print(\"**로또 추첨을 시작합니다.**\\n\")\n",
    "\n",
    "listNum = [i for i in range(1, 45 + 1)]\n",
    "\n",
    "listChoice = random.sample(listNum, 6)\n",
    "\n",
    "result = ' '.join(str(value) for value in listChoice)\n",
    "\n",
    "print(\"추첨된 로또 번호 ==> %s\" % (result))"
   ]
  },
  {
   "cell_type": "markdown",
   "metadata": {},
   "source": [
    "### 실습문제 8\n",
    "#### 1. 전달받은 문장에서 각 알파벳이 몇 개씩 나오는지 저장하는 딕셔너리를 만든 후, 반환하는 함수 letter_dict()를 작성하시오.\n",
    "#### 2. letter_dict() 함수를 통해 생성된 딕셔너리에서 가장 많이 등장한 알파벳을 찾아 반환하는 함수를 작성하시오. (여러 개일 경우 아무 값이나 하나만 반환)"
   ]
  },
  {
   "cell_type": "code",
   "execution_count": 26,
   "metadata": {},
   "outputs": [
    {
     "name": "stdout",
     "output_type": "stream",
     "text": [
      "{'r': 1, 'e': 2, 'd': 1, ' ': 1, 'a': 1, 'p': 2, 'l': 1}\n",
      "e\n"
     ]
    }
   ],
   "source": [
    "def letter_dict(strInput):\n",
    "    dictionary = dict()\n",
    "    for char in strInput:\n",
    "        if char in dictionary.keys():\n",
    "            dictionary[char] += 1\n",
    "        else:\n",
    "            dictionary[char] = 1\n",
    "    return dictionary\n",
    "    \n",
    "def max_letter(dictInput):\n",
    "    maxCount = dictInput\n",
    "    maxChar = \"\"\n",
    "    for key, value in dictInput.items():\n",
    "        if value > maxCount:\n",
    "            maxCount = value\n",
    "            maxChar = key\n",
    "    \n",
    "    return maxChar\n",
    "\n",
    "def max_letter_v2(dictInput):\n",
    "    return max(dictInput.keys(), key=(lambda k: dictInput[k]))\n",
    "    \n",
    "a = letter_dict('red apple')\n",
    "print(a)\n",
    "print(max_letter_v2(a))"
   ]
  },
  {
   "cell_type": "markdown",
   "metadata": {},
   "source": [
    "### 실습문제 9\n",
    "#### 1. letter_dict() 함수에 'yellow banana＇를 전달하여 새로운 딕셔너리 b를 생성한다.\n",
    "#### 2. 두 딕셔너리 a, b를 전달받아 각 딕셔너리에 등장한 값을 모두 더한 새로운 딕셔너리 c를 반환하는 함수 comb_dict()를 작성하시오."
   ]
  },
  {
   "cell_type": "code",
   "execution_count": 129,
   "metadata": {},
   "outputs": [
    {
     "name": "stdout",
     "output_type": "stream",
     "text": [
      "{'r': 1, 'e': 3, 'd': 1, ' ': 2, 'a': 4, 'p': 2, 'l': 3, 'y': 1, 'o': 1, 'w': 1, 'b': 1, 'n': 2}\n",
      "a\n"
     ]
    }
   ],
   "source": [
    "def letter_dict(strInput):\n",
    "    dictionary = dict()\n",
    "    for char in strInput:\n",
    "        if char in dictionary.keys():\n",
    "            dictionary[char] += 1\n",
    "        else:\n",
    "            dictionary[char] = 1\n",
    "    return dictionary\n",
    "    \n",
    "def max_letter(dictInput):\n",
    "    maxCount = 0\n",
    "    maxChar = \"\"\n",
    "    for key, value in dictInput.items():\n",
    "        if value > maxCount:\n",
    "            maxCount = value\n",
    "            maxChar = key\n",
    "    \n",
    "    return maxChar\n",
    "\n",
    "def comb_dict(dict1, dict2):\n",
    "    dictionary = dict(dict1)\n",
    "    for char, value in dict2.items():\n",
    "        if char in dictionary.keys():\n",
    "            dictionary[char] += value\n",
    "        else:\n",
    "            dictionary[char] = value\n",
    "    return dictionary\n",
    "    \n",
    "a = letter_dict('red apple')\n",
    "b = letter_dict('yellow banana')\n",
    "c = comb_dict(a, b)\n",
    "\n",
    "print(c)\n",
    "print(max_letter(c))"
   ]
  },
  {
   "cell_type": "markdown",
   "metadata": {},
   "source": [
    "### 과제 1 - prime.py\n",
    "#### 소수(Prime Number) 판단하는 함수 정의하기\n",
    "#### 소수이면, True 반환\n",
    "#### 소수가 아니면, False 반환"
   ]
  },
  {
   "cell_type": "code",
   "execution_count": 6,
   "metadata": {},
   "outputs": [
    {
     "name": "stdout",
     "output_type": "stream",
     "text": [
      "13는 소수입니다.\n",
      "15는 소수가 아닙니다.\n"
     ]
    }
   ],
   "source": [
    "def check_prime(num):\n",
    "    for i in range(2, num):\n",
    "        if num % i == 0:\n",
    "            return False\n",
    "    return True\n",
    "\n",
    "#memoization\n",
    "listPrime = [1]\n",
    "iPrimeMax = 1\n",
    "def check_prime_v2(num):\n",
    "    if num <= iPrimeMax:\n",
    "        \n",
    "    \n",
    "    for i in range(2, num):\n",
    "        if num % i == 0:\n",
    "            return False\n",
    "    return True\n",
    "    \n",
    "    \n",
    "def main():\n",
    "    a = 13\n",
    "    b = 15\n",
    "    \n",
    "    if check_prime(a):\n",
    "        print(str(a) + \"는 소수입니다.\")\n",
    "    else:\n",
    "        print(str(a) + \"는 소수가 아닙니다.\")\n",
    "    \n",
    "    if check_prime(b):\n",
    "        print(str(b) + \"는 소수입니다.\")\n",
    "    else:\n",
    "        print(str(b) + \"는 소수가 아닙니다.\")\n",
    "    \n",
    "main()"
   ]
  },
  {
   "cell_type": "markdown",
   "metadata": {},
   "source": [
    "### 과제 2 – add_comma.py\n",
    "#### 천 단위마다 쉼표(,) 추가하는 함수 정의하기\n",
    "#### 1000000(int)이면, ‘1,000,000’(str) 반환"
   ]
  },
  {
   "cell_type": "code",
   "execution_count": 121,
   "metadata": {},
   "outputs": [
    {
     "name": "stdout",
     "output_type": "stream",
     "text": [
      "1\n",
      "12\n",
      "123\n",
      "1,234\n",
      "12,345\n",
      "123,456\n",
      "1234,567\n",
      "1,2345,678\n"
     ]
    }
   ],
   "source": [
    "def add_comma(val):\n",
    "    strInput = str(val)\n",
    "    iCount = 1\n",
    "    temp  = [i for i in range(len(strInput), -1, -4)]\n",
    "    \n",
    "    for i in range(len(strInput), 0, -1):\n",
    "        if iCount % 4 == 0:\n",
    "            strInput = \"%s,%s\" % (strInput[:i], strInput[i:])\n",
    "        iCount += 1\n",
    "        \n",
    "    return strInput\n",
    "\n",
    "#string 연결 연산 줄인 버전\n",
    "def add_comma_v2(val):\n",
    "    strInput = str(val)\n",
    "    listComma = [len(strInput)]\n",
    "    listComma += [i for i in range(len(strInput) - 3, 0, -4)]\n",
    "    listComma += [0]\n",
    "    return ','.join([strInput[listComma[i]:listComma[i-1]] for i in range(len(listComma) - 1,0,-1)])\n",
    "\n",
    "def add_comma_v3(val):\n",
    "    strInput = str(val)\n",
    "    return ','.join([strInput[listComma[i]:listComma[i-1]] for i in range()])\n",
    "\n",
    "def main():\n",
    "    comma_added_1 = add_comma_v2(1)\n",
    "    comma_added_12 = add_comma_v2(12)\n",
    "    comma_added_123 = add_comma_v2(123)\n",
    "    comma_added_1234 = add_comma_v2(1234)\n",
    "    comma_added_12345 = add_comma_v2(12345)\n",
    "    comma_added_123456 = add_comma_v2(123456)\n",
    "    comma_added_1234567 = add_comma_v2(1234567)\n",
    "    comma_added_12345678 = add_comma_v2(12345678)\n",
    "    \n",
    "    print(comma_added_1)\n",
    "    print(comma_added_12)\n",
    "    print(comma_added_123)\n",
    "    print(comma_added_1234)\n",
    "    print(comma_added_12345)\n",
    "    print(comma_added_123456)\n",
    "    print(comma_added_1234567)\n",
    "    print(comma_added_12345678)\n",
    "    \n",
    "    \n",
    "main()"
   ]
  },
  {
   "cell_type": "markdown",
   "metadata": {},
   "source": [
    "### 과제 3 - tok.py\n",
    "#### 전달받은 단어열의 n-gram을 구해주는 tokenize() 함수 정의하기"
   ]
  },
  {
   "cell_type": "code",
   "execution_count": 56,
   "metadata": {},
   "outputs": [
    {
     "name": "stdout",
     "output_type": "stream",
     "text": [
      "['There', 'was', 'a', 'farmer', 'who', 'had', 'a', 'dog', '.']\n",
      "['There was', 'was a', 'a farmer', 'farmer who', 'who had', 'had a', 'a dog', 'dog .']\n"
     ]
    }
   ],
   "source": [
    "def tokenize(trg, N=1):\n",
    "    listWord = trg.split()\n",
    "    \n",
    "    result = list()\n",
    "    \n",
    "    for i in range(len(listWord) - N + 1):        \n",
    "        result.append(' '.join(listWord[i:i + N]))\n",
    "        \n",
    "    return result\n",
    "\n",
    "def main():\n",
    "    a = \"There was a farmer who had a dog .\"\n",
    "    print(tokenize(a))\n",
    "    print(tokenize(a, 2))\n",
    "    \n",
    "main()"
   ]
  },
  {
   "cell_type": "markdown",
   "metadata": {},
   "source": [
    "### 과제 4 - mean_and_var.py\n",
    "#### 여러 벡터를 전달받아, 평균(Mean)과 분산 (Variance)을 구하는 함수 정의하기"
   ]
  },
  {
   "cell_type": "code",
   "execution_count": 47,
   "metadata": {},
   "outputs": [
    {
     "name": "stdout",
     "output_type": "stream",
     "text": [
      "평균:  0.5\n",
      "분산:  0.16666666666666666\n"
     ]
    }
   ],
   "source": [
    "import numpy as np\n",
    "\n",
    "def mean_and_var(*val):\n",
    "    m = [0, 0]\n",
    "    v = [0, 0]\n",
    "    \n",
    "    total = [0 ,0]\n",
    "    \n",
    "    for item in val:\n",
    "        total[0] += item[0]\n",
    "        total[1] += item[1]\n",
    "            \n",
    "    m[0] = total[0] / len(val)\n",
    "    m[1] = total[1] / len(val)\n",
    "    \n",
    "    total = [0 ,0]\n",
    "    \n",
    "    for item in val:\n",
    "        total[0] += (item[0] - m[0]) ** 2\n",
    "        total[1] += (item[1] - m[1]) ** 2\n",
    "        \n",
    "    v[0] = total[0] / len(val)\n",
    "    v[1] = total[1] / len(val)\n",
    "        \n",
    "    return m, v\n",
    "\n",
    "def mean_and_var_v2(*val):\n",
    "    t = np.transpose(val)\n",
    "    return np.mean(t), np.var(t)\n",
    "    \n",
    "def main():\n",
    "    v1 = (0, 1)\n",
    "    v2 = (0.5, 0.5)\n",
    "    v3 = (1, 0)\n",
    "    m, var = mean_and_var_v2(v1, v2, v3)\n",
    "    print('평균: ', m)\n",
    "    print('분산: ', var)\n",
    "    \n",
    "main()"
   ]
  },
  {
   "cell_type": "markdown",
   "metadata": {},
   "source": [
    "### 실습1)\n",
    "#### 아래와 같이 주어진 2개의 리스트로 딕셔너리를 만들어 출력하시오. 단, 순서는 다를 수 있음"
   ]
  },
  {
   "cell_type": "code",
   "execution_count": 12,
   "metadata": {},
   "outputs": [
    {
     "name": "stdout",
     "output_type": "stream",
     "text": [
      "{'one': 1, 'two': 2, 'three': 3, 'four': 4}\n"
     ]
    }
   ],
   "source": [
    "L1 = ['one', 'two', 'three', 'four']\n",
    "L2 = [1, 2, 3, 4]\n",
    "\n",
    "dictData = dict(zip(L1, L2))\n",
    "print(dictData)"
   ]
  },
  {
   "cell_type": "code",
   "execution_count": null,
   "metadata": {},
   "outputs": [],
   "source": []
  }
 ],
 "metadata": {
  "kernelspec": {
   "display_name": "Python 3",
   "language": "python",
   "name": "python3"
  },
  "language_info": {
   "codemirror_mode": {
    "name": "ipython",
    "version": 3
   },
   "file_extension": ".py",
   "mimetype": "text/x-python",
   "name": "python",
   "nbconvert_exporter": "python",
   "pygments_lexer": "ipython3",
   "version": "3.8.3"
  }
 },
 "nbformat": 4,
 "nbformat_minor": 4
}

{
 "cells": [
  {
   "cell_type": "markdown",
   "metadata": {},
   "source": [
    "## 실습 6\n",
    "- 로또번호 6개 (1~45) 생성 출력"
   ]
  },
  {
   "cell_type": "code",
   "execution_count": 5,
   "metadata": {},
   "outputs": [
    {
     "name": "stdout",
     "output_type": "stream",
     "text": [
      " ** 추첨을 시작합니다. **\n",
      "추첨된 번호 => [44, 6, 1, 39, 27, 7]\n"
     ]
    }
   ],
   "source": [
    "import random\n",
    "\n",
    "print(\" ** 추첨을 시작합니다. **\")\n",
    "lotto = []\n",
    "for _ in range(6):\n",
    "    lotto.append(random.randint(1, 45))\n",
    "print(f\"추첨된 번호 => {lotto}\")"
   ]
  },
  {
   "cell_type": "markdown",
   "metadata": {},
   "source": [
    "## 실습 8"
   ]
  },
  {
   "cell_type": "code",
   "execution_count": 6,
   "metadata": {},
   "outputs": [
    {
     "name": "stdout",
     "output_type": "stream",
     "text": [
      "{'e': 3, 'p': 2, 'r': 1, ' ': 1, 'l': 1, 'd': 1, 'o': 1}\n",
      "None\n"
     ]
    }
   ],
   "source": [
    "def letter_dict(s):\n",
    "    d = dict()\n",
    "    for key in set(s):\n",
    "        d[key] = s.count(key)\n",
    "    return d\n",
    "\n",
    "def max_letter(d):\n",
    "    \n",
    "\n",
    "a = letter_dict('red people')\n",
    "print(a)\n",
    "print(max_letter(a))"
   ]
  },
  {
   "cell_type": "code",
   "execution_count": null,
   "metadata": {},
   "outputs": [],
   "source": []
  }
 ],
 "metadata": {
  "kernelspec": {
   "display_name": "Python 3",
   "language": "python",
   "name": "python3"
  },
  "language_info": {
   "codemirror_mode": {
    "name": "ipython",
    "version": 3
   },
   "file_extension": ".py",
   "mimetype": "text/x-python",
   "name": "python",
   "nbconvert_exporter": "python",
   "pygments_lexer": "ipython3",
   "version": "3.8.3"
  }
 },
 "nbformat": 4,
 "nbformat_minor": 4
}

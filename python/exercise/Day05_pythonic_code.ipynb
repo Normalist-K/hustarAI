{
 "cells": [
  {
   "cell_type": "markdown",
   "metadata": {},
   "source": [
    "# Pythonic Code\n",
    "- 파이썬 특유의 문법을 활용하여 효율적으로 코드를 표현\n",
    "    1. join()\n",
    "    2. split()\n",
    "    3. list comprehension\n",
    "    4. zip()\n",
    "    5. enumerate()"
   ]
  },
  {
   "cell_type": "markdown",
   "metadata": {},
   "source": [
    "## join()\n",
    "- 예) 여러 문자열을 하나로 이을 때"
   ]
  },
  {
   "cell_type": "code",
   "execution_count": 2,
   "metadata": {},
   "outputs": [
    {
     "name": "stdout",
     "output_type": "stream",
     "text": [
      "redgreenblue red green blue\n"
     ]
    }
   ],
   "source": [
    "colors = ['red', 'green', 'blue']\n",
    "result = ''\n",
    "\n",
    "# for 활용\n",
    "for word in colors:\n",
    "    result += word\n",
    "\n",
    "# Pythonic Code!!\n",
    "result2 = ' '.join(colors)\n",
    "\n",
    "print(result, result2)"
   ]
  },
  {
   "cell_type": "markdown",
   "metadata": {},
   "source": [
    "## split()"
   ]
  },
  {
   "cell_type": "code",
   "execution_count": 31,
   "metadata": {},
   "outputs": [
    {
     "name": "stdout",
     "output_type": "stream",
     "text": [
      "['1', '2', '3', '4', '5'] ['1', ' 2', ' 3', ' 4', ' 5']\n"
     ]
    }
   ],
   "source": [
    "sp = list(\"1 2 3 4 5\".split())\n",
    "sp2 = list(\"1, 2, 3, 4, 5\".split(','))\n",
    "print(sp, sp2)"
   ]
  },
  {
   "cell_type": "markdown",
   "metadata": {},
   "source": [
    "## list comprehension\n",
    "- 한 줄로 리스트를 생성하는 방법\n",
    "- [표현식 for 요소 in 시퀀스자료형 if 조건식]\n",
    "- 일반적으로 list comprehension이 for를 활용한 것보다 속도가 더 빠르다고 함"
   ]
  },
  {
   "cell_type": "code",
   "execution_count": 7,
   "metadata": {},
   "outputs": [
    {
     "name": "stdout",
     "output_type": "stream",
     "text": [
      "[1, 2, 3, 4, 5] [1, 2, 3, 4, 5] [2, 4] [1, 4, 9, 16, 25] [1, 2, 3, 4, 5, 2, 4, 6, 8, 10, 3, 6, 9, 12, 15, 4, 8, 12, 16, 20, 5, 10, 15, 20, 25]\n"
     ]
    }
   ],
   "source": [
    "# for 활용\n",
    "ls = []\n",
    "for i in range(1, 6):\n",
    "    ls.append(i)\n",
    "    \n",
    "# Pythonic Code!\n",
    "ls2 = [i for i in range(1, 6)]\n",
    "ls3 = [i for i in range(1, 6) if i % 2 == 0]\n",
    "ls4 = [i ** 2 for i in range(1, 6)]\n",
    "ls5 = [x * y for x in range(1, 6) for y in range(1, 6)] # 이중 for문\n",
    "# for x in range(1, 6):\n",
    "#     for y in range(1, 6):\n",
    "#         ls5.append(x * y)\n",
    "\n",
    "print(ls, ls2, ls3, ls4, ls5)"
   ]
  },
  {
   "cell_type": "code",
   "execution_count": 24,
   "metadata": {},
   "outputs": [
    {
     "name": "stdout",
     "output_type": "stream",
     "text": [
      "{'one': 1, 'two': 2, 'three': 3, 'four': 4}\n"
     ]
    }
   ],
   "source": [
    "# dict comprehension\n",
    "L1 = ['one', 'two', 'three', 'four']\n",
    "L2 = [1, 2, 3, 4]\n",
    "\n",
    "d = {key: value for key, value in zip(L1, L2)}\n",
    "print(d)"
   ]
  },
  {
   "cell_type": "code",
   "execution_count": 28,
   "metadata": {},
   "outputs": [
    {
     "name": "stdout",
     "output_type": "stream",
     "text": [
      "{(2, 5), (1, 4), (3, 6)} {10, 18, 4}\n"
     ]
    }
   ],
   "source": [
    "# set comprehension\n",
    "s = {x for x in list(zip([1, 2, 3], [4, 5, 6]))}\n",
    "s2 = {x*y for x, y in list(zip([1, 2, 3], [4, 5, 6]))}\n",
    "print(s, s2)"
   ]
  },
  {
   "cell_type": "markdown",
   "metadata": {},
   "source": [
    "## zip()"
   ]
  },
  {
   "cell_type": "code",
   "execution_count": 17,
   "metadata": {},
   "outputs": [
    {
     "name": "stdout",
     "output_type": "stream",
     "text": [
      "[(1, 4), (2, 5), (3, 6)] [(1, 4, 'a'), (2, 5, 'b'), (3, 6, 'c')] [(1, 4), (2, 5), (3, 6)]\n"
     ]
    }
   ],
   "source": [
    "zip1 = list(zip([1, 2, 3], [4, 5, 6]))\n",
    "zip2 = list(zip([1, 2, 3], [4, 5, 6], ['a', 'b', 'c']))\n",
    "zip3 = list(zip([1, 2, 3], [4, 5, 6, 7]))\n",
    "print(zip1, zip2, zip3)[1, 2, 3], [4, 5, 6]"
   ]
  },
  {
   "cell_type": "code",
   "execution_count": 19,
   "metadata": {},
   "outputs": [
    {
     "name": "stdout",
     "output_type": "stream",
     "text": [
      "[5, 7, 9]\n"
     ]
    }
   ],
   "source": [
    "zip4 = [sum(x) for x in zip([1, 2, 3], [4, 5, 6])]\n",
    "print(zip4)"
   ]
  },
  {
   "cell_type": "markdown",
   "metadata": {},
   "source": [
    "## enumerate()"
   ]
  },
  {
   "cell_type": "code",
   "execution_count": 13,
   "metadata": {},
   "outputs": [
    {
     "name": "stdout",
     "output_type": "stream",
     "text": [
      "[(0, 'red'), (1, 'green'), (2, 'blue')]\n",
      "0 red\n",
      "1 green\n",
      "2 blue\n"
     ]
    }
   ],
   "source": [
    "colors = ['red', 'green', 'blue']\n",
    "print(list(enumerate(colors)))\n",
    "\n",
    "for idx, color in enumerate(colors):\n",
    "    print(idx, color)"
   ]
  },
  {
   "cell_type": "code",
   "execution_count": null,
   "metadata": {},
   "outputs": [],
   "source": []
  },
  {
   "cell_type": "code",
   "execution_count": null,
   "metadata": {},
   "outputs": [],
   "source": []
  },
  {
   "cell_type": "code",
   "execution_count": null,
   "metadata": {},
   "outputs": [],
   "source": []
  }
 ],
 "metadata": {
  "kernelspec": {
   "display_name": "Python 3",
   "language": "python",
   "name": "python3"
  },
  "language_info": {
   "codemirror_mode": {
    "name": "ipython",
    "version": 3
   },
   "file_extension": ".py",
   "mimetype": "text/x-python",
   "name": "python",
   "nbconvert_exporter": "python",
   "pygments_lexer": "ipython3",
   "version": "3.8.3"
  }
 },
 "nbformat": 4,
 "nbformat_minor": 4
}

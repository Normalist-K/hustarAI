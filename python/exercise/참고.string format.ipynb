{
 "cells": [
  {
   "cell_type": "code",
   "execution_count": 1,
   "metadata": {},
   "outputs": [
    {
     "name": "stdout",
     "output_type": "stream",
     "text": [
      "150.370\n",
      "       312\n",
      "abc  |\n",
      " 150.370\n",
      "  150.37\n",
      "  abc\n",
      "00312\n",
      "0150.370\n",
      "31200\n",
      "312xx\n",
      "150.3700\n",
      "150.370-\n",
      "1,234,556\n"
     ]
    }
   ],
   "source": [
    "a = 150.37\n",
    "b = 312\n",
    "c = \"abc\"\n",
    "d = 1234556\n",
    "\n",
    "# 소수점 제어: '%.소수점자릿수f' % 숫자\n",
    "print(f\"{a:.3f}\")\n",
    "\n",
    "# 자릿수 제어: '%자릿수s' '%자릿수d'\n",
    "print(f\"{b:10d}\")\n",
    "print(f\"{c:5s}\", end=\"|\")\n",
    "print()\n",
    "\n",
    "# 자릿수 제어: float\n",
    "print(f\"{a:8.3f}\")\n",
    "print(f\"{a:8}\")\n",
    "\n",
    "# 오른쪽 정렬 (문자열: default 왼쪽정렬)\n",
    "print(f\"{c:>5s}\")\n",
    "\n",
    "# 채우기\n",
    "print(f\"{b:05d}\")\n",
    "print(f\"{a:08.3f}\")\n",
    "\n",
    "# 채우기와 정렬 조합\n",
    "print(f\"{b:0<5d}\")\n",
    "print(f\"{b:x<5d}\")\n",
    "print(f\"{a:0<8.3f}\")\n",
    "print(f\"{a:-<8.3f}\")\n",
    "\n",
    "# 숫자에 comma 넣기\n",
    "print(f\"{d:,}\")"
   ]
  },
  {
   "cell_type": "code",
   "execution_count": 2,
   "metadata": {},
   "outputs": [
    {
     "ename": "SyntaxError",
     "evalue": "invalid syntax (<ipython-input-2-03bfeb8e2ba1>, line 1)",
     "output_type": "error",
     "traceback": [
      "\u001b[0;36m  File \u001b[0;32m\"<ipython-input-2-03bfeb8e2ba1>\"\u001b[0;36m, line \u001b[0;32m1\u001b[0m\n\u001b[0;31m    print(f\"{\"ccc\":5s}\")\u001b[0m\n\u001b[0m                ^\u001b[0m\n\u001b[0;31mSyntaxError\u001b[0m\u001b[0;31m:\u001b[0m invalid syntax\n"
     ]
    }
   ],
   "source": []
  }
 ],
 "metadata": {
  "kernelspec": {
   "display_name": "Python 3",
   "language": "python",
   "name": "python3"
  },
  "language_info": {
   "codemirror_mode": {
    "name": "ipython",
    "version": 3
   },
   "file_extension": ".py",
   "mimetype": "text/x-python",
   "name": "python",
   "nbconvert_exporter": "python",
   "pygments_lexer": "ipython3",
   "version": "3.7.4"
  }
 },
 "nbformat": 4,
 "nbformat_minor": 4
}

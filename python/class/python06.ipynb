{
 "cells": [
  {
   "cell_type": "markdown",
   "metadata": {},
   "source": [
    "operator\n",
    "역참조 연산자\n",
    "array\n",
    "function\n",
    "string\n",
    "file open\n",
    "사용자 정의 자료형\n",
    "split\n",
    "swap\n",
    "list\n",
    "mutable\n",
    "global / local variable\n",
    "overloading\n",
    "module\n",
    "jumb statement\n",
    "structure\n",
    "for\n",
    "type conversion\n",
    "dynamic typing 동적 할당\n",
    "linked list\n",
    "infinity loop\n",
    "recursive function 재귀 함수\n",
    "call by reference\n",
    "tuple"
   ]
  },
  {
   "cell_type": "markdown",
   "metadata": {},
   "source": [
    "# < Quiz 준비 >\n",
    "\n",
    "## computational thinking\n",
    "- abstract\n",
    "- \n",
    "\n",
    "## ASCII Code\n",
    "\n",
    "## Data type\n",
    "- basic data type\n",
    "    - int\n",
    "    - float\n",
    "    - character\n",
    "- 사용자 정의 자료형\n",
    "\n",
    "- data 영역 함수영역 따로\n",
    "    - call by value\n",
    "    - call by reference\n",
    "    - 결국엔 call by value\n",
    "    \n",
    "## Operator\n",
    "- 산술\n",
    "- 관계\n",
    "- 논리\n",
    "- operator overloading 으로 다양한 연산자 만듦\n",
    "\n",
    "## Control \n",
    "- 조건\n",
    "- 반복\n",
    "- jump statement\n",
    "\n",
    "## Data structur\n",
    "\n",
    "## Object-Oriented Programming\n",
    "- object란?\n",
    "    - 사전적 정의\n",
    "    - 프로그래밍에서의 정의\n",
    "        - 객체: 속성과 행동으로 이루어진 \n",
    "            - 객체를 생성하는 순간에 데이터 뿐만 아니라 행동(기능, 함수)도 함께 묶어서 생성하자\n",
    "        - 숫자와 같은 데이터로 표현할 수 있는 것: 나이, 전화번호\n",
    "        - 기능으로 표현할 수 있는 것: 공부하다, 운전하다\n",
    "- \n"
   ]
  },
  {
   "cell_type": "code",
   "execution_count": 1,
   "metadata": {},
   "outputs": [],
   "source": [
    "d = {'a': 1, 2: 'b'}"
   ]
  },
  {
   "cell_type": "code",
   "execution_count": 2,
   "metadata": {},
   "outputs": [
    {
     "data": {
      "text/plain": [
       "{'a': 1, 2: 'b'}"
      ]
     },
     "execution_count": 2,
     "metadata": {},
     "output_type": "execute_result"
    }
   ],
   "source": [
    "d"
   ]
  },
  {
   "cell_type": "markdown",
   "metadata": {},
   "source": [
    "# Python Object Oriented Programming\n",
    "\n"
   ]
  },
  {
   "cell_type": "code",
   "execution_count": null,
   "metadata": {},
   "outputs": [],
   "source": []
  },
  {
   "cell_type": "code",
   "execution_count": null,
   "metadata": {},
   "outputs": [],
   "source": []
  },
  {
   "cell_type": "code",
   "execution_count": null,
   "metadata": {},
   "outputs": [],
   "source": []
  },
  {
   "cell_type": "code",
   "execution_count": null,
   "metadata": {},
   "outputs": [],
   "source": []
  },
  {
   "cell_type": "code",
   "execution_count": null,
   "metadata": {},
   "outputs": [],
   "source": []
  },
  {
   "cell_type": "code",
   "execution_count": null,
   "metadata": {},
   "outputs": [],
   "source": []
  },
  {
   "cell_type": "code",
   "execution_count": null,
   "metadata": {},
   "outputs": [],
   "source": []
  },
  {
   "cell_type": "code",
   "execution_count": null,
   "metadata": {},
   "outputs": [],
   "source": []
  },
  {
   "cell_type": "code",
   "execution_count": null,
   "metadata": {},
   "outputs": [],
   "source": []
  },
  {
   "cell_type": "code",
   "execution_count": null,
   "metadata": {},
   "outputs": [],
   "source": []
  },
  {
   "cell_type": "code",
   "execution_count": null,
   "metadata": {},
   "outputs": [],
   "source": []
  },
  {
   "cell_type": "code",
   "execution_count": null,
   "metadata": {},
   "outputs": [],
   "source": []
  },
  {
   "cell_type": "code",
   "execution_count": null,
   "metadata": {},
   "outputs": [],
   "source": []
  },
  {
   "cell_type": "code",
   "execution_count": null,
   "metadata": {},
   "outputs": [],
   "source": []
  }
 ],
 "metadata": {
  "kernelspec": {
   "display_name": "Python 3",
   "language": "python",
   "name": "python3"
  },
  "language_info": {
   "codemirror_mode": {
    "name": "ipython",
    "version": 3
   },
   "file_extension": ".py",
   "mimetype": "text/x-python",
   "name": "python",
   "nbconvert_exporter": "python",
   "pygments_lexer": "ipython3",
   "version": "3.8.3"
  }
 },
 "nbformat": 4,
 "nbformat_minor": 4
}

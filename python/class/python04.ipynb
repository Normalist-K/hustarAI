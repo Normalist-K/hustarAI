{
 "cells": [
  {
   "cell_type": "markdown",
   "metadata": {},
   "source": [
    "## 참고. 프로젝트 주제\n",
    "\n",
    "### AWS DeepRacer와 Amazon SageMaker RL로 강화학습 시작하기\n",
    "- [유튜브 링크](https://youtu.be/3Q6ZlqSrBks)\n",
    "\n",
    "### 기업별 주가를 활용한 기사 감성 분석 서비스\n",
    "- 오늘 신문 기사가 내일 주식의 등락에 영향을 미친다는 가설을 가지고 주식 등락 예측\n",
    "- 기사의 수: 동일한 기사는 하나로 생각할 지, 동일 기사 수도 모델에 인풋으로 줄지\n",
    "- 기사의 맥락: RNN, LSTM -> 맥락은 빠짐\n",
    "- 모바일 앱: 기업 입력 하면 내일 주가 예측 출력\n",
    "- 5년치 기사를 모아서, 그 다음날 주가가 오른 기사에는 1, 내렸으면 0으로 라벨링해서 해당 기사에 자주 나오는 단어를 학습\n",
    "\n",
    "<목차>\n",
    "1. 서비스\n",
    "  - 관련 연구, 관련 서비스, 시연\n",
    "  - 사용 도구\n",
    "    - 사용 언어, 사용 툴, 개발 환경, 사용 라이브러리, 사용 모델\n",
    "  - 서비스 사이클\n",
    " \n",
    " \n",
    "2. 배경 / 동기\n",
    "\n",
    "\n",
    "3. 기존 서비스 및 관련 연구\n",
    "  - 데이터 수집, 데이터 정제\n",
    "  \n",
    "  \n",
    "4. 전처리\n",
    "  - 데이터 수집, 데이터 정제\n",
    "  \n",
    "  \n",
    "5. 모델\n",
    "  - CNN, LIME\n",
    "\n",
    "  \n",
    "6. 기타\n",
    "  - 기대효과, 한계점, 진행 일정, 소스코드"
   ]
  },
  {
   "cell_type": "markdown",
   "metadata": {},
   "source": [
    "# Operators (중요)\n",
    "- operator를 기준으로 양 옆의 operand는 같아야 함\n",
    "    - 다르다면?\n",
    "        - 작은거에서 큰 거로. 정수 -> 실수\n",
    "        - implicit type conversion\n",
    "        - explicit type conversion"
   ]
  },
  {
   "cell_type": "code",
   "execution_count": 9,
   "metadata": {},
   "outputs": [],
   "source": [
    "def year(n):\n",
    "    if ((n % 4 == 0) and (n % 100 != 0)) or (n % 400 == 0):\n",
    "        print(\"윤년\")\n",
    "    else:\n",
    "        print(\"평년\")"
   ]
  },
  {
   "cell_type": "code",
   "execution_count": 10,
   "metadata": {},
   "outputs": [
    {
     "name": "stdout",
     "output_type": "stream",
     "text": [
      "평년\n"
     ]
    }
   ],
   "source": [
    "year(100)"
   ]
  },
  {
   "cell_type": "code",
   "execution_count": 11,
   "metadata": {},
   "outputs": [
    {
     "name": "stdout",
     "output_type": "stream",
     "text": [
      "윤년\n"
     ]
    }
   ],
   "source": [
    "year(400)"
   ]
  },
  {
   "cell_type": "code",
   "execution_count": 12,
   "metadata": {},
   "outputs": [
    {
     "name": "stdout",
     "output_type": "stream",
     "text": [
      "평년\n"
     ]
    }
   ],
   "source": [
    "year(300)"
   ]
  },
  {
   "cell_type": "code",
   "execution_count": 13,
   "metadata": {},
   "outputs": [
    {
     "name": "stdout",
     "output_type": "stream",
     "text": [
      "평년\n"
     ]
    }
   ],
   "source": [
    "year(150)"
   ]
  },
  {
   "cell_type": "code",
   "execution_count": 14,
   "metadata": {},
   "outputs": [
    {
     "name": "stdout",
     "output_type": "stream",
     "text": [
      "윤년\n"
     ]
    }
   ],
   "source": [
    "year(4)"
   ]
  },
  {
   "cell_type": "code",
   "execution_count": null,
   "metadata": {},
   "outputs": [],
   "source": []
  },
  {
   "cell_type": "code",
   "execution_count": null,
   "metadata": {},
   "outputs": [],
   "source": []
  },
  {
   "cell_type": "code",
   "execution_count": null,
   "metadata": {},
   "outputs": [],
   "source": []
  },
  {
   "cell_type": "code",
   "execution_count": null,
   "metadata": {},
   "outputs": [],
   "source": []
  },
  {
   "cell_type": "code",
   "execution_count": null,
   "metadata": {},
   "outputs": [],
   "source": []
  },
  {
   "cell_type": "code",
   "execution_count": null,
   "metadata": {},
   "outputs": [],
   "source": []
  },
  {
   "cell_type": "code",
   "execution_count": null,
   "metadata": {},
   "outputs": [],
   "source": []
  },
  {
   "cell_type": "code",
   "execution_count": null,
   "metadata": {},
   "outputs": [],
   "source": []
  },
  {
   "cell_type": "code",
   "execution_count": null,
   "metadata": {},
   "outputs": [],
   "source": []
  },
  {
   "cell_type": "code",
   "execution_count": null,
   "metadata": {},
   "outputs": [],
   "source": []
  },
  {
   "cell_type": "code",
   "execution_count": null,
   "metadata": {},
   "outputs": [],
   "source": []
  },
  {
   "cell_type": "code",
   "execution_count": null,
   "metadata": {},
   "outputs": [],
   "source": []
  },
  {
   "cell_type": "code",
   "execution_count": null,
   "metadata": {},
   "outputs": [],
   "source": []
  },
  {
   "cell_type": "code",
   "execution_count": null,
   "metadata": {},
   "outputs": [],
   "source": []
  },
  {
   "cell_type": "code",
   "execution_count": null,
   "metadata": {},
   "outputs": [],
   "source": []
  }
 ],
 "metadata": {
  "kernelspec": {
   "display_name": "Python 3",
   "language": "python",
   "name": "python3"
  },
  "language_info": {
   "codemirror_mode": {
    "name": "ipython",
    "version": 3
   },
   "file_extension": ".py",
   "mimetype": "text/x-python",
   "name": "python",
   "nbconvert_exporter": "python",
   "pygments_lexer": "ipython3",
   "version": "3.8.3"
  }
 },
 "nbformat": 4,
 "nbformat_minor": 4
}

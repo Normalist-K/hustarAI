{
 "cells": [
  {
   "cell_type": "markdown",
   "metadata": {},
   "source": [
    "## 참고. 보고서 작성 요령\n",
    "- 입력/출력\n",
    "- 알고리즘(수도코드)\n",
    "- 플로우차트\n",
    "- 프로그램 코드 // **+ 설명**\n",
    "- 실제 결과\n",
    "- 토론\n",
    "- 결론"
   ]
  },
  {
   "cell_type": "markdown",
   "metadata": {},
   "source": [
    "# Input and Output, Console I/O\n",
    "\n",
    "## outline\n",
    "- 입력 함수: input()\n",
    "- 출력 함수: print()\n",
    "- 입출력 함수 실습\n",
    "- list\n",
    "  - in C programming\n",
    "    - array\n",
    "    - linked list\n",
    "  - python\n",
    "    - list: 자주 사용하는 데이터 구조(data structure)를 기본으로 제공\n",
    "- stack & que"
   ]
  },
  {
   "cell_type": "markdown",
   "metadata": {},
   "source": [
    "# Function & Module\n",
    "\n",
    "## outline\n",
    "- 함수 개념\n",
    "- 함수 호출 방법\n",
    "  - call by value\n",
    "  - call by reference\n"
   ]
  }
 ],
 "metadata": {
  "kernelspec": {
   "display_name": "Python 3",
   "language": "python",
   "name": "python3"
  },
  "language_info": {
   "codemirror_mode": {
    "name": "ipython",
    "version": 3
   },
   "file_extension": ".py",
   "mimetype": "text/x-python",
   "name": "python",
   "nbconvert_exporter": "python",
   "pygments_lexer": "ipython3",
   "version": "3.8.3"
  }
 },
 "nbformat": 4,
 "nbformat_minor": 4
}

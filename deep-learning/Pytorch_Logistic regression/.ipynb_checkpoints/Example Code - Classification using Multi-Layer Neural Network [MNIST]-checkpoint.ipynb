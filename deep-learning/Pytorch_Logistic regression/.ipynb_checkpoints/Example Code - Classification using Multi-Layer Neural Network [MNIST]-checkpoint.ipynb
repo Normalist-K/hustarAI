{
 "cells": [
  {
   "cell_type": "markdown",
   "metadata": {
    "slideshow": {
     "slide_type": "slide"
    }
   },
   "source": [
    "# Classification using Multi-Layer Neural Network (For Mnist)"
   ]
  },
  {
   "cell_type": "markdown",
   "metadata": {
    "slideshow": {
     "slide_type": "slide"
    }
   },
   "source": [
    "# Library"
   ]
  },
  {
   "cell_type": "code",
   "execution_count": 7,
   "metadata": {
    "ExecuteTime": {
     "end_time": "2020-09-25T06:44:40.524279Z",
     "start_time": "2020-09-25T06:44:40.510451Z"
    },
    "slideshow": {
     "slide_type": "-"
    }
   },
   "outputs": [
    {
     "name": "stdout",
     "output_type": "stream",
     "text": [
      "device: gpu\n"
     ]
    }
   ],
   "source": [
    "import torch\n",
    "import torch.nn as nn\n",
    "import torch.optim as optim\n",
    "import torch.nn.init as init\n",
    "import torchvision.datasets as dataset\n",
    "import torchvision.transforms as transforms\n",
    "from torch.utils.data import DataLoader\n",
    "\n",
    "import numpy as np\n",
    "from matplotlib import pyplot as plt\n",
    "\n",
    "device = torch.device(\"cuda:0\" if torch.cuda.is_available() else \"cpu\")\n",
    "\n",
    "print(\"device: gpu\") if torch.cuda.is_available() else print(\"device: cpu\")"
   ]
  },
  {
   "cell_type": "markdown",
   "metadata": {
    "slideshow": {
     "slide_type": "slide"
    }
   },
   "source": [
    "# Hyper parameter setting"
   ]
  },
  {
   "cell_type": "code",
   "execution_count": 9,
   "metadata": {
    "ExecuteTime": {
     "end_time": "2020-09-25T06:49:18.267696Z",
     "start_time": "2020-09-25T06:49:18.260742Z"
    },
    "slideshow": {
     "slide_type": "-"
    }
   },
   "outputs": [],
   "source": [
    "# hypter parameter setting\n",
    "learning_rate = 1e-1\n",
    "epochs = 25\n",
    "# batch_size = 60000 # gradient descent\n",
    "# batch_size = 1 # stochastic gradient descent\n",
    "batch_size = 32 # mini-batch stochastic gradient descent, normally 2^n\n",
    "act = nn.ReLU()\n",
    "h = 200\n",
    "display_step = 5"
   ]
  },
  {
   "cell_type": "markdown",
   "metadata": {
    "slideshow": {
     "slide_type": "slide"
    }
   },
   "source": [
    "# Load data and pre-process data "
   ]
  },
  {
   "cell_type": "code",
   "execution_count": 10,
   "metadata": {
    "ExecuteTime": {
     "end_time": "2020-09-25T06:49:21.795218Z",
     "start_time": "2020-09-25T06:49:21.403134Z"
    },
    "slideshow": {
     "slide_type": "-"
    }
   },
   "outputs": [
    {
     "name": "stdout",
     "output_type": "stream",
     "text": [
      "len(train_data):  60000\n",
      "len(test_data):  10000\n",
      "original data shape:  torch.Size([1, 28, 28])\n",
      "label:  5\n"
     ]
    },
    {
     "data": {
      "image/png": "[encoded data removed]",
      "text/plain": [
       "<Figure size 432x288 with 1 Axes>"
      ]
     },
     "metadata": {
      "needs_background": "light"
     },
     "output_type": "display_data"
    },
    {
     "name": "stdout",
     "output_type": "stream",
     "text": [
      "processed data shape: torch.Size([32, 1, 28, 28])\n",
      "label: tensor([8, 3, 1, 0, 1, 9, 1, 4, 2, 7, 7, 6, 1, 5, 8, 7, 6, 9, 7, 8, 6, 6, 5, 0,\n",
      "        9, 9, 2, 6, 9, 4, 8, 5])\n"
     ]
    },
    {
     "data": {
      "image/png": "[encoded data removed]",
      "text/plain": [
       "<Figure size 432x288 with 1 Axes>"
      ]
     },
     "metadata": {
      "needs_background": "light"
     },
     "output_type": "display_data"
    }
   ],
   "source": [
    "# load data\n",
    "train_data = dataset.MNIST(\"./\",\n",
    "                           train = True,\n",
    "                           transform = transforms.ToTensor(), # tensor로 자동 변경\n",
    "                           target_transform = None, # one-hot encoding 할지 말지\n",
    "                           download = True)\n",
    "test_data = dataset.MNIST(\"./\",\n",
    "                          train = False,\n",
    "                          transform = transforms.ToTensor(),\n",
    "                          target_transform = None,\n",
    "                          download = True)\n",
    "\n",
    "# check the data\n",
    "print('len(train_data): ', len(train_data))\n",
    "print('len(test_data): ', len(test_data))\n",
    "\n",
    "x_train, y_train = train_data[0]\n",
    "print('original data shape: ', x_train.shape)\n",
    "print('label: ', y_train)\n",
    "\n",
    "plt.figure()\n",
    "plt.imshow(x_train[0])\n",
    "plt.show()\n",
    "\n",
    "# Pre-process (batch, shuffle)\n",
    "train_loader = torch.utils.data.DataLoader(train_data,\n",
    "                                           batch_size = batch_size,\n",
    "                                           shuffle = True,\n",
    "                                           num_workers = 1,\n",
    "                                           drop_last = True)\n",
    "test_loader = torch.utils.data.DataLoader(test_data,\n",
    "                                          batch_size = 1000,\n",
    "                                          shuffle = True,\n",
    "                                          num_workers = 1,\n",
    "                                          drop_last = True)\n",
    "\n",
    "# check the data - one of mini batch\n",
    "examples = enumerate(train_loader)\n",
    "batch_idx, (example_data, example_target) = next(examples)\n",
    "\n",
    "print('processed data shape:', example_data.shape)\n",
    "print('label:', example_target)\n",
    "\n",
    "plt.figure()\n",
    "plt.imshow(example_data[0][0])\n",
    "plt.show()"
   ]
  },
  {
   "cell_type": "markdown",
   "metadata": {
    "slideshow": {
     "slide_type": "slide"
    }
   },
   "source": [
    "# Classification using Multi-Layer Neural Network"
   ]
  },
  {
   "cell_type": "markdown",
   "metadata": {},
   "source": [
    "## Train and result (with mini-batch stochastic gradient descent)"
   ]
  },
  {
   "cell_type": "code",
   "execution_count": 15,
   "metadata": {
    "ExecuteTime": {
     "end_time": "2020-09-25T07:18:30.566144Z",
     "start_time": "2020-09-25T07:14:51.407229Z"
    }
   },
   "outputs": [
    {
     "name": "stdout",
     "output_type": "stream",
     "text": [
      "Epoch: 1 \\Loss: tensor(0.9026, device='cuda:0', grad_fn=<NllLossBackward>)\n",
      "Epoch: 6 \\Loss: tensor(0.0984, device='cuda:0', grad_fn=<NllLossBackward>)\n",
      "Epoch: 11 \\Loss: tensor(0.0371, device='cuda:0', grad_fn=<NllLossBackward>)\n",
      "Epoch: 16 \\Loss: tensor(0.0053, device='cuda:0', grad_fn=<NllLossBackward>)\n",
      "Epoch: 21 \\Loss: tensor(0.0072, device='cuda:0', grad_fn=<NllLossBackward>)\n"
     ]
    }
   ],
   "source": [
    "# model\n",
    "model = nn.Sequential(\n",
    "        nn.Linear(np.prod(x_train.shape[1:]),h), # = nn.Linear(784, h) / np.prod : product of elements\n",
    "        act,\n",
    "        nn.Linear(h,10),\n",
    "        )\n",
    "\n",
    "model = model.to(device)\n",
    "model.train()\n",
    "\n",
    "# loss and optimizer\n",
    "loss_function = nn.CrossEntropyLoss()\n",
    "optimizer = optim.SGD(model.parameters(), lr = learning_rate)\n",
    "\n",
    "loss_array = []\n",
    "iteration_loss_array = []\n",
    "\n",
    "# train the model\n",
    "for epoch in range(epochs):\n",
    "    for iteration, [data, label] in enumerate(train_loader):\n",
    "        optimizer.zero_grad()\n",
    "        \n",
    "        x = data.to(device)\n",
    "        x = x.view(batch_size, -1) # view = reshape of np\n",
    "        y = label.to(device)\n",
    "        \n",
    "        output = model(x)\n",
    "        loss = loss_function(output, y)\n",
    "        \n",
    "        loss.backward()\n",
    "        optimizer.step()\n",
    "        \n",
    "        iteration_loss_array.append(loss.cpu().detach().numpy())\n",
    "            \n",
    "    loss_array.append(loss.cpu().detach().numpy())\n",
    "    \n",
    "    if epoch % 5 == 0:\n",
    "        print(\"Epoch:\", epoch + 1, \"\\Loss:\", loss)"
   ]
  },
  {
   "cell_type": "code",
   "execution_count": 16,
   "metadata": {
    "ExecuteTime": {
     "end_time": "2020-09-25T07:18:39.769408Z",
     "start_time": "2020-09-25T07:18:39.507417Z"
    }
   },
   "outputs": [
    {
     "data": {
      "image/png": "[encoded data removed]",
      "text/plain": [
       "<Figure size 432x288 with 1 Axes>"
      ]
     },
     "metadata": {
      "needs_background": "light"
     },
     "output_type": "display_data"
    },
    {
     "data": {
      "image/png": "[encoded data removed]",
      "text/plain": [
       "<Figure size 432x288 with 1 Axes>"
      ]
     },
     "metadata": {
      "needs_background": "light"
     },
     "output_type": "display_data"
    }
   ],
   "source": [
    "# plot losses\n",
    "plt.figure()\n",
    "plt.plot(loss_array)\n",
    "plt.show()\n",
    "# plot iteration losses\n",
    "plt.figure()\n",
    "plt.plot(iteration_loss_array)\n",
    "plt.show()"
   ]
  },
  {
   "cell_type": "code",
   "execution_count": 17,
   "metadata": {
    "ExecuteTime": {
     "end_time": "2020-09-25T07:31:59.984954Z",
     "start_time": "2020-09-25T07:31:59.104753Z"
    }
   },
   "outputs": [
    {
     "name": "stdout",
     "output_type": "stream",
     "text": [
      "total 10000\n",
      "correct tensor(9821., device='cuda:0')\n",
      "accuracy tensor(0.9821, device='cuda:0')\n"
     ]
    }
   ],
   "source": [
    "# test\n",
    "model.eval()\n",
    "test_loader = torch.utils.data.DataLoader(test_data, batch_size = 10000, shuffle = True, num_workers = 1, drop_last = True)\n",
    "correct = 0\n",
    "total = 0\n",
    "\n",
    "prediction_list = []\n",
    "label_list = []\n",
    "\n",
    "with torch.no_grad():\n",
    "    for data, label in test_loader:\n",
    "        x = data.to(device)\n",
    "        x = x.view(-1, 784)\n",
    "        y = label.to(device)\n",
    "        \n",
    "        prediction = model(x)\n",
    "        _, prediction_index = torch.max(prediction, 1) # values, indices\n",
    "                \n",
    "        prediction_list.append(prediction_index)\n",
    "        label_list.append(y)\n",
    "        \n",
    "        total += y.size(0)\n",
    "        correct += (prediction_index == y).sum().float()\n",
    "        \n",
    "print('total', total)\n",
    "print('correct', correct)\n",
    "print('accuracy', correct/total)"
   ]
  },
  {
   "cell_type": "code",
   "execution_count": 18,
   "metadata": {
    "ExecuteTime": {
     "end_time": "2020-09-25T07:32:06.162551Z",
     "start_time": "2020-09-25T07:32:05.826059Z"
    }
   },
   "outputs": [
    {
     "name": "stdout",
     "output_type": "stream",
     "text": [
      "prediction : (10000,)\n",
      "true label : (10000,)\n"
     ]
    },
    {
     "data": {
      "text/plain": [
       "array([[ 970,    1,    1,    0,    2,    0,    3,    1,    1,    1],\n",
       "       [   0, 1126,    3,    0,    0,    1,    2,    1,    2,    0],\n",
       "       [   4,    2, 1010,    2,    5,    0,    2,    1,    6,    0],\n",
       "       [   0,    0,    5,  989,    0,    4,    0,    2,    2,    8],\n",
       "       [   1,    0,    2,    1,  968,    0,    3,    2,    0,    5],\n",
       "       [   3,    0,    0,    6,    1,  871,    3,    2,    4,    2],\n",
       "       [   5,    3,    1,    1,    4,    2,  942,    0,    0,    0],\n",
       "       [   0,    3,    7,    1,    0,    1,    0, 1010,    4,    2],\n",
       "       [   4,    0,    4,    3,    2,    1,    2,    4,  952,    2],\n",
       "       [   1,    3,    0,    4,    9,    1,    1,    4,    3,  983]])"
      ]
     },
     "execution_count": 18,
     "metadata": {},
     "output_type": "execute_result"
    }
   ],
   "source": [
    "# confusion matrix\n",
    "from sklearn.metrics import confusion_matrix\n",
    "import numpy as np\n",
    "    \n",
    "prediction_array = np.array(prediction_list[0].cpu())\n",
    "label_array = np.array(label_list[0].cpu())\n",
    "\n",
    "print(\"prediction :\", prediction_array.shape)\n",
    "print(\"true label :\", label_array.shape)\n",
    "\n",
    "confusion_matrix(\n",
    "    label_array,\n",
    "    prediction_array) # y_pred"
   ]
  },
  {
   "cell_type": "markdown",
   "metadata": {},
   "source": [
    "## Advanced: Weight initialization"
   ]
  },
  {
   "cell_type": "code",
   "execution_count": 21,
   "metadata": {
    "ExecuteTime": {
     "end_time": "2020-09-25T07:42:19.854591Z",
     "start_time": "2020-09-25T07:42:19.846770Z"
    }
   },
   "outputs": [],
   "source": [
    "# hypter parameter setting\n",
    "learning_rate = 1e-1\n",
    "epochs = 25\n",
    "# batch_size = 60000 # gradient descent\n",
    "# batch_size = 1 # stochastic gradient descent\n",
    "batch_size = 32 # mini-batch stochastic gradient descent, normally 2^n\n",
    "act = nn.ReLU()\n",
    "act2 = nn.Sigmoid()\n",
    "h = 200\n",
    "h2 = 500\n",
    "display_step = 5"
   ]
  },
  {
   "cell_type": "code",
   "execution_count": 29,
   "metadata": {
    "ExecuteTime": {
     "end_time": "2020-09-25T08:09:15.284894Z",
     "start_time": "2020-09-25T08:05:25.134477Z"
    }
   },
   "outputs": [
    {
     "name": "stdout",
     "output_type": "stream",
     "text": [
      "Epoch: 1 \\Loss: tensor(0.2552, device='cuda:0', grad_fn=<NllLossBackward>)\n",
      "Epoch: 6 \\Loss: tensor(0.0016, device='cuda:0', grad_fn=<NllLossBackward>)\n",
      "Epoch: 11 \\Loss: tensor(0.0114, device='cuda:0', grad_fn=<NllLossBackward>)\n",
      "Epoch: 16 \\Loss: tensor(0.0203, device='cuda:0', grad_fn=<NllLossBackward>)\n",
      "Epoch: 21 \\Loss: tensor(0.0179, device='cuda:0', grad_fn=<NllLossBackward>)\n"
     ]
    }
   ],
   "source": [
    "def init_weights(m):\n",
    "    if type(m) == nn.Linear:\n",
    "        init.xavier_uniform_(m.weight)\n",
    "        m.bias.data.fill_(0.01)\n",
    "\n",
    "\n",
    "# model\n",
    "model = nn.Sequential(\n",
    "        nn.Linear(np.prod(x_train.shape[1:]),h),\n",
    "        act,\n",
    "        nn.Linear(h, 10)\n",
    ")\n",
    "\n",
    "model.apply(init_weights)\n",
    "model = model.to(device)\n",
    "model.train()\n",
    "\n",
    "\n",
    "# loss and optimizer\n",
    "loss_function = nn.CrossEntropyLoss()\n",
    "optimizer = optim.SGD(model.parameters(), lr = learning_rate)\n",
    "\n",
    "loss_array = []\n",
    "iteration_loss_array = []\n",
    "\n",
    "# train the model\n",
    "for epoch in range(epochs):\n",
    "    for iteration, [data, label] in enumerate(train_loader):\n",
    "        optimizer.zero_grad()\n",
    "        \n",
    "        x = data.to(device)\n",
    "        x = x.view(batch_size, -1)\n",
    "        y = label.to(device)\n",
    "        \n",
    "        output = model(x)\n",
    "\n",
    "        loss = loss_function(output, y)\n",
    "        loss.backward()\n",
    "        optimizer.step()\n",
    "        iteration_loss_array.append(loss.cpu().detach().numpy())\n",
    "            \n",
    "    loss_array.append(loss.cpu().detach().numpy())\n",
    "    \n",
    "    if epoch % 5 == 0:\n",
    "        print(\"Epoch:\", epoch + 1, \"\\Loss:\", loss)"
   ]
  },
  {
   "cell_type": "code",
   "execution_count": 23,
   "metadata": {
    "ExecuteTime": {
     "end_time": "2020-09-25T07:47:06.352737Z",
     "start_time": "2020-09-25T07:47:06.090606Z"
    }
   },
   "outputs": [
    {
     "data": {
      "image/png": "[encoded data removed]",
      "text/plain": [
       "<Figure size 432x288 with 1 Axes>"
      ]
     },
     "metadata": {
      "needs_background": "light"
     },
     "output_type": "display_data"
    },
    {
     "data": {
      "image/png": "[encoded data removed]",
      "text/plain": [
       "<Figure size 432x288 with 1 Axes>"
      ]
     },
     "metadata": {
      "needs_background": "light"
     },
     "output_type": "display_data"
    }
   ],
   "source": [
    "# plot losses\n",
    "plt.figure()\n",
    "plt.plot(loss_array)\n",
    "plt.show()\n",
    "# plot iteration losses\n",
    "plt.figure()\n",
    "plt.plot(iteration_loss_array)\n",
    "plt.show()"
   ]
  },
  {
   "cell_type": "code",
   "execution_count": 24,
   "metadata": {
    "ExecuteTime": {
     "end_time": "2020-09-25T07:47:10.802872Z",
     "start_time": "2020-09-25T07:47:09.925125Z"
    }
   },
   "outputs": [
    {
     "name": "stdout",
     "output_type": "stream",
     "text": [
      "total 10000\n",
      "correct tensor(9821., device='cuda:0')\n",
      "accuracy tensor(0.9821, device='cuda:0')\n"
     ]
    }
   ],
   "source": [
    "# test\n",
    "model.eval()\n",
    "test_loader = torch.utils.data.DataLoader(test_data, batch_size = 10000, shuffle = True, num_workers = 1, drop_last = True)\n",
    "correct = 0\n",
    "total = 0\n",
    "\n",
    "prediction_list = []\n",
    "label_list = []\n",
    "\n",
    "with torch.no_grad():\n",
    "    for data, label in test_loader:\n",
    "        x = data.to(device)\n",
    "        x = x.view(-1, 784)\n",
    "        y = label.to(device)\n",
    "        \n",
    "        prediction = model(x)\n",
    "        _, prediction_index = torch.max(prediction, 1)\n",
    "                \n",
    "        prediction_list.append(prediction_index)\n",
    "        label_list.append(y)\n",
    "        \n",
    "        total += y.size(0)\n",
    "        correct += (prediction_index == y).sum().float()\n",
    "        \n",
    "print('total', total)\n",
    "print('correct', correct)\n",
    "print('accuracy', correct/total)"
   ]
  },
  {
   "cell_type": "code",
   "execution_count": 25,
   "metadata": {
    "ExecuteTime": {
     "end_time": "2020-09-25T07:47:14.586066Z",
     "start_time": "2020-09-25T07:47:14.545277Z"
    }
   },
   "outputs": [
    {
     "name": "stdout",
     "output_type": "stream",
     "text": [
      "prediction : (10000,)\n",
      "true label : (10000,)\n"
     ]
    },
    {
     "data": {
      "text/plain": [
       "array([[ 969,    0,    2,    0,    1,    1,    3,    1,    2,    1],\n",
       "       [   0, 1128,    1,    0,    0,    1,    2,    0,    3,    0],\n",
       "       [   2,    2, 1014,    3,    2,    0,    2,    3,    4,    0],\n",
       "       [   0,    0,    4,  995,    0,    3,    0,    5,    2,    1],\n",
       "       [   0,    0,    2,    0,  966,    0,    5,    2,    0,    7],\n",
       "       [   2,    0,    0,    7,    1,  871,    5,    1,    3,    2],\n",
       "       [   3,    3,    1,    1,    7,    4,  939,    0,    0,    0],\n",
       "       [   2,    5,    8,    0,    0,    0,    1, 1001,    2,    9],\n",
       "       [   5,    1,    2,    3,    3,    1,    2,    3,  950,    4],\n",
       "       [   2,    2,    0,    4,    8,    3,    1,    0,    1,  988]])"
      ]
     },
     "execution_count": 25,
     "metadata": {},
     "output_type": "execute_result"
    }
   ],
   "source": [
    "# confusion matrix\n",
    "from sklearn.metrics import confusion_matrix\n",
    "import numpy as np\n",
    "    \n",
    "prediction_array = np.array(prediction_list[0].cpu())\n",
    "label_array = np.array(label_list[0].cpu())\n",
    "\n",
    "print(\"prediction :\", prediction_array.shape)\n",
    "print(\"true label :\", label_array.shape)\n",
    "\n",
    "confusion_matrix(\n",
    "    label_array,\n",
    "    prediction_array) # y_pred"
   ]
  },
  {
   "cell_type": "code",
   "execution_count": null,
   "metadata": {},
   "outputs": [],
   "source": []
  }
 ],
 "metadata": {
  "celltoolbar": "Slideshow",
  "kernelspec": {
   "display_name": "Python 3",
   "language": "python",
   "name": "python3"
  },
  "language_info": {
   "codemirror_mode": {
    "name": "ipython",
    "version": 3
   },
   "file_extension": ".py",
   "mimetype": "text/x-python",
   "name": "python",
   "nbconvert_exporter": "python",
   "pygments_lexer": "ipython3",
   "version": "3.7.8"
  },
  "varInspector": {
   "cols": {
    "lenName": 16,
    "lenType": 16,
    "lenVar": 40
   },
   "kernels_config": {
    "python": {
     "delete_cmd_postfix": "",
     "delete_cmd_prefix": "del ",
     "library": "var_list.py",
     "varRefreshCmd": "print(var_dic_list())"
    },
    "r": {
     "delete_cmd_postfix": ") ",
     "delete_cmd_prefix": "rm(",
     "library": "var_list.r",
     "varRefreshCmd": "cat(var_dic_list()) "
    }
   },
   "types_to_exclude": [
    "module",
    "function",
    "builtin_function_or_method",
    "instance",
    "_Feature"
   ],
   "window_display": false
  },
  "widgets": {
   "state": {},
   "version": "1.1.2"
  }
 },
 "nbformat": 4,
 "nbformat_minor": 2
}

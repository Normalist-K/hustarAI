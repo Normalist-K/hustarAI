{
 "cells": [
  {
   "cell_type": "code",
   "execution_count": null,
   "metadata": {},
   "outputs": [],
   "source": [
    "for epoch in range(epochs):\n",
    "    for iteration, (data, label) in enumerate(train_loader):\n",
    "        data = data.to(device)\n",
    "        label = label.to(device)\n",
    "        \n",
    "        z = torch.randn(batch_size, z_size).to(device)\n",
    "        \n",
    "        Discriminator_optimizer.zero_grad()\n",
    "        \n",
    "        D_real = Discriminator(data.view(-1, 28*28))\n",
    "        D_fake = Discriminator(Generator(z))\n",
    "        \n",
    "        Discriminator_loss = (-torch.log(D_real) - torch.log(1.-D_fake)).mean()\n",
    "        \n",
    "        Discriminator_loss.backward()\n",
    "        Discriminator_optimizer.step()\n",
    "        \n",
    "        Generator_optimizer.zero_grad()\n",
    "        \n",
    "        z = torch.randn(batch_size, z_size).to(device)\n",
    "        D_fake = Discriminator(Generator(z))"
   ]
  }
 ],
 "metadata": {
  "kernelspec": {
   "display_name": "Python 3",
   "language": "python",
   "name": "python3"
  },
  "language_info": {
   "codemirror_mode": {
    "name": "ipython",
    "version": 3
   },
   "file_extension": ".py",
   "mimetype": "text/x-python",
   "name": "python",
   "nbconvert_exporter": "python",
   "pygments_lexer": "ipython3",
   "version": "3.7.8"
  },
  "varInspector": {
   "cols": {
    "lenName": 16,
    "lenType": 16,
    "lenVar": 40
   },
   "kernels_config": {
    "python": {
     "delete_cmd_postfix": "",
     "delete_cmd_prefix": "del ",
     "library": "var_list.py",
     "varRefreshCmd": "print(var_dic_list())"
    },
    "r": {
     "delete_cmd_postfix": ") ",
     "delete_cmd_prefix": "rm(",
     "library": "var_list.r",
     "varRefreshCmd": "cat(var_dic_list()) "
    }
   },
   "types_to_exclude": [
    "module",
    "function",
    "builtin_function_or_method",
    "instance",
    "_Feature"
   ],
   "window_display": false
  }
 },
 "nbformat": 4,
 "nbformat_minor": 4
}

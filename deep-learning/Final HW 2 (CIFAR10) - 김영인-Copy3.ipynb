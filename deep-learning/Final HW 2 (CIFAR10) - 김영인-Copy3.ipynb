{
 "cells": [
  {
   "cell_type": "markdown",
   "metadata": {},
   "source": [
    "# Final HW 2 - 김영인"
   ]
  },
  {
   "cell_type": "code",
   "execution_count": 1,
   "metadata": {
    "ExecuteTime": {
     "end_time": "2020-09-29T03:40:26.122124Z",
     "start_time": "2020-09-29T03:40:25.498603Z"
    }
   },
   "outputs": [
    {
     "name": "stdout",
     "output_type": "stream",
     "text": [
      "device: cuda:0, cuda:1\n"
     ]
    }
   ],
   "source": [
    "import torch\n",
    "import torch.nn as nn\n",
    "import torch.optim as optim\n",
    "import torch.nn.init as init\n",
    "import torchvision.datasets as dataset # for loading dataset (mnist)\n",
    "import torchvision.transforms as transforms # for processing datasets\n",
    "from torch.utils.data import DataLoader # for making dataset easier to use \n",
    "\n",
    "from matplotlib import pyplot as plt\n",
    "import numpy as np\n",
    "\n",
    "device0 = torch.device(\"cuda:0\" if torch.cuda.is_available() else \"cpu\")\n",
    "device1 = torch.device(\"cuda:1\" if torch.cuda.is_available() else \"cpu\")\n",
    "print(f\"device: {device0}, {device1}\") if torch.cuda.is_available() else print(\"device: cpu\")"
   ]
  },
  {
   "cell_type": "code",
   "execution_count": 2,
   "metadata": {
    "ExecuteTime": {
     "end_time": "2020-09-29T03:40:28.251353Z",
     "start_time": "2020-09-29T03:40:28.245167Z"
    }
   },
   "outputs": [],
   "source": [
    "device = device1"
   ]
  },
  {
   "cell_type": "markdown",
   "metadata": {},
   "source": [
    "# 2. CIFAR10"
   ]
  },
  {
   "cell_type": "markdown",
   "metadata": {},
   "source": [
    "## Hyper parameter setting"
   ]
  },
  {
   "cell_type": "code",
   "execution_count": 21,
   "metadata": {
    "ExecuteTime": {
     "end_time": "2020-09-29T05:56:31.705750Z",
     "start_time": "2020-09-29T05:56:31.698512Z"
    }
   },
   "outputs": [],
   "source": [
    "lr = 1e-2\n",
    "epochs = 100\n",
    "batch_size = 128\n",
    "act = nn.ReLU()\n",
    "max_pool = nn.MaxPool2d(2,2)\n",
    "display_step = 5\n",
    "dropout_rate = .5\n",
    "scheduler_step = 2\n",
    "scheduler_gamma = 0.9"
   ]
  },
  {
   "cell_type": "markdown",
   "metadata": {},
   "source": [
    "## Load data"
   ]
  },
  {
   "cell_type": "code",
   "execution_count": 4,
   "metadata": {
    "ExecuteTime": {
     "end_time": "2020-09-29T03:40:35.860723Z",
     "start_time": "2020-09-29T03:40:34.077195Z"
    },
    "scrolled": true
   },
   "outputs": [
    {
     "name": "stdout",
     "output_type": "stream",
     "text": [
      "Files already downloaded and verified\n",
      "Files already downloaded and verified\n",
      "len(train_data):  50000\n",
      "len(test_data):  10000\n",
      "data tensor([[[0.2314, 0.2431, 0.2471],\n",
      "         [0.1686, 0.1804, 0.1765],\n",
      "         [0.1961, 0.1882, 0.1686],\n",
      "         ...,\n",
      "         [0.6196, 0.5176, 0.4235],\n",
      "         [0.5961, 0.4902, 0.4000],\n",
      "         [0.5804, 0.4863, 0.4039]],\n",
      "\n",
      "        [[0.0627, 0.0784, 0.0784],\n",
      "         [0.0000, 0.0000, 0.0000],\n",
      "         [0.0706, 0.0314, 0.0000],\n",
      "         ...,\n",
      "         [0.4824, 0.3451, 0.2157],\n",
      "         [0.4667, 0.3255, 0.1961],\n",
      "         [0.4784, 0.3412, 0.2235]],\n",
      "\n",
      "        [[0.0980, 0.0941, 0.0824],\n",
      "         [0.0627, 0.0275, 0.0000],\n",
      "         [0.1922, 0.1059, 0.0314],\n",
      "         ...,\n",
      "         [0.4627, 0.3294, 0.1961],\n",
      "         [0.4706, 0.3294, 0.1961],\n",
      "         [0.4275, 0.2863, 0.1647]],\n",
      "\n",
      "        ...,\n",
      "\n",
      "        [[0.8157, 0.6667, 0.3765],\n",
      "         [0.7882, 0.6000, 0.1333],\n",
      "         [0.7765, 0.6314, 0.1020],\n",
      "         ...,\n",
      "         [0.6275, 0.5216, 0.2745],\n",
      "         [0.2196, 0.1216, 0.0275],\n",
      "         [0.2078, 0.1333, 0.0784]],\n",
      "\n",
      "        [[0.7059, 0.5451, 0.3765],\n",
      "         [0.6784, 0.4824, 0.1647],\n",
      "         [0.7294, 0.5647, 0.1176],\n",
      "         ...,\n",
      "         [0.7216, 0.5804, 0.3686],\n",
      "         [0.3804, 0.2431, 0.1333],\n",
      "         [0.3255, 0.2078, 0.1333]],\n",
      "\n",
      "        [[0.6941, 0.5647, 0.4549],\n",
      "         [0.6588, 0.5059, 0.3686],\n",
      "         [0.7020, 0.5569, 0.3412],\n",
      "         ...,\n",
      "         [0.8471, 0.7216, 0.5490],\n",
      "         [0.5922, 0.4627, 0.3294],\n",
      "         [0.4824, 0.3608, 0.2824]]])\n",
      "data shape:  torch.Size([32, 32, 3])\n",
      "label:  6\n"
     ]
    },
    {
     "data": {
      "image/png": "[encoded data removed]",
      "text/plain": [
       "<Figure size 432x288 with 1 Axes>"
      ]
     },
     "metadata": {
      "needs_background": "light"
     },
     "output_type": "display_data"
    }
   ],
   "source": [
    "# load data\n",
    "train_data = dataset.CIFAR10(\"./\", train = True,\n",
    "                             transform = transforms.ToTensor(),\n",
    "                             target_transform = None,\n",
    "                             download = True)\n",
    "test_data = dataset.CIFAR10(\"./\", train = False,\n",
    "                            transform = transforms.ToTensor(),\n",
    "                            target_transform = None,\n",
    "                            download = True)\n",
    "\n",
    "# check the data\n",
    "print('len(train_data): ', len(train_data))\n",
    "print('len(test_data): ', len(test_data))\n",
    "\n",
    "x_train, y_train = train_data[0]\n",
    "x_train = np.transpose(x_train, (1, 2, 0))\n",
    "\n",
    "print('data', x_train)\n",
    "print('data shape: ', x_train.shape)\n",
    "print('label: ', y_train)\n",
    "\n",
    "plt.figure()\n",
    "plt.imshow(x_train)\n",
    "plt.show()"
   ]
  },
  {
   "cell_type": "markdown",
   "metadata": {},
   "source": [
    "##  Pre-process data"
   ]
  },
  {
   "cell_type": "code",
   "execution_count": 5,
   "metadata": {
    "ExecuteTime": {
     "end_time": "2020-09-29T03:40:38.235432Z",
     "start_time": "2020-09-29T03:40:37.988027Z"
    }
   },
   "outputs": [
    {
     "name": "stdout",
     "output_type": "stream",
     "text": [
      "data shape: torch.Size([128, 3, 32, 32])\n",
      "label: tensor([1, 6, 9, 8, 6, 7, 6, 5, 1, 6, 0, 6, 1, 1, 3, 9, 0, 0, 0, 3, 2, 8, 2, 0,\n",
      "        6, 4, 5, 8, 1, 1, 1, 9, 2, 3, 3, 7, 5, 3, 5, 9, 3, 7, 5, 3, 9, 3, 0, 6,\n",
      "        8, 0, 9, 9, 5, 3, 9, 5, 6, 9, 3, 8, 7, 5, 3, 0, 1, 2, 0, 7, 2, 0, 9, 1,\n",
      "        1, 1, 7, 9, 4, 4, 0, 1, 5, 2, 2, 7, 1, 8, 2, 2, 9, 0, 2, 8, 9, 2, 2, 3,\n",
      "        9, 9, 3, 0, 8, 2, 0, 4, 2, 8, 8, 9, 7, 3, 8, 7, 5, 8, 3, 1, 3, 2, 1, 7,\n",
      "        3, 9, 6, 2, 3, 7, 2, 8])\n"
     ]
    },
    {
     "data": {
      "image/png": "[encoded data removed]",
      "text/plain": [
       "<Figure size 432x288 with 1 Axes>"
      ]
     },
     "metadata": {
      "needs_background": "light"
     },
     "output_type": "display_data"
    }
   ],
   "source": [
    "# Pre-process (batch, shuffle)\n",
    "train_loader = torch.utils.data.DataLoader(train_data,\n",
    "                                           batch_size = batch_size,\n",
    "                                           shuffle = True,\n",
    "                                           num_workers = 1,\n",
    "                                           drop_last = True)\n",
    "test_loader = torch.utils.data.DataLoader(test_data,\n",
    "                                          batch_size = batch_size,\n",
    "                                          shuffle = True,\n",
    "                                          num_workers = 1,\n",
    "                                          drop_last = True)\n",
    "\n",
    "# check the data \n",
    "examples = enumerate(train_loader)\n",
    "batch_idx, (example_data, example_target) = next(examples)\n",
    "\n",
    "print('data shape:', example_data.shape)\n",
    "print('label:', example_target)\n",
    "\n",
    "check_image = example_data[0]\n",
    "check_image = np.transpose(check_image, (1, 2, 0))\n",
    "\n",
    "plt.figure()\n",
    "plt.imshow(check_image)\n",
    "plt.show()"
   ]
  },
  {
   "cell_type": "code",
   "execution_count": 6,
   "metadata": {
    "ExecuteTime": {
     "end_time": "2020-09-29T03:40:41.098634Z",
     "start_time": "2020-09-29T03:40:41.081182Z"
    }
   },
   "outputs": [],
   "source": [
    "def conv_2_block(in_dim, out_dim):\n",
    "    model = nn.Sequential(\n",
    "        nn.Conv2d(in_dim, out_dim, kernel_size=3, padding=1),\n",
    "        nn.BatchNorm2d(out_dim),\n",
    "        act,\n",
    "        nn.Conv2d(out_dim, out_dim, kernel_size=3, padding=1),\n",
    "        nn.BatchNorm2d(out_dim),\n",
    "        act,\n",
    "        max_pool\n",
    "    )\n",
    "    return model\n",
    "\n",
    "def conv_3_block(in_dim, out_dim):\n",
    "    model = nn.Sequential(\n",
    "        nn.Conv2d(in_dim, out_dim, kernel_size=3, padding=1),\n",
    "        nn.BatchNorm2d(out_dim),\n",
    "        act,\n",
    "        nn.Conv2d(out_dim, out_dim, kernel_size=3, padding=1),\n",
    "        nn.BatchNorm2d(out_dim),\n",
    "        act,\n",
    "        nn.Conv2d(out_dim, out_dim, kernel_size=3, padding=1),\n",
    "        nn.BatchNorm2d(out_dim),\n",
    "        act,\n",
    "        max_pool\n",
    "    )\n",
    "    return model\n",
    "\n",
    "def conv_4_block(in_dim, out_dim):\n",
    "    model = nn.Sequential(\n",
    "        nn.Conv2d(in_dim, out_dim, kernel_size=3, padding=1),\n",
    "        nn.BatchNorm2d(out_dim),\n",
    "        act,\n",
    "        nn.Conv2d(out_dim, out_dim, kernel_size=3, padding=1),\n",
    "        nn.BatchNorm2d(out_dim),\n",
    "        act,\n",
    "        nn.Conv2d(out_dim, out_dim, kernel_size=3, padding=1),\n",
    "        nn.BatchNorm2d(out_dim),\n",
    "        act,\n",
    "        nn.Conv2d(out_dim, out_dim, kernel_size=3, padding=1),\n",
    "        nn.BatchNorm2d(out_dim),\n",
    "        act,\n",
    "        max_pool\n",
    "    )\n",
    "    return model"
   ]
  },
  {
   "cell_type": "code",
   "execution_count": 27,
   "metadata": {
    "ExecuteTime": {
     "end_time": "2020-09-29T07:03:04.194940Z",
     "start_time": "2020-09-29T07:03:04.002108Z"
    }
   },
   "outputs": [],
   "source": [
    "class CNN(nn.Module):\n",
    "    def __init__(self):\n",
    "        super(CNN, self).__init__() # for initializing nn.Module (parent class)\n",
    "        self.feature_extraction = nn.Sequential(\n",
    "            # original image : 3 * 32 * 32\n",
    "            nn.Conv2d(3, 64, 3, padding=1),    # 64 * 32 * 32\n",
    "            nn.BatchNorm2d(64),\n",
    "            act,\n",
    "            nn.Conv2d(64, 64, 3, padding=1),   # 64 * 32 * 32\n",
    "            nn.BatchNorm2d(64),\n",
    "            act,\n",
    "            \n",
    "            conv_2_block(64, 128),              # 128 * 16 * 16\n",
    "            \n",
    "            conv_3_block(128, 256),             # 256 * 8 * 8\n",
    "            \n",
    "            conv_3_block(256, 512),             # 512 * 4 * 4\n",
    "            \n",
    "            conv_3_block(512, 512),             # 512 * 2 * 2\n",
    "        )\n",
    "        self.classifier = nn.Sequential(\n",
    "            nn.Linear(512 * 2 * 2, 1024),\n",
    "            nn.BatchNorm1d(1024),\n",
    "            act,\n",
    "            nn.Dropout(dropout_rate),\n",
    "            nn.Linear(1024, 512),\n",
    "            nn.BatchNorm1d(512),\n",
    "            act,\n",
    "            nn.Dropout(dropout_rate),\n",
    "            nn.Linear(512, 10)\n",
    "        )\n",
    "    def forward(self, x):\n",
    "        extracted_feature = self.feature_extraction(x)\n",
    "        flatten = extracted_feature.view(x.shape[0], -1)\n",
    "        logit = self.classifier(flatten)\n",
    "        return logit\n",
    "\n",
    "    \n",
    "def init_weights(m):\n",
    "    if type(m) == nn.Linear:\n",
    "        torch.nn.init.xavier_uniform_(m.weight)\n",
    "        m.bias.data.fill_(0.01)\n",
    "    \n",
    "model = CNN()\n",
    "model.apply(init_weights)\n",
    "model.to(device)\n",
    "model.train()\n",
    "loss_function = nn.CrossEntropyLoss()\n",
    "optimizer = optim.Adam(model.parameters(), lr = lr)\n",
    "scheduler = optim.lr_scheduler.StepLR(optimizer, \n",
    "                                      step_size = scheduler_step,\n",
    "                                      gamma = scheduler_gamma)"
   ]
  },
  {
   "cell_type": "code",
   "execution_count": 28,
   "metadata": {
    "ExecuteTime": {
     "end_time": "2020-09-29T07:55:38.039916Z",
     "start_time": "2020-09-29T07:03:06.285083Z"
    }
   },
   "outputs": [
    {
     "name": "stdout",
     "output_type": "stream",
     "text": [
      "0 epoch loss: 1.8385920524597168\n",
      "5 epoch loss: 0.7284542322158813\n",
      "10 epoch loss: 0.4587324261665344\n",
      "15 epoch loss: 0.13921763002872467\n",
      "20 epoch loss: 0.09726200252771378\n",
      "25 epoch loss: 0.023902324959635735\n",
      "30 epoch loss: 0.033932607620954514\n",
      "35 epoch loss: 0.003229868598282337\n",
      "40 epoch loss: 0.0033457267563790083\n",
      "45 epoch loss: 0.003747837617993355\n",
      "50 epoch loss: 1.4150848983263131e-05\n",
      "55 epoch loss: 0.0031880498863756657\n",
      "60 epoch loss: 1.4588005797122605e-05\n",
      "65 epoch loss: 2.634134034451563e-05\n",
      "70 epoch loss: 6.416475116566289e-06\n",
      "75 epoch loss: 2.248422424599994e-05\n",
      "80 epoch loss: 2.6439031444169814e-06\n",
      "85 epoch loss: 1.0449282399349613e-06\n",
      "90 epoch loss: 1.0821573823704966e-06\n",
      "95 epoch loss: 8.661127708364802e-07\n"
     ]
    }
   ],
   "source": [
    "loss_array = []\n",
    "\n",
    "# train the model\n",
    "for i in range(epochs):\n",
    "    scheduler.step()\n",
    "    for index, [data, label] in enumerate(train_loader):\n",
    "        optimizer.zero_grad()\n",
    "        \n",
    "        data = data.to(device)\n",
    "        label = label.to(device)        \n",
    "        \n",
    "        output = model.forward(data)\n",
    "        loss = loss_function(output, label)\n",
    "        \n",
    "        loss.backward()\n",
    "        optimizer.step()\n",
    "        \n",
    "    if i % display_step == 0:\n",
    "        print(f'{i} epoch loss: {loss}')\n",
    "        loss_array.append(loss.cpu().detach().numpy())"
   ]
  },
  {
   "cell_type": "code",
   "execution_count": 29,
   "metadata": {
    "ExecuteTime": {
     "end_time": "2020-09-29T07:55:38.905759Z",
     "start_time": "2020-09-29T07:55:38.786426Z"
    }
   },
   "outputs": [
    {
     "data": {
      "image/png": "[encoded data removed]",
      "text/plain": [
       "<Figure size 432x288 with 1 Axes>"
      ]
     },
     "metadata": {
      "needs_background": "light"
     },
     "output_type": "display_data"
    }
   ],
   "source": [
    "plt.figure()\n",
    "plt.plot(loss_array)\n",
    "plt.show()"
   ]
  },
  {
   "cell_type": "code",
   "execution_count": 30,
   "metadata": {
    "ExecuteTime": {
     "end_time": "2020-09-29T07:55:41.418823Z",
     "start_time": "2020-09-29T07:55:39.595774Z"
    }
   },
   "outputs": [
    {
     "name": "stdout",
     "output_type": "stream",
     "text": [
      "Accuracy of the model: 0.8909254670143127\n"
     ]
    }
   ],
   "source": [
    "#test the model\n",
    "model.eval()\n",
    "correct = 0\n",
    "total = 0\n",
    "\n",
    "prediction_list = []\n",
    "label_list = []\n",
    "\n",
    "with torch.no_grad():\n",
    "    for index, [data, label] in enumerate(test_loader):\n",
    "        data = data.to(device)\n",
    "        label = label.to(device)\n",
    "        \n",
    "        output = model.forward(data)\n",
    "        _, prediction_index = torch.max(output, 1)\n",
    "        \n",
    "        prediction_list.append(prediction_index)\n",
    "        label_list.append(label)\n",
    "        \n",
    "        total += label.size(0)\n",
    "        correct += (prediction_index == label).sum().float()\n",
    "\n",
    "    print(\"Accuracy of the model: {}\".format(correct/total))"
   ]
  },
  {
   "cell_type": "code",
   "execution_count": 37,
   "metadata": {
    "ExecuteTime": {
     "end_time": "2020-09-28T11:53:42.820551Z",
     "start_time": "2020-09-28T11:53:42.670666Z"
    }
   },
   "outputs": [
    {
     "data": {
      "image/png": "[encoded data removed]",
      "text/plain": [
       "<Figure size 432x288 with 1 Axes>"
      ]
     },
     "metadata": {
      "needs_background": "light"
     },
     "output_type": "display_data"
    },
    {
     "name": "stdout",
     "output_type": "stream",
     "text": [
      "prediction : (128,)\n",
      "true label : (128,)\n"
     ]
    },
    {
     "data": {
      "text/plain": [
       "array([[ 9,  0,  0,  0,  1,  0,  0,  0,  0,  1],\n",
       "       [ 0, 14,  0,  0,  0,  0,  0,  0,  1,  1],\n",
       "       [ 1,  0,  9,  0,  0,  2,  0,  0,  0,  0],\n",
       "       [ 0,  0,  0,  5,  0,  3,  1,  1,  0,  0],\n",
       "       [ 0,  0,  1,  1,  9,  0,  1,  1,  0,  0],\n",
       "       [ 1,  0,  0,  0,  1, 16,  0,  0,  0,  0],\n",
       "       [ 0,  0,  1,  2,  0,  1,  7,  0,  0,  0],\n",
       "       [ 0,  0,  1,  0,  0,  1,  0, 10,  0,  0],\n",
       "       [ 0,  0,  0,  0,  0,  0,  0,  1,  7,  0],\n",
       "       [ 0,  1,  0,  0,  0,  0,  0,  1,  0, 15]])"
      ]
     },
     "execution_count": 37,
     "metadata": {},
     "output_type": "execute_result"
    }
   ],
   "source": [
    "plt.figure()\n",
    "plt.plot(loss_array)\n",
    "plt.show()\n",
    "\n",
    "# confusion matrix\n",
    "from sklearn.metrics import confusion_matrix\n",
    "import numpy as np\n",
    "    \n",
    "prediction_array = np.array(prediction_list[0].cpu())\n",
    "label_array = np.array(label_list[0].cpu())\n",
    "\n",
    "print(\"prediction :\", prediction_array.shape)\n",
    "print(\"true label :\", label_array.shape)\n",
    "\n",
    "confusion_matrix(\n",
    "    label_array,\n",
    "    prediction_array) # y_pred"
   ]
  },
  {
   "cell_type": "code",
   "execution_count": null,
   "metadata": {},
   "outputs": [],
   "source": []
  },
  {
   "cell_type": "code",
   "execution_count": null,
   "metadata": {},
   "outputs": [],
   "source": []
  },
  {
   "cell_type": "code",
   "execution_count": null,
   "metadata": {},
   "outputs": [],
   "source": []
  },
  {
   "cell_type": "code",
   "execution_count": null,
   "metadata": {},
   "outputs": [],
   "source": []
  },
  {
   "cell_type": "code",
   "execution_count": null,
   "metadata": {},
   "outputs": [],
   "source": []
  },
  {
   "cell_type": "code",
   "execution_count": null,
   "metadata": {},
   "outputs": [],
   "source": []
  },
  {
   "cell_type": "code",
   "execution_count": null,
   "metadata": {},
   "outputs": [],
   "source": []
  },
  {
   "cell_type": "code",
   "execution_count": null,
   "metadata": {},
   "outputs": [],
   "source": []
  }
 ],
 "metadata": {
  "kernelspec": {
   "display_name": "Python 3",
   "language": "python",
   "name": "python3"
  },
  "language_info": {
   "codemirror_mode": {
    "name": "ipython",
    "version": 3
   },
   "file_extension": ".py",
   "mimetype": "text/x-python",
   "name": "python",
   "nbconvert_exporter": "python",
   "pygments_lexer": "ipython3",
   "version": "3.7.8"
  },
  "varInspector": {
   "cols": {
    "lenName": 16,
    "lenType": 16,
    "lenVar": 40
   },
   "kernels_config": {
    "python": {
     "delete_cmd_postfix": "",
     "delete_cmd_prefix": "del ",
     "library": "var_list.py",
     "varRefreshCmd": "print(var_dic_list())"
    },
    "r": {
     "delete_cmd_postfix": ") ",
     "delete_cmd_prefix": "rm(",
     "library": "var_list.r",
     "varRefreshCmd": "cat(var_dic_list()) "
    }
   },
   "types_to_exclude": [
    "module",
    "function",
    "builtin_function_or_method",
    "instance",
    "_Feature"
   ],
   "window_display": false
  }
 },
 "nbformat": 4,
 "nbformat_minor": 4
}

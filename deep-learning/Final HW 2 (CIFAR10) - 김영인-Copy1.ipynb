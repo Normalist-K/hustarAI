{
 "cells": [
  {
   "cell_type": "markdown",
   "metadata": {},
   "source": [
    "# Final HW 2 - 김영인"
   ]
  },
  {
   "cell_type": "code",
   "execution_count": 1,
   "metadata": {
    "ExecuteTime": {
     "end_time": "2020-09-29T00:09:37.211604Z",
     "start_time": "2020-09-29T00:09:36.558115Z"
    }
   },
   "outputs": [
    {
     "name": "stdout",
     "output_type": "stream",
     "text": [
      "device: cuda:0, cuda:1\n"
     ]
    }
   ],
   "source": [
    "import torch\n",
    "import torch.nn as nn\n",
    "import torch.optim as optim\n",
    "import torch.nn.init as init\n",
    "import torchvision.datasets as dataset # for loading dataset (mnist)\n",
    "import torchvision.transforms as transforms # for processing datasets\n",
    "from torch.utils.data import DataLoader # for making dataset easier to use \n",
    "\n",
    "from matplotlib import pyplot as plt\n",
    "import numpy as np\n",
    "\n",
    "device0 = torch.device(\"cuda:0\" if torch.cuda.is_available() else \"cpu\")\n",
    "device1 = torch.device(\"cuda:1\" if torch.cuda.is_available() else \"cpu\")\n",
    "print(f\"device: {device0}, {device1}\") if torch.cuda.is_available() else print(\"device: cpu\")"
   ]
  },
  {
   "cell_type": "markdown",
   "metadata": {},
   "source": [
    "# 2. CIFAR10"
   ]
  },
  {
   "cell_type": "markdown",
   "metadata": {},
   "source": [
    "## Hyper parameter setting"
   ]
  },
  {
   "cell_type": "code",
   "execution_count": 42,
   "metadata": {
    "ExecuteTime": {
     "end_time": "2020-09-29T07:28:23.781219Z",
     "start_time": "2020-09-29T07:28:23.775437Z"
    }
   },
   "outputs": [],
   "source": [
    "lr = 1e-2\n",
    "epochs = 100\n",
    "batch_size = 128\n",
    "act = nn.ReLU()\n",
    "max_pool = nn.MaxPool2d(2,2)\n",
    "display_step = 5\n",
    "dropout_rate = .5\n",
    "scheduler_step = 2\n",
    "scheduler_gamma = 0.9"
   ]
  },
  {
   "cell_type": "markdown",
   "metadata": {},
   "source": [
    "## Load data"
   ]
  },
  {
   "cell_type": "code",
   "execution_count": 3,
   "metadata": {
    "ExecuteTime": {
     "end_time": "2020-09-29T00:09:41.898347Z",
     "start_time": "2020-09-29T00:09:40.128378Z"
    },
    "scrolled": true
   },
   "outputs": [
    {
     "name": "stdout",
     "output_type": "stream",
     "text": [
      "Files already downloaded and verified\n",
      "Files already downloaded and verified\n",
      "len(train_data):  50000\n",
      "len(test_data):  10000\n",
      "data tensor([[[0.2314, 0.2431, 0.2471],\n",
      "         [0.1686, 0.1804, 0.1765],\n",
      "         [0.1961, 0.1882, 0.1686],\n",
      "         ...,\n",
      "         [0.6196, 0.5176, 0.4235],\n",
      "         [0.5961, 0.4902, 0.4000],\n",
      "         [0.5804, 0.4863, 0.4039]],\n",
      "\n",
      "        [[0.0627, 0.0784, 0.0784],\n",
      "         [0.0000, 0.0000, 0.0000],\n",
      "         [0.0706, 0.0314, 0.0000],\n",
      "         ...,\n",
      "         [0.4824, 0.3451, 0.2157],\n",
      "         [0.4667, 0.3255, 0.1961],\n",
      "         [0.4784, 0.3412, 0.2235]],\n",
      "\n",
      "        [[0.0980, 0.0941, 0.0824],\n",
      "         [0.0627, 0.0275, 0.0000],\n",
      "         [0.1922, 0.1059, 0.0314],\n",
      "         ...,\n",
      "         [0.4627, 0.3294, 0.1961],\n",
      "         [0.4706, 0.3294, 0.1961],\n",
      "         [0.4275, 0.2863, 0.1647]],\n",
      "\n",
      "        ...,\n",
      "\n",
      "        [[0.8157, 0.6667, 0.3765],\n",
      "         [0.7882, 0.6000, 0.1333],\n",
      "         [0.7765, 0.6314, 0.1020],\n",
      "         ...,\n",
      "         [0.6275, 0.5216, 0.2745],\n",
      "         [0.2196, 0.1216, 0.0275],\n",
      "         [0.2078, 0.1333, 0.0784]],\n",
      "\n",
      "        [[0.7059, 0.5451, 0.3765],\n",
      "         [0.6784, 0.4824, 0.1647],\n",
      "         [0.7294, 0.5647, 0.1176],\n",
      "         ...,\n",
      "         [0.7216, 0.5804, 0.3686],\n",
      "         [0.3804, 0.2431, 0.1333],\n",
      "         [0.3255, 0.2078, 0.1333]],\n",
      "\n",
      "        [[0.6941, 0.5647, 0.4549],\n",
      "         [0.6588, 0.5059, 0.3686],\n",
      "         [0.7020, 0.5569, 0.3412],\n",
      "         ...,\n",
      "         [0.8471, 0.7216, 0.5490],\n",
      "         [0.5922, 0.4627, 0.3294],\n",
      "         [0.4824, 0.3608, 0.2824]]])\n",
      "data shape:  torch.Size([32, 32, 3])\n",
      "label:  6\n"
     ]
    },
    {
     "data": {
      "image/png": "[encoded data removed]",
      "text/plain": [
       "<Figure size 432x288 with 1 Axes>"
      ]
     },
     "metadata": {
      "needs_background": "light"
     },
     "output_type": "display_data"
    }
   ],
   "source": [
    "# load data\n",
    "train_data = dataset.CIFAR10(\"./\", train = True,\n",
    "                             transform = transforms.ToTensor(),\n",
    "                             target_transform = None,\n",
    "                             download = True)\n",
    "test_data = dataset.CIFAR10(\"./\", train = False,\n",
    "                            transform = transforms.ToTensor(),\n",
    "                            target_transform = None,\n",
    "                            download = True)\n",
    "\n",
    "# check the data\n",
    "print('len(train_data): ', len(train_data))\n",
    "print('len(test_data): ', len(test_data))\n",
    "\n",
    "x_train, y_train = train_data[0]\n",
    "x_train = np.transpose(x_train, (1, 2, 0))\n",
    "\n",
    "print('data', x_train)\n",
    "print('data shape: ', x_train.shape)\n",
    "print('label: ', y_train)\n",
    "\n",
    "plt.figure()\n",
    "plt.imshow(x_train)\n",
    "plt.show()"
   ]
  },
  {
   "cell_type": "markdown",
   "metadata": {},
   "source": [
    "##  Pre-process data"
   ]
  },
  {
   "cell_type": "code",
   "execution_count": 4,
   "metadata": {
    "ExecuteTime": {
     "end_time": "2020-09-29T00:09:42.674573Z",
     "start_time": "2020-09-29T00:09:42.407797Z"
    }
   },
   "outputs": [
    {
     "name": "stdout",
     "output_type": "stream",
     "text": [
      "data shape: torch.Size([128, 3, 32, 32])\n",
      "label: tensor([5, 7, 4, 9, 5, 8, 4, 3, 4, 1, 2, 5, 1, 4, 1, 1, 3, 4, 2, 5, 2, 8, 4, 5,\n",
      "        6, 8, 5, 3, 2, 0, 3, 4, 3, 5, 4, 2, 9, 3, 2, 7, 8, 0, 9, 0, 2, 4, 1, 3,\n",
      "        1, 2, 9, 2, 0, 7, 0, 4, 4, 5, 8, 7, 4, 1, 0, 3, 0, 9, 2, 0, 1, 9, 0, 9,\n",
      "        5, 6, 1, 3, 5, 1, 4, 0, 3, 4, 7, 8, 5, 3, 3, 3, 1, 9, 3, 3, 5, 2, 0, 7,\n",
      "        5, 4, 1, 5, 2, 9, 8, 0, 6, 9, 0, 9, 8, 6, 7, 5, 0, 1, 8, 0, 6, 7, 5, 2,\n",
      "        0, 4, 7, 5, 4, 3, 0, 9])\n"
     ]
    },
    {
     "data": {
      "image/png": "[encoded data removed]",
      "text/plain": [
       "<Figure size 432x288 with 1 Axes>"
      ]
     },
     "metadata": {
      "needs_background": "light"
     },
     "output_type": "display_data"
    }
   ],
   "source": [
    "# Pre-process (batch, shuffle)\n",
    "train_loader = torch.utils.data.DataLoader(train_data,\n",
    "                                           batch_size = batch_size,\n",
    "                                           shuffle = True,\n",
    "                                           num_workers = 1,\n",
    "                                           drop_last = True)\n",
    "test_loader = torch.utils.data.DataLoader(test_data,\n",
    "                                          batch_size = batch_size,\n",
    "                                          shuffle = True,\n",
    "                                          num_workers = 1,\n",
    "                                          drop_last = True)\n",
    "\n",
    "# check the data \n",
    "examples = enumerate(train_loader)\n",
    "batch_idx, (example_data, example_target) = next(examples)\n",
    "\n",
    "print('data shape:', example_data.shape)\n",
    "print('label:', example_target)\n",
    "\n",
    "check_image = example_data[0]\n",
    "check_image = np.transpose(check_image, (1, 2, 0))\n",
    "\n",
    "plt.figure()\n",
    "plt.imshow(check_image)\n",
    "plt.show()"
   ]
  },
  {
   "cell_type": "code",
   "execution_count": 40,
   "metadata": {
    "ExecuteTime": {
     "end_time": "2020-09-29T07:27:59.840552Z",
     "start_time": "2020-09-29T07:27:59.822421Z"
    }
   },
   "outputs": [],
   "source": [
    "def conv_2_block(in_dim, out_dim):\n",
    "    model = nn.Sequential(\n",
    "        nn.Conv2d(in_dim, out_dim, kernel_size=3, padding=1),\n",
    "        nn.BatchNorm2d(out_dim),\n",
    "        act,\n",
    "        nn.Conv2d(out_dim, out_dim, kernel_size=3, padding=1),\n",
    "        nn.BatchNorm2d(out_dim),\n",
    "        act,\n",
    "        max_pool\n",
    "    )\n",
    "    return model\n",
    "\n",
    "def conv_3_block(in_dim, out_dim):\n",
    "    model = nn.Sequential(\n",
    "        nn.Conv2d(in_dim, out_dim, kernel_size=3, padding=1),\n",
    "        nn.BatchNorm2d(out_dim),\n",
    "        act,\n",
    "        nn.Conv2d(out_dim, out_dim, kernel_size=3, padding=1),\n",
    "        nn.BatchNorm2d(out_dim),\n",
    "        act,\n",
    "        nn.Conv2d(out_dim, out_dim, kernel_size=3, padding=1),\n",
    "        nn.BatchNorm2d(out_dim),\n",
    "        act,\n",
    "        max_pool\n",
    "    )\n",
    "    return model\n",
    "\n",
    "def conv_4_block(in_dim, out_dim):\n",
    "    model = nn.Sequential(\n",
    "        nn.Conv2d(in_dim, out_dim, kernel_size=3, padding=1),\n",
    "        nn.BatchNorm2d(out_dim),\n",
    "        act,\n",
    "        nn.Conv2d(out_dim, out_dim, kernel_size=3, padding=1),\n",
    "        nn.BatchNorm2d(out_dim),\n",
    "        act,\n",
    "        nn.Conv2d(out_dim, out_dim, kernel_size=3, padding=1),\n",
    "        nn.BatchNorm2d(out_dim),\n",
    "        act,\n",
    "        nn.Conv2d(out_dim, out_dim, kernel_size=3, padding=1),\n",
    "        nn.BatchNorm2d(out_dim),\n",
    "        act,\n",
    "        max_pool\n",
    "    )\n",
    "    return model"
   ]
  },
  {
   "cell_type": "code",
   "execution_count": 41,
   "metadata": {
    "ExecuteTime": {
     "end_time": "2020-09-29T07:28:12.116884Z",
     "start_time": "2020-09-29T07:28:11.842567Z"
    }
   },
   "outputs": [],
   "source": [
    "class CNN(nn.Module):\n",
    "    def __init__(self):\n",
    "        super(CNN, self).__init__() # for initializing nn.Module (parent class)\n",
    "        self.feature_extraction = nn.Sequential(\n",
    "            # original image : 3 * 32 * 32\n",
    "            nn.Conv2d(3, 64, 3, padding=1),    # 64 * 32 * 32\n",
    "            nn.BatchNorm2d(64),\n",
    "            act,\n",
    "            nn.Conv2d(64, 64, 3, padding=1),   # 64 * 32 * 32\n",
    "            nn.BatchNorm2d(64),\n",
    "            act,\n",
    "            \n",
    "            conv_2_block(64, 128),              # 128 * 16 * 16\n",
    "            \n",
    "            conv_3_block(128, 256),             # 256 * 8 * 8\n",
    "            \n",
    "            conv_4_block(256, 512),             # 512 * 4 * 4\n",
    "            \n",
    "            conv_4_block(512, 512),             # 512 * 2 * 2\n",
    "            \n",
    "        )\n",
    "        self.classifier = nn.Sequential(\n",
    "            nn.Linear(512 * 2 * 2, 1024),\n",
    "            nn.BatchNorm1d(1024),\n",
    "            act,\n",
    "            nn.Dropout(dropout_rate),\n",
    "            nn.Linear(1024, 512),\n",
    "            nn.BatchNorm1d(512),\n",
    "            act,\n",
    "            nn.Dropout(dropout_rate),\n",
    "            nn.Linear(512, 10)\n",
    "        )\n",
    "    def forward(self, x):\n",
    "        extracted_feature = self.feature_extraction(x)\n",
    "        flatten = extracted_feature.view(x.shape[0], -1)\n",
    "        logit = self.classifier(flatten)\n",
    "        return logit\n",
    "\n",
    "    \n",
    "def init_weights(m):\n",
    "    if type(m) == nn.Linear:\n",
    "        torch.nn.init.xavier_uniform_(m.weight)\n",
    "        m.bias.data.fill_(0.01)\n",
    "    \n",
    "model = CNN()\n",
    "model.apply(init_weights)\n",
    "model.to(device0)\n",
    "model.train()\n",
    "loss_function = nn.CrossEntropyLoss()\n",
    "optimizer = optim.Adam(model.parameters(), lr = lr)\n",
    "scheduler = optim.lr_scheduler.StepLR(optimizer, \n",
    "                                      step_size = scheduler_step,\n",
    "                                      gamma = scheduler_gamma)"
   ]
  },
  {
   "cell_type": "code",
   "execution_count": 35,
   "metadata": {
    "ExecuteTime": {
     "end_time": "2020-09-29T03:27:15.130073Z",
     "start_time": "2020-09-29T03:00:38.537450Z"
    }
   },
   "outputs": [
    {
     "name": "stdout",
     "output_type": "stream",
     "text": [
      "0 epoch loss: 1.873328685760498\n",
      "5 epoch loss: 0.6476859450340271\n",
      "10 epoch loss: 0.23885855078697205\n",
      "15 epoch loss: 0.04933110624551773\n",
      "20 epoch loss: 0.002752695232629776\n",
      "25 epoch loss: 0.01782727800309658\n",
      "30 epoch loss: 0.0011613573879003525\n",
      "35 epoch loss: 0.00012054630497004837\n",
      "40 epoch loss: 9.673693057266064e-06\n",
      "45 epoch loss: 9.53223934629932e-06\n"
     ]
    }
   ],
   "source": [
    "loss_array = []\n",
    "\n",
    "# train the model\n",
    "for i in range(epochs):\n",
    "    scheduler.step()\n",
    "    for index, [data, label] in enumerate(train_loader):\n",
    "        optimizer.zero_grad()\n",
    "        \n",
    "        data = data.to(device0)\n",
    "        label = label.to(device0)        \n",
    "        \n",
    "        output = model.forward(data)\n",
    "        loss = loss_function(output, label)\n",
    "        \n",
    "        loss.backward()\n",
    "        optimizer.step()\n",
    "        \n",
    "    if i % display_step == 0:\n",
    "        print(f'{i} epoch loss: {loss}')\n",
    "        loss_array.append(loss.cpu().detach().numpy())"
   ]
  },
  {
   "cell_type": "code",
   "execution_count": 36,
   "metadata": {
    "ExecuteTime": {
     "end_time": "2020-09-29T03:31:58.364238Z",
     "start_time": "2020-09-29T03:31:58.230917Z"
    }
   },
   "outputs": [
    {
     "data": {
      "image/png": "[encoded data removed]",
      "text/plain": [
       "<Figure size 432x288 with 1 Axes>"
      ]
     },
     "metadata": {
      "needs_background": "light"
     },
     "output_type": "display_data"
    }
   ],
   "source": [
    "plt.figure()\n",
    "plt.plot(loss_array)\n",
    "plt.show()"
   ]
  },
  {
   "cell_type": "code",
   "execution_count": 43,
   "metadata": {
    "ExecuteTime": {
     "end_time": "2020-09-29T07:28:30.728000Z",
     "start_time": "2020-09-29T07:28:28.611529Z"
    }
   },
   "outputs": [
    {
     "name": "stdout",
     "output_type": "stream",
     "text": [
      "Accuracy of the model: 0.10006009787321091\n"
     ]
    }
   ],
   "source": [
    "#test the model\n",
    "model.eval()\n",
    "correct = 0\n",
    "total = 0\n",
    "\n",
    "prediction_list = []\n",
    "label_list = []\n",
    "\n",
    "with torch.no_grad():\n",
    "    for index, [data, label] in enumerate(test_loader):\n",
    "        data = data.to(device0)\n",
    "        label = label.to(device0)\n",
    "        \n",
    "        output = model.forward(data)\n",
    "        _, prediction_index = torch.max(output, 1)\n",
    "        \n",
    "        prediction_list.append(prediction_index)\n",
    "        label_list.append(label)\n",
    "        \n",
    "        total += label.size(0)\n",
    "        correct += (prediction_index == label).sum().float()\n",
    "\n",
    "    print(\"Accuracy of the model: {}\".format(correct/total))"
   ]
  },
  {
   "cell_type": "code",
   "execution_count": 37,
   "metadata": {
    "ExecuteTime": {
     "end_time": "2020-09-28T11:53:42.820551Z",
     "start_time": "2020-09-28T11:53:42.670666Z"
    }
   },
   "outputs": [
    {
     "data": {
      "image/png": "[encoded data removed]",
      "text/plain": [
       "<Figure size 432x288 with 1 Axes>"
      ]
     },
     "metadata": {
      "needs_background": "light"
     },
     "output_type": "display_data"
    },
    {
     "name": "stdout",
     "output_type": "stream",
     "text": [
      "prediction : (128,)\n",
      "true label : (128,)\n"
     ]
    },
    {
     "data": {
      "text/plain": [
       "array([[ 9,  0,  0,  0,  1,  0,  0,  0,  0,  1],\n",
       "       [ 0, 14,  0,  0,  0,  0,  0,  0,  1,  1],\n",
       "       [ 1,  0,  9,  0,  0,  2,  0,  0,  0,  0],\n",
       "       [ 0,  0,  0,  5,  0,  3,  1,  1,  0,  0],\n",
       "       [ 0,  0,  1,  1,  9,  0,  1,  1,  0,  0],\n",
       "       [ 1,  0,  0,  0,  1, 16,  0,  0,  0,  0],\n",
       "       [ 0,  0,  1,  2,  0,  1,  7,  0,  0,  0],\n",
       "       [ 0,  0,  1,  0,  0,  1,  0, 10,  0,  0],\n",
       "       [ 0,  0,  0,  0,  0,  0,  0,  1,  7,  0],\n",
       "       [ 0,  1,  0,  0,  0,  0,  0,  1,  0, 15]])"
      ]
     },
     "execution_count": 37,
     "metadata": {},
     "output_type": "execute_result"
    }
   ],
   "source": [
    "# confusion matrix\n",
    "from sklearn.metrics import confusion_matrix\n",
    "import numpy as np\n",
    "    \n",
    "prediction_array = np.array(prediction_list[0].cpu())\n",
    "label_array = np.array(label_list[0].cpu())\n",
    "\n",
    "print(\"prediction :\", prediction_array.shape)\n",
    "print(\"true label :\", label_array.shape)\n",
    "\n",
    "confusion_matrix(\n",
    "    label_array,\n",
    "    prediction_array) # y_pred"
   ]
  },
  {
   "cell_type": "code",
   "execution_count": null,
   "metadata": {},
   "outputs": [],
   "source": []
  },
  {
   "cell_type": "code",
   "execution_count": null,
   "metadata": {},
   "outputs": [],
   "source": []
  },
  {
   "cell_type": "code",
   "execution_count": null,
   "metadata": {},
   "outputs": [],
   "source": []
  },
  {
   "cell_type": "code",
   "execution_count": null,
   "metadata": {},
   "outputs": [],
   "source": []
  },
  {
   "cell_type": "code",
   "execution_count": null,
   "metadata": {},
   "outputs": [],
   "source": []
  },
  {
   "cell_type": "code",
   "execution_count": null,
   "metadata": {},
   "outputs": [],
   "source": []
  },
  {
   "cell_type": "code",
   "execution_count": null,
   "metadata": {},
   "outputs": [],
   "source": []
  },
  {
   "cell_type": "code",
   "execution_count": null,
   "metadata": {},
   "outputs": [],
   "source": []
  }
 ],
 "metadata": {
  "kernelspec": {
   "display_name": "Python 3",
   "language": "python",
   "name": "python3"
  },
  "language_info": {
   "codemirror_mode": {
    "name": "ipython",
    "version": 3
   },
   "file_extension": ".py",
   "mimetype": "text/x-python",
   "name": "python",
   "nbconvert_exporter": "python",
   "pygments_lexer": "ipython3",
   "version": "3.7.8"
  },
  "varInspector": {
   "cols": {
    "lenName": 16,
    "lenType": 16,
    "lenVar": 40
   },
   "kernels_config": {
    "python": {
     "delete_cmd_postfix": "",
     "delete_cmd_prefix": "del ",
     "library": "var_list.py",
     "varRefreshCmd": "print(var_dic_list())"
    },
    "r": {
     "delete_cmd_postfix": ") ",
     "delete_cmd_prefix": "rm(",
     "library": "var_list.r",
     "varRefreshCmd": "cat(var_dic_list()) "
    }
   },
   "types_to_exclude": [
    "module",
    "function",
    "builtin_function_or_method",
    "instance",
    "_Feature"
   ],
   "window_display": false
  }
 },
 "nbformat": 4,
 "nbformat_minor": 4
}

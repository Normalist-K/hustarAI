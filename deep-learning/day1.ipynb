{
 "cells": [
  {
   "cell_type": "code",
   "execution_count": 2,
   "metadata": {
    "ExecuteTime": {
     "end_time": "2020-09-24T08:22:58.203698Z",
     "start_time": "2020-09-24T08:22:57.962610Z"
    }
   },
   "outputs": [],
   "source": [
    "import torch"
   ]
  },
  {
   "cell_type": "code",
   "execution_count": 3,
   "metadata": {
    "ExecuteTime": {
     "end_time": "2020-09-24T08:22:58.244757Z",
     "start_time": "2020-09-24T08:22:58.232438Z"
    }
   },
   "outputs": [
    {
     "name": "stdout",
     "output_type": "stream",
     "text": [
      "tensor([0.4419, 0.2791])\n",
      "tensor([[0.8929, 0.9857],\n",
      "        [0.8392, 0.5835]])\n",
      "tensor([[[[0.4655, 0.9292],\n",
      "          [0.7894, 0.3005]],\n",
      "\n",
      "         [[0.6328, 0.7925],\n",
      "          [0.1089, 0.0900]]],\n",
      "\n",
      "\n",
      "        [[[0.2844, 0.6230],\n",
      "          [0.6881, 0.6846]],\n",
      "\n",
      "         [[0.7890, 0.6661],\n",
      "          [0.6992, 0.3096]]]])\n"
     ]
    }
   ],
   "source": [
    "x = torch.rand(2)\n",
    "print(x)\n",
    "\n",
    "x = torch.rand(2, 2)\n",
    "print(x)\n",
    "\n",
    "x = torch.rand(2, 2, 2, 2)\n",
    "print(x)"
   ]
  },
  {
   "cell_type": "code",
   "execution_count": 4,
   "metadata": {
    "ExecuteTime": {
     "end_time": "2020-09-24T08:22:58.515252Z",
     "start_time": "2020-09-24T08:22:58.497811Z"
    }
   },
   "outputs": [
    {
     "name": "stdout",
     "output_type": "stream",
     "text": [
      "tensor([0., 0.])\n",
      "tensor([[1., 1.],\n",
      "        [1., 1.]])\n",
      "tensor([5.5000, 3.0000])\n",
      "tensor([[[5.5000, 3.0000],\n",
      "         [4.0000, 6.0000]],\n",
      "\n",
      "        [[1.0000, 2.0000],\n",
      "         [3.0000, 4.0000]]])\n"
     ]
    }
   ],
   "source": [
    "x = torch.zeros(2)\n",
    "print(x)\n",
    "\n",
    "x = torch.ones(2, 2)\n",
    "print(x)\n",
    "\n",
    "x = torch.tensor([5.5, 3])\n",
    "print(x)\n",
    "\n",
    "x = torch.tensor([[[5.5, 3], [4, 6]], [[1, 2], [3, 4]]])\n",
    "print(x)"
   ]
  },
  {
   "cell_type": "code",
   "execution_count": 5,
   "metadata": {
    "ExecuteTime": {
     "end_time": "2020-09-24T08:22:58.735148Z",
     "start_time": "2020-09-24T08:22:58.729233Z"
    }
   },
   "outputs": [],
   "source": [
    "import numpy as np"
   ]
  },
  {
   "cell_type": "code",
   "execution_count": 6,
   "metadata": {
    "ExecuteTime": {
     "end_time": "2020-09-24T08:22:58.959483Z",
     "start_time": "2020-09-24T08:22:58.949160Z"
    }
   },
   "outputs": [
    {
     "name": "stdout",
     "output_type": "stream",
     "text": [
      "tensor([[2., 2., 2.],\n",
      "        [2., 2., 2.]])\n"
     ]
    }
   ],
   "source": [
    "x = torch.ones(2, 3)\n",
    "y = torch.ones(2, 3)\n",
    "res = x+y\n",
    "print(res)"
   ]
  },
  {
   "cell_type": "code",
   "execution_count": 7,
   "metadata": {
    "ExecuteTime": {
     "end_time": "2020-09-24T08:22:59.156252Z",
     "start_time": "2020-09-24T08:22:59.145839Z"
    }
   },
   "outputs": [
    {
     "name": "stdout",
     "output_type": "stream",
     "text": [
      "tensor([[1.2000, 0.6453],\n",
      "        [0.6453, 0.9103]])\n"
     ]
    }
   ],
   "source": [
    "x = torch.rand(2, 3)\n",
    "x_t = x.t()\n",
    "res = torch.mm(x, x_t)\n",
    "print(res)"
   ]
  },
  {
   "cell_type": "code",
   "execution_count": 8,
   "metadata": {
    "ExecuteTime": {
     "end_time": "2020-09-24T08:22:59.392086Z",
     "start_time": "2020-09-24T08:22:59.375064Z"
    }
   },
   "outputs": [
    {
     "name": "stdout",
     "output_type": "stream",
     "text": [
      "tensor([[1., 1., 1.],\n",
      "        [1., 1., 1.],\n",
      "        [1., 1., 1.]])\n",
      "tensor([[11., 11., 11.],\n",
      "        [11., 11., 11.],\n",
      "        [11., 11., 11.]])\n"
     ]
    }
   ],
   "source": [
    "x = torch.ones(3, 3)\n",
    "print(x)\n",
    "\n",
    "y = x + 10\n",
    "print(y)"
   ]
  },
  {
   "cell_type": "code",
   "execution_count": 12,
   "metadata": {
    "ExecuteTime": {
     "end_time": "2020-09-24T08:23:14.759658Z",
     "start_time": "2020-09-24T08:23:14.744269Z"
    }
   },
   "outputs": [
    {
     "name": "stdout",
     "output_type": "stream",
     "text": [
      "tensor([[1., 1., 1.],\n",
      "        [1., 1., 1.],\n",
      "        [1., 1., 1.]], requires_grad=True)\n",
      "tensor([[10., 10., 10.],\n",
      "        [10., 10., 10.],\n",
      "        [10., 10., 10.]], grad_fn=<MulBackward0>)\n",
      "<MulBackward0 object at 0x7fc52aea4750>\n"
     ]
    }
   ],
   "source": [
    "x = torch.ones(3, 3, requires_grad = True)\n",
    "print(x)\n",
    "\n",
    "y = x * 10\n",
    "print(y)"
   ]
  },
  {
   "cell_type": "code",
   "execution_count": 20,
   "metadata": {
    "ExecuteTime": {
     "end_time": "2020-09-23T06:29:39.785177Z",
     "start_time": "2020-09-23T06:29:39.769442Z"
    }
   },
   "outputs": [
    {
     "name": "stdout",
     "output_type": "stream",
     "text": [
      "False\n",
      "True\n",
      "tensor(12506.4580, grad_fn=<SumBackward0>)\n",
      "<SumBackward0 object at 0x7fc7c018c590>\n"
     ]
    }
   ],
   "source": [
    "x = torch.randn(3, 3)\n",
    "x = ((x*3) / (x-1))\n",
    "print(x.requires_grad)\n",
    "\n",
    "x.requires_grad_(True)\n",
    "print(x.requires_grad)\n",
    "\n",
    "y=(x*x).sum()\n",
    "print(y)\n",
    "print(y.grad_fn)"
   ]
  },
  {
   "cell_type": "code",
   "execution_count": 27,
   "metadata": {
    "ExecuteTime": {
     "end_time": "2020-09-23T06:50:18.829707Z",
     "start_time": "2020-09-23T06:50:18.809111Z"
    }
   },
   "outputs": [
    {
     "name": "stdout",
     "output_type": "stream",
     "text": [
      "tensor([[-0.3288,  0.4428,  0.4558],\n",
      "        [-0.8701, -0.0756,  1.1462],\n",
      "        [ 0.3282, -2.1403,  0.2339]], requires_grad=True)\n",
      "tensor([[ 0.7423, -2.3837, -2.5129],\n",
      "        [ 1.3958,  0.2110, 23.5237],\n",
      "        [-1.4655,  2.0447, -0.9158]], grad_fn=<DivBackward0>)\n",
      "tensor([[0.1081, 0.1960, 0.2078],\n",
      "        [0.7571, 0.0057, 1.3137],\n",
      "        [0.1077, 4.5810, 0.0547]], grad_fn=<MulBackward0>)\n",
      "tensor(7.3318, grad_fn=<SumBackward0>)\n",
      "<SumBackward0 object at 0x7fc7c01897d0>\n",
      "None\n",
      "tensor([[-0.6576,  0.8855,  0.9116],\n",
      "        [-1.7402, -0.1513,  2.2923],\n",
      "        [ 0.6564, -4.2806,  0.4678]])\n"
     ]
    }
   ],
   "source": [
    "x = torch.randn(3, 3, requires_grad = True)\n",
    "print(x)\n",
    "y = ((x*3) / (x-1))\n",
    "print(y)\n",
    "\n",
    "z = (x*x).sum()\n",
    "print(x*x)\n",
    "\n",
    "print(z)\n",
    "print(z.grad_fn)\n",
    "\n",
    "z.backward()\n",
    "print(x.grad)"
   ]
  },
  {
   "cell_type": "code",
   "execution_count": null,
   "metadata": {},
   "outputs": [],
   "source": []
  },
  {
   "cell_type": "code",
   "execution_count": null,
   "metadata": {},
   "outputs": [],
   "source": []
  }
 ],
 "metadata": {
  "kernelspec": {
   "display_name": "Python 3",
   "language": "python",
   "name": "python3"
  },
  "language_info": {
   "codemirror_mode": {
    "name": "ipython",
    "version": 3
   },
   "file_extension": ".py",
   "mimetype": "text/x-python",
   "name": "python",
   "nbconvert_exporter": "python",
   "pygments_lexer": "ipython3",
   "version": "3.7.8"
  },
  "varInspector": {
   "cols": {
    "lenName": 16,
    "lenType": 16,
    "lenVar": 40
   },
   "kernels_config": {
    "python": {
     "delete_cmd_postfix": "",
     "delete_cmd_prefix": "del ",
     "library": "var_list.py",
     "varRefreshCmd": "print(var_dic_list())"
    },
    "r": {
     "delete_cmd_postfix": ") ",
     "delete_cmd_prefix": "rm(",
     "library": "var_list.r",
     "varRefreshCmd": "cat(var_dic_list()) "
    }
   },
   "position": {
    "height": "144px",
    "left": "364.6px",
    "right": "20px",
    "top": "120px",
    "width": "350px"
   },
   "types_to_exclude": [
    "module",
    "function",
    "builtin_function_or_method",
    "instance",
    "_Feature"
   ],
   "window_display": false
  }
 },
 "nbformat": 4,
 "nbformat_minor": 4
}

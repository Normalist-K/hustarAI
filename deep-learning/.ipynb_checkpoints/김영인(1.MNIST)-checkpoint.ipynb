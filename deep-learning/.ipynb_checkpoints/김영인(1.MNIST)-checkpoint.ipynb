{
 "cells": [
  {
   "cell_type": "markdown",
   "metadata": {},
   "source": [
    "# Final HW 1 - 김영인"
   ]
  },
  {
   "cell_type": "code",
   "execution_count": 3,
   "metadata": {
    "ExecuteTime": {
     "end_time": "2020-09-28T07:56:59.969499Z",
     "start_time": "2020-09-28T07:56:59.705379Z"
    }
   },
   "outputs": [
    {
     "name": "stdout",
     "output_type": "stream",
     "text": [
      "device: cuda:0, cuda:1\n"
     ]
    }
   ],
   "source": [
    "import torch\n",
    "import torch.nn as nn\n",
    "import torch.optim as optim\n",
    "import torch.nn.init as init\n",
    "import torchvision.datasets as dataset # for loading dataset (mnist)\n",
    "import torchvision.transforms as transforms # for processing datasets\n",
    "from torch.utils.data import DataLoader # for making dataset easier to use \n",
    "\n",
    "from matplotlib import pyplot as plt\n",
    "import numpy as np\n",
    "\n",
    "device0 = torch.device(\"cuda:0\" if torch.cuda.is_available() else \"cpu\")\n",
    "device1 = torch.device(\"cuda:1\" if torch.cuda.is_available() else \"cpu\")\n",
    "print(f\"device: {device0}, {device1}\") if torch.cuda.is_available() else print(\"device: cpu\")"
   ]
  },
  {
   "cell_type": "markdown",
   "metadata": {},
   "source": [
    "# 1. MNIST"
   ]
  },
  {
   "cell_type": "markdown",
   "metadata": {
    "ExecuteTime": {
     "end_time": "2020-09-28T08:53:39.604122Z",
     "start_time": "2020-09-28T08:53:39.599331Z"
    }
   },
   "source": [
    "## Hyper parameter setting"
   ]
  },
  {
   "cell_type": "code",
   "execution_count": 44,
   "metadata": {
    "ExecuteTime": {
     "end_time": "2020-09-28T10:00:12.898850Z",
     "start_time": "2020-09-28T10:00:12.885160Z"
    }
   },
   "outputs": [],
   "source": [
    "lr = 1e-1\n",
    "epochs = 40\n",
    "batch_size = 32\n",
    "act = nn.ReLU()\n",
    "display_step = 10\n",
    "dropout_rate = .2\n",
    "scheduler_step = 1\n",
    "scheduler_gamma = 0.99"
   ]
  },
  {
   "cell_type": "markdown",
   "metadata": {},
   "source": [
    "## Load data & Pre-process data"
   ]
  },
  {
   "cell_type": "code",
   "execution_count": 45,
   "metadata": {
    "ExecuteTime": {
     "end_time": "2020-09-28T10:00:14.351326Z",
     "start_time": "2020-09-28T10:00:14.179089Z"
    }
   },
   "outputs": [
    {
     "name": "stdout",
     "output_type": "stream",
     "text": [
      "len(train_data):  60000\n",
      "len(test_data):  10000\n",
      "original data shape:  torch.Size([1, 28, 28])\n",
      "label:  5\n"
     ]
    },
    {
     "data": {
      "image/png": "[encoded data removed]",
      "text/plain": [
       "<Figure size 432x288 with 1 Axes>"
      ]
     },
     "metadata": {
      "needs_background": "light"
     },
     "output_type": "display_data"
    }
   ],
   "source": [
    "# load data\n",
    "train_data = dataset.MNIST(\"./\", train = True, \n",
    "                           transform = transforms.ToTensor(),\n",
    "                           target_transform = None, \n",
    "                           download = True)\n",
    "test_data = dataset.MNIST(\"./\", train = False,\n",
    "                          transform = transforms.ToTensor(),\n",
    "                          target_transform = None,\n",
    "                          download = True)\n",
    "\n",
    "# check the data\n",
    "print('len(train_data): ', len(train_data))\n",
    "print('len(test_data): ', len(test_data))\n",
    "\n",
    "x_train, y_train = train_data[0]\n",
    "print('original data shape: ', x_train.shape)\n",
    "print('label: ', y_train)\n",
    "\n",
    "plt.figure()\n",
    "plt.imshow(x_train[0])\n",
    "plt.show()"
   ]
  },
  {
   "cell_type": "code",
   "execution_count": 48,
   "metadata": {
    "ExecuteTime": {
     "end_time": "2020-09-28T10:01:55.949030Z",
     "start_time": "2020-09-28T10:01:54.971868Z"
    }
   },
   "outputs": [
    {
     "name": "stdout",
     "output_type": "stream",
     "text": [
      "processed data shape: torch.Size([32, 1, 28, 28])\n",
      "label: tensor([9, 4, 9, 6, 6, 2, 8, 4, 1, 3, 6, 3, 1, 8, 4, 1, 4, 5, 8, 4, 3, 9, 3, 4,\n",
      "        9, 7, 1, 2, 2, 9, 4, 2])\n"
     ]
    },
    {
     "data": {
      "image/png": "[encoded data removed]",
      "text/plain": [
       "<Figure size 432x288 with 1 Axes>"
      ]
     },
     "metadata": {
      "needs_background": "light"
     },
     "output_type": "display_data"
    },
    {
     "name": "stdout",
     "output_type": "stream",
     "text": [
      "10000\n"
     ]
    }
   ],
   "source": [
    "# preprocess data\n",
    "train_loader = torch.utils.data.DataLoader(train_data,\n",
    "                                           batch_size = batch_size,\n",
    "                                           shuffle = True, \n",
    "                                           num_workers = 1,\n",
    "                                           drop_last = True) \n",
    "test_loader = torch.utils.data.DataLoader(test_data,\n",
    "                                          batch_size = 10000,\n",
    "                                          shuffle = True,\n",
    "                                          num_workers = 1,\n",
    "                                          drop_last = True)\n",
    "\n",
    "# check the data (배치 중 하나만 가져와서 확인)\n",
    "examples = enumerate(train_loader)\n",
    "batch_idx, (example_data, example_target) = next(examples)\n",
    "\n",
    "print('processed data shape:', example_data.shape)\n",
    "print('label:', example_target)\n",
    "\n",
    "plt.figure()\n",
    "plt.imshow(example_data[0][0])\n",
    "plt.show()"
   ]
  },
  {
   "cell_type": "markdown",
   "metadata": {},
   "source": [
    "## Model Setting"
   ]
  },
  {
   "cell_type": "code",
   "execution_count": 46,
   "metadata": {
    "ExecuteTime": {
     "end_time": "2020-09-28T10:00:19.967032Z",
     "start_time": "2020-09-28T10:00:19.943484Z"
    }
   },
   "outputs": [],
   "source": [
    "# model\n",
    "class CNN(nn.Module):\n",
    "    def __init__(self):\n",
    "        super(CNN,self).__init__()\n",
    "        self.feature_extraction = nn.Sequential(\n",
    "            # origin : 1 * 28 * 28\n",
    "            nn.Conv2d(1, 16, 3, padding = 1), # 16 * 28 * 28\n",
    "            nn.BatchNorm2d(16),\n",
    "            act,\n",
    "            nn.MaxPool2d(2,2), # 16 * 14 * 14\n",
    "            nn.Conv2d(16, 32, 3, padding = 1), # 32 * 14 * 14\n",
    "            nn.BatchNorm2d(32),\n",
    "            act,\n",
    "            nn.MaxPool2d(2,2) # 32 * 7 * 7\n",
    "        )\n",
    "        self.classifier = nn.Sequential(\n",
    "            nn.Linear(32 * 7 * 7, 100),\n",
    "            nn.BatchNorm1d(100),\n",
    "            act,\n",
    "            nn.Dropout(dropout_rate),\n",
    "            nn.Linear(100,10)\n",
    "        )\n",
    "    def forward(self, x):\n",
    "        feature_extraction = self.feature_extraction(x)\n",
    "        flatten = feature_extraction.view(x.shape[0], -1)         \n",
    "        logit = self.classifier(flatten)\n",
    "        \n",
    "        return logit\n",
    "        \n",
    "model = CNN().to(device0)\n",
    "model.train()\n",
    "\n",
    "# loss and optimizer\n",
    "loss_function = nn.CrossEntropyLoss()\n",
    "optimizer = optim.SGD(model.parameters(), lr = lr)\n",
    "scheduler = optim.lr_scheduler.StepLR(optimizer, \n",
    "                                      step_size = scheduler_step,\n",
    "                                      gamma = scheduler_gamma)"
   ]
  },
  {
   "cell_type": "markdown",
   "metadata": {},
   "source": [
    "## Train"
   ]
  },
  {
   "cell_type": "code",
   "execution_count": 49,
   "metadata": {
    "ExecuteTime": {
     "end_time": "2020-09-28T10:14:29.161011Z",
     "start_time": "2020-09-28T10:04:50.177869Z"
    }
   },
   "outputs": [
    {
     "name": "stdout",
     "output_type": "stream",
     "text": [
      "0 epoch loss: 0.22368621826171875\n",
      "10 epoch loss: 0.0008498001261614263\n",
      "20 epoch loss: 0.00013486214447766542\n",
      "30 epoch loss: 0.0019031378906220198\n"
     ]
    }
   ],
   "source": [
    "loss_array = []\n",
    "\n",
    "# train the model\n",
    "for i in range(epochs):\n",
    "    scheduler.step()\n",
    "    for index, [data, label] in enumerate(train_loader):\n",
    "        optimizer.zero_grad()\n",
    "        \n",
    "        data = data.to(device0)\n",
    "        label = label.to(device0)        \n",
    "        \n",
    "        output = model.forward(data)\n",
    "        loss = loss_function(output, label)\n",
    "        \n",
    "        loss.backward()\n",
    "        optimizer.step()\n",
    "        \n",
    "    if i % display_step == 0:\n",
    "        print(f'{i} epoch loss: {loss}')\n",
    "        loss_array.append(loss.cpu().detach().numpy())\n",
    "        "
   ]
  },
  {
   "cell_type": "markdown",
   "metadata": {},
   "source": [
    "## test"
   ]
  },
  {
   "cell_type": "code",
   "execution_count": 50,
   "metadata": {
    "ExecuteTime": {
     "end_time": "2020-09-28T10:14:46.081650Z",
     "start_time": "2020-09-28T10:14:45.222786Z"
    }
   },
   "outputs": [
    {
     "name": "stdout",
     "output_type": "stream",
     "text": [
      "Accuracy of the model: 0.9939000010490417\n"
     ]
    }
   ],
   "source": [
    "#test the model\n",
    "model.eval()\n",
    "correct = 0\n",
    "total = 0\n",
    "\n",
    "prediction_list = []\n",
    "label_list = []\n",
    "\n",
    "with torch.no_grad():\n",
    "    for index, [data, label] in enumerate(test_loader):\n",
    "        data = data.to(device0)\n",
    "        label = label.to(device0)\n",
    "        \n",
    "        output = model.forward(data)\n",
    "        _, prediction_index = torch.max(output, 1)\n",
    "        \n",
    "        prediction_list.append(prediction_index)\n",
    "        label_list.append(label)\n",
    "        \n",
    "        total += label.size(0)\n",
    "        correct += (prediction_index == label).sum().float()\n",
    "\n",
    "    print(\"Accuracy of the model: {}\".format(correct/total))"
   ]
  },
  {
   "cell_type": "markdown",
   "metadata": {},
   "source": [
    "## Plot result"
   ]
  },
  {
   "cell_type": "code",
   "execution_count": 53,
   "metadata": {
    "ExecuteTime": {
     "end_time": "2020-09-28T10:38:47.298527Z",
     "start_time": "2020-09-28T10:38:47.059248Z"
    }
   },
   "outputs": [
    {
     "data": {
      "image/png": "[encoded data removed]",
      "text/plain": [
       "<Figure size 432x288 with 1 Axes>"
      ]
     },
     "metadata": {
      "needs_background": "light"
     },
     "output_type": "display_data"
    },
    {
     "name": "stdout",
     "output_type": "stream",
     "text": [
      "prediction : (10000,)\n",
      "true label : (10000,)\n"
     ]
    },
    {
     "data": {
      "text/plain": [
       "array([[ 977,    1,    0,    0,    0,    0,    1,    1,    0,    0],\n",
       "       [   0, 1130,    0,    1,    0,    0,    2,    1,    1,    0],\n",
       "       [   1,    0, 1026,    0,    1,    0,    0,    4,    0,    0],\n",
       "       [   0,    0,    1, 1005,    0,    3,    0,    0,    1,    0],\n",
       "       [   0,    0,    0,    0,  977,    0,    0,    0,    0,    5],\n",
       "       [   0,    0,    0,    6,    0,  885,    1,    0,    0,    0],\n",
       "       [   3,    1,    0,    1,    1,    0,  951,    0,    1,    0],\n",
       "       [   0,    1,    2,    0,    0,    0,    0, 1025,    0,    0],\n",
       "       [   1,    0,    2,    1,    0,    1,    0,    0,  968,    1],\n",
       "       [   0,    0,    0,    1,    4,    4,    0,    4,    1,  995]])"
      ]
     },
     "execution_count": 53,
     "metadata": {},
     "output_type": "execute_result"
    }
   ],
   "source": [
    "plt.figure()\n",
    "plt.plot(loss_array)\n",
    "plt.show()\n",
    "\n",
    "# confusion matrix\n",
    "from sklearn.metrics import confusion_matrix\n",
    "import numpy as np\n",
    "    \n",
    "prediction_array = np.array(prediction_list[0].cpu())\n",
    "label_array = np.array(label_list[0].cpu())\n",
    "\n",
    "print(\"prediction :\", prediction_array.shape)\n",
    "print(\"true label :\", label_array.shape)\n",
    "\n",
    "confusion_matrix(\n",
    "    label_array,\n",
    "    prediction_array) # y_pred"
   ]
  }
 ],
 "metadata": {
  "kernelspec": {
   "display_name": "Python 3",
   "language": "python",
   "name": "python3"
  },
  "language_info": {
   "codemirror_mode": {
    "name": "ipython",
    "version": 3
   },
   "file_extension": ".py",
   "mimetype": "text/x-python",
   "name": "python",
   "nbconvert_exporter": "python",
   "pygments_lexer": "ipython3",
   "version": "3.7.8"
  },
  "varInspector": {
   "cols": {
    "lenName": 16,
    "lenType": 16,
    "lenVar": 40
   },
   "kernels_config": {
    "python": {
     "delete_cmd_postfix": "",
     "delete_cmd_prefix": "del ",
     "library": "var_list.py",
     "varRefreshCmd": "print(var_dic_list())"
    },
    "r": {
     "delete_cmd_postfix": ") ",
     "delete_cmd_prefix": "rm(",
     "library": "var_list.r",
     "varRefreshCmd": "cat(var_dic_list()) "
    }
   },
   "types_to_exclude": [
    "module",
    "function",
    "builtin_function_or_method",
    "instance",
    "_Feature"
   ],
   "window_display": false
  }
 },
 "nbformat": 4,
 "nbformat_minor": 4
}

{
 "cells": [
  {
   "cell_type": "code",
   "execution_count": 1,
   "metadata": {
    "ExecuteTime": {
     "end_time": "2020-09-23T05:20:38.608311Z",
     "start_time": "2020-09-23T05:20:38.310219Z"
    }
   },
   "outputs": [],
   "source": [
    "import torch"
   ]
  },
  {
   "cell_type": "code",
   "execution_count": 9,
   "metadata": {
    "ExecuteTime": {
     "end_time": "2020-09-23T06:15:41.215211Z",
     "start_time": "2020-09-23T06:15:41.196551Z"
    }
   },
   "outputs": [
    {
     "name": "stdout",
     "output_type": "stream",
     "text": [
      "tensor([0.4714, 0.7462])\n",
      "tensor([[0.4024, 0.2511],\n",
      "        [0.7040, 0.9093]])\n",
      "tensor([[[[0.6534, 0.9671],\n",
      "          [0.9131, 0.4447]],\n",
      "\n",
      "         [[0.9302, 0.4597],\n",
      "          [0.3213, 0.9397]]],\n",
      "\n",
      "\n",
      "        [[[0.9899, 0.6805],\n",
      "          [0.8408, 0.6907]],\n",
      "\n",
      "         [[0.8446, 0.4392],\n",
      "          [0.5064, 0.4653]]]])\n"
     ]
    }
   ],
   "source": [
    "x = torch.rand(2)\n",
    "print(x)\n",
    "\n",
    "x = torch.rand(2, 2)\n",
    "print(x)\n",
    "\n",
    "x = torch.rand(2, 2, 2, 2)\n",
    "print(x)"
   ]
  },
  {
   "cell_type": "code",
   "execution_count": 8,
   "metadata": {
    "ExecuteTime": {
     "end_time": "2020-09-23T06:14:25.444574Z",
     "start_time": "2020-09-23T06:14:25.429770Z"
    }
   },
   "outputs": [
    {
     "name": "stdout",
     "output_type": "stream",
     "text": [
      "tensor([0., 0.])\n",
      "tensor([[1., 1.],\n",
      "        [1., 1.]])\n",
      "tensor([5.5000, 3.0000])\n",
      "tensor([[[5.5000, 3.0000],\n",
      "         [4.0000, 6.0000]],\n",
      "\n",
      "        [[1.0000, 2.0000],\n",
      "         [3.0000, 4.0000]]])\n"
     ]
    }
   ],
   "source": [
    "x = torch.zeros(2)\n",
    "print(x)\n",
    "\n",
    "x = torch.ones(2, 2)\n",
    "print(x)\n",
    "\n",
    "x = torch.tensor([5.5, 3])\n",
    "print(x)\n",
    "\n",
    "x = torch.tensor([[[5.5, 3], [4, 6]], [[1, 2], [3, 4]]])\n",
    "print(x)"
   ]
  },
  {
   "cell_type": "code",
   "execution_count": 10,
   "metadata": {
    "ExecuteTime": {
     "end_time": "2020-09-23T06:16:52.701355Z",
     "start_time": "2020-09-23T06:16:52.696187Z"
    }
   },
   "outputs": [],
   "source": [
    "import numpy as np"
   ]
  },
  {
   "cell_type": "code",
   "execution_count": 13,
   "metadata": {
    "ExecuteTime": {
     "end_time": "2020-09-23T06:18:00.956502Z",
     "start_time": "2020-09-23T06:18:00.947518Z"
    }
   },
   "outputs": [
    {
     "name": "stdout",
     "output_type": "stream",
     "text": [
      "tensor([[2., 2., 2.],\n",
      "        [2., 2., 2.]])\n"
     ]
    }
   ],
   "source": [
    "x = torch.ones(2, 3)\n",
    "y = torch.ones(2, 3)\n",
    "res = x+y\n",
    "print(res)"
   ]
  },
  {
   "cell_type": "code",
   "execution_count": 16,
   "metadata": {
    "ExecuteTime": {
     "end_time": "2020-09-23T06:19:25.504944Z",
     "start_time": "2020-09-23T06:19:25.494884Z"
    }
   },
   "outputs": [
    {
     "name": "stdout",
     "output_type": "stream",
     "text": [
      "tensor([[1.8547, 1.1729],\n",
      "        [1.1729, 0.9963]])\n"
     ]
    }
   ],
   "source": [
    "x = torch.rand(2, 3)\n",
    "x_t = x.t()\n",
    "res = torch.mm(x, x_t)\n",
    "print(res)"
   ]
  },
  {
   "cell_type": "code",
   "execution_count": 17,
   "metadata": {
    "ExecuteTime": {
     "end_time": "2020-09-23T06:27:41.203905Z",
     "start_time": "2020-09-23T06:27:41.191097Z"
    }
   },
   "outputs": [
    {
     "name": "stdout",
     "output_type": "stream",
     "text": [
      "tensor([[1., 1., 1.],\n",
      "        [1., 1., 1.],\n",
      "        [1., 1., 1.]])\n",
      "tensor([[11., 11., 11.],\n",
      "        [11., 11., 11.],\n",
      "        [11., 11., 11.]])\n"
     ]
    }
   ],
   "source": [
    "x = torch.ones(3, 3)\n",
    "print(x)\n",
    "\n",
    "y = x + 10\n",
    "print(y)"
   ]
  },
  {
   "cell_type": "code",
   "execution_count": 19,
   "metadata": {
    "ExecuteTime": {
     "end_time": "2020-09-23T06:28:18.205252Z",
     "start_time": "2020-09-23T06:28:18.190736Z"
    }
   },
   "outputs": [
    {
     "name": "stdout",
     "output_type": "stream",
     "text": [
      "tensor([[1., 1., 1.],\n",
      "        [1., 1., 1.],\n",
      "        [1., 1., 1.]], requires_grad=True)\n",
      "tensor([[10., 10., 10.],\n",
      "        [10., 10., 10.],\n",
      "        [10., 10., 10.]], grad_fn=<MulBackward0>)\n"
     ]
    }
   ],
   "source": [
    "x = torch.ones(3, 3, requires_grad = True)\n",
    "print(x)\n",
    "\n",
    "y = x * 10\n",
    "print(y)"
   ]
  },
  {
   "cell_type": "code",
   "execution_count": 20,
   "metadata": {
    "ExecuteTime": {
     "end_time": "2020-09-23T06:29:39.785177Z",
     "start_time": "2020-09-23T06:29:39.769442Z"
    }
   },
   "outputs": [
    {
     "name": "stdout",
     "output_type": "stream",
     "text": [
      "False\n",
      "True\n",
      "tensor(12506.4580, grad_fn=<SumBackward0>)\n",
      "<SumBackward0 object at 0x7fc7c018c590>\n"
     ]
    }
   ],
   "source": [
    "x = torch.randn(3, 3)\n",
    "x = ((x*3) / (x-1))\n",
    "print(x.requires_grad)\n",
    "\n",
    "x.requires_grad_(True)\n",
    "print(x.requires_grad)\n",
    "\n",
    "y=(x*x).sum()\n",
    "print(y)\n",
    "print(y.grad_fn)"
   ]
  },
  {
   "cell_type": "code",
   "execution_count": 27,
   "metadata": {
    "ExecuteTime": {
     "end_time": "2020-09-23T06:50:18.829707Z",
     "start_time": "2020-09-23T06:50:18.809111Z"
    }
   },
   "outputs": [
    {
     "name": "stdout",
     "output_type": "stream",
     "text": [
      "tensor([[-0.3288,  0.4428,  0.4558],\n",
      "        [-0.8701, -0.0756,  1.1462],\n",
      "        [ 0.3282, -2.1403,  0.2339]], requires_grad=True)\n",
      "tensor([[ 0.7423, -2.3837, -2.5129],\n",
      "        [ 1.3958,  0.2110, 23.5237],\n",
      "        [-1.4655,  2.0447, -0.9158]], grad_fn=<DivBackward0>)\n",
      "tensor([[0.1081, 0.1960, 0.2078],\n",
      "        [0.7571, 0.0057, 1.3137],\n",
      "        [0.1077, 4.5810, 0.0547]], grad_fn=<MulBackward0>)\n",
      "tensor(7.3318, grad_fn=<SumBackward0>)\n",
      "<SumBackward0 object at 0x7fc7c01897d0>\n",
      "None\n",
      "tensor([[-0.6576,  0.8855,  0.9116],\n",
      "        [-1.7402, -0.1513,  2.2923],\n",
      "        [ 0.6564, -4.2806,  0.4678]])\n"
     ]
    }
   ],
   "source": [
    "x = torch.randn(3, 3, requires_grad = True)\n",
    "print(x)\n",
    "y = ((x*3) / (x-1))\n",
    "print(y)\n",
    "\n",
    "z = (x*x).sum()\n",
    "print(x*x)\n",
    "\n",
    "print(z)\n",
    "print(z.grad_fn)\n",
    "\n",
    "z.backward()\n",
    "print(x.grad)"
   ]
  },
  {
   "cell_type": "code",
   "execution_count": null,
   "metadata": {},
   "outputs": [],
   "source": []
  },
  {
   "cell_type": "code",
   "execution_count": null,
   "metadata": {},
   "outputs": [],
   "source": []
  }
 ],
 "metadata": {
  "kernelspec": {
   "display_name": "Python 3",
   "language": "python",
   "name": "python3"
  },
  "language_info": {
   "codemirror_mode": {
    "name": "ipython",
    "version": 3
   },
   "file_extension": ".py",
   "mimetype": "text/x-python",
   "name": "python",
   "nbconvert_exporter": "python",
   "pygments_lexer": "ipython3",
   "version": "3.7.8"
  },
  "varInspector": {
   "cols": {
    "lenName": 16,
    "lenType": 16,
    "lenVar": 40
   },
   "kernels_config": {
    "python": {
     "delete_cmd_postfix": "",
     "delete_cmd_prefix": "del ",
     "library": "var_list.py",
     "varRefreshCmd": "print(var_dic_list())"
    },
    "r": {
     "delete_cmd_postfix": ") ",
     "delete_cmd_prefix": "rm(",
     "library": "var_list.r",
     "varRefreshCmd": "cat(var_dic_list()) "
    }
   },
   "position": {
    "height": "144px",
    "left": "364.6px",
    "right": "20px",
    "top": "120px",
    "width": "350px"
   },
   "types_to_exclude": [
    "module",
    "function",
    "builtin_function_or_method",
    "instance",
    "_Feature"
   ],
   "window_display": false
  }
 },
 "nbformat": 4,
 "nbformat_minor": 4
}

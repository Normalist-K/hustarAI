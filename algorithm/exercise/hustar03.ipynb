{
 "cells": [
  {
   "cell_type": "markdown",
   "metadata": {},
   "source": [
    "# 하노이의 탑"
   ]
  },
  {
   "cell_type": "code",
   "execution_count": 1,
   "metadata": {},
   "outputs": [
    {
     "name": "stdout",
     "output_type": "stream",
     "text": [
      "1\n",
      "3\n",
      "A -> C\n",
      "A -> B\n",
      "C -> B\n",
      "A -> C\n",
      "B -> A\n",
      "B -> C\n",
      "A -> C\n"
     ]
    }
   ],
   "source": [
    "def hanoi(n, start, mid, end):\n",
    "    if n == 0:\n",
    "        return\n",
    "    hanoi(n-1, start, end, mid) # n-1개 고리를 start에서 mid로 옮김\n",
    "    print(start, '->', end) # 남은 1개를 start에서 end로 옮김\n",
    "    hanoi(n-1, mid, start, end)\n",
    "    \n",
    "T = int(input())\n",
    "for _ in range(T):\n",
    "    n = int(input())\n",
    "    hanoi(n, \"A\", \"B\", \"C\")\n",
    "    "
   ]
  },
  {
   "cell_type": "markdown",
   "metadata": {},
   "source": [
    "# 이진 탐색"
   ]
  },
  {
   "cell_type": "code",
   "execution_count": 49,
   "metadata": {},
   "outputs": [],
   "source": [
    "def binary_search(nums, num, left, right):\n",
    "    if left > right:\n",
    "        return left\n",
    "    \n",
    "    mid = (0 + len(nums)) // 2\n",
    "    \n",
    "    if nums[mid] == num:\n",
    "        return left + mid\n",
    "    elif nums[mid] < num:\n",
    "        return binary_search(nums[mid+1:], num, mid + 1, right)\n",
    "    else: \n",
    "        return binary_search(nums[:mid], num, left, mid - 1)\n",
    "    "
   ]
  },
  {
   "cell_type": "code",
   "execution_count": 50,
   "metadata": {},
   "outputs": [
    {
     "name": "stdout",
     "output_type": "stream",
     "text": [
      "[0, 1, 2, 3, 4, 5, 6, 6, 8, 3]\n"
     ]
    }
   ],
   "source": [
    "nums = [1, 2, 3, 4, 5, 6, 7, 8, 9, 10]\n",
    "answer = []\n",
    "\n",
    "for q in nums:\n",
    "    left = 0\n",
    "    right = len(data) - 1\n",
    "    answer.append(binary_search(nums, q, left, right))\n",
    "        \n",
    "print(answer)"
   ]
  },
  {
   "cell_type": "code",
   "execution_count": 48,
   "metadata": {},
   "outputs": [
    {
     "name": "stdout",
     "output_type": "stream",
     "text": [
      "1\n",
      "1 2 3 4 5 6 7 8 9 10\n",
      "1 2 3 4 5 6 7 8 9 10\n",
      "0 1 2 3 4 5 6 7 8 9\n"
     ]
    }
   ],
   "source": [
    "T = int(input())\n",
    "for _ in range(T):\n",
    "    data = list(map(int, input().split()))\n",
    "    query = list(map(int, input().split()))\n",
    "    answer = []\n",
    "    \n",
    "    for q in query:\n",
    "        left = 0\n",
    "        right = len(data) - 1\n",
    "        while left <= right:\n",
    "            mid = (left + right) // 2\n",
    "            if data[mid] == q:\n",
    "                break\n",
    "            elif data[mid] > q:\n",
    "                right = mid - 1\n",
    "            elif data[mid] < q:\n",
    "                left = mid + 1\n",
    "                \n",
    "        if left > right:\n",
    "            answer.append(-1)\n",
    "        else:\n",
    "            answer.append(mid)\n",
    "            \n",
    "    print(*answer)"
   ]
  },
  {
   "cell_type": "code",
   "execution_count": 61,
   "metadata": {},
   "outputs": [
    {
     "name": "stdout",
     "output_type": "stream",
     "text": [
      "[0, 1, -1, -1, 4, -1, -1, -1, -1, -1]\n"
     ]
    }
   ],
   "source": [
    "def binary(data, left, right, q):\n",
    "    if left > right:\n",
    "        return -1\n",
    "    mid = (left + right) // 2\n",
    "    if data[mid] == q:\n",
    "        return mid\n",
    "    elif data[mid] > q:\n",
    "        return binary(data, left, mid-1, q)\n",
    "    elif data[mid] < q:\n",
    "        return binary(data, mid+1, left, q)\n",
    "    \n",
    "nums = [1, 2, 3, 4, 5, 6, 7, 8, 9, 10]\n",
    "answer = []\n",
    "\n",
    "for q in nums:\n",
    "    left = 0\n",
    "    right = len(nums) - 1\n",
    "    answer.append(binary(nums, left, right, q))\n",
    "        \n",
    "print(answer)"
   ]
  },
  {
   "cell_type": "code",
   "execution_count": 68,
   "metadata": {},
   "outputs": [
    {
     "data": {
      "text/plain": [
       "[1, 2, 3, 5, 7]"
      ]
     },
     "execution_count": 68,
     "metadata": {},
     "output_type": "execute_result"
    }
   ],
   "source": [
    "import bisect\n",
    "\n",
    "a = [1, 3, 5, 7]\n",
    "bisect.insort_left(a, 2)\n",
    "a\n",
    "\n",
    "# bisect_left 를 활용해도 됨"
   ]
  },
  {
   "cell_type": "markdown",
   "metadata": {},
   "source": [
    "# n<sup>k</sup> mod m 효율적으로 계산하기"
   ]
  },
  {
   "cell_type": "code",
   "execution_count": 59,
   "metadata": {},
   "outputs": [
    {
     "data": {
      "text/plain": [
       "1234576"
      ]
     },
     "execution_count": 59,
     "metadata": {},
     "output_type": "execute_result"
    }
   ],
   "source": [
    "def pow_mod(n, k, m):\n",
    "    if n == 1 or k == 0:\n",
    "        return 1\n",
    "    if n == 0:\n",
    "        return 0 \n",
    "    if k == 1:\n",
    "        return n\n",
    "    \n",
    "    half = pow_mod(n, k//2, m)\n",
    "    \n",
    "    if k % 2 == 0:\n",
    "        return (half * half) % m\n",
    "    else:\n",
    "        return (half * half * n) % m\n",
    "    \n",
    "pow_mod(10, 8, 12345678)"
   ]
  },
  {
   "cell_type": "markdown",
   "metadata": {},
   "source": [
    "# 인접 행렬"
   ]
  },
  {
   "cell_type": "code",
   "execution_count": null,
   "metadata": {},
   "outputs": [],
   "source": []
  },
  {
   "cell_type": "code",
   "execution_count": null,
   "metadata": {},
   "outputs": [],
   "source": []
  },
  {
   "cell_type": "code",
   "execution_count": null,
   "metadata": {},
   "outputs": [],
   "source": []
  },
  {
   "cell_type": "code",
   "execution_count": 69,
   "metadata": {},
   "outputs": [
    {
     "ename": "TypeError",
     "evalue": "unsupported operand type(s) for -: 'list' and 'list'",
     "output_type": "error",
     "traceback": [
      "\u001b[0;31m---------------------------------------------------------------------------\u001b[0m",
      "\u001b[0;31mTypeError\u001b[0m                                 Traceback (most recent call last)",
      "\u001b[0;32m<ipython-input-69-2879ac1b17f9>\u001b[0m in \u001b[0;36m<module>\u001b[0;34m\u001b[0m\n\u001b[0;32m----> 1\u001b[0;31m \u001b[0;34m[\u001b[0m\u001b[0;36m1\u001b[0m\u001b[0;34m,\u001b[0m \u001b[0;36m2\u001b[0m\u001b[0;34m,\u001b[0m \u001b[0;36m3\u001b[0m\u001b[0;34m]\u001b[0m \u001b[0;34m-\u001b[0m \u001b[0;34m[\u001b[0m\u001b[0;36m3\u001b[0m\u001b[0;34m,\u001b[0m \u001b[0;36m4\u001b[0m\u001b[0;34m,\u001b[0m \u001b[0;36m5\u001b[0m\u001b[0;34m]\u001b[0m\u001b[0;34m\u001b[0m\u001b[0;34m\u001b[0m\u001b[0m\n\u001b[0m",
      "\u001b[0;31mTypeError\u001b[0m: unsupported operand type(s) for -: 'list' and 'list'"
     ]
    }
   ],
   "source": [
    "[1, 2, 3] - [3, 4, 5]"
   ]
  },
  {
   "cell_type": "code",
   "execution_count": null,
   "metadata": {},
   "outputs": [],
   "source": []
  },
  {
   "cell_type": "code",
   "execution_count": null,
   "metadata": {},
   "outputs": [],
   "source": []
  }
 ],
 "metadata": {
  "kernelspec": {
   "display_name": "Python 3",
   "language": "python",
   "name": "python3"
  },
  "language_info": {
   "codemirror_mode": {
    "name": "ipython",
    "version": 3
   },
   "file_extension": ".py",
   "mimetype": "text/x-python",
   "name": "python",
   "nbconvert_exporter": "python",
   "pygments_lexer": "ipython3",
   "version": "3.8.3"
  }
 },
 "nbformat": 4,
 "nbformat_minor": 4
}

{
 "cells": [
  {
   "cell_type": "code",
   "execution_count": 3,
   "metadata": {},
   "outputs": [],
   "source": [
    "# import libraries\n",
    "import matplotlib.pyplot as plt\n",
    "import numpy as np\n",
    "import pandas as pd\n",
    "\n",
    "from apyori import apriori"
   ]
  },
  {
   "cell_type": "code",
   "execution_count": 4,
   "metadata": {},
   "outputs": [
    {
     "name": "stdout",
     "output_type": "stream",
     "text": [
      "[['b', 'c', 'g'], ['a', 'b', 'd', 'e', 'f'], ['a', 'b', 'c', 'g'], ['b', 'c', 'e', 'f'], ['b', 'c', 'e', 'f', 'g']]\n"
     ]
    }
   ],
   "source": [
    "# create example data for association rule mining\n",
    "trans = [['b', 'c', 'g'],\n",
    "        ['a', 'b', 'd', 'e', 'f'],\n",
    "        ['a', 'b', 'c', 'g'],\n",
    "        ['b', 'c', 'e', 'f'],\n",
    "        ['b', 'c', 'e', 'f', 'g']]\n",
    "print(trans)"
   ]
  },
  {
   "cell_type": "code",
   "execution_count": 5,
   "metadata": {},
   "outputs": [],
   "source": [
    "# parameter setting\n",
    "min_supp = 0.5\n",
    "min_conf = 0.6\n",
    "min_lift = 1.01"
   ]
  },
  {
   "cell_type": "code",
   "execution_count": 7,
   "metadata": {},
   "outputs": [],
   "source": [
    "?apriori"
   ]
  },
  {
   "cell_type": "code",
   "execution_count": 7,
   "metadata": {},
   "outputs": [
    {
     "name": "stdout",
     "output_type": "stream",
     "text": [
      "RelationRecord(items=frozenset({'c', 'g'}), support=0.6, ordered_statistics=[OrderedStatistic(items_base=frozenset({'c'}), items_add=frozenset({'g'}), confidence=0.7499999999999999, lift=1.2499999999999998), OrderedStatistic(items_base=frozenset({'g'}), items_add=frozenset({'c'}), confidence=1.0, lift=1.25)])\n"
     ]
    }
   ],
   "source": [
    "# extract association rules\n",
    "rules = apriori(trans, min_support=min_supp, min_confidence=min_conf, min_lift=min_lift)\n",
    "\n",
    "results = list(rules)\n",
    "print(results[0])"
   ]
  },
  {
   "cell_type": "code",
   "execution_count": 8,
   "metadata": {},
   "outputs": [
    {
     "name": "stdout",
     "output_type": "stream",
     "text": [
      "frozenset({'c'}) -> frozenset({'g'}) | support: 0.600 | confidence: 0.750 | lift: 1.250\n",
      "frozenset({'g'}) -> frozenset({'c'}) | support: 0.600 | confidence: 1.000 | lift: 1.250\n",
      "frozenset({'e'}) -> frozenset({'f'}) | support: 0.600 | confidence: 1.000 | lift: 1.667\n",
      "frozenset({'f'}) -> frozenset({'e'}) | support: 0.600 | confidence: 1.000 | lift: 1.667\n",
      "frozenset({'c', 'b'}) -> frozenset({'g'}) | support: 0.600 | confidence: 0.750 | lift: 1.250\n",
      "frozenset({'g', 'b'}) -> frozenset({'c'}) | support: 0.600 | confidence: 1.000 | lift: 1.250\n",
      "frozenset({'e', 'b'}) -> frozenset({'f'}) | support: 0.600 | confidence: 1.000 | lift: 1.667\n",
      "frozenset({'f', 'b'}) -> frozenset({'e'}) | support: 0.600 | confidence: 1.000 | lift: 1.667\n"
     ]
    }
   ],
   "source": [
    "# define print function\n",
    "def print_assoc_rule(line):\n",
    "    for i in range(len(line.ordered_statistics)):\n",
    "        a = line.ordered_statistics[i].items_base\n",
    "        b = line.ordered_statistics[i].items_add\n",
    "        supp = line.support\n",
    "        conf = line.ordered_statistics[i].confidence\n",
    "        lift = line.ordered_statistics[i].lift\n",
    "        print(a, '->', b, '| support: %0.3f' % supp, '| confidence: %0.3f' % conf, '| lift: %0.3f' % lift)\n",
    "    return None\n",
    "\n",
    "# print the result\n",
    "for row in results:\n",
    "    print_assoc_rule(row)"
   ]
  }
 ],
 "metadata": {
  "kernelspec": {
   "display_name": "Python 3",
   "language": "python",
   "name": "python3"
  },
  "language_info": {
   "codemirror_mode": {
    "name": "ipython",
    "version": 3
   },
   "file_extension": ".py",
   "mimetype": "text/x-python",
   "name": "python",
   "nbconvert_exporter": "python",
   "pygments_lexer": "ipython3",
   "version": "3.7.1"
  }
 },
 "nbformat": 4,
 "nbformat_minor": 2
}

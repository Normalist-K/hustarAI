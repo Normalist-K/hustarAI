{
 "cells": [
  {
   "cell_type": "code",
   "execution_count": 1,
   "metadata": {},
   "outputs": [
    {
     "ename": "ModuleNotFoundError",
     "evalue": "No module named 'surprise'",
     "output_type": "error",
     "traceback": [
      "\u001b[1;31m---------------------------------------------------------------------------\u001b[0m",
      "\u001b[1;31mModuleNotFoundError\u001b[0m                       Traceback (most recent call last)",
      "\u001b[1;32m<ipython-input-1-cb915706a1ed>\u001b[0m in \u001b[0;36m<module>\u001b[1;34m\u001b[0m\n\u001b[0;32m      3\u001b[0m \u001b[1;32mimport\u001b[0m \u001b[0mpandas\u001b[0m \u001b[1;32mas\u001b[0m \u001b[0mpd\u001b[0m\u001b[1;33m\u001b[0m\u001b[1;33m\u001b[0m\u001b[0m\n\u001b[0;32m      4\u001b[0m \u001b[1;33m\u001b[0m\u001b[0m\n\u001b[1;32m----> 5\u001b[1;33m \u001b[1;32mfrom\u001b[0m \u001b[0msurprise\u001b[0m \u001b[1;32mimport\u001b[0m \u001b[0mKNNBasic\u001b[0m\u001b[1;33m,\u001b[0m \u001b[0mKNNWithMeans\u001b[0m\u001b[1;33m\u001b[0m\u001b[1;33m\u001b[0m\u001b[0m\n\u001b[0m\u001b[0;32m      6\u001b[0m \u001b[1;32mfrom\u001b[0m \u001b[0msurprise\u001b[0m \u001b[1;32mimport\u001b[0m \u001b[0mSVD\u001b[0m\u001b[1;33m,\u001b[0m \u001b[0mNMF\u001b[0m\u001b[1;33m\u001b[0m\u001b[1;33m\u001b[0m\u001b[0m\n\u001b[0;32m      7\u001b[0m \u001b[1;32mfrom\u001b[0m \u001b[0msurprise\u001b[0m \u001b[1;32mimport\u001b[0m \u001b[0mDataset\u001b[0m\u001b[1;33m\u001b[0m\u001b[1;33m\u001b[0m\u001b[0m\n",
      "\u001b[1;31mModuleNotFoundError\u001b[0m: No module named 'surprise'"
     ]
    }
   ],
   "source": [
    "# import libraries\n",
    "import numpy as np\n",
    "import pandas as pd\n",
    "\n",
    "from surprise import KNNBasic, KNNWithMeans\n",
    "from surprise import SVD, NMF\n",
    "from surprise import Dataset\n",
    "from surprise import Reader\n",
    "from surprise import accuracy\n",
    "from surprise.model_selection import train_test_split"
   ]
  },
  {
   "cell_type": "code",
   "execution_count": 2,
   "metadata": {},
   "outputs": [],
   "source": [
    "# create example data for collaborative filtering\n",
    "UserItemMatrix = np.array([np.array([5, np.nan, 4, np.nan, 1, np.nan, 3]),\n",
    "                           np.array([4, 4, 4, np.nan, np.nan, np.nan, 1]),\n",
    "                           np.array([5, 4, np.nan, 1, 2, np.nan, 3]),\n",
    "                           np.array([1, 2, 1, 4, 3, 5, 2]),\n",
    "                           np.array([np.nan, 1, np.nan, 3, 5, 5, np.nan]),\n",
    "                           np.array([np.nan, 2, np.nan, np.nan, 4, 4, 2]),\n",
    "                           np.array([5, np.nan, np.nan, 1, np.nan, np.nan, 2])\n",
    "                          ])"
   ]
  },
  {
   "cell_type": "code",
   "execution_count": 3,
   "metadata": {},
   "outputs": [
    {
     "data": {
      "text/plain": [
       "array([[ 5., nan,  4., nan,  1., nan,  3.],\n",
       "       [ 4.,  4.,  4., nan, nan, nan,  1.],\n",
       "       [ 5.,  4., nan,  1.,  2., nan,  3.],\n",
       "       [ 1.,  2.,  1.,  4.,  3.,  5.,  2.],\n",
       "       [nan,  1., nan,  3.,  5.,  5., nan],\n",
       "       [nan,  2., nan, nan,  4.,  4.,  2.],\n",
       "       [ 5., nan, nan,  1., nan, nan,  2.]])"
      ]
     },
     "execution_count": 3,
     "metadata": {},
     "output_type": "execute_result"
    }
   ],
   "source": [
    "UserItemMatrix"
   ]
  },
  {
   "cell_type": "code",
   "execution_count": 7,
   "metadata": {},
   "outputs": [
    {
     "data": {
      "text/html": [
       "<div>\n",
       "<style scoped>\n",
       "    .dataframe tbody tr th:only-of-type {\n",
       "        vertical-align: middle;\n",
       "    }\n",
       "\n",
       "    .dataframe tbody tr th {\n",
       "        vertical-align: top;\n",
       "    }\n",
       "\n",
       "    .dataframe thead th {\n",
       "        text-align: right;\n",
       "    }\n",
       "</style>\n",
       "<table border=\"1\" class=\"dataframe\">\n",
       "  <thead>\n",
       "    <tr style=\"text-align: right;\">\n",
       "      <th></th>\n",
       "      <th>item1</th>\n",
       "      <th>item2</th>\n",
       "      <th>item3</th>\n",
       "      <th>item4</th>\n",
       "      <th>item5</th>\n",
       "      <th>item6</th>\n",
       "      <th>item7</th>\n",
       "      <th>user_id</th>\n",
       "    </tr>\n",
       "  </thead>\n",
       "  <tbody>\n",
       "    <tr>\n",
       "      <th>0</th>\n",
       "      <td>5.0</td>\n",
       "      <td>NaN</td>\n",
       "      <td>4.0</td>\n",
       "      <td>NaN</td>\n",
       "      <td>1.0</td>\n",
       "      <td>NaN</td>\n",
       "      <td>3.0</td>\n",
       "      <td>0</td>\n",
       "    </tr>\n",
       "    <tr>\n",
       "      <th>1</th>\n",
       "      <td>4.0</td>\n",
       "      <td>4.0</td>\n",
       "      <td>4.0</td>\n",
       "      <td>NaN</td>\n",
       "      <td>NaN</td>\n",
       "      <td>NaN</td>\n",
       "      <td>1.0</td>\n",
       "      <td>1</td>\n",
       "    </tr>\n",
       "    <tr>\n",
       "      <th>2</th>\n",
       "      <td>5.0</td>\n",
       "      <td>4.0</td>\n",
       "      <td>NaN</td>\n",
       "      <td>1.0</td>\n",
       "      <td>2.0</td>\n",
       "      <td>NaN</td>\n",
       "      <td>3.0</td>\n",
       "      <td>2</td>\n",
       "    </tr>\n",
       "    <tr>\n",
       "      <th>3</th>\n",
       "      <td>1.0</td>\n",
       "      <td>2.0</td>\n",
       "      <td>1.0</td>\n",
       "      <td>4.0</td>\n",
       "      <td>3.0</td>\n",
       "      <td>5.0</td>\n",
       "      <td>2.0</td>\n",
       "      <td>3</td>\n",
       "    </tr>\n",
       "    <tr>\n",
       "      <th>4</th>\n",
       "      <td>NaN</td>\n",
       "      <td>1.0</td>\n",
       "      <td>NaN</td>\n",
       "      <td>3.0</td>\n",
       "      <td>5.0</td>\n",
       "      <td>5.0</td>\n",
       "      <td>NaN</td>\n",
       "      <td>4</td>\n",
       "    </tr>\n",
       "    <tr>\n",
       "      <th>5</th>\n",
       "      <td>NaN</td>\n",
       "      <td>2.0</td>\n",
       "      <td>NaN</td>\n",
       "      <td>NaN</td>\n",
       "      <td>4.0</td>\n",
       "      <td>4.0</td>\n",
       "      <td>2.0</td>\n",
       "      <td>5</td>\n",
       "    </tr>\n",
       "    <tr>\n",
       "      <th>6</th>\n",
       "      <td>5.0</td>\n",
       "      <td>NaN</td>\n",
       "      <td>NaN</td>\n",
       "      <td>1.0</td>\n",
       "      <td>NaN</td>\n",
       "      <td>NaN</td>\n",
       "      <td>2.0</td>\n",
       "      <td>6</td>\n",
       "    </tr>\n",
       "  </tbody>\n",
       "</table>\n",
       "</div>"
      ],
      "text/plain": [
       "   item1  item2  item3  item4  item5  item6  item7  user_id\n",
       "0    5.0    NaN    4.0    NaN    1.0    NaN    3.0        0\n",
       "1    4.0    4.0    4.0    NaN    NaN    NaN    1.0        1\n",
       "2    5.0    4.0    NaN    1.0    2.0    NaN    3.0        2\n",
       "3    1.0    2.0    1.0    4.0    3.0    5.0    2.0        3\n",
       "4    NaN    1.0    NaN    3.0    5.0    5.0    NaN        4\n",
       "5    NaN    2.0    NaN    NaN    4.0    4.0    2.0        5\n",
       "6    5.0    NaN    NaN    1.0    NaN    NaN    2.0        6"
      ]
     },
     "execution_count": 7,
     "metadata": {},
     "output_type": "execute_result"
    }
   ],
   "source": [
    "# explore User-Item matrix\n",
    "df = pd.DataFrame(UserItemMatrix, \n",
    "                  columns=['item1', 'item2', 'item3', 'item4', 'item5', 'item6', 'item7'])\n",
    "df['user_id'] = list(df.index)\n",
    "df"
   ]
  },
  {
   "cell_type": "code",
   "execution_count": 8,
   "metadata": {},
   "outputs": [
    {
     "data": {
      "text/html": [
       "<div>\n",
       "<style scoped>\n",
       "    .dataframe tbody tr th:only-of-type {\n",
       "        vertical-align: middle;\n",
       "    }\n",
       "\n",
       "    .dataframe tbody tr th {\n",
       "        vertical-align: top;\n",
       "    }\n",
       "\n",
       "    .dataframe thead th {\n",
       "        text-align: right;\n",
       "    }\n",
       "</style>\n",
       "<table border=\"1\" class=\"dataframe\">\n",
       "  <thead>\n",
       "    <tr style=\"text-align: right;\">\n",
       "      <th></th>\n",
       "      <th>user_id</th>\n",
       "      <th>variable</th>\n",
       "      <th>rating</th>\n",
       "    </tr>\n",
       "  </thead>\n",
       "  <tbody>\n",
       "    <tr>\n",
       "      <th>0</th>\n",
       "      <td>0</td>\n",
       "      <td>1</td>\n",
       "      <td>5.0</td>\n",
       "    </tr>\n",
       "    <tr>\n",
       "      <th>1</th>\n",
       "      <td>1</td>\n",
       "      <td>1</td>\n",
       "      <td>4.0</td>\n",
       "    </tr>\n",
       "    <tr>\n",
       "      <th>2</th>\n",
       "      <td>2</td>\n",
       "      <td>1</td>\n",
       "      <td>5.0</td>\n",
       "    </tr>\n",
       "    <tr>\n",
       "      <th>3</th>\n",
       "      <td>3</td>\n",
       "      <td>1</td>\n",
       "      <td>1.0</td>\n",
       "    </tr>\n",
       "    <tr>\n",
       "      <th>6</th>\n",
       "      <td>6</td>\n",
       "      <td>1</td>\n",
       "      <td>5.0</td>\n",
       "    </tr>\n",
       "    <tr>\n",
       "      <th>8</th>\n",
       "      <td>1</td>\n",
       "      <td>2</td>\n",
       "      <td>4.0</td>\n",
       "    </tr>\n",
       "    <tr>\n",
       "      <th>9</th>\n",
       "      <td>2</td>\n",
       "      <td>2</td>\n",
       "      <td>4.0</td>\n",
       "    </tr>\n",
       "    <tr>\n",
       "      <th>10</th>\n",
       "      <td>3</td>\n",
       "      <td>2</td>\n",
       "      <td>2.0</td>\n",
       "    </tr>\n",
       "    <tr>\n",
       "      <th>11</th>\n",
       "      <td>4</td>\n",
       "      <td>2</td>\n",
       "      <td>1.0</td>\n",
       "    </tr>\n",
       "    <tr>\n",
       "      <th>12</th>\n",
       "      <td>5</td>\n",
       "      <td>2</td>\n",
       "      <td>2.0</td>\n",
       "    </tr>\n",
       "    <tr>\n",
       "      <th>14</th>\n",
       "      <td>0</td>\n",
       "      <td>3</td>\n",
       "      <td>4.0</td>\n",
       "    </tr>\n",
       "    <tr>\n",
       "      <th>15</th>\n",
       "      <td>1</td>\n",
       "      <td>3</td>\n",
       "      <td>4.0</td>\n",
       "    </tr>\n",
       "    <tr>\n",
       "      <th>17</th>\n",
       "      <td>3</td>\n",
       "      <td>3</td>\n",
       "      <td>1.0</td>\n",
       "    </tr>\n",
       "    <tr>\n",
       "      <th>23</th>\n",
       "      <td>2</td>\n",
       "      <td>4</td>\n",
       "      <td>1.0</td>\n",
       "    </tr>\n",
       "    <tr>\n",
       "      <th>24</th>\n",
       "      <td>3</td>\n",
       "      <td>4</td>\n",
       "      <td>4.0</td>\n",
       "    </tr>\n",
       "    <tr>\n",
       "      <th>25</th>\n",
       "      <td>4</td>\n",
       "      <td>4</td>\n",
       "      <td>3.0</td>\n",
       "    </tr>\n",
       "    <tr>\n",
       "      <th>27</th>\n",
       "      <td>6</td>\n",
       "      <td>4</td>\n",
       "      <td>1.0</td>\n",
       "    </tr>\n",
       "    <tr>\n",
       "      <th>28</th>\n",
       "      <td>0</td>\n",
       "      <td>5</td>\n",
       "      <td>1.0</td>\n",
       "    </tr>\n",
       "    <tr>\n",
       "      <th>30</th>\n",
       "      <td>2</td>\n",
       "      <td>5</td>\n",
       "      <td>2.0</td>\n",
       "    </tr>\n",
       "    <tr>\n",
       "      <th>31</th>\n",
       "      <td>3</td>\n",
       "      <td>5</td>\n",
       "      <td>3.0</td>\n",
       "    </tr>\n",
       "    <tr>\n",
       "      <th>32</th>\n",
       "      <td>4</td>\n",
       "      <td>5</td>\n",
       "      <td>5.0</td>\n",
       "    </tr>\n",
       "    <tr>\n",
       "      <th>33</th>\n",
       "      <td>5</td>\n",
       "      <td>5</td>\n",
       "      <td>4.0</td>\n",
       "    </tr>\n",
       "    <tr>\n",
       "      <th>38</th>\n",
       "      <td>3</td>\n",
       "      <td>6</td>\n",
       "      <td>5.0</td>\n",
       "    </tr>\n",
       "    <tr>\n",
       "      <th>39</th>\n",
       "      <td>4</td>\n",
       "      <td>6</td>\n",
       "      <td>5.0</td>\n",
       "    </tr>\n",
       "    <tr>\n",
       "      <th>40</th>\n",
       "      <td>5</td>\n",
       "      <td>6</td>\n",
       "      <td>4.0</td>\n",
       "    </tr>\n",
       "    <tr>\n",
       "      <th>42</th>\n",
       "      <td>0</td>\n",
       "      <td>7</td>\n",
       "      <td>3.0</td>\n",
       "    </tr>\n",
       "    <tr>\n",
       "      <th>43</th>\n",
       "      <td>1</td>\n",
       "      <td>7</td>\n",
       "      <td>1.0</td>\n",
       "    </tr>\n",
       "    <tr>\n",
       "      <th>44</th>\n",
       "      <td>2</td>\n",
       "      <td>7</td>\n",
       "      <td>3.0</td>\n",
       "    </tr>\n",
       "    <tr>\n",
       "      <th>45</th>\n",
       "      <td>3</td>\n",
       "      <td>7</td>\n",
       "      <td>2.0</td>\n",
       "    </tr>\n",
       "    <tr>\n",
       "      <th>47</th>\n",
       "      <td>5</td>\n",
       "      <td>7</td>\n",
       "      <td>2.0</td>\n",
       "    </tr>\n",
       "    <tr>\n",
       "      <th>48</th>\n",
       "      <td>6</td>\n",
       "      <td>7</td>\n",
       "      <td>2.0</td>\n",
       "    </tr>\n",
       "  </tbody>\n",
       "</table>\n",
       "</div>"
      ],
      "text/plain": [
       "    user_id variable  rating\n",
       "0         0        1     5.0\n",
       "1         1        1     4.0\n",
       "2         2        1     5.0\n",
       "3         3        1     1.0\n",
       "6         6        1     5.0\n",
       "8         1        2     4.0\n",
       "9         2        2     4.0\n",
       "10        3        2     2.0\n",
       "11        4        2     1.0\n",
       "12        5        2     2.0\n",
       "14        0        3     4.0\n",
       "15        1        3     4.0\n",
       "17        3        3     1.0\n",
       "23        2        4     1.0\n",
       "24        3        4     4.0\n",
       "25        4        4     3.0\n",
       "27        6        4     1.0\n",
       "28        0        5     1.0\n",
       "30        2        5     2.0\n",
       "31        3        5     3.0\n",
       "32        4        5     5.0\n",
       "33        5        5     4.0\n",
       "38        3        6     5.0\n",
       "39        4        6     5.0\n",
       "40        5        6     4.0\n",
       "42        0        7     3.0\n",
       "43        1        7     1.0\n",
       "44        2        7     3.0\n",
       "45        3        7     2.0\n",
       "47        5        7     2.0\n",
       "48        6        7     2.0"
      ]
     },
     "execution_count": 8,
     "metadata": {},
     "output_type": "execute_result"
    }
   ],
   "source": [
    "# transform data into appropriate form for library\n",
    "df = df.melt(id_vars='user_id', value_name='rating')\n",
    "df.dropna(inplace=True)\n",
    "df.variable = df.variable.str.replace('item', '')\n",
    "df"
   ]
  },
  {
   "cell_type": "code",
   "execution_count": 9,
   "metadata": {},
   "outputs": [],
   "source": [
    "# transform data into appropriate form for library (cont'd)\n",
    "ratings_dict = {'itemID': df['variable'].astype(np.int),\n",
    "               'userID': df['user_id'].astype(np.int),\n",
    "               'rating': df['rating'].astype(np.float)}\n",
    "df = pd.DataFrame(ratings_dict)\n",
    "\n",
    "reader = Reader(rating_scale=(1, 5))\n",
    "\n",
    "data = Dataset.load_from_df(df[['userID', 'itemID', 'rating']], reader)"
   ]
  },
  {
   "cell_type": "code",
   "execution_count": 16,
   "metadata": {},
   "outputs": [],
   "source": [
    "# build trainset\n",
    "train_set = data.build_full_trainset()"
   ]
  },
  {
   "cell_type": "code",
   "execution_count": 17,
   "metadata": {},
   "outputs": [
    {
     "name": "stdout",
     "output_type": "stream",
     "text": [
      "Computing the pearson similarity matrix...\n",
      "Done computing similarity matrix.\n"
     ]
    },
    {
     "data": {
      "text/plain": [
       "<surprise.prediction_algorithms.knns.KNNBasic at 0x22fa12b1610>"
      ]
     },
     "execution_count": 17,
     "metadata": {},
     "output_type": "execute_result"
    }
   ],
   "source": [
    "# learn KNN-based algorithm model (user-based similarities)\n",
    "sim_options = {'name': 'pearson'}\n",
    "# other similarity option: 'msd', 'cosine'\n",
    "\n",
    "algo = KNNBasic(sim_options=sim_options)\n",
    "\n",
    "algo.fit(train_set)"
   ]
  },
  {
   "cell_type": "code",
   "execution_count": 11,
   "metadata": {},
   "outputs": [
    {
     "data": {
      "text/plain": [
       "[Prediction(uid=6, iid=2, r_ui=None, est=3.5391656658658657, details={'actual_k': 2, 'was_impossible': False}),\n",
       " Prediction(uid=6, iid=3, r_ui=None, est=3.4166666666666665, details={'actual_k': 2, 'was_impossible': False}),\n",
       " Prediction(uid=6, iid=5, r_ui=None, est=1.0291616626626618, details={'actual_k': 2, 'was_impossible': False}),\n",
       " Prediction(uid=6, iid=6, r_ui=None, est=2.6666666666666665, details={'actual_k': 0, 'was_impossible': False})]"
      ]
     },
     "execution_count": 11,
     "metadata": {},
     "output_type": "execute_result"
    }
   ],
   "source": [
    "# predict unknown ratings from learned model\n",
    "target_u = [6]\n",
    "target_i = [2, 3, 5, 6]\n",
    "\n",
    "predictions = []\n",
    "for user in target_u:\n",
    "    for item in target_i:\n",
    "        predictions.append(algo.predict(user, item))\n",
    "predictions"
   ]
  },
  {
   "cell_type": "code",
   "execution_count": 18,
   "metadata": {},
   "outputs": [
    {
     "data": {
      "text/plain": [
       "[(0, 1, 5.0),\n",
       " (0, 3, 4.0),\n",
       " (0, 5, 1.0),\n",
       " (0, 7, 3.0),\n",
       " (1, 1, 4.0),\n",
       " (1, 2, 4.0),\n",
       " (1, 3, 4.0),\n",
       " (1, 7, 1.0),\n",
       " (2, 1, 5.0),\n",
       " (2, 2, 4.0),\n",
       " (2, 4, 1.0),\n",
       " (2, 5, 2.0),\n",
       " (2, 7, 3.0),\n",
       " (3, 1, 1.0),\n",
       " (3, 2, 2.0),\n",
       " (3, 3, 1.0),\n",
       " (3, 4, 4.0),\n",
       " (3, 5, 3.0),\n",
       " (3, 6, 5.0),\n",
       " (3, 7, 2.0),\n",
       " (6, 1, 5.0),\n",
       " (6, 4, 1.0),\n",
       " (6, 7, 2.0),\n",
       " (4, 2, 1.0),\n",
       " (4, 4, 3.0),\n",
       " (4, 5, 5.0),\n",
       " (4, 6, 5.0),\n",
       " (5, 2, 2.0),\n",
       " (5, 5, 4.0),\n",
       " (5, 6, 4.0),\n",
       " (5, 7, 2.0)]"
      ]
     },
     "execution_count": 18,
     "metadata": {},
     "output_type": "execute_result"
    }
   ],
   "source": [
    "# build testset\n",
    "test_set = train_set.build_testset()\n",
    "test_set"
   ]
  },
  {
   "cell_type": "code",
   "execution_count": 20,
   "metadata": {},
   "outputs": [
    {
     "data": {
      "text/plain": [
       "[(0, 2, 3.0),\n",
       " (0, 4, 3.0),\n",
       " (0, 6, 3.0),\n",
       " (1, 4, 3.0),\n",
       " (1, 5, 3.0),\n",
       " (1, 6, 3.0),\n",
       " (2, 3, 3.0),\n",
       " (2, 6, 3.0),\n",
       " (6, 2, 3.0),\n",
       " (6, 3, 3.0),\n",
       " (6, 5, 3.0),\n",
       " (6, 6, 3.0),\n",
       " (4, 1, 3.0),\n",
       " (4, 3, 3.0),\n",
       " (4, 7, 3.0),\n",
       " (5, 1, 3.0),\n",
       " (5, 3, 3.0),\n",
       " (5, 4, 3.0)]"
      ]
     },
     "execution_count": 20,
     "metadata": {},
     "output_type": "execute_result"
    }
   ],
   "source": [
    "# build testset\n",
    "anti_test_set = train_set.build_anti_testset()\n",
    "anti_test_set"
   ]
  },
  {
   "cell_type": "code",
   "execution_count": 25,
   "metadata": {},
   "outputs": [
    {
     "data": {
      "text/plain": [
       "[Prediction(uid=0, iid=1, r_ui=5.0, est=4.77494176878252, details={'actual_k': 4, 'was_impossible': False}),\n",
       " Prediction(uid=0, iid=3, r_ui=4.0, est=4.0, details={'actual_k': 2, 'was_impossible': False}),\n",
       " Prediction(uid=0, iid=5, r_ui=1.0, est=1.49545416973504, details={'actual_k': 2, 'was_impossible': False}),\n",
       " Prediction(uid=0, iid=7, r_ui=3.0, est=2.2900086768115364, details={'actual_k': 4, 'was_impossible': False}),\n",
       " Prediction(uid=1, iid=1, r_ui=4.0, est=4.732050807568878, details={'actual_k': 4, 'was_impossible': False}),\n",
       " Prediction(uid=1, iid=2, r_ui=4.0, est=4.0, details={'actual_k': 2, 'was_impossible': False}),\n",
       " Prediction(uid=1, iid=3, r_ui=4.0, est=4.0, details={'actual_k': 2, 'was_impossible': False}),\n",
       " Prediction(uid=1, iid=7, r_ui=1.0, est=2.196152422706632, details={'actual_k': 4, 'was_impossible': False}),\n",
       " Prediction(uid=2, iid=1, r_ui=5.0, est=4.772623627851539, details={'actual_k': 4, 'was_impossible': False}),\n",
       " Prediction(uid=2, iid=2, r_ui=4.0, est=4.0, details={'actual_k': 2, 'was_impossible': False}),\n",
       " Prediction(uid=2, iid=4, r_ui=1.0, est=1, details={'actual_k': 2, 'was_impossible': False}),\n",
       " Prediction(uid=2, iid=5, r_ui=2.0, est=1.50454583026496, details={'actual_k': 2, 'was_impossible': False}),\n",
       " Prediction(uid=2, iid=7, r_ui=3.0, est=2.2929958192076163, details={'actual_k': 4, 'was_impossible': False}),\n",
       " Prediction(uid=3, iid=1, r_ui=1.0, est=1, details={'actual_k': 1, 'was_impossible': False}),\n",
       " Prediction(uid=3, iid=2, r_ui=2.0, est=1.7293127132163284, details={'actual_k': 3, 'was_impossible': False}),\n",
       " Prediction(uid=3, iid=3, r_ui=1.0, est=1, details={'actual_k': 1, 'was_impossible': False}),\n",
       " Prediction(uid=3, iid=4, r_ui=4.0, est=3.5973002521507227, details={'actual_k': 2, 'was_impossible': False}),\n",
       " Prediction(uid=3, iid=5, r_ui=3.0, est=3.8691931574394522, details={'actual_k': 3, 'was_impossible': False}),\n",
       " Prediction(uid=3, iid=6, r_ui=5.0, est=4.6721814161278905, details={'actual_k': 3, 'was_impossible': False}),\n",
       " Prediction(uid=3, iid=7, r_ui=2.0, est=2.0, details={'actual_k': 2, 'was_impossible': False}),\n",
       " Prediction(uid=6, iid=1, r_ui=5.0, est=4.747523771398065, details={'actual_k': 4, 'was_impossible': False}),\n",
       " Prediction(uid=6, iid=4, r_ui=1.0, est=1, details={'actual_k': 2, 'was_impossible': False}),\n",
       " Prediction(uid=6, iid=7, r_ui=2.0, est=2.2425713141941936, details={'actual_k': 4, 'was_impossible': False}),\n",
       " Prediction(uid=4, iid=2, r_ui=1.0, est=1.6260563714639913, details={'actual_k': 3, 'was_impossible': False}),\n",
       " Prediction(uid=4, iid=4, r_ui=3.0, est=3.4026997478492773, details={'actual_k': 2, 'was_impossible': False}),\n",
       " Prediction(uid=4, iid=5, r_ui=5.0, est=4.121830885608026, details={'actual_k': 3, 'was_impossible': False}),\n",
       " Prediction(uid=4, iid=6, r_ui=5.0, est=4.626056371463991, details={'actual_k': 3, 'was_impossible': False}),\n",
       " Prediction(uid=5, iid=2, r_ui=2.0, est=1.6449489742783179, details={'actual_k': 3, 'was_impossible': False}),\n",
       " Prediction(uid=5, iid=5, r_ui=4.0, est=4.065153077165046, details={'actual_k': 3, 'was_impossible': False}),\n",
       " Prediction(uid=5, iid=6, r_ui=4.0, est=4.644948974278318, details={'actual_k': 3, 'was_impossible': False}),\n",
       " Prediction(uid=5, iid=7, r_ui=2.0, est=2.0, details={'actual_k': 2, 'was_impossible': False})]"
      ]
     },
     "execution_count": 25,
     "metadata": {},
     "output_type": "execute_result"
    }
   ],
   "source": [
    "algo.test(test_set)"
   ]
  },
  {
   "cell_type": "code",
   "execution_count": 26,
   "metadata": {},
   "outputs": [
    {
     "data": {
      "text/plain": [
       "[Prediction(uid=0, iid=2, r_ui=3.0, est=4.0, details={'actual_k': 2, 'was_impossible': False}),\n",
       " Prediction(uid=0, iid=4, r_ui=3.0, est=1, details={'actual_k': 2, 'was_impossible': False}),\n",
       " Prediction(uid=0, iid=6, r_ui=3.0, est=3.0, details={'was_impossible': True, 'reason': 'Not enough neighbors.'}),\n",
       " Prediction(uid=1, iid=4, r_ui=3.0, est=1, details={'actual_k': 2, 'was_impossible': False}),\n",
       " Prediction(uid=1, iid=5, r_ui=3.0, est=1.5000000000000002, details={'actual_k': 2, 'was_impossible': False}),\n",
       " Prediction(uid=1, iid=6, r_ui=3.0, est=3.0, details={'was_impossible': True, 'reason': 'Not enough neighbors.'}),\n",
       " Prediction(uid=2, iid=3, r_ui=3.0, est=4.0, details={'actual_k': 2, 'was_impossible': False}),\n",
       " Prediction(uid=2, iid=6, r_ui=3.0, est=3.0, details={'was_impossible': True, 'reason': 'Not enough neighbors.'}),\n",
       " Prediction(uid=6, iid=2, r_ui=3.0, est=4.0, details={'actual_k': 2, 'was_impossible': False}),\n",
       " Prediction(uid=6, iid=3, r_ui=3.0, est=4.0, details={'actual_k': 2, 'was_impossible': False}),\n",
       " Prediction(uid=6, iid=5, r_ui=3.0, est=1.4899959967967964, details={'actual_k': 2, 'was_impossible': False}),\n",
       " Prediction(uid=6, iid=6, r_ui=3.0, est=3.0, details={'was_impossible': True, 'reason': 'Not enough neighbors.'}),\n",
       " Prediction(uid=4, iid=1, r_ui=3.0, est=1, details={'actual_k': 1, 'was_impossible': False}),\n",
       " Prediction(uid=4, iid=3, r_ui=3.0, est=1, details={'actual_k': 1, 'was_impossible': False}),\n",
       " Prediction(uid=4, iid=7, r_ui=3.0, est=2.0, details={'actual_k': 2, 'was_impossible': False}),\n",
       " Prediction(uid=5, iid=1, r_ui=3.0, est=1, details={'actual_k': 1, 'was_impossible': False}),\n",
       " Prediction(uid=5, iid=3, r_ui=3.0, est=1, details={'actual_k': 1, 'was_impossible': False}),\n",
       " Prediction(uid=5, iid=4, r_ui=3.0, est=3.4494897427831783, details={'actual_k': 2, 'was_impossible': False})]"
      ]
     },
     "execution_count": 26,
     "metadata": {},
     "output_type": "execute_result"
    }
   ],
   "source": [
    "algo.test(anti_test_set)"
   ]
  },
  {
   "cell_type": "code",
   "execution_count": 28,
   "metadata": {},
   "outputs": [],
   "source": [
    "algo2 = KNNWithMeans(sim_options={'name': 'pearson'})"
   ]
  },
  {
   "cell_type": "code",
   "execution_count": 29,
   "metadata": {},
   "outputs": [],
   "source": [
    "algo3 = SVD(n_factors=3)"
   ]
  },
  {
   "cell_type": "code",
   "execution_count": 32,
   "metadata": {},
   "outputs": [],
   "source": [
    "algo4 = NMF(n_factors=100)"
   ]
  },
  {
   "cell_type": "markdown",
   "metadata": {},
   "source": [
    "# Practice\n",
    "\n",
    "### Open 'movielens-1m.dat'. Refer to the file 'read_dataset2(ref)' to open this file.\n",
    "\n",
    "### Practice data processing in this file and try 4 different algorithms."
   ]
  }
 ],
 "metadata": {
  "kernelspec": {
   "display_name": "Python 3",
   "language": "python",
   "name": "python3"
  },
  "language_info": {
   "codemirror_mode": {
    "name": "ipython",
    "version": 3
   },
   "file_extension": ".py",
   "mimetype": "text/x-python",
   "name": "python",
   "nbconvert_exporter": "python",
   "pygments_lexer": "ipython3",
   "version": "3.7.7"
  }
 },
 "nbformat": 4,
 "nbformat_minor": 2
}

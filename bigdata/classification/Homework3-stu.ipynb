{
 "cells": [
  {
   "cell_type": "code",
   "execution_count": 2,
   "metadata": {},
   "outputs": [],
   "source": [
    "import numpy as np\n",
    "import pandas as pd\n",
    "from sklearn.metrics import accuracy_score, recall_score, precision_score, f1_score\n",
    "from sklearn.metrics import confusion_matrix, plot_confusion_matrix\n",
    "import sklearn.metrics as metrics\n",
    "from sklearn.model_selection import train_test_split\n",
    "from sklearn.model_selection import cross_val_score\n",
    "from sklearn.model_selection import cross_val_predict\n",
    "from sklearn.preprocessing import StandardScaler\n",
    "\n",
    "import matplotlib as mpl\n",
    "import matplotlib.pyplot as plt\n",
    "import seaborn as sns\n",
    "\n",
    "from sklearn.neighbors import KNeighborsClassifier\n",
    "from sklearn.linear_model import LogisticRegression\n",
    "from sklearn.tree import DecisionTreeClassifier\n",
    "from sklearn.model_selection import GridSearchCV #심화\n",
    "from sklearn.ensemble import RandomForestClassifier\n",
    "from sklearn.ensemble import BaggingClassifier\n",
    "from sklearn.ensemble import AdaBoostClassifier\n",
    "from sklearn.svm import SVC"
   ]
  },
  {
   "cell_type": "code",
   "execution_count": 3,
   "metadata": {},
   "outputs": [
    {
     "data": {
      "text/plain": [
       "dict_keys(['data', 'target', 'frame', 'categories', 'feature_names', 'target_names', 'DESCR', 'details', 'url'])"
      ]
     },
     "execution_count": 3,
     "metadata": {},
     "output_type": "execute_result"
    }
   ],
   "source": [
    "from sklearn.datasets import fetch_openml\n",
    "mnist = fetch_openml('mnist_784', version=1)\n",
    "mnist.keys()"
   ]
  },
  {
   "cell_type": "code",
   "execution_count": 4,
   "metadata": {},
   "outputs": [
    {
     "data": {
      "text/plain": [
       "(70000, 784)"
      ]
     },
     "execution_count": 4,
     "metadata": {},
     "output_type": "execute_result"
    }
   ],
   "source": [
    "X, y = mnist[\"data\"], mnist[\"target\"]\n",
    "X.shape\n",
    "\n",
    "# 784 = 28*28"
   ]
  },
  {
   "cell_type": "code",
   "execution_count": 5,
   "metadata": {},
   "outputs": [
    {
     "data": {
      "image/png": "[encoded data removed]",
      "text/plain": [
       "<Figure size 432x288 with 1 Axes>"
      ]
     },
     "metadata": {
      "needs_background": "light"
     },
     "output_type": "display_data"
    }
   ],
   "source": [
    "digit = X[0]\n",
    "digit = digit.reshape(28, 28)\n",
    "plt.imshow(digit, cmap=mpl.cm.binary)\n",
    "plt.axis(\"off\")\n",
    "\n",
    "plt.show()"
   ]
  },
  {
   "cell_type": "code",
   "execution_count": 6,
   "metadata": {},
   "outputs": [
    {
     "data": {
      "text/plain": [
       "'5'"
      ]
     },
     "execution_count": 6,
     "metadata": {},
     "output_type": "execute_result"
    }
   ],
   "source": [
    "y[0]"
   ]
  },
  {
   "cell_type": "code",
   "execution_count": 7,
   "metadata": {},
   "outputs": [],
   "source": [
    "y = y.astype(np.uint8)"
   ]
  },
  {
   "cell_type": "code",
   "execution_count": 8,
   "metadata": {},
   "outputs": [],
   "source": [
    "# X_train, X_test, y_train, y_test = X[:60000], X[60000:], y[:60000], y[60000:]\n",
    "X_train, X_test, y_train, y_test = X[:2000], X[10000:10400], y[:2000], y[10000:10400]"
   ]
  },
  {
   "cell_type": "markdown",
   "metadata": {},
   "source": [
    "## Q1. 배웠던 분류 방법 중 하나로 모델을 만들고 train/test셋 정확도 구해보기\n",
    "### KNN, Logistic Regression, Tree"
   ]
  },
  {
   "cell_type": "code",
   "execution_count": 9,
   "metadata": {},
   "outputs": [
    {
     "name": "stdout",
     "output_type": "stream",
     "text": [
      "교차 검증 평균 점수: 0.89\n",
      "Train Data\n",
      "정확도:  0.935\n",
      "Test Data\n",
      "정확도:  0.922\n"
     ]
    }
   ],
   "source": [
    "knn = KNeighborsClassifier(n_neighbors=5, n_jobs = -1)\n",
    "knn.fit(X_train, y_train)\n",
    "\n",
    "y_pred = knn.predict(X)\n",
    "\n",
    "y_train_pred = knn.predict(X_train)\n",
    "y_test_pred_knn = knn.predict(X_test)\n",
    "\n",
    "cv_score = cross_val_score(knn, X_train, y_train, cv=5, scoring=\"accuracy\")\n",
    "print(f\"교차 검증 평균 점수: {cv_score.mean():.2f}\")\n",
    "\n",
    "print('Train Data')\n",
    "print('정확도: ', round(accuracy_score(y_train, y_train_pred),3))\n",
    "\n",
    "print('Test Data')\n",
    "print('정확도: ', round(accuracy_score(y_test, y_test_pred_knn),3))"
   ]
  },
  {
   "cell_type": "code",
   "execution_count": 10,
   "metadata": {},
   "outputs": [
    {
     "name": "stdout",
     "output_type": "stream",
     "text": [
      "Train Data\n",
      "정확도: 1.0\n",
      "Test Data\n",
      "정확도:  0.87\n"
     ]
    }
   ],
   "source": [
    "logistic = LogisticRegression(n_jobs = -1)\n",
    "logistic.fit(X_train, y_train)\n",
    "\n",
    "print('Train Data')\n",
    "print('정확도:', round(logistic.score(X_train, y_train),3))\n",
    "\n",
    "y_test_pred_logistic = logistic.predict(X_test)\n",
    "\n",
    "print('Test Data')\n",
    "print('정확도: ', round(accuracy_score(y_test, y_test_pred_logistic),3))"
   ]
  },
  {
   "cell_type": "code",
   "execution_count": 11,
   "metadata": {},
   "outputs": [
    {
     "name": "stdout",
     "output_type": "stream",
     "text": [
      "Train Data\n",
      "정확도:  1.0\n",
      "Test Data\n",
      "정확도:  0.702\n"
     ]
    }
   ],
   "source": [
    "tree = DecisionTreeClassifier()\n",
    "tree.fit(X_train,y_train)\n",
    "\n",
    "y_train_pred_tree = tree.predict(X_train)\n",
    "y_test_pred_tree = tree.predict(X_test)\n",
    "\n",
    "print('Train Data')\n",
    "print('정확도: ', round(accuracy_score(y_train, y_train_pred_tree),3))\n",
    "\n",
    "print('Test Data')\n",
    "print('정확도: ', round(accuracy_score(y_test, y_test_pred_tree),3))"
   ]
  },
  {
   "cell_type": "markdown",
   "metadata": {},
   "source": [
    "## Q2. 배웠던 앙상블 방법 중 하나로 모델을 만들고 train/test셋 정확도 구해보기 (1번 보다 정확도 높게)\n",
    "### Random Forest, Bagging, Boosting\n",
    "앙상블 방법의 정확도가 높게 나왔다면, 왜 높게 나왔는지 간단하게 서술"
   ]
  },
  {
   "cell_type": "code",
   "execution_count": 12,
   "metadata": {},
   "outputs": [
    {
     "name": "stdout",
     "output_type": "stream",
     "text": [
      "Train Data\n",
      "정확도:  1.0\n",
      "Test Data\n",
      "정확도:  0.905\n"
     ]
    }
   ],
   "source": [
    "randomforest = RandomForestClassifier(n_jobs = -1, random_state=42)\n",
    "randomforest.fit(X_train, y_train)\n",
    "\n",
    "y_train_pred_randomforest = randomforest.predict(X_train)\n",
    "y_test_pred_randomforest = randomforest.predict(X_test)\n",
    "\n",
    "print('Train Data')\n",
    "print('정확도: ', round(accuracy_score(y_train, y_train_pred_randomforest),3))\n",
    "print('Test Data')\n",
    "print('정확도: ', round(accuracy_score(y_test, y_test_pred_randomforest),3))"
   ]
  },
  {
   "cell_type": "code",
   "execution_count": 17,
   "metadata": {},
   "outputs": [
    {
     "name": "stderr",
     "output_type": "stream",
     "text": [
      "/home/pirl/anaconda3/lib/python3.8/site-packages/sklearn/ensemble/_bagging.py:638: UserWarning: Some inputs do not have OOB scores. This probably means too few estimators were used to compute any reliable oob estimates.\n",
      "  warn(\"Some inputs do not have OOB scores. \"\n",
      "/home/pirl/anaconda3/lib/python3.8/site-packages/sklearn/ensemble/_bagging.py:642: RuntimeWarning: invalid value encountered in true_divide\n",
      "  oob_decision_function = (predictions /\n"
     ]
    },
    {
     "name": "stdout",
     "output_type": "stream",
     "text": [
      "Train Data\n",
      "정확도:  1.0\n",
      "Test Data\n",
      "정확도:  0.928\n"
     ]
    }
   ],
   "source": [
    "bag_clf = BaggingClassifier(\n",
    "    KNeighborsClassifier(n_neighbors=5), n_estimators=10,\n",
    "    max_samples = 0.8 ,oob_score=True, bootstrap=True, random_state=42, n_jobs=-1)\n",
    "\n",
    "bag_clf.fit(X_train, y_train)\n",
    "y_train_pred_bagging = bag_clf.predict(X_train)\n",
    "y_test_pred_bagging = bag_clf.predict(X_test)\n",
    "\n",
    "print('Train Data')\n",
    "print('정확도: ', round(accuracy_score(y_train, y_train_pred_randomforest),3))\n",
    "print('Test Data')\n",
    "print('정확도: ', round(accuracy_score(y_test, y_test_pred_bagging),3))"
   ]
  },
  {
   "cell_type": "code",
   "execution_count": 22,
   "metadata": {},
   "outputs": [
    {
     "ename": "ValueError",
     "evalue": "KNeighborsClassifier doesn't support sample_weight.",
     "output_type": "error",
     "traceback": [
      "\u001b[0;31m---------------------------------------------------------------------------\u001b[0m",
      "\u001b[0;31mValueError\u001b[0m                                Traceback (most recent call last)",
      "\u001b[0;32m<ipython-input-22-3d4e8a048848>\u001b[0m in \u001b[0;36m<module>\u001b[0;34m\u001b[0m\n\u001b[1;32m      2\u001b[0m                          \u001b[0mn_estimators\u001b[0m\u001b[0;34m=\u001b[0m\u001b[0;36m10\u001b[0m\u001b[0;34m,\u001b[0m\u001b[0;34m\u001b[0m\u001b[0;34m\u001b[0m\u001b[0m\n\u001b[1;32m      3\u001b[0m                          learning_rate=1.)\n\u001b[0;32m----> 4\u001b[0;31m \u001b[0mAda\u001b[0m\u001b[0;34m.\u001b[0m\u001b[0mfit\u001b[0m\u001b[0;34m(\u001b[0m\u001b[0mX_train\u001b[0m\u001b[0;34m,\u001b[0m \u001b[0my_train\u001b[0m\u001b[0;34m)\u001b[0m\u001b[0;34m\u001b[0m\u001b[0;34m\u001b[0m\u001b[0m\n\u001b[0m\u001b[1;32m      5\u001b[0m \u001b[0;34m\u001b[0m\u001b[0m\n\u001b[1;32m      6\u001b[0m \u001b[0my_train_pred_Ada\u001b[0m \u001b[0;34m=\u001b[0m \u001b[0mAda\u001b[0m\u001b[0;34m.\u001b[0m\u001b[0mpredict\u001b[0m\u001b[0;34m(\u001b[0m\u001b[0mX_train\u001b[0m\u001b[0;34m)\u001b[0m\u001b[0;34m\u001b[0m\u001b[0;34m\u001b[0m\u001b[0m\n",
      "\u001b[0;32m~/anaconda3/lib/python3.8/site-packages/sklearn/ensemble/_weight_boosting.py\u001b[0m in \u001b[0;36mfit\u001b[0;34m(self, X, y, sample_weight)\u001b[0m\n\u001b[1;32m    441\u001b[0m \u001b[0;34m\u001b[0m\u001b[0m\n\u001b[1;32m    442\u001b[0m         \u001b[0;31m# Fit\u001b[0m\u001b[0;34m\u001b[0m\u001b[0;34m\u001b[0m\u001b[0;34m\u001b[0m\u001b[0m\n\u001b[0;32m--> 443\u001b[0;31m         \u001b[0;32mreturn\u001b[0m \u001b[0msuper\u001b[0m\u001b[0;34m(\u001b[0m\u001b[0;34m)\u001b[0m\u001b[0;34m.\u001b[0m\u001b[0mfit\u001b[0m\u001b[0;34m(\u001b[0m\u001b[0mX\u001b[0m\u001b[0;34m,\u001b[0m \u001b[0my\u001b[0m\u001b[0;34m,\u001b[0m \u001b[0msample_weight\u001b[0m\u001b[0;34m)\u001b[0m\u001b[0;34m\u001b[0m\u001b[0;34m\u001b[0m\u001b[0m\n\u001b[0m\u001b[1;32m    444\u001b[0m \u001b[0;34m\u001b[0m\u001b[0m\n\u001b[1;32m    445\u001b[0m     \u001b[0;32mdef\u001b[0m \u001b[0m_validate_estimator\u001b[0m\u001b[0;34m(\u001b[0m\u001b[0mself\u001b[0m\u001b[0;34m)\u001b[0m\u001b[0;34m:\u001b[0m\u001b[0;34m\u001b[0m\u001b[0;34m\u001b[0m\u001b[0m\n",
      "\u001b[0;32m~/anaconda3/lib/python3.8/site-packages/sklearn/ensemble/_weight_boosting.py\u001b[0m in \u001b[0;36mfit\u001b[0;34m(self, X, y, sample_weight)\u001b[0m\n\u001b[1;32m    115\u001b[0m \u001b[0;34m\u001b[0m\u001b[0m\n\u001b[1;32m    116\u001b[0m         \u001b[0;31m# Check parameters\u001b[0m\u001b[0;34m\u001b[0m\u001b[0;34m\u001b[0m\u001b[0;34m\u001b[0m\u001b[0m\n\u001b[0;32m--> 117\u001b[0;31m         \u001b[0mself\u001b[0m\u001b[0;34m.\u001b[0m\u001b[0m_validate_estimator\u001b[0m\u001b[0;34m(\u001b[0m\u001b[0;34m)\u001b[0m\u001b[0;34m\u001b[0m\u001b[0;34m\u001b[0m\u001b[0m\n\u001b[0m\u001b[1;32m    118\u001b[0m \u001b[0;34m\u001b[0m\u001b[0m\n\u001b[1;32m    119\u001b[0m         \u001b[0;31m# Clear any previous fit results\u001b[0m\u001b[0;34m\u001b[0m\u001b[0;34m\u001b[0m\u001b[0;34m\u001b[0m\u001b[0m\n",
      "\u001b[0;32m~/anaconda3/lib/python3.8/site-packages/sklearn/ensemble/_weight_boosting.py\u001b[0m in \u001b[0;36m_validate_estimator\u001b[0;34m(self)\u001b[0m\n\u001b[1;32m    458\u001b[0m                     \"algorithm='SAMME' instead.\")\n\u001b[1;32m    459\u001b[0m         \u001b[0;32mif\u001b[0m \u001b[0;32mnot\u001b[0m \u001b[0mhas_fit_parameter\u001b[0m\u001b[0;34m(\u001b[0m\u001b[0mself\u001b[0m\u001b[0;34m.\u001b[0m\u001b[0mbase_estimator_\u001b[0m\u001b[0;34m,\u001b[0m \u001b[0;34m\"sample_weight\"\u001b[0m\u001b[0;34m)\u001b[0m\u001b[0;34m:\u001b[0m\u001b[0;34m\u001b[0m\u001b[0;34m\u001b[0m\u001b[0m\n\u001b[0;32m--> 460\u001b[0;31m             raise ValueError(\"%s doesn't support sample_weight.\"\n\u001b[0m\u001b[1;32m    461\u001b[0m                              % self.base_estimator_.__class__.__name__)\n\u001b[1;32m    462\u001b[0m \u001b[0;34m\u001b[0m\u001b[0m\n",
      "\u001b[0;31mValueError\u001b[0m: KNeighborsClassifier doesn't support sample_weight."
     ]
    }
   ],
   "source": [
    "Ada = AdaBoostClassifier(base_estimator=knn,\n",
    "                         n_estimators=10,\n",
    "                         learning_rate=1.)\n",
    "Ada.fit(X_train, y_train)\n",
    "\n",
    "y_train_pred_Ada = Ada.predict(X_train)\n",
    "y_test_pred_Ada = Ada.predict(X_test)\n",
    "\n",
    "print('Train Data')\n",
    "print('정확도: ', round(accuracy_score(y_train, y_train_pred_Ada),3))\n",
    "print('Test Data')\n",
    "print('정확도: ', round(accuracy_score(y_test, y_test_pred_Ada),3))"
   ]
  },
  {
   "cell_type": "code",
   "execution_count": 23,
   "metadata": {},
   "outputs": [
    {
     "name": "stdout",
     "output_type": "stream",
     "text": [
      "knn 정확도:  0.922\n",
      "logistic 정확도:  0.87\n",
      "tree 정확도:  0.702\n",
      "random forest 정확도:  0.912\n",
      "bagging with knn 정확도:  0.928\n",
      "adaboost 정확도:  0.475\n"
     ]
    }
   ],
   "source": [
    "print('knn 정확도: ', round(accuracy_score(y_test, y_test_pred_knn),3))\n",
    "print('logistic 정확도: ', round(accuracy_score(y_test, y_test_pred_logistic),3))\n",
    "print('tree 정확도: ', round(accuracy_score(y_test, y_test_pred_tree),3))\n",
    "print('random forest 정확도: ', round(accuracy_score(y_test, y_test_pred_randomforest),3))\n",
    "print('bagging with knn 정확도: ', round(accuracy_score(y_test, y_test_pred_bagging),3))\n",
    "print('adaboost 정확도: ', round(accuracy_score(y_test, y_test_pred_Ada),3))"
   ]
  },
  {
   "cell_type": "markdown",
   "metadata": {},
   "source": [
    "## (점수 미반영) Grid Search 사용해서 더 좋은 모델 만들어보기"
   ]
  },
  {
   "cell_type": "markdown",
   "metadata": {},
   "source": [
    "### 특정한 정답은 없으며, 문제가 원하는 답변에 충족하면 만점 처리"
   ]
  },
  {
   "cell_type": "code",
   "execution_count": 22,
   "metadata": {},
   "outputs": [],
   "source": [
    "?RandomForestClassifier"
   ]
  },
  {
   "cell_type": "code",
   "execution_count": 23,
   "metadata": {},
   "outputs": [
    {
     "name": "stdout",
     "output_type": "stream",
     "text": [
      "time : 333.9161834716797\n"
     ]
    }
   ],
   "source": [
    "import time\n",
    "start = time.time()  # 시작 시간 저장\n",
    "\n",
    "param_grid = [\n",
    "    {'n_estimators': [100,200,300,400,500], \n",
    "     'max_features': ['auto', 'log2'],\n",
    "     'criterion' : ['gini', 'entropy']     \n",
    "    },\n",
    "  ]\n",
    "\n",
    "randomforest_grid = RandomForestClassifier(random_state=42, n_jobs = -1)\n",
    "\n",
    "grid_search = GridSearchCV(randomforest_grid, param_grid, cv=5,\n",
    "                           scoring='accuracy',\n",
    "                           return_train_score=True)\n",
    "grid_search.fit(X_train, y_train)\n",
    "\n",
    "print(\"time :\", time.time() - start)  # 실행 시간 = 현재시각 - 시작시간 "
   ]
  },
  {
   "cell_type": "code",
   "execution_count": 24,
   "metadata": {},
   "outputs": [
    {
     "name": "stdout",
     "output_type": "stream",
     "text": [
      "{'criterion': 'gini', 'max_features': 'auto', 'n_estimators': 400}\n",
      "RandomForestClassifier(n_estimators=400, n_jobs=-1, random_state=42)\n"
     ]
    }
   ],
   "source": [
    "print(grid_search.best_params_)\n",
    "print(grid_search.best_estimator_)"
   ]
  },
  {
   "cell_type": "code",
   "execution_count": 15,
   "metadata": {},
   "outputs": [
    {
     "name": "stdout",
     "output_type": "stream",
     "text": [
      "Train Data\n",
      "정확도:  1.0\n",
      "Test Data\n",
      "정확도:  0.912\n"
     ]
    }
   ],
   "source": [
    "randomforest = RandomForestClassifier(n_estimators=400, n_jobs=-1, random_state=42)\n",
    "randomforest.fit(X_train, y_train)\n",
    "\n",
    "y_train_pred_randomforest = randomforest.predict(X_train)\n",
    "y_test_pred_randomforest = randomforest.predict(X_test)\n",
    "\n",
    "print('Train Data')\n",
    "print('정확도: ', round(accuracy_score(y_train, y_train_pred_randomforest),3))\n",
    "print('Test Data')\n",
    "print('정확도: ', round(accuracy_score(y_test, y_test_pred_randomforest),3))"
   ]
  },
  {
   "cell_type": "code",
   "execution_count": null,
   "metadata": {},
   "outputs": [],
   "source": []
  }
 ],
 "metadata": {
  "kernelspec": {
   "display_name": "Python 3",
   "language": "python",
   "name": "python3"
  },
  "language_info": {
   "codemirror_mode": {
    "name": "ipython",
    "version": 3
   },
   "file_extension": ".py",
   "mimetype": "text/x-python",
   "name": "python",
   "nbconvert_exporter": "python",
   "pygments_lexer": "ipython3",
   "version": "3.8.3"
  }
 },
 "nbformat": 4,
 "nbformat_minor": 4
}

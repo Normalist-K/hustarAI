{
 "cells": [
  {
   "cell_type": "code",
   "execution_count": 1,
   "metadata": {
    "scrolled": true
   },
   "outputs": [],
   "source": [
    "import numpy as np\n",
    "import pandas as pd\n",
    "from sklearn.metrics import accuracy_score, recall_score, precision_score, f1_score\n",
    "from sklearn.neighbors import KNeighborsClassifier\n",
    "from sklearn.metrics import confusion_matrix\n",
    "import sklearn.metrics as metrics\n",
    "from sklearn.model_selection import train_test_split\n",
    "from sklearn.model_selection import cross_val_score\n",
    "from sklearn.model_selection import cross_val_predict\n",
    "\n",
    "import matplotlib.pyplot as plt"
   ]
  },
  {
   "cell_type": "markdown",
   "metadata": {},
   "source": [
    "## 분류분석 개요"
   ]
  },
  {
   "cell_type": "code",
   "execution_count": 2,
   "metadata": {},
   "outputs": [
    {
     "data": {
      "text/html": [
       "<div>\n",
       "<style scoped>\n",
       "    .dataframe tbody tr th:only-of-type {\n",
       "        vertical-align: middle;\n",
       "    }\n",
       "\n",
       "    .dataframe tbody tr th {\n",
       "        vertical-align: top;\n",
       "    }\n",
       "\n",
       "    .dataframe thead th {\n",
       "        text-align: right;\n",
       "    }\n",
       "</style>\n",
       "<table border=\"1\" class=\"dataframe\">\n",
       "  <thead>\n",
       "    <tr style=\"text-align: right;\">\n",
       "      <th></th>\n",
       "      <th>Pclass</th>\n",
       "      <th>Sex</th>\n",
       "      <th>Age</th>\n",
       "      <th>SibSp</th>\n",
       "      <th>Parch</th>\n",
       "      <th>Fare</th>\n",
       "      <th>Embarked</th>\n",
       "      <th>Survived</th>\n",
       "    </tr>\n",
       "  </thead>\n",
       "  <tbody>\n",
       "    <tr>\n",
       "      <th>0</th>\n",
       "      <td>3</td>\n",
       "      <td>male</td>\n",
       "      <td>22.0</td>\n",
       "      <td>1</td>\n",
       "      <td>0</td>\n",
       "      <td>7.2500</td>\n",
       "      <td>S</td>\n",
       "      <td>0</td>\n",
       "    </tr>\n",
       "    <tr>\n",
       "      <th>1</th>\n",
       "      <td>1</td>\n",
       "      <td>female</td>\n",
       "      <td>38.0</td>\n",
       "      <td>1</td>\n",
       "      <td>0</td>\n",
       "      <td>71.2833</td>\n",
       "      <td>C</td>\n",
       "      <td>1</td>\n",
       "    </tr>\n",
       "    <tr>\n",
       "      <th>2</th>\n",
       "      <td>3</td>\n",
       "      <td>female</td>\n",
       "      <td>26.0</td>\n",
       "      <td>0</td>\n",
       "      <td>0</td>\n",
       "      <td>7.9250</td>\n",
       "      <td>S</td>\n",
       "      <td>1</td>\n",
       "    </tr>\n",
       "    <tr>\n",
       "      <th>3</th>\n",
       "      <td>1</td>\n",
       "      <td>female</td>\n",
       "      <td>35.0</td>\n",
       "      <td>1</td>\n",
       "      <td>0</td>\n",
       "      <td>53.1000</td>\n",
       "      <td>S</td>\n",
       "      <td>1</td>\n",
       "    </tr>\n",
       "    <tr>\n",
       "      <th>4</th>\n",
       "      <td>3</td>\n",
       "      <td>male</td>\n",
       "      <td>35.0</td>\n",
       "      <td>0</td>\n",
       "      <td>0</td>\n",
       "      <td>8.0500</td>\n",
       "      <td>S</td>\n",
       "      <td>0</td>\n",
       "    </tr>\n",
       "  </tbody>\n",
       "</table>\n",
       "</div>"
      ],
      "text/plain": [
       "   Pclass     Sex   Age  SibSp  Parch     Fare Embarked  Survived\n",
       "0       3    male  22.0      1      0   7.2500        S         0\n",
       "1       1  female  38.0      1      0  71.2833        C         1\n",
       "2       3  female  26.0      0      0   7.9250        S         1\n",
       "3       1  female  35.0      1      0  53.1000        S         1\n",
       "4       3    male  35.0      0      0   8.0500        S         0"
      ]
     },
     "execution_count": 2,
     "metadata": {},
     "output_type": "execute_result"
    }
   ],
   "source": [
    "titanic = pd.read_csv('Titanic.csv', engine = 'python')\n",
    "titanic.head()"
   ]
  },
  {
   "cell_type": "code",
   "execution_count": 3,
   "metadata": {
    "scrolled": true
   },
   "outputs": [
    {
     "name": "stdout",
     "output_type": "stream",
     "text": [
      "<class 'pandas.core.frame.DataFrame'>\n",
      "RangeIndex: 889 entries, 0 to 888\n",
      "Data columns (total 8 columns):\n",
      " #   Column    Non-Null Count  Dtype  \n",
      "---  ------    --------------  -----  \n",
      " 0   Pclass    889 non-null    int64  \n",
      " 1   Sex       889 non-null    object \n",
      " 2   Age       889 non-null    float64\n",
      " 3   SibSp     889 non-null    int64  \n",
      " 4   Parch     889 non-null    int64  \n",
      " 5   Fare      889 non-null    float64\n",
      " 6   Embarked  889 non-null    object \n",
      " 7   Survived  889 non-null    int64  \n",
      "dtypes: float64(2), int64(4), object(2)\n",
      "memory usage: 55.7+ KB\n"
     ]
    }
   ],
   "source": [
    "titanic.info()"
   ]
  },
  {
   "cell_type": "code",
   "execution_count": 4,
   "metadata": {
    "scrolled": true
   },
   "outputs": [
    {
     "data": {
      "text/plain": [
       "array(['S', 'C', 'Q'], dtype=object)"
      ]
     },
     "execution_count": 4,
     "metadata": {},
     "output_type": "execute_result"
    }
   ],
   "source": [
    "titanic['Embarked'].unique()"
   ]
  },
  {
   "cell_type": "code",
   "execution_count": 5,
   "metadata": {
    "scrolled": true
   },
   "outputs": [
    {
     "data": {
      "text/html": [
       "<div>\n",
       "<style scoped>\n",
       "    .dataframe tbody tr th:only-of-type {\n",
       "        vertical-align: middle;\n",
       "    }\n",
       "\n",
       "    .dataframe tbody tr th {\n",
       "        vertical-align: top;\n",
       "    }\n",
       "\n",
       "    .dataframe thead th {\n",
       "        text-align: right;\n",
       "    }\n",
       "</style>\n",
       "<table border=\"1\" class=\"dataframe\">\n",
       "  <thead>\n",
       "    <tr style=\"text-align: right;\">\n",
       "      <th></th>\n",
       "      <th>Pclass</th>\n",
       "      <th>Sex</th>\n",
       "      <th>Age</th>\n",
       "      <th>SibSp</th>\n",
       "      <th>Parch</th>\n",
       "      <th>Fare</th>\n",
       "      <th>Embarked</th>\n",
       "      <th>Survived</th>\n",
       "    </tr>\n",
       "  </thead>\n",
       "  <tbody>\n",
       "    <tr>\n",
       "      <th>0</th>\n",
       "      <td>3</td>\n",
       "      <td>1</td>\n",
       "      <td>22.0</td>\n",
       "      <td>1</td>\n",
       "      <td>0</td>\n",
       "      <td>7.2500</td>\n",
       "      <td>1</td>\n",
       "      <td>0</td>\n",
       "    </tr>\n",
       "    <tr>\n",
       "      <th>1</th>\n",
       "      <td>1</td>\n",
       "      <td>0</td>\n",
       "      <td>38.0</td>\n",
       "      <td>1</td>\n",
       "      <td>0</td>\n",
       "      <td>71.2833</td>\n",
       "      <td>2</td>\n",
       "      <td>1</td>\n",
       "    </tr>\n",
       "    <tr>\n",
       "      <th>2</th>\n",
       "      <td>3</td>\n",
       "      <td>0</td>\n",
       "      <td>26.0</td>\n",
       "      <td>0</td>\n",
       "      <td>0</td>\n",
       "      <td>7.9250</td>\n",
       "      <td>1</td>\n",
       "      <td>1</td>\n",
       "    </tr>\n",
       "    <tr>\n",
       "      <th>3</th>\n",
       "      <td>1</td>\n",
       "      <td>0</td>\n",
       "      <td>35.0</td>\n",
       "      <td>1</td>\n",
       "      <td>0</td>\n",
       "      <td>53.1000</td>\n",
       "      <td>1</td>\n",
       "      <td>1</td>\n",
       "    </tr>\n",
       "    <tr>\n",
       "      <th>4</th>\n",
       "      <td>3</td>\n",
       "      <td>1</td>\n",
       "      <td>35.0</td>\n",
       "      <td>0</td>\n",
       "      <td>0</td>\n",
       "      <td>8.0500</td>\n",
       "      <td>1</td>\n",
       "      <td>0</td>\n",
       "    </tr>\n",
       "  </tbody>\n",
       "</table>\n",
       "</div>"
      ],
      "text/plain": [
       "   Pclass  Sex   Age  SibSp  Parch     Fare  Embarked  Survived\n",
       "0       3    1  22.0      1      0   7.2500         1         0\n",
       "1       1    0  38.0      1      0  71.2833         2         1\n",
       "2       3    0  26.0      0      0   7.9250         1         1\n",
       "3       1    0  35.0      1      0  53.1000         1         1\n",
       "4       3    1  35.0      0      0   8.0500         1         0"
      ]
     },
     "execution_count": 5,
     "metadata": {},
     "output_type": "execute_result"
    }
   ],
   "source": [
    "mapping = {'S':1, 'C':2, 'Q':3}\n",
    "mapping2 = {'male':1, 'female':0}\n",
    "titanic['Embarked'] = titanic['Embarked'].map(mapping)\n",
    "titanic['Sex'] = titanic['Sex'].map(mapping2)\n",
    "titanic.head()"
   ]
  },
  {
   "cell_type": "code",
   "execution_count": 6,
   "metadata": {},
   "outputs": [
    {
     "data": {
      "text/plain": [
       "array([[ 3.    ,  1.    , 22.    , ...,  0.    ,  7.25  ,  1.    ],\n",
       "       [ 1.    ,  0.    , 38.    , ...,  0.    , 71.2833,  2.    ],\n",
       "       [ 3.    ,  0.    , 26.    , ...,  0.    ,  7.925 ,  1.    ],\n",
       "       ...,\n",
       "       [ 3.    ,  0.    , 30.    , ...,  2.    , 23.45  ,  1.    ],\n",
       "       [ 1.    ,  1.    , 26.    , ...,  0.    , 30.    ,  2.    ],\n",
       "       [ 3.    ,  1.    , 32.    , ...,  0.    ,  7.75  ,  3.    ]])"
      ]
     },
     "execution_count": 6,
     "metadata": {},
     "output_type": "execute_result"
    }
   ],
   "source": [
    "# devide independent variables and label\n",
    "X = titanic.iloc[:, :-1].values\n",
    "y = titanic.iloc[:, -1].values\n",
    "X"
   ]
  },
  {
   "cell_type": "code",
   "execution_count": null,
   "metadata": {},
   "outputs": [],
   "source": [
    "# declare classifier object and train the model\n",
    "knn = KNeighborsClassifier(n_neighbors=5)\n",
    "knn.fit(X, y)\n",
    "\n",
    "# make predictions\n",
    "y_pred = knn.predict(X)"
   ]
  },
  {
   "cell_type": "code",
   "execution_count": null,
   "metadata": {
    "scrolled": true
   },
   "outputs": [],
   "source": [
    "print('정확도: ', round(accuracy_score(y, y_pred),3))\n",
    "print('재현율: ', round(recall_score(y, y_pred),3))\n",
    "print('정밀도:', round(precision_score(y, y_pred),3))\n",
    "print('F1 Score:', round(f1_score(y, y_pred),3))"
   ]
  },
  {
   "cell_type": "code",
   "execution_count": null,
   "metadata": {},
   "outputs": [],
   "source": [
    "from IPython.display import Image\n",
    "Image(\"confusion matrix.png\")"
   ]
  },
  {
   "cell_type": "code",
   "execution_count": null,
   "metadata": {},
   "outputs": [],
   "source": [
    "confusion_matrix(y, y_pred)"
   ]
  },
  {
   "cell_type": "code",
   "execution_count": null,
   "metadata": {},
   "outputs": [],
   "source": [
    "plot_confusion_matrix(knn, X,y)"
   ]
  },
  {
   "cell_type": "code",
   "execution_count": null,
   "metadata": {},
   "outputs": [],
   "source": [
    "probs = knn.predict_proba(X)\n",
    "preds = probs[:,1]\n",
    "fpr, tpr, threshold = metrics.roc_curve(y, preds)\n",
    "roc_auc = metrics.auc(fpr, tpr)"
   ]
  },
  {
   "cell_type": "code",
   "execution_count": null,
   "metadata": {
    "scrolled": true
   },
   "outputs": [],
   "source": [
    "plt.title('Receiver Operating Characteristic')\n",
    "plt.plot(fpr, tpr, 'b', label = 'AUC = %0.2f' % roc_auc)\n",
    "plt.legend(loc = 'lower right')\n",
    "plt.plot([0, 1], [0, 1],'r--')\n",
    "plt.xlim([0, 1])\n",
    "plt.ylim([0, 1])\n",
    "plt.ylabel('True Positive Rate')\n",
    "plt.xlabel('False Positive Rate')\n",
    "plt.show()\n",
    "\n",
    "# https://www.it-swarm.dev/ko/python/python%EC%97%90%EC%84%9C-roc-%EA%B3%A1%EC%84%A0%EC%9D%84-%EA%B7%B8%EB%A6%AC%EB%8A%94-%EB%B0%A9%EB%B2%95/1048726952/"
   ]
  },
  {
   "cell_type": "markdown",
   "metadata": {},
   "source": [
    "### 실습: iris data로 정확도, confustion matrix 도출"
   ]
  },
  {
   "cell_type": "code",
   "execution_count": null,
   "metadata": {},
   "outputs": [],
   "source": [
    "from sklearn.datasets import load_iris\n",
    "\n",
    "iris = load_iris()"
   ]
  },
  {
   "cell_type": "code",
   "execution_count": null,
   "metadata": {},
   "outputs": [],
   "source": [
    "df = pd.DataFrame(data=iris.data, columns=iris.feature_names)\n",
    "df['target'] = iris.target\n",
    "\n",
    "# 0.0, 1.0, 2.0으로 표현된 label을 문자열로 매핑\n",
    "df['target'] = df['target'].map({0:\"setosa\", 1:\"versicolor\", 2:\"virginica\"})\n",
    "df.head()"
   ]
  },
  {
   "cell_type": "code",
   "execution_count": null,
   "metadata": {},
   "outputs": [],
   "source": [
    "x_data = df.iloc[:, :-1].values\n",
    "y_data = df.iloc[:, [-1]].values"
   ]
  },
  {
   "cell_type": "code",
   "execution_count": null,
   "metadata": {},
   "outputs": [],
   "source": [
    "# declare classifier object and train the model\n",
    "knn = KNeighborsClassifier(n_neighbors=5)\n",
    "knn.fit(x_data, y_data)\n",
    "\n",
    "# make predictions\n",
    "y_data_pred = knn.predict(x_data)"
   ]
  },
  {
   "cell_type": "code",
   "execution_count": null,
   "metadata": {},
   "outputs": [],
   "source": [
    "print('정확도: ', round(accuracy_score(y_data, y_data_pred),3))"
   ]
  },
  {
   "cell_type": "code",
   "execution_count": null,
   "metadata": {},
   "outputs": [],
   "source": [
    "confusion_matrix(y_data, y_data_pred)"
   ]
  },
  {
   "cell_type": "code",
   "execution_count": null,
   "metadata": {},
   "outputs": [],
   "source": []
  },
  {
   "cell_type": "code",
   "execution_count": null,
   "metadata": {},
   "outputs": [],
   "source": []
  },
  {
   "cell_type": "markdown",
   "metadata": {},
   "source": [
    "### train/test 분리 진행"
   ]
  },
  {
   "cell_type": "code",
   "execution_count": null,
   "metadata": {},
   "outputs": [],
   "source": [
    "X_train, X_test, y_train, y_test = train_test_split(X,\n",
    "                                                    y,\n",
    "                                                    test_size=0.2,\n",
    "                                                    random_state=1004)"
   ]
  },
  {
   "cell_type": "code",
   "execution_count": null,
   "metadata": {},
   "outputs": [],
   "source": [
    "print('X_train shape:', X_train.shape)\n",
    "print('X_test shape:', X_test.shape)\n",
    "print('y_train shape:', y_train.shape)\n",
    "print('y_test shape:', y_test.shape)"
   ]
  },
  {
   "cell_type": "code",
   "execution_count": null,
   "metadata": {},
   "outputs": [],
   "source": [
    "knn.fit(X_train,y_train)"
   ]
  },
  {
   "cell_type": "code",
   "execution_count": null,
   "metadata": {},
   "outputs": [],
   "source": [
    "y_train_pred = knn.predict(X_train)\n",
    "y_test_pred_knn = knn.predict(X_test)\n",
    "\n",
    "cv_score = cross_val_score(knn, X_train, y_train, cv=5, scoring=\"accuracy\")\n",
    "print(\"교차 검증 평균 점수: {:.2f}\".format(cv_score.mean()))"
   ]
  },
  {
   "cell_type": "code",
   "execution_count": null,
   "metadata": {},
   "outputs": [],
   "source": [
    "confusion_matrix(y_train, y_train_pred)"
   ]
  },
  {
   "cell_type": "code",
   "execution_count": null,
   "metadata": {},
   "outputs": [],
   "source": [
    "print('Train Data')\n",
    "print('정확도: ', round(accuracy_score(y_train, y_train_pred),3))\n",
    "print('재현율: ', round(recall_score(y_train, y_train_pred),3))\n",
    "print('정밀도:', round(precision_score(y_train, y_train_pred),3))\n",
    "print('F1 Score:', round(f1_score(y_train, y_train_pred),3))"
   ]
  },
  {
   "cell_type": "code",
   "execution_count": null,
   "metadata": {},
   "outputs": [],
   "source": [
    "print('Test Data')\n",
    "print('정확도: ', round(accuracy_score(y_test, y_test_pred_knn),3))\n",
    "print('재현율: ', round(recall_score(y_test, y_test_pred_knn),3))\n",
    "print('정밀도:', round(precision_score(y_test, y_test_pred_knn),3))\n",
    "print('F1 Score:', round(f1_score(y_test, y_test_pred_knn),3))"
   ]
  },
  {
   "cell_type": "markdown",
   "metadata": {},
   "source": [
    "### 실습: iris 데이터 train/test dataset 나눠서 각각 정확도 구해보기"
   ]
  },
  {
   "cell_type": "code",
   "execution_count": null,
   "metadata": {},
   "outputs": [],
   "source": [
    "X_data_train, X_data_test, y_data_train, y_data_test = train_test_split(x_data,\n",
    "                                                    y_data,\n",
    "                                                    test_size=0.2,\n",
    "                                                    random_state=25)"
   ]
  },
  {
   "cell_type": "code",
   "execution_count": null,
   "metadata": {},
   "outputs": [],
   "source": [
    "knn.fit(X_data_train,y_data_train)\n",
    "\n",
    "y_train_pred = knn.predict(X_data_train)\n",
    "y_test_pred = knn.predict(X_data_test)\n",
    "\n",
    "print('Train Data')\n",
    "print('정확도: ', round(accuracy_score(y_data_train, y_train_pred),3))\n",
    "print('Test Data')\n",
    "print('정확도: ', round(accuracy_score(y_data_test, y_test_pred),3))"
   ]
  },
  {
   "cell_type": "code",
   "execution_count": null,
   "metadata": {},
   "outputs": [],
   "source": []
  },
  {
   "cell_type": "code",
   "execution_count": null,
   "metadata": {},
   "outputs": [],
   "source": []
  },
  {
   "cell_type": "markdown",
   "metadata": {},
   "source": [
    "## 로지스틱 리그레션"
   ]
  },
  {
   "cell_type": "code",
   "execution_count": null,
   "metadata": {},
   "outputs": [],
   "source": [
    "from sklearn.linear_model import LogisticRegression"
   ]
  },
  {
   "cell_type": "code",
   "execution_count": null,
   "metadata": {},
   "outputs": [],
   "source": [
    "Image(\"logistic regression.png\")"
   ]
  },
  {
   "cell_type": "code",
   "execution_count": null,
   "metadata": {
    "scrolled": true
   },
   "outputs": [],
   "source": [
    "logistic = LogisticRegression()\n",
    "logistic.fit(X, y)"
   ]
  },
  {
   "cell_type": "code",
   "execution_count": null,
   "metadata": {
    "scrolled": true
   },
   "outputs": [],
   "source": [
    "help(LogisticRegression)"
   ]
  },
  {
   "cell_type": "code",
   "execution_count": null,
   "metadata": {},
   "outputs": [],
   "source": [
    "print('회귀계수:', logistic.coef_)\n",
    "print('정확도:', round(logistic.score(X, y),3))"
   ]
  },
  {
   "cell_type": "code",
   "execution_count": null,
   "metadata": {},
   "outputs": [],
   "source": [
    "y_pred_logistic = logistic.predict(X)\n",
    "\n",
    "print('정확도: ', round(accuracy_score(y, y_pred_logistic),3))\n",
    "print('재현율: ', round(recall_score(y, y_pred_logistic),3))\n",
    "print('정밀도:', round(precision_score(y, y_pred_logistic),3))\n",
    "print('F1 Score:', round(f1_score(y, y_pred_logistic),3))"
   ]
  },
  {
   "cell_type": "code",
   "execution_count": null,
   "metadata": {
    "scrolled": true
   },
   "outputs": [],
   "source": [
    "confusion_matrix(y, y_pred_logistic)"
   ]
  },
  {
   "cell_type": "markdown",
   "metadata": {},
   "source": [
    "### 실습: iris data train/test 나눠서 logistic regression 진행"
   ]
  },
  {
   "cell_type": "code",
   "execution_count": null,
   "metadata": {},
   "outputs": [],
   "source": [
    "logistic.fit(X_data_train,y_data_train)\n",
    "\n",
    "y_train_pred = logistic.predict(X_data_train)\n",
    "y_test_pred = logistic.predict(X_data_test)\n",
    "\n",
    "print('Train Data')\n",
    "print('정확도: ', round(accuracy_score(y_data_train, y_train_pred),3))\n",
    "print('Test Data')\n",
    "print('정확도: ', round(accuracy_score(y_data_test, y_test_pred),3))"
   ]
  },
  {
   "cell_type": "code",
   "execution_count": null,
   "metadata": {},
   "outputs": [],
   "source": []
  },
  {
   "cell_type": "markdown",
   "metadata": {},
   "source": [
    "## 트리 모형"
   ]
  },
  {
   "cell_type": "code",
   "execution_count": null,
   "metadata": {},
   "outputs": [],
   "source": [
    "from sklearn.tree import DecisionTreeClassifier"
   ]
  },
  {
   "cell_type": "code",
   "execution_count": null,
   "metadata": {},
   "outputs": [],
   "source": [
    "tree = DecisionTreeClassifier()\n",
    "tree.fit(X, y)\n",
    "\n",
    "y_pred_tree = tree.predict(X)"
   ]
  },
  {
   "cell_type": "code",
   "execution_count": null,
   "metadata": {},
   "outputs": [],
   "source": [
    "print(tree.predict_proba([[1,1,26,1,0,20,1]]))\n",
    "print(tree.predict([[1,1,26,1,0,20,1]]))\n"
   ]
  },
  {
   "cell_type": "code",
   "execution_count": null,
   "metadata": {},
   "outputs": [],
   "source": [
    "print('정확도: ', round(accuracy_score(y, y_pred_tree),3))\n",
    "print('재현율: ', round(recall_score(y, y_pred_tree),3))\n",
    "print('정밀도:', round(precision_score(y, y_pred_tree),3))\n",
    "print('F1 Score:', round(f1_score(y, y_pred_tree),3))"
   ]
  },
  {
   "cell_type": "code",
   "execution_count": null,
   "metadata": {},
   "outputs": [],
   "source": [
    "confusion_matrix(y, y_pred_tree)"
   ]
  },
  {
   "cell_type": "markdown",
   "metadata": {},
   "source": [
    "#### overfitting 주의!"
   ]
  },
  {
   "cell_type": "code",
   "execution_count": null,
   "metadata": {},
   "outputs": [],
   "source": [
    "X_train, X_test, y_train, y_test = train_test_split(X,\n",
    "                                                    y,\n",
    "                                                    test_size=0.2,\n",
    "                                                    random_state=1004)"
   ]
  },
  {
   "cell_type": "code",
   "execution_count": null,
   "metadata": {},
   "outputs": [],
   "source": [
    "tree.fit(X_train,y_train)"
   ]
  },
  {
   "cell_type": "code",
   "execution_count": null,
   "metadata": {},
   "outputs": [],
   "source": [
    "y_train_pred_tree = tree.predict(X_train)\n",
    "y_test_pred_tree = tree.predict(X_test)\n",
    "\n",
    "cv_score_tree = cross_val_score(tree, X_train, y_train, cv=5, scoring=\"accuracy\")\n",
    "print(\"교차 검증 평균 점수: {:.2f}\".format(cv_score_tree.mean()))"
   ]
  },
  {
   "cell_type": "code",
   "execution_count": null,
   "metadata": {},
   "outputs": [],
   "source": [
    "confusion_matrix(y_train, y_train_pred_tree)"
   ]
  },
  {
   "cell_type": "code",
   "execution_count": null,
   "metadata": {},
   "outputs": [],
   "source": [
    "print('Train Data')\n",
    "print('정확도: ', round(accuracy_score(y_train, y_train_pred_tree),3))\n",
    "print('재현율: ', round(recall_score(y_train, y_train_pred_tree),3))\n",
    "print('정밀도:', round(precision_score(y_train, y_train_pred_tree),3))\n",
    "print('F1 Score:', round(f1_score(y_train, y_train_pred_tree),3))"
   ]
  },
  {
   "cell_type": "code",
   "execution_count": null,
   "metadata": {
    "scrolled": true
   },
   "outputs": [],
   "source": [
    "print('Test Data')\n",
    "print('정확도: ', round(accuracy_score(y_test, y_test_pred_tree),3))\n",
    "print('재현율: ', round(recall_score(y_test, y_test_pred_tree),3))\n",
    "print('정밀도:', round(precision_score(y_test, y_test_pred_tree),3))\n",
    "print('F1 Score:', round(f1_score(y_test, y_test_pred_tree),3))"
   ]
  },
  {
   "cell_type": "markdown",
   "metadata": {},
   "source": [
    "### 복잡한 트리는 기존에 있는 데이터들은 잘 예측하나, 새로운 데이터는 잘 예측하지 못하고 있음"
   ]
  },
  {
   "cell_type": "markdown",
   "metadata": {},
   "source": [
    "### 적당한 가지에서 잘라내야함, pruning"
   ]
  },
  {
   "cell_type": "code",
   "execution_count": null,
   "metadata": {},
   "outputs": [],
   "source": [
    "Image(\"decision tree.png\")"
   ]
  },
  {
   "cell_type": "code",
   "execution_count": null,
   "metadata": {
    "scrolled": true
   },
   "outputs": [],
   "source": [
    "help(DecisionTreeClassifier)"
   ]
  },
  {
   "cell_type": "markdown",
   "metadata": {},
   "source": [
    "criterion의 default값은 gini  \n",
    "max_depth: 트리의 최대 깊이  \n",
    "min_samples_split: 분할되기 위해 노드가 가져야 하는 최소 샘플의 수  \n",
    "min_samples_leaf: 리프 노드(자식이 없는 노드)가 가지고 있어야할 최소 샘플 수"
   ]
  },
  {
   "cell_type": "code",
   "execution_count": null,
   "metadata": {},
   "outputs": [],
   "source": [
    "tree3 = DecisionTreeClassifier(max_depth=3)\n",
    "tree3.fit(X_train,y_train)"
   ]
  },
  {
   "cell_type": "code",
   "execution_count": null,
   "metadata": {},
   "outputs": [],
   "source": [
    "y_train_pred_tree3 = tree3.predict(X_train)\n",
    "y_test_pred_tree3 = tree3.predict(X_test)\n",
    "\n",
    "cv_score_tree3 = cross_val_score(tree3, X_train, y_train, cv=5, scoring=\"accuracy\")\n",
    "print(\"교차 검증 평균 점수: {:.2f}\".format(cv_score_tree3.mean()))"
   ]
  },
  {
   "cell_type": "code",
   "execution_count": null,
   "metadata": {},
   "outputs": [],
   "source": [
    "confusion_matrix(y_train, y_train_pred_tree3)"
   ]
  },
  {
   "cell_type": "code",
   "execution_count": null,
   "metadata": {},
   "outputs": [],
   "source": [
    "print('Train Data')\n",
    "print('정확도: ', round(accuracy_score(y_train, y_train_pred_tree3),3))\n",
    "print('재현율: ', round(recall_score(y_train, y_train_pred_tree3),3))\n",
    "print('정밀도:', round(precision_score(y_train, y_train_pred_tree3),3))\n",
    "print('F1 Score:', round(f1_score(y_train, y_train_pred_tree3),3))"
   ]
  },
  {
   "cell_type": "code",
   "execution_count": null,
   "metadata": {},
   "outputs": [],
   "source": [
    "print('Test Data')\n",
    "print('정확도: ', round(accuracy_score(y_test, y_test_pred_tree3),3))\n",
    "print('재현율: ', round(recall_score(y_test, y_test_pred_tree3),3))\n",
    "print('정밀도:', round(precision_score(y_test, y_test_pred_tree3),3))\n",
    "print('F1 Score:', round(f1_score(y_test, y_test_pred_tree3),3))"
   ]
  },
  {
   "cell_type": "code",
   "execution_count": null,
   "metadata": {},
   "outputs": [],
   "source": [
    "tree3_entropy = DecisionTreeClassifier(criterion = 'entropy', max_depth=4)\n",
    "tree3_entropy.fit(X_train,y_train)"
   ]
  },
  {
   "cell_type": "code",
   "execution_count": null,
   "metadata": {},
   "outputs": [],
   "source": [
    "y_train_pred_tree3_entropy = tree3_entropy.predict(X_train)\n",
    "y_test_pred_tree3_entropy = tree3_entropy.predict(X_test)\n",
    "\n",
    "cv_score_tree3_entropy = cross_val_score(tree3_entropy, X_train, y_train, cv=5, scoring=\"accuracy\")\n",
    "print(\"교차 검증 평균 점수: {:.2f}\".format(cv_score_tree3_entropy.mean()))"
   ]
  },
  {
   "cell_type": "code",
   "execution_count": null,
   "metadata": {},
   "outputs": [],
   "source": [
    "print('Train Data')\n",
    "print('정확도: ', round(accuracy_score(y_train, y_train_pred_tree3_entropy),3))\n",
    "print('재현율: ', round(recall_score(y_train, y_train_pred_tree3_entropy),3))\n",
    "print('정밀도:', round(precision_score(y_train, y_train_pred_tree3_entropy),3))\n",
    "print('F1 Score:', round(f1_score(y_train, y_train_pred_tree3_entropy),3))"
   ]
  },
  {
   "cell_type": "code",
   "execution_count": null,
   "metadata": {
    "scrolled": true
   },
   "outputs": [],
   "source": [
    "print('Test Data')\n",
    "print('정확도: ', round(accuracy_score(y_test, y_test_pred_tree3_entropy),3))\n",
    "print('재현율: ', round(recall_score(y_test, y_test_pred_tree3_entropy),3))\n",
    "print('정밀도:', round(precision_score(y_test, y_test_pred_tree3_entropy),3))\n",
    "print('F1 Score:', round(f1_score(y_test, y_test_pred_tree3_entropy),3))"
   ]
  },
  {
   "cell_type": "markdown",
   "metadata": {},
   "source": [
    "### iris data 트리기반 모형으로 예측해보기"
   ]
  },
  {
   "cell_type": "code",
   "execution_count": null,
   "metadata": {},
   "outputs": [],
   "source": [
    "tree3.fit(X_data_train,y_data_train)\n",
    "\n",
    "y_train_pred = tree3.predict(X_data_train)\n",
    "y_test_pred = tree3.predict(X_data_test)\n",
    "\n",
    "print('Train Data')\n",
    "print('정확도: ', round(accuracy_score(y_data_train, y_train_pred),3))\n",
    "print('Test Data')\n",
    "print('정확도: ', round(accuracy_score(y_data_test, y_test_pred),3))"
   ]
  },
  {
   "cell_type": "code",
   "execution_count": null,
   "metadata": {},
   "outputs": [],
   "source": []
  },
  {
   "cell_type": "markdown",
   "metadata": {},
   "source": [
    "#### 심화과정: 그리드서치"
   ]
  },
  {
   "cell_type": "code",
   "execution_count": null,
   "metadata": {
    "scrolled": true
   },
   "outputs": [],
   "source": [
    "from sklearn.model_selection import GridSearchCV\n",
    "\n",
    "param_grid = [\n",
    "    {'criterion': ['gini', 'entropy'], 'max_depth': [2, 3, 4, 5, 6, 7],\n",
    "     'min_samples_split': [10, 20, 30, 40], 'min_samples_leaf': [5, 10, 15, 20]},\n",
    "  ]\n",
    "\n",
    "tree_grid = DecisionTreeClassifier(random_state=42)\n",
    "# train across 5 folds, that's a total of (12+6)*5=90 rounds of training \n",
    "grid_search = GridSearchCV(tree_grid, param_grid, cv=5,\n",
    "                           scoring='accuracy',\n",
    "                           return_train_score=True)\n",
    "grid_search.fit(X, y)"
   ]
  },
  {
   "cell_type": "code",
   "execution_count": null,
   "metadata": {},
   "outputs": [],
   "source": [
    "grid_search.best_params_"
   ]
  },
  {
   "cell_type": "code",
   "execution_count": null,
   "metadata": {
    "scrolled": true
   },
   "outputs": [],
   "source": [
    "grid_search.best_estimator_"
   ]
  },
  {
   "cell_type": "code",
   "execution_count": null,
   "metadata": {},
   "outputs": [],
   "source": [
    "cvres = grid_search.cv_results_\n",
    "for accuracy, params in zip(cvres[\"mean_test_score\"], cvres[\"params\"]):\n",
    "    print(accuracy, params)"
   ]
  },
  {
   "cell_type": "code",
   "execution_count": null,
   "metadata": {},
   "outputs": [],
   "source": [
    "tree_best = DecisionTreeClassifier(criterion='entropy', max_depth=7, min_samples_leaf=5,\n",
    "                                   min_samples_split=10, random_state=42)\n",
    "tree_best.fit(X_train,y_train)"
   ]
  },
  {
   "cell_type": "code",
   "execution_count": null,
   "metadata": {},
   "outputs": [],
   "source": [
    "y_train_pred_best = tree_best.predict(X_train)\n",
    "y_test_pred_best = tree_best.predict(X_test)\n",
    "\n",
    "cv_score_tree_best = cross_val_score(tree_best, X_train, y_train, cv=5, scoring=\"accuracy\")\n",
    "print(\"교차 검증 평균 점수: {:.2f}\".format(cv_score_tree_best.mean()))"
   ]
  },
  {
   "cell_type": "code",
   "execution_count": null,
   "metadata": {},
   "outputs": [],
   "source": [
    "print('Train Data')\n",
    "print('정확도: ', round(accuracy_score(y_train, y_train_pred_best),3))\n",
    "print('재현율: ', round(recall_score(y_train, y_train_pred_best),3))\n",
    "print('정밀도:', round(precision_score(y_train, y_train_pred_best),3))\n",
    "print('F1 Score:', round(f1_score(y_train, y_train_pred_best),3))"
   ]
  },
  {
   "cell_type": "code",
   "execution_count": null,
   "metadata": {},
   "outputs": [],
   "source": [
    "print('Test Data')\n",
    "print('정확도: ', round(accuracy_score(y_test, y_test_pred_best),3))\n",
    "print('재현율: ', round(recall_score(y_test, y_test_pred_best),3))\n",
    "print('정밀도:', round(precision_score(y_test, y_test_pred_best),3))\n",
    "print('F1 Score:', round(f1_score(y_test, y_test_pred_best),3))"
   ]
  },
  {
   "cell_type": "markdown",
   "metadata": {},
   "source": [
    "### 트리 기반 회귀"
   ]
  },
  {
   "cell_type": "code",
   "execution_count": null,
   "metadata": {},
   "outputs": [],
   "source": [
    "from sklearn.tree import DecisionTreeRegressor"
   ]
  },
  {
   "cell_type": "code",
   "execution_count": null,
   "metadata": {},
   "outputs": [],
   "source": [
    "df = pd.read_csv('Boston_house.csv')\n",
    "df.head()"
   ]
  },
  {
   "cell_type": "code",
   "execution_count": null,
   "metadata": {},
   "outputs": [],
   "source": [
    "Input= df.iloc[:,:-1]\n",
    "Output = df.iloc[:,-1]"
   ]
  },
  {
   "cell_type": "code",
   "execution_count": null,
   "metadata": {},
   "outputs": [],
   "source": [
    "tree_reg = DecisionTreeRegressor()\n",
    "tree_reg.fit(Input, Output)"
   ]
  },
  {
   "cell_type": "code",
   "execution_count": null,
   "metadata": {},
   "outputs": [],
   "source": [
    "Output_hat = tree_reg.predict(Input)\n",
    "\n",
    "print('R^2: ', tree_reg.score(Input, Output))\n",
    "print('MSE: ', mean_squared_error(Output,Output_hat))"
   ]
  },
  {
   "cell_type": "code",
   "execution_count": null,
   "metadata": {},
   "outputs": [],
   "source": [
    "Input_train, Input_test, Output_train, Output_test = train_test_split(Input,\n",
    "                                                    Output,\n",
    "                                                    test_size=0.2,\n",
    "                                                    random_state=1004)"
   ]
  },
  {
   "cell_type": "code",
   "execution_count": null,
   "metadata": {},
   "outputs": [],
   "source": [
    "tree_reg.fit(Input_train, Output_train)\n",
    "\n",
    "Output_train_hat = tree_reg.predict(Input_train)\n",
    "print('train셋 MSE: ', mean_squared_error(Output_train,Output_train_hat))\n",
    "print('train셋 R^2: ', tree_reg.score(Input_train, Output_train))\n",
    "\n",
    "Output_test_hat = tree_reg.predict(Input_test)\n",
    "print('*' *30)\n",
    "print('test셋 MSE:', mean_squared_error(Output_test,Output_test_hat))\n",
    "print('test셋 R^2: ', tree_reg.score(Input_test, Output_test))"
   ]
  },
  {
   "cell_type": "markdown",
   "metadata": {},
   "source": [
    "#### 그리드 서치를 이용해서 하이퍼파라미터를 설정할 수 있음"
   ]
  },
  {
   "cell_type": "markdown",
   "metadata": {},
   "source": [
    "## 앙상블"
   ]
  },
  {
   "cell_type": "markdown",
   "metadata": {},
   "source": [
    "### 랜덤포레스트"
   ]
  },
  {
   "cell_type": "code",
   "execution_count": null,
   "metadata": {},
   "outputs": [],
   "source": [
    "Image(\"random forest.png\")"
   ]
  },
  {
   "cell_type": "code",
   "execution_count": null,
   "metadata": {},
   "outputs": [],
   "source": [
    "from sklearn.ensemble import RandomForestClassifier"
   ]
  },
  {
   "cell_type": "code",
   "execution_count": null,
   "metadata": {},
   "outputs": [],
   "source": [
    "randomforest = RandomForestClassifier()\n",
    "randomforest.fit(X_train, y_train)"
   ]
  },
  {
   "cell_type": "code",
   "execution_count": null,
   "metadata": {},
   "outputs": [],
   "source": [
    "y_train_pred_randomforest = randomforest.predict(X_train)\n",
    "y_test_pred_randomforest = randomforest.predict(X_test)"
   ]
  },
  {
   "cell_type": "code",
   "execution_count": null,
   "metadata": {},
   "outputs": [],
   "source": [
    "print('Train Data')\n",
    "print('정확도: ', round(accuracy_score(y_train, y_train_pred_randomforest),3))\n",
    "print('Test Data')\n",
    "print('정확도: ', round(accuracy_score(y_test, y_test_pred_randomforest),3))"
   ]
  },
  {
   "cell_type": "code",
   "execution_count": null,
   "metadata": {
    "scrolled": true
   },
   "outputs": [],
   "source": [
    "help(RandomForestClassifier)"
   ]
  },
  {
   "cell_type": "markdown",
   "metadata": {},
   "source": [
    "### iris데이터 randomforest 진행하여 test data 정확도 구하기"
   ]
  },
  {
   "cell_type": "code",
   "execution_count": null,
   "metadata": {},
   "outputs": [],
   "source": [
    "randomforest.fit(X_data_train,y_data_train)\n",
    "\n",
    "y_train_pred = randomforest.predict(X_data_train)\n",
    "y_test_pred = randomforest.predict(X_data_test)\n",
    "\n",
    "print('Train Data')\n",
    "print('정확도: ', round(accuracy_score(y_data_train, y_train_pred),3))\n",
    "print('Test Data')\n",
    "print('정확도: ', round(accuracy_score(y_data_test, y_test_pred),3))"
   ]
  },
  {
   "cell_type": "code",
   "execution_count": null,
   "metadata": {},
   "outputs": [],
   "source": []
  },
  {
   "cell_type": "code",
   "execution_count": null,
   "metadata": {},
   "outputs": [],
   "source": []
  },
  {
   "cell_type": "markdown",
   "metadata": {},
   "source": [
    "n_estimators: 생성할 tree의 갯수   \n",
    "max_features: 최대 선택할 특성의 수 (전체 특성 선택시 무작위성 들어가지 않음) ('auto', 'sqrt', 'log2')  \n",
    "n_jobs = -1 지정시 컴퓨터의 모든 코어 사용"
   ]
  },
  {
   "cell_type": "code",
   "execution_count": null,
   "metadata": {},
   "outputs": [],
   "source": [
    "import time\n",
    "start = time.time()  # 시작 시간 저장\n",
    "\n",
    "param_grid = [\n",
    "    {'n_estimators': [100,200,300,400,500], 'max_features': ['auto', 'log2']},\n",
    "  ]\n",
    "\n",
    "randomforest_grid = RandomForestClassifier(random_state=42)\n",
    "\n",
    "grid_search = GridSearchCV(randomforest_grid, param_grid, cv=5,\n",
    "                           scoring='accuracy',\n",
    "                           return_train_score=True)\n",
    "grid_search.fit(X, y)\n",
    "\n",
    "print(\"time :\", time.time() - start)  # 실행 시간 = 현재시각 - 시작시간 "
   ]
  },
  {
   "cell_type": "code",
   "execution_count": null,
   "metadata": {},
   "outputs": [],
   "source": [
    "print(grid_search.best_params_)\n",
    "print(grid_search.best_estimator_)"
   ]
  },
  {
   "cell_type": "code",
   "execution_count": null,
   "metadata": {},
   "outputs": [],
   "source": [
    "randomforest_best = RandomForestClassifier(n_estimators=200, random_state=42, n_jobs = -1)\n",
    "randomforest_best.fit(X_train,y_train)"
   ]
  },
  {
   "cell_type": "code",
   "execution_count": null,
   "metadata": {},
   "outputs": [],
   "source": [
    "y_train_pred_randomforest_best = randomforest_best.predict(X_train)\n",
    "y_test_pred_randomforest_best = randomforest_best.predict(X_test)"
   ]
  },
  {
   "cell_type": "code",
   "execution_count": null,
   "metadata": {},
   "outputs": [],
   "source": [
    "print('Train Data')\n",
    "print('정확도: ', round(accuracy_score(y_train, y_train_pred_randomforest_best),3))\n",
    "print('Test Data')\n",
    "print('정확도: ', round(accuracy_score(y_test, y_test_pred_randomforest_best),3))"
   ]
  },
  {
   "cell_type": "code",
   "execution_count": null,
   "metadata": {
    "scrolled": true
   },
   "outputs": [],
   "source": [
    "print(\"특성 중요도 : \",randomforest_best.feature_importances_)"
   ]
  },
  {
   "cell_type": "code",
   "execution_count": null,
   "metadata": {},
   "outputs": [],
   "source": [
    "aa = titanic.iloc[:,:-1]\n",
    "aa\n",
    "\n",
    "n_feature = aa.shape[1]\n",
    "index = np.arange(n_feature)\n",
    "\n",
    "plt.barh(index, randomforest_best.feature_importances_, align='center')\n",
    "plt.yticks(index, aa.columns)\n",
    "plt.ylim(-1, n_feature)\n",
    "plt.xlabel('feature importance', size=15)\n",
    "plt.ylabel('feature', size=15)\n",
    "plt.show()"
   ]
  },
  {
   "cell_type": "markdown",
   "metadata": {},
   "source": [
    "## 투표기반"
   ]
  },
  {
   "cell_type": "code",
   "execution_count": null,
   "metadata": {},
   "outputs": [],
   "source": [
    "from sklearn.datasets import make_moons\n",
    "\n",
    "X1, y1 = make_moons(n_samples=500, noise=0.30, random_state=42)\n",
    "X1_train, X1_test, y1_train, y1_test = train_test_split(X1, y1, random_state=42)"
   ]
  },
  {
   "cell_type": "code",
   "execution_count": null,
   "metadata": {},
   "outputs": [],
   "source": [
    "from sklearn.ensemble import RandomForestClassifier\n",
    "from sklearn.ensemble import VotingClassifier\n",
    "from sklearn.linear_model import LogisticRegression\n",
    "from sklearn.svm import SVC # 배우지 않은 내용\n",
    "\n",
    "log_clf = LogisticRegression(random_state=42)\n",
    "rnd_clf = RandomForestClassifier(n_estimators=100, random_state=42)\n",
    "svm_clf = SVC(gamma=\"scale\", random_state=42)\n",
    "\n",
    "voting_clf = VotingClassifier(\n",
    "    estimators=[('lr', log_clf), ('rf', rnd_clf), ('svc', svm_clf)],\n",
    "    voting='hard')"
   ]
  },
  {
   "cell_type": "code",
   "execution_count": null,
   "metadata": {},
   "outputs": [],
   "source": [
    "voting_clf.fit(X1_train, y1_train)"
   ]
  },
  {
   "cell_type": "code",
   "execution_count": null,
   "metadata": {},
   "outputs": [],
   "source": [
    "from sklearn.metrics import accuracy_score\n",
    "\n",
    "for clf in (log_clf, rnd_clf, svm_clf, voting_clf):\n",
    "    clf.fit(X1_train, y1_train)\n",
    "    y1_pred = clf.predict(X1_test)\n",
    "    print(clf.__class__.__name__, accuracy_score(y1_test, y1_pred))\n",
    "    \n",
    "# hard voting"
   ]
  },
  {
   "cell_type": "code",
   "execution_count": null,
   "metadata": {},
   "outputs": [],
   "source": [
    "log_clf = LogisticRegression(solver=\"lbfgs\", random_state=42)\n",
    "rnd_clf = RandomForestClassifier(n_estimators=100, random_state=42)\n",
    "svm_clf = SVC(gamma=\"scale\", probability=True, random_state=42)\n",
    "\n",
    "voting_clf = VotingClassifier(\n",
    "    estimators=[('lr', log_clf), ('rf', rnd_clf), ('svc', svm_clf)],\n",
    "    voting='soft')\n",
    "voting_clf.fit(X1_train, y1_train)"
   ]
  },
  {
   "cell_type": "code",
   "execution_count": null,
   "metadata": {},
   "outputs": [],
   "source": [
    "for clf in (log_clf, rnd_clf, svm_clf, voting_clf):\n",
    "    clf.fit(X1_train, y1_train)\n",
    "    y_pred = clf.predict(X1_test)\n",
    "    print(clf.__class__.__name__, accuracy_score(y1_test, y1_pred))\n",
    "    \n",
    "# soft voting"
   ]
  },
  {
   "cell_type": "markdown",
   "metadata": {},
   "source": [
    "## 배깅"
   ]
  },
  {
   "cell_type": "code",
   "execution_count": null,
   "metadata": {
    "scrolled": true
   },
   "outputs": [],
   "source": [
    "Image(\"bagging.png\")"
   ]
  },
  {
   "cell_type": "code",
   "execution_count": null,
   "metadata": {},
   "outputs": [],
   "source": [
    "from sklearn.ensemble import BaggingClassifier"
   ]
  },
  {
   "cell_type": "code",
   "execution_count": null,
   "metadata": {},
   "outputs": [],
   "source": [
    "help(BaggingClassifier)"
   ]
  },
  {
   "cell_type": "code",
   "execution_count": null,
   "metadata": {},
   "outputs": [],
   "source": [
    "bag_clf = BaggingClassifier(\n",
    "    DecisionTreeClassifier(random_state=42), n_estimators=500,\n",
    "    max_samples=100, bootstrap=True, random_state=42, n_jobs=-1)\n",
    "\n",
    "# 중복 허용하여 무작위로 선택된 100개의 샘플로 훈련 (bootstrap=False시 페이스팅)\n",
    "\n",
    "bag_clf.fit(X_train, y_train)\n",
    "y_pred_bagging = bag_clf.predict(X_test)"
   ]
  },
  {
   "cell_type": "code",
   "execution_count": null,
   "metadata": {},
   "outputs": [],
   "source": [
    "print('Test Data')\n",
    "print('정확도: ', round(accuracy_score(y_test, y_pred_bagging),3))\n",
    "# 기존 값 80.9%"
   ]
  },
  {
   "cell_type": "code",
   "execution_count": null,
   "metadata": {},
   "outputs": [],
   "source": [
    "bag_clf_oob = BaggingClassifier(\n",
    "    DecisionTreeClassifier(random_state=42), n_estimators=500,\n",
    "    bootstrap=True, oob_score=True, random_state=40, n_jobs=-1)\n",
    "bag_clf_oob.fit(X_train, y_train)\n",
    "bag_clf_oob.oob_score_"
   ]
  },
  {
   "cell_type": "code",
   "execution_count": null,
   "metadata": {},
   "outputs": [],
   "source": [
    "y_pred_bagging_oob = bag_clf_oob.predict(X_test)\n",
    "print('Test Data')\n",
    "print('정확도: ', round(accuracy_score(y_test, y_pred_bagging_oob),3))"
   ]
  },
  {
   "cell_type": "code",
   "execution_count": null,
   "metadata": {
    "scrolled": true
   },
   "outputs": [],
   "source": [
    "bag_clf_oob.oob_decision_function_"
   ]
  },
  {
   "cell_type": "markdown",
   "metadata": {},
   "source": [
    "### iris 데이터 bagging 진행"
   ]
  },
  {
   "cell_type": "code",
   "execution_count": null,
   "metadata": {},
   "outputs": [],
   "source": [
    "bag_clf.fit(X_data_train,y_data_train)\n",
    "\n",
    "y_train_pred = bag_clf.predict(X_data_train)\n",
    "y_test_pred = bag_clf.predict(X_data_test)\n",
    "\n",
    "print('Train Data')\n",
    "print('정확도: ', round(accuracy_score(y_data_train, y_train_pred),3))\n",
    "print('Test Data')\n",
    "print('정확도: ', round(accuracy_score(y_data_test, y_test_pred),3))"
   ]
  },
  {
   "cell_type": "code",
   "execution_count": null,
   "metadata": {},
   "outputs": [],
   "source": []
  },
  {
   "cell_type": "markdown",
   "metadata": {},
   "source": [
    "## 부스팅"
   ]
  },
  {
   "cell_type": "code",
   "execution_count": null,
   "metadata": {},
   "outputs": [],
   "source": [
    "Image(\"boosting.jpg\")"
   ]
  },
  {
   "cell_type": "code",
   "execution_count": null,
   "metadata": {},
   "outputs": [],
   "source": [
    "from sklearn.ensemble import AdaBoostClassifier"
   ]
  },
  {
   "cell_type": "code",
   "execution_count": null,
   "metadata": {},
   "outputs": [],
   "source": [
    "help(AdaBoostClassifier)"
   ]
  },
  {
   "cell_type": "code",
   "execution_count": null,
   "metadata": {},
   "outputs": [],
   "source": [
    "Ada = AdaBoostClassifier(n_estimators=100,\n",
    "                        learning_rate=1)\n",
    "Ada.fit(X_train, y_train)"
   ]
  },
  {
   "cell_type": "code",
   "execution_count": null,
   "metadata": {},
   "outputs": [],
   "source": [
    "y_train_pred_Ada = Ada.predict(X_train)\n",
    "y_test_pred_Ada = Ada.predict(X_test)\n",
    "\n",
    "print('Train Data')\n",
    "print('정확도: ', round(accuracy_score(y_train, y_train_pred_Ada),3))\n",
    "print('Test Data')\n",
    "print('정확도: ', round(accuracy_score(y_test, y_test_pred_Ada),3))"
   ]
  },
  {
   "cell_type": "markdown",
   "metadata": {},
   "source": [
    "### iris data adaboosting 진행"
   ]
  },
  {
   "cell_type": "code",
   "execution_count": null,
   "metadata": {},
   "outputs": [],
   "source": [
    "Ada.fit(X_data_train,y_data_train)\n",
    "\n",
    "y_train_pred = Ada.predict(X_data_train)\n",
    "y_test_pred = Ada.predict(X_data_test)\n",
    "\n",
    "print('Train Data')\n",
    "print('정확도: ', round(accuracy_score(y_data_train, y_train_pred),3))\n",
    "print('Test Data')\n",
    "print('정확도: ', round(accuracy_score(y_data_test, y_test_pred),3))"
   ]
  },
  {
   "cell_type": "code",
   "execution_count": null,
   "metadata": {},
   "outputs": [],
   "source": []
  },
  {
   "cell_type": "code",
   "execution_count": null,
   "metadata": {},
   "outputs": [],
   "source": [
    "start = time.time()  # 시작 시간 저장\n",
    "\n",
    "param_grid = [\n",
    "    {'n_estimators': [100,200,300,400,500], 'learning_rate': [5,1,0.1]},\n",
    "  ]\n",
    "\n",
    "Ada_grid = AdaBoostClassifier(random_state=42)\n",
    "\n",
    "grid_search = GridSearchCV(Ada_grid, param_grid, cv=5,\n",
    "                           scoring='accuracy',\n",
    "                           return_train_score=True)\n",
    "grid_search.fit(X, y)\n",
    "\n",
    "print(\"time :\", time.time() - start)  # 실행 시간 = 현재시각 - 시작시간 "
   ]
  },
  {
   "cell_type": "code",
   "execution_count": null,
   "metadata": {},
   "outputs": [],
   "source": [
    "print(grid_search.best_params_)\n",
    "print(grid_search.best_estimator_)"
   ]
  },
  {
   "cell_type": "code",
   "execution_count": null,
   "metadata": {},
   "outputs": [],
   "source": [
    "Ada_best = AdaBoostClassifier(learning_rate=1, n_estimators=400, random_state=42)\n",
    "Ada_best.fit(X_train, y_train)"
   ]
  },
  {
   "cell_type": "code",
   "execution_count": null,
   "metadata": {
    "scrolled": true
   },
   "outputs": [],
   "source": [
    "y_train_pred_Ada_best = Ada_best.predict(X_train)\n",
    "y_test_pred_Ada_best = Ada_best.predict(X_test)\n",
    "\n",
    "print('Train Data')\n",
    "print('정확도: ', round(accuracy_score(y_train, y_train_pred_Ada_best),3))\n",
    "print('Test Data')\n",
    "print('정확도: ', round(accuracy_score(y_test, y_test_pred_Ada_best),3))"
   ]
  },
  {
   "cell_type": "code",
   "execution_count": null,
   "metadata": {},
   "outputs": [],
   "source": [
    "print(\"특성 중요도 : \",Ada_best.feature_importances_)"
   ]
  },
  {
   "cell_type": "code",
   "execution_count": null,
   "metadata": {},
   "outputs": [],
   "source": [
    "aa = titanic.iloc[:,:-1]\n",
    "aa\n",
    "\n",
    "n_feature = aa.shape[1]\n",
    "index = np.arange(n_feature)\n",
    "\n",
    "plt.barh(index, Ada_best.feature_importances_, align='center')\n",
    "plt.yticks(index, aa.columns)\n",
    "plt.ylim(-1, n_feature)\n",
    "plt.xlabel('feature importance', size=15)\n",
    "plt.ylabel('feature', size=15)\n",
    "plt.show()"
   ]
  },
  {
   "cell_type": "code",
   "execution_count": null,
   "metadata": {},
   "outputs": [],
   "source": []
  },
  {
   "cell_type": "code",
   "execution_count": null,
   "metadata": {},
   "outputs": [],
   "source": [
    "print('KNN(5) 정확도: ', round(accuracy_score(y_test, y_test_pred_knn),3))\n",
    "print('Logistic Regression 정확도: ', round(accuracy_score(y, y_pred_logistic),3))\n",
    "print('Tree 정확도: ', round(accuracy_score(y_test, y_test_pred_tree),3))\n",
    "print('Tree(3) 정확도: ', round(accuracy_score(y_test, y_test_pred_tree3),3))\n",
    "print('Tree(Entropy,4) 정확도: ', round(accuracy_score(y_test, y_test_pred_tree3_entropy),3))\n",
    "print('Tree(Best) 정확도: ', round(accuracy_score(y_test, y_test_pred_best),3))\n",
    "print('RandomForest 정확도: ', round(accuracy_score(y_test, y_test_pred_randomforest),3))\n",
    "print('RandomForest(Best) 정확도: ', round(accuracy_score(y_test, y_test_pred_randomforest_best),3))\n",
    "print('Bagging 정확도: ', round(accuracy_score(y_test, y_pred_bagging),3))\n",
    "print('Bagging(oob) 정확도: ', round(accuracy_score(y_test, y_pred_bagging_oob),3))\n",
    "print('AdaBoosting 정확도: ', round(accuracy_score(y_test, y_test_pred_Ada),3))\n",
    "print('AdaBoosting(Best) 정확도: ', round(accuracy_score(y_test, y_test_pred_Ada_best),3))\n",
    "\n",
    "# 어느 분류분석이 좋은지는 도메인 지식, 하이퍼파라미터 설정 등에 따라 달라질 수 있음"
   ]
  },
  {
   "cell_type": "markdown",
   "metadata": {},
   "source": [
    "#### 추가"
   ]
  },
  {
   "cell_type": "code",
   "execution_count": null,
   "metadata": {},
   "outputs": [],
   "source": [
    "from sklearn.svm import SVC"
   ]
  },
  {
   "cell_type": "code",
   "execution_count": null,
   "metadata": {},
   "outputs": [],
   "source": [
    "svm = SVC()"
   ]
  },
  {
   "cell_type": "code",
   "execution_count": null,
   "metadata": {},
   "outputs": [],
   "source": [
    "svm.fit(X_train,y_train)\n",
    "\n",
    "y_train_pred = svm.predict(X_train)\n",
    "y_test_pred = svm.predict(X_test)\n",
    "\n",
    "print('Train Data')\n",
    "print('정확도: ', round(accuracy_score(y_train, y_train_pred),3))\n",
    "print('Test Data')\n",
    "print('정확도: ', round(accuracy_score(y_test, y_test_pred),3))"
   ]
  },
  {
   "cell_type": "code",
   "execution_count": null,
   "metadata": {},
   "outputs": [],
   "source": [
    "from sklearn.preprocessing import StandardScaler"
   ]
  },
  {
   "cell_type": "code",
   "execution_count": null,
   "metadata": {},
   "outputs": [],
   "source": [
    "scaler = StandardScaler()\n",
    "scaler.fit(X)\n",
    "X_scaled = scaler.transform(X)\n",
    "X_scaled"
   ]
  },
  {
   "cell_type": "code",
   "execution_count": null,
   "metadata": {},
   "outputs": [],
   "source": [
    "X_train, X_test, y_train, y_test = train_test_split(X_scaled, y, \n",
    "                                                      test_size = 0.2, random_state = 1004)"
   ]
  },
  {
   "cell_type": "code",
   "execution_count": null,
   "metadata": {},
   "outputs": [],
   "source": [
    "svm.fit(X_train,y_train)\n",
    "\n",
    "y_train_pred = svm.predict(X_train)\n",
    "y_test_pred = svm.predict(X_test)\n",
    "\n",
    "print('Train Data')\n",
    "print('정확도: ', round(accuracy_score(y_train, y_train_pred),3))\n",
    "print('Test Data')\n",
    "print('정확도: ', round(accuracy_score(y_test, y_test_pred),3))"
   ]
  },
  {
   "cell_type": "code",
   "execution_count": null,
   "metadata": {},
   "outputs": [],
   "source": []
  },
  {
   "cell_type": "code",
   "execution_count": null,
   "metadata": {},
   "outputs": [],
   "source": []
  }
 ],
 "metadata": {
  "kernelspec": {
   "display_name": "Python 3",
   "language": "python",
   "name": "python3"
  },
  "language_info": {
   "codemirror_mode": {
    "name": "ipython",
    "version": 3
   },
   "file_extension": ".py",
   "mimetype": "text/x-python",
   "name": "python",
   "nbconvert_exporter": "python",
   "pygments_lexer": "ipython3",
   "version": "3.8.3"
  }
 },
 "nbformat": 4,
 "nbformat_minor": 4
}

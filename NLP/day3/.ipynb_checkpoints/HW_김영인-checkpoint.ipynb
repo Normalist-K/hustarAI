{
 "cells": [
  {
   "cell_type": "code",
   "execution_count": 2,
   "metadata": {
    "ExecuteTime": {
     "end_time": "2020-10-21T05:22:34.570185Z",
     "start_time": "2020-10-21T05:22:28.814026Z"
    }
   },
   "outputs": [
    {
     "name": "stdout",
     "output_type": "stream",
     "text": [
      "Collecting nltk\n",
      "  Downloading nltk-3.5.zip (1.4 MB)\n",
      "\u001b[K     |████████████████████████████████| 1.4 MB 846 kB/s eta 0:00:01\n",
      "\u001b[?25hCollecting click\n",
      "  Downloading click-7.1.2-py2.py3-none-any.whl (82 kB)\n",
      "\u001b[K     |████████████████████████████████| 82 kB 1.3 MB/s eta 0:00:011\n",
      "\u001b[?25hRequirement already satisfied: joblib in /home/pirl/anaconda3/envs/pytorch/lib/python3.7/site-packages (from nltk) (0.14.1)\n",
      "Collecting regex\n",
      "  Downloading regex-2020.10.15-cp37-cp37m-manylinux2010_x86_64.whl (662 kB)\n",
      "\u001b[K     |████████████████████████████████| 662 kB 5.2 MB/s eta 0:00:01\n",
      "\u001b[?25hRequirement already satisfied: tqdm in /home/pirl/anaconda3/envs/pytorch/lib/python3.7/site-packages (from nltk) (4.50.2)\n",
      "Building wheels for collected packages: nltk\n",
      "  Building wheel for nltk (setup.py) ... \u001b[?25ldone\n",
      "\u001b[?25h  Created wheel for nltk: filename=nltk-3.5-py3-none-any.whl size=1434676 sha256=e916526263a7057a6891485d6a104085ffc9f6374ba5a070cb11ba205996b736\n",
      "  Stored in directory: /home/pirl/.cache/pip/wheels/45/6c/46/a1865e7ba706b3817f5d1b2ff7ce8996aabdd0d03d47ba0266\n",
      "Successfully built nltk\n",
      "Installing collected packages: click, regex, nltk\n",
      "Successfully installed click-7.1.2 nltk-3.5 regex-2020.10.15\n"
     ]
    }
   ],
   "source": [
    "!pip install nltk"
   ]
  },
  {
   "cell_type": "code",
   "execution_count": 3,
   "metadata": {
    "ExecuteTime": {
     "end_time": "2020-10-21T05:22:37.830411Z",
     "start_time": "2020-10-21T05:22:36.848599Z"
    }
   },
   "outputs": [],
   "source": [
    "import torch.nn as nn\n",
    "import torch\n",
    "import torch.nn.utils.rnn as rnn\n",
    "import statistics\n",
    "import nltk\n",
    "import random\n",
    "import collections\n",
    "import time\n"
   ]
  },
  {
   "cell_type": "code",
   "execution_count": 6,
   "metadata": {
    "ExecuteTime": {
     "end_time": "2020-10-21T05:22:49.399861Z",
     "start_time": "2020-10-21T05:22:49.390802Z"
    }
   },
   "outputs": [
    {
     "data": {
      "text/plain": [
       "device(type='cuda', index=0)"
      ]
     },
     "execution_count": 6,
     "metadata": {},
     "output_type": "execute_result"
    }
   ],
   "source": [
    " # Set cuda if available\n",
    "device = torch.device(\"cuda:0\") if torch.cuda.is_available() else torch.device(\"cpu\")\n",
    "device"
   ]
  },
  {
   "cell_type": "code",
   "execution_count": 7,
   "metadata": {
    "ExecuteTime": {
     "end_time": "2020-10-21T05:29:58.952354Z",
     "start_time": "2020-10-21T05:29:58.939432Z"
    }
   },
   "outputs": [],
   "source": [
    "## Dictionary class 선언\n",
    "\n",
    "class Dictionary(object):\n",
    "    def __init__(self, dataset, size):\n",
    "        ## init vocab ##\n",
    "        self.word2idx = {'<pad>': 0, '<sos>': 1, '<eos>': 2, '<unk>': 3}\n",
    "        self.idx2word = ['<pad>', '<sos>', '<eos>', '<unk>']\n",
    "\n",
    "        self.build_dict(dataset, size)\n",
    "\n",
    "    def __call__(self, word):\n",
    "        return self.word2idx.get(word, self.word2idx['<unk>']) # if word does not exist in vocab then return unk idx\n",
    "\n",
    "    def add_word(self, word):\n",
    "        if word not in self.word2idx:\n",
    "            self.idx2word.append(word)\n",
    "            self.word2idx[word] = len(self.idx2word) - 1\n",
    "        return self.word2idx[word]\n",
    "\n",
    "    def build_dict(self, dataset, dict_size):\n",
    "        \"\"\"Tokenize a text file.\"\"\"\n",
    "        total_words = (word for sent in dataset for word in sent) # store all words into tuple\n",
    "        word_freq = collections.Counter(total_words) # count the number of each word: ex) ('The': 10000, 'a': 5555, ...)\n",
    "        vocab = sorted(word_freq.keys(), key=lambda word: (-word_freq[word], word)) # sort by frequency\n",
    "        vocab = vocab[:dict_size]\n",
    "        for word in vocab:\n",
    "            self.add_word(word)\n",
    "\n",
    "    def __len__(self):\n",
    "        return len(self.idx2word)\n"
   ]
  },
  {
   "cell_type": "code",
   "execution_count": 9,
   "metadata": {
    "ExecuteTime": {
     "end_time": "2020-10-21T05:30:56.150876Z",
     "start_time": "2020-10-21T05:30:56.140005Z"
    }
   },
   "outputs": [],
   "source": [
    "## Brown dataset Preprocessing (NLTK)\n",
    "def brown_dataset(min_=5, max_=30):\n",
    "    nltk.download('brown')\n",
    "\n",
    "    # get sentences with the length between min and max\n",
    "    # convert all words into lower-case\n",
    "    all_seq = [[token.lower() for token in seq] for seq in nltk.corpus.brown.sents() \n",
    "               if min_ <= len(seq) <= max_]\n",
    "\n",
    "    random.shuffle(all_seq) # shuffle\n",
    "    return all_seq"
   ]
  },
  {
   "cell_type": "code",
   "execution_count": 10,
   "metadata": {
    "ExecuteTime": {
     "end_time": "2020-10-21T05:31:11.906882Z",
     "start_time": "2020-10-21T05:31:06.522306Z"
    }
   },
   "outputs": [
    {
     "name": "stderr",
     "output_type": "stream",
     "text": [
      "[nltk_data] Downloading package brown to /home/pirl/nltk_data...\n",
      "[nltk_data]   Unzipping corpora/brown.zip.\n"
     ]
    },
    {
     "name": "stdout",
     "output_type": "stream",
     "text": [
      "['--', 'score', 'each', 'frankfurter', 'in', 'four', 'or', 'five', 'places', 'about', 'a', 'third', 'of', 'the', 'way', 'through', '.']\n",
      "['the', 'body', ',', 'senses', 'and', 'brain', ',', 'in', 'common', 'with', 'all', 'matter', ',', 'have', 'their', 'counterpart', 'on', 'each', 'of', 'a', 'countless', 'number', 'of', 'frequencies', '.']\n",
      "['no', 'holds', 'are', 'barred', '.']\n"
     ]
    }
   ],
   "source": [
    "## Download Brown dataset\n",
    "dataset = brown_dataset()\n",
    "\n",
    "## print some part\n",
    "print(dataset[0])\n",
    "print(dataset[1])\n",
    "print(dataset[2])"
   ]
  },
  {
   "cell_type": "code",
   "execution_count": 11,
   "metadata": {
    "ExecuteTime": {
     "end_time": "2020-10-21T05:43:16.679986Z",
     "start_time": "2020-10-21T05:43:16.661577Z"
    }
   },
   "outputs": [],
   "source": [
    "## Data handler class 선언\n",
    "\n",
    "class Corpus(object):\n",
    "    def __init__(self, dataset, device, dict_size=20000, train_ratio=0.95):\n",
    "        train_size = int(len(dataset) * train_ratio)\n",
    "        valid_size = len(dataset) - train_size\n",
    "        self.device = device\n",
    "        self.dictionary = Dictionary(dataset, dict_size)\n",
    "        self.train = dataset[:train_size] # 0 ~ train_size\n",
    "        self.valid = dataset[train_size:train_size + valid_size] # train_size: train_size+valid_size\n",
    "\n",
    "    def indexing(self, dat):\n",
    "        src_idxes = [] # 모델 입력\n",
    "        tgt_idxes = [] # 모델 정답\n",
    "        for sent in dat:\n",
    "            src_idx = [self.dictionary('<sos>')] + [self.dictionary(word) for word in sent]\n",
    "            tgt_idx = [self.dictionary(word) for word in sent] + [self.dictionary('<eos>')]\n",
    "            src_idxes.append(torch.tensor(src_idx).type(torch.int64))\n",
    "            tgt_idxes.append(torch.tensor(tgt_idx).type(torch.int64))\n",
    "\n",
    "        src_idxes = rnn.pad_sequence(src_idxes, batch_first=True).to(self.device) # shape = [B, L]\n",
    "        tgt_idxes = rnn.pad_sequence(tgt_idxes, batch_first=True).to(self.device).view(-1) # flatten shape = [B * L]\n",
    "\n",
    "        return src_idxes, tgt_idxes\n",
    "\n",
    "    def batch_iter(self, batch_size, isTrain=True):\n",
    "        dat = self.train if isTrain else self.valid\n",
    "        if isTrain:\n",
    "            random.shuffle(dat)\n",
    "\n",
    "        for i in range(len(dat) // batch_size):\n",
    "            batch = dat[i * batch_size: (i+1) * batch_size]\n",
    "            src, tgt = self.indexing(batch)\n",
    "            yield {'src': src, 'tgt': tgt}"
   ]
  },
  {
   "cell_type": "code",
   "execution_count": 12,
   "metadata": {
    "ExecuteTime": {
     "end_time": "2020-10-21T05:43:18.219551Z",
     "start_time": "2020-10-21T05:43:17.896500Z"
    }
   },
   "outputs": [],
   "source": [
    "corpus = Corpus(dataset, device)"
   ]
  },
  {
   "cell_type": "code",
   "execution_count": 13,
   "metadata": {
    "ExecuteTime": {
     "end_time": "2020-10-21T05:43:19.127626Z",
     "start_time": "2020-10-21T05:43:19.114640Z"
    }
   },
   "outputs": [
    {
     "name": "stdout",
     "output_type": "stream",
     "text": [
      "word:  <pad>      | index:     0 \n",
      "word:  <sos>      | index:     1 \n",
      "word:  <eos>      | index:     2 \n",
      "word:  <unk>      | index:     3 \n",
      "word:  the        | index:     4 \n",
      "word:  .          | index:     5 \n",
      "word:  ,          | index:     6 \n",
      "word:  of         | index:     7 \n",
      "word:  and        | index:     8 \n",
      "word:  to         | index:     9 \n",
      "word:  a          | index:    10 \n",
      "word:  in         | index:    11 \n",
      "word:  was        | index:    12 \n",
      "word:  he         | index:    13 \n",
      "word:  is         | index:    14 \n",
      "word:  ''         | index:    15 \n",
      "word:  ``         | index:    16 \n",
      "word:  it         | index:    17 \n",
      "word:  that       | index:    18 \n",
      "word:  for        | index:    19 \n",
      "word:  ;          | index:    20 \n"
     ]
    }
   ],
   "source": [
    "# Dictionary 확인\n",
    "\n",
    "for i, (key, val) in enumerate(corpus.dictionary.word2idx.items()):\n",
    "    print('word:  {:10s} | index: {:5d} '.format(key, val))\n",
    "    if i == 20:\n",
    "        break\n"
   ]
  },
  {
   "cell_type": "code",
   "execution_count": 14,
   "metadata": {
    "ExecuteTime": {
     "end_time": "2020-10-21T05:43:28.245728Z",
     "start_time": "2020-10-21T05:43:23.035906Z"
    }
   },
   "outputs": [
    {
     "name": "stdout",
     "output_type": "stream",
     "text": [
      "[['the', 'body', ',', 'senses', 'and', 'brain', ',', 'in', 'common', 'with', 'all', 'matter', ',', 'have', 'their', 'counterpart', 'on', 'each', 'of', 'a', 'countless', 'number', 'of', 'frequencies', '.']]\n",
      "tensor([[   1,    4,  343,    6, 6375,    8, 2314,    6,   11,  424,   22,   46,\n",
      "          310,    6,   37,   53, 9276,   24,  121,    7,   10, 5619,  230,    7,\n",
      "         3962,    5]], device='cuda:0')\n",
      "tensor([   4,  343,    6, 6375,    8, 2314,    6,   11,  424,   22,   46,  310,\n",
      "           6,   37,   53, 9276,   24,  121,    7,   10, 5619,  230,    7, 3962,\n",
      "           5,    2], device='cuda:0')\n",
      "------------------------------------------------------------------------------------------\n",
      "[['--', 'score', 'each', 'frankfurter', 'in', 'four', 'or', 'five', 'places', 'about', 'a', 'third', 'of', 'the', 'way', 'through', '.'], ['the', 'body', ',', 'senses', 'and', 'brain', ',', 'in', 'common', 'with', 'all', 'matter', ',', 'have', 'their', 'counterpart', 'on', 'each', 'of', 'a', 'countless', 'number', 'of', 'frequencies', '.']]\n",
      "tensor([[   1,   50, 1567,  121, 4938,   11,  277,   39,  319, 1040,   65,   10,\n",
      "          527,    7,    4,  114,  123,    5,    0,    0,    0,    0,    0,    0,\n",
      "            0,    0],\n",
      "        [   1,    4,  343,    6, 6375,    8, 2314,    6,   11,  424,   22,   46,\n",
      "          310,    6,   37,   53, 9276,   24,  121,    7,   10, 5619,  230,    7,\n",
      "         3962,    5]], device='cuda:0')\n",
      "tensor([  50, 1567,  121, 4938,   11,  277,   39,  319, 1040,   65,   10,  527,\n",
      "           7,    4,  114,  123,    5,    2,    0,    0,    0,    0,    0,    0,\n",
      "           0,    0,    4,  343,    6, 6375,    8, 2314,    6,   11,  424,   22,\n",
      "          46,  310,    6,   37,   53, 9276,   24,  121,    7,   10, 5619,  230,\n",
      "           7, 3962,    5,    2], device='cuda:0')\n"
     ]
    }
   ],
   "source": [
    "## indexing 함수 결과 확인\n",
    "\n",
    "# case : 단일 문장 입력 시. \n",
    "sent = [dataset[1]]\n",
    "idx_src, idx_tgt = corpus.indexing(sent)\n",
    "\n",
    "print(sent)\n",
    "print(idx_src) # <SOS> index로 시작\n",
    "print(idx_tgt) # <EOS> index로 종료\n",
    "\n",
    "print('-' * 90)\n",
    "## case : 복수 문장 입력 시 (batching)\n",
    "batch = [dataset[0], dataset[1]]\n",
    "idx_src, idx_tgt = corpus.indexing(batch)\n",
    "\n",
    "print(batch)\n",
    "print(idx_src) # 가장 길이가 긴 문장 (dataset[0]) 보다 짧은 문장 (dataset[1]) 의 경우 남는 길이만큼 padding=0 삽입 확인.\n",
    "print(idx_tgt)"
   ]
  },
  {
   "cell_type": "code",
   "execution_count": 15,
   "metadata": {
    "ExecuteTime": {
     "end_time": "2020-10-21T06:14:58.176591Z",
     "start_time": "2020-10-21T06:14:58.150160Z"
    }
   },
   "outputs": [],
   "source": [
    "## RNN Language model 선언\n",
    "\n",
    "# Define network\n",
    "class RNNModel(nn.Module):\n",
    "    def __init__(self, ntoken, hidden_size, nlayers, dropout=0.1):\n",
    "        super(RNNModel, self).__init__()\n",
    "        self.drop = nn.Dropout(dropout)\n",
    "        self.embeddings = nn.Embedding(ntoken, hidden_size, padding_idx=0) # word vector를 뽑아주는 함수, ntoken: 단어의 총 개수, hidden_size: hyperparameter(보통 2^n)\n",
    "        self.rnn = nn.LSTM(hidden_size, hidden_size, nlayers, dropout=dropout, batch_first=True) # [B, L, Hidden_DIM], nlayers: 층 개수\n",
    "        self.output_layer = nn.Linear(hidden_size, ntoken)\n",
    "        self.sm = nn.LogSoftmax(dim=1)\n",
    "\n",
    "        self.ntoken = ntoken\n",
    "        self.hidden_size = hidden_size\n",
    "        self.nlayers = nlayers\n",
    "\n",
    "        self.init_weights()\n",
    "\n",
    "    def init_weights(self):\n",
    "        initrange = 0.1\n",
    "        self.embeddings.weight.data.uniform_(-initrange, initrange)\n",
    "        self.output_layer.weight.data.uniform_(-initrange, initrange)\n",
    "        self.output_layer.bias.data.zero_()\n",
    "\n",
    "    def forward(self, input_src, hidden):\n",
    "        emb = self.embeddings(input_src) # emb = (batch, length, dim)\n",
    "        output, hidden = self.rnn(emb, hidden) # output = (batch. length. dim), hidden : 가장 마지막 outstep의 결과\n",
    "        output = self.drop(output)\n",
    "        output = self.output_layer(output) # output = (batch, length, vocab_size)\n",
    "        output = output.view(-1, self.ntoken) # output = (batch * length, vocab_size)\n",
    "\n",
    "        return self.sm(output), hidden\n",
    "\n",
    "    def init_hidden(self, bsz):\n",
    "        weight = next(self.parameters()) # to set init tensor with the same torch.dtype and torch.device\n",
    "        return (weight.new_zeros(self.nlayers, bsz, self.hidden_size),\n",
    "                weight.new_zeros(self.nlayers, bsz, self.hidden_size))\n"
   ]
  },
  {
   "cell_type": "code",
   "execution_count": 16,
   "metadata": {
    "ExecuteTime": {
     "end_time": "2020-10-21T06:14:58.619101Z",
     "start_time": "2020-10-21T06:14:58.356564Z"
    }
   },
   "outputs": [],
   "source": [
    "# Hyperparameters\n",
    "batch_size = 40\n",
    "hidden_size = 256 # 데이터 많을수록 크게\n",
    "dropout = 0.2\n",
    "max_epoch = 30\n",
    "nlayers = 2\n",
    "\n",
    "# build model\n",
    "ntokens = len(corpus.dictionary)\n",
    "model = RNNModel(ntokens, hidden_size, nlayers, dropout).to(device)\n",
    "isTrain = True # Flag variable\n",
    "\n",
    "# set loss func and optimizer\n",
    "optimizer = torch.optim.Adam(model.parameters(), lr=0.005)\n",
    "criterion = nn.NLLLoss(ignore_index=0, reduction='mean')"
   ]
  },
  {
   "cell_type": "code",
   "execution_count": 17,
   "metadata": {
    "ExecuteTime": {
     "end_time": "2020-10-21T06:14:58.684471Z",
     "start_time": "2020-10-21T06:14:58.679961Z"
    }
   },
   "outputs": [],
   "source": [
    "##### Training / Evaluation Parts #######"
   ]
  },
  {
   "cell_type": "code",
   "execution_count": 18,
   "metadata": {
    "ExecuteTime": {
     "end_time": "2020-10-21T06:14:58.965528Z",
     "start_time": "2020-10-21T06:14:58.956594Z"
    }
   },
   "outputs": [],
   "source": [
    "# accuracy\n",
    "def cal_acc(scores, target):\n",
    "    pred = scores.max(-1)[1]\n",
    "    non_pad = target.ne(0)\n",
    "    num_correct = pred.eq(target).masked_select(non_pad).sum().item() \n",
    "    num_non_pad = non_pad.sum().item()\n",
    "    return 100 * (num_correct / num_non_pad)"
   ]
  },
  {
   "cell_type": "code",
   "execution_count": 19,
   "metadata": {
    "ExecuteTime": {
     "end_time": "2020-10-21T06:27:36.603044Z",
     "start_time": "2020-10-21T06:27:36.587738Z"
    }
   },
   "outputs": [],
   "source": [
    "# train func.\n",
    "def train():\n",
    "    model.train() # Turn on training mode which enables dropout.\n",
    "    mean_loss = []\n",
    "    mean_acc = []\n",
    "    start_time = time.time()\n",
    "\n",
    "    for batch in corpus.batch_iter(batch_size):\n",
    "        hidden = model.init_hidden(batch_size) # zero vectors for init hidden\n",
    "        target = batch['tgt'] # flattened target \n",
    "        optimizer.zero_grad()\n",
    "        output, hidden = model(batch['src'], hidden) # output = flatten output = [Batch_size * Length, vocab_size]\n",
    "\n",
    "        # output shape = (batch * length, vocab_size)\n",
    "        # target shape = (batch * length)   --> (batch * length, vocab_size) 로 one-hot distribtuion으로 내부적으로 변환되어 비교 수행\n",
    "        loss = criterion(output, target) # compare between vocab_prob and answer_prob(one-hot converted)\n",
    "        loss.backward()\n",
    "        optimizer.step()\n",
    "\n",
    "        mean_loss.append(loss.item())\n",
    "        mean_acc.append(cal_acc(output, target))\n",
    "\n",
    "    total_time = time.time() - start_time\n",
    "    mean_acc = statistics.mean(mean_acc)\n",
    "    mean_loss = statistics.mean(mean_loss)\n",
    "\n",
    "    return mean_loss, total_time, mean_acc"
   ]
  },
  {
   "cell_type": "code",
   "execution_count": 20,
   "metadata": {
    "ExecuteTime": {
     "end_time": "2020-10-21T06:27:40.022345Z",
     "start_time": "2020-10-21T06:27:40.010559Z"
    }
   },
   "outputs": [],
   "source": [
    "# evaluation func.\n",
    "def evaluate():\n",
    "    model.eval() # Turn off dropout\n",
    "    mean_loss = []\n",
    "    mean_acc = []\n",
    "\n",
    "    for batch in corpus.batch_iter(batch_size, isTrain=False):\n",
    "        with torch.no_grad():\n",
    "            hidden = model.init_hidden(batch_size)\n",
    "            target = batch['tgt']\n",
    "            output, hidden = model(batch['src'], hidden)\n",
    "            loss = criterion(output, target)\n",
    "            mean_loss.append(loss.item())\n",
    "            mean_acc.append(cal_acc(output, target))\n",
    "\n",
    "    mean_acc = statistics.mean(mean_acc)\n",
    "    mean_loss = statistics.mean(mean_loss)\n",
    "\n",
    "    return mean_loss, mean_acc"
   ]
  },
  {
   "cell_type": "code",
   "execution_count": 21,
   "metadata": {
    "ExecuteTime": {
     "end_time": "2020-10-21T06:39:10.363165Z",
     "start_time": "2020-10-21T06:28:10.066880Z"
    }
   },
   "outputs": [
    {
     "name": "stdout",
     "output_type": "stream",
     "text": [
      "epoch    2 | times 23.175 |  loss: 6.092 | accuracy: 17.08\n",
      "epoch    3 | times 23.150 |  loss: 5.450 | accuracy: 21.49\n",
      "epoch    4 | times 23.196 |  loss: 5.214 | accuracy: 22.63\n",
      "epoch    5 | times 23.278 |  loss: 5.025 | accuracy: 23.43\n",
      "epoch    6 | times 23.557 |  loss: 4.867 | accuracy: 24.01\n",
      "epoch    7 | times 19.523 |  loss: 4.724 | accuracy: 24.50\n",
      "epoch    8 | times 18.378 |  loss: 4.598 | accuracy: 24.89\n",
      "epoch    9 | times 16.352 |  loss: 4.480 | accuracy: 25.24\n",
      "epoch   10 | times 23.341 |  loss: 4.376 | accuracy: 25.63\n",
      "epoch   11 | times 23.415 |  loss: 4.282 | accuracy: 25.96\n",
      "============================================================\n",
      "Evaluation | loss: 11.000 | accuracy: 23.42\n",
      "============================================================\n",
      "epoch   12 | times 22.922 |  loss: 4.198 | accuracy: 26.42\n",
      "epoch   13 | times 22.831 |  loss: 4.124 | accuracy: 26.76\n",
      "epoch   14 | times 23.212 |  loss: 4.058 | accuracy: 27.19\n",
      "epoch   15 | times 23.301 |  loss: 4.001 | accuracy: 27.58\n",
      "epoch   16 | times 23.475 |  loss: 3.947 | accuracy: 27.97\n",
      "epoch   17 | times 23.514 |  loss: 3.901 | accuracy: 28.34\n",
      "epoch   18 | times 21.248 |  loss: 3.859 | accuracy: 28.68\n",
      "epoch   19 | times 19.755 |  loss: 3.822 | accuracy: 28.96\n",
      "epoch   20 | times 23.062 |  loss: 3.788 | accuracy: 29.24\n",
      "epoch   21 | times 22.019 |  loss: 3.758 | accuracy: 29.58\n",
      "============================================================\n",
      "Evaluation | loss: 21.000 | accuracy: 22.02\n",
      "============================================================\n",
      "epoch   22 | times 23.496 |  loss: 3.731 | accuracy: 29.78\n",
      "epoch   23 | times 23.155 |  loss: 3.705 | accuracy: 30.05\n",
      "epoch   24 | times 22.536 |  loss: 3.679 | accuracy: 30.24\n",
      "epoch   25 | times 23.579 |  loss: 3.661 | accuracy: 30.38\n",
      "epoch   26 | times 22.674 |  loss: 3.639 | accuracy: 30.61\n",
      "epoch   27 | times 23.362 |  loss: 3.623 | accuracy: 30.77\n",
      "epoch   28 | times 21.179 |  loss: 3.606 | accuracy: 31.02\n",
      "epoch   29 | times 17.995 |  loss: 3.589 | accuracy: 31.14\n",
      "epoch   30 | times 16.468 |  loss: 3.578 | accuracy: 31.24\n",
      "epoch   31 | times 21.800 |  loss: 3.561 | accuracy: 31.42\n",
      "============================================================\n",
      "Evaluation | loss: 31.000 | accuracy: 21.80\n",
      "============================================================\n",
      "save model at: ./model.pt\n"
     ]
    }
   ],
   "source": [
    "if isTrain: # set False if you don't need to train model\n",
    "    start_time = time.time()\n",
    "\n",
    "    for epoch in range(1, max_epoch+1):\n",
    "        loss, epoch_time, accuracy = train()\n",
    "        print('epoch {:4d} | times {:3.3f} |  loss: {:3.3f} | accuracy: {:3.2f}'.format(epoch+1, epoch_time, loss, accuracy))\n",
    "\n",
    "        if epoch % 10 == 0:\n",
    "            loss, accuracy = evaluate()\n",
    "            print('=' * 60)\n",
    "            print('Evaluation | loss: {:3.3f} | accuracy: {:3.2f}'.format(epoch+1, epoch_time, loss, accuracy))\n",
    "            print('=' * 60)\n",
    "\n",
    "    with open('model.pt', 'wb') as f:\n",
    "        print('save model at: ./model.pt')\n",
    "        torch.save(model, f)"
   ]
  },
  {
   "cell_type": "code",
   "execution_count": 35,
   "metadata": {
    "ExecuteTime": {
     "end_time": "2020-10-21T07:04:14.002219Z",
     "start_time": "2020-10-21T07:04:13.990203Z"
    }
   },
   "outputs": [],
   "source": [
    "def pred_sent_prob(sent):\n",
    "    import numpy as np\n",
    "    model.eval()\n",
    "    with torch.no_grad():\n",
    "        # 1. construct input for the model  : index 활용\n",
    "        # do someting about #1....\n",
    "        idx_src, _ = corpus.indexing(sent)\n",
    "        \n",
    "        # 2. set init hidden : 첫번째 step에 대한 zero vector\n",
    "        # do someting about #2....\n",
    "        hidden = model.init_hidden(1)\n",
    "        \n",
    "        # 3. get model output : vocab 크기의 log softmax 결과값 출력\n",
    "        # do someting about #3....\n",
    "        output, _ = model(idx_src, hidden)\n",
    "        \n",
    "        # 4. get word log_prob : 찾고자 하는 단어의 log 확률값 추출\n",
    "        # do someting about #4....\n",
    "        log_probs = []\n",
    "        for i, word in enumerate(sent[0]):\n",
    "            idx = corpus.dictionary.word2idx[word]\n",
    "            log_probs.append(output[i][idx])\n",
    "        \n",
    "        # 5. comput sentence log_prob by summing each of word log_prob : 4의 각 결과를 합\n",
    "        # do someting about #5....\n",
    "        sent_prob = sum(log_probs)\n",
    "        \n",
    "        return sent_prob"
   ]
  },
  {
   "cell_type": "code",
   "execution_count": 36,
   "metadata": {
    "ExecuteTime": {
     "end_time": "2020-10-21T07:04:15.542318Z",
     "start_time": "2020-10-21T07:04:15.479492Z"
    }
   },
   "outputs": [
    {
     "name": "stdout",
     "output_type": "stream",
     "text": [
      "load model from: ./model.pt\n",
      "log prob of [the dog bark .]: -35.865\n",
      "log prob of [the cat bark .]: -46.364\n",
      "log prob of [boy am a i .]: -42.253\n",
      "log prob of [i am a boy .]: -18.611\n"
     ]
    }
   ],
   "source": [
    "# load saved model\n",
    "with open('./model.pt', 'rb') as f:\n",
    "    print('load model from: ./model.pt')\n",
    "    model = torch.load(f).to(device)\n",
    "\n",
    "    print('log prob of [the dog bark .]: {:3.3f}'.format(pred_sent_prob([['the', 'dog', 'bark', '.']])))\n",
    "    print('log prob of [the cat bark .]: {:3.3f}'.format(pred_sent_prob([['the', 'cat', 'bark', '.']])))\n",
    "\n",
    "    print('log prob of [boy am a i .]: {:3.3f}'.format(pred_sent_prob([['boy', 'am', 'a', 'i', '.']])))\n",
    "    print('log prob of [i am a boy .]: {:3.3f}'.format(pred_sent_prob([['i', 'am', 'a', 'boy', '.']])))\n"
   ]
  },
  {
   "cell_type": "code",
   "execution_count": null,
   "metadata": {},
   "outputs": [],
   "source": []
  }
 ],
 "metadata": {
  "kernelspec": {
   "display_name": "Python 3",
   "language": "python",
   "name": "python3"
  },
  "language_info": {
   "codemirror_mode": {
    "name": "ipython",
    "version": 3
   },
   "file_extension": ".py",
   "mimetype": "text/x-python",
   "name": "python",
   "nbconvert_exporter": "python",
   "pygments_lexer": "ipython3",
   "version": "3.7.8"
  },
  "pycharm": {
   "stem_cell": {
    "cell_type": "raw",
    "metadata": {
     "collapsed": false
    },
    "source": []
   }
  }
 },
 "nbformat": 4,
 "nbformat_minor": 2
}

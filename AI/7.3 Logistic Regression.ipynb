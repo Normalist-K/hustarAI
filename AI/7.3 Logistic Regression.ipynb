{
 "cells": [
  {
   "cell_type": "code",
   "execution_count": 11,
   "metadata": {
    "ExecuteTime": {
     "end_time": "2020-09-18T06:28:57.128277Z",
     "start_time": "2020-09-18T06:28:56.934273Z"
    }
   },
   "outputs": [],
   "source": [
    "# plot a sigmoid function\n",
    "\n",
    "import numpy as np\n",
    "import matplotlib.pyplot as plt\n",
    "%matplotlib inline"
   ]
  },
  {
   "cell_type": "code",
   "execution_count": 24,
   "metadata": {
    "ExecuteTime": {
     "end_time": "2020-09-18T06:34:21.166470Z",
     "start_time": "2020-09-18T06:34:21.150997Z"
    }
   },
   "outputs": [],
   "source": [
    "# datat generation\n",
    "\n",
    "m = 100\n",
    "w = np.array([[-6], [2], [1]])\n",
    "X = np.hstack([np.ones([m,1]), 4*np.random.rand(m,1), 4*np.random.rand(m,1)])\n",
    "\n",
    "w = np.asmatrix(w)\n",
    "X = np.asmatrix(X)\n",
    "\n",
    "y = 1/(1 + np.exp(-X*w)) > 0.5 "
   ]
  },
  {
   "cell_type": "code",
   "execution_count": 25,
   "metadata": {
    "ExecuteTime": {
     "end_time": "2020-09-18T06:34:21.367825Z",
     "start_time": "2020-09-18T06:34:21.358719Z"
    },
    "scrolled": true
   },
   "outputs": [
    {
     "data": {
      "text/plain": [
       "matrix([[False],\n",
       "        [False],\n",
       "        [ True],\n",
       "        [False],\n",
       "        [False],\n",
       "        [ True],\n",
       "        [False],\n",
       "        [ True],\n",
       "        [False],\n",
       "        [ True],\n",
       "        [ True],\n",
       "        [ True],\n",
       "        [False],\n",
       "        [ True],\n",
       "        [ True],\n",
       "        [False],\n",
       "        [ True],\n",
       "        [False],\n",
       "        [ True],\n",
       "        [False],\n",
       "        [ True],\n",
       "        [ True],\n",
       "        [False],\n",
       "        [False],\n",
       "        [False],\n",
       "        [ True],\n",
       "        [False],\n",
       "        [ True],\n",
       "        [False],\n",
       "        [False],\n",
       "        [False],\n",
       "        [ True],\n",
       "        [False],\n",
       "        [False],\n",
       "        [ True],\n",
       "        [False],\n",
       "        [ True],\n",
       "        [ True],\n",
       "        [ True],\n",
       "        [ True],\n",
       "        [False],\n",
       "        [False],\n",
       "        [ True],\n",
       "        [False],\n",
       "        [ True],\n",
       "        [ True],\n",
       "        [False],\n",
       "        [False],\n",
       "        [ True],\n",
       "        [False],\n",
       "        [False],\n",
       "        [ True],\n",
       "        [ True],\n",
       "        [False],\n",
       "        [False],\n",
       "        [ True],\n",
       "        [False],\n",
       "        [ True],\n",
       "        [ True],\n",
       "        [False],\n",
       "        [False],\n",
       "        [False],\n",
       "        [False],\n",
       "        [False],\n",
       "        [False],\n",
       "        [False],\n",
       "        [False],\n",
       "        [False],\n",
       "        [ True],\n",
       "        [False],\n",
       "        [ True],\n",
       "        [ True],\n",
       "        [ True],\n",
       "        [ True],\n",
       "        [ True],\n",
       "        [ True],\n",
       "        [False],\n",
       "        [False],\n",
       "        [False],\n",
       "        [False],\n",
       "        [ True],\n",
       "        [ True],\n",
       "        [False],\n",
       "        [ True],\n",
       "        [False],\n",
       "        [False],\n",
       "        [ True],\n",
       "        [ True],\n",
       "        [ True],\n",
       "        [ True],\n",
       "        [ True],\n",
       "        [ True],\n",
       "        [False],\n",
       "        [ True],\n",
       "        [ True],\n",
       "        [False],\n",
       "        [False],\n",
       "        [ True],\n",
       "        [ True],\n",
       "        [ True]])"
      ]
     },
     "execution_count": 25,
     "metadata": {},
     "output_type": "execute_result"
    }
   ],
   "source": [
    "y"
   ]
  },
  {
   "cell_type": "code",
   "execution_count": 26,
   "metadata": {
    "ExecuteTime": {
     "end_time": "2020-09-18T06:34:21.573241Z",
     "start_time": "2020-09-18T06:34:21.567381Z"
    }
   },
   "outputs": [],
   "source": [
    "## C1, C2 할당, C1: y is true and C2: y is false\n",
    "\n",
    "C1 = np.where(y == True)[0]\n",
    "C0 = np.where(y == False)[0]"
   ]
  },
  {
   "cell_type": "code",
   "execution_count": 27,
   "metadata": {
    "ExecuteTime": {
     "end_time": "2020-09-18T06:34:22.473513Z",
     "start_time": "2020-09-18T06:34:22.460588Z"
    },
    "scrolled": true
   },
   "outputs": [
    {
     "data": {
      "text/plain": [
       "array([[0.],\n",
       "       [0.],\n",
       "       [1.],\n",
       "       [0.],\n",
       "       [0.],\n",
       "       [1.],\n",
       "       [0.],\n",
       "       [1.],\n",
       "       [0.],\n",
       "       [1.],\n",
       "       [1.],\n",
       "       [1.],\n",
       "       [0.],\n",
       "       [1.],\n",
       "       [1.],\n",
       "       [0.],\n",
       "       [1.],\n",
       "       [0.],\n",
       "       [1.],\n",
       "       [0.],\n",
       "       [1.],\n",
       "       [1.],\n",
       "       [0.],\n",
       "       [0.],\n",
       "       [0.],\n",
       "       [1.],\n",
       "       [0.],\n",
       "       [1.],\n",
       "       [0.],\n",
       "       [0.],\n",
       "       [0.],\n",
       "       [1.],\n",
       "       [0.],\n",
       "       [0.],\n",
       "       [1.],\n",
       "       [0.],\n",
       "       [1.],\n",
       "       [1.],\n",
       "       [1.],\n",
       "       [1.],\n",
       "       [0.],\n",
       "       [0.],\n",
       "       [1.],\n",
       "       [0.],\n",
       "       [1.],\n",
       "       [1.],\n",
       "       [0.],\n",
       "       [0.],\n",
       "       [1.],\n",
       "       [0.],\n",
       "       [0.],\n",
       "       [1.],\n",
       "       [1.],\n",
       "       [0.],\n",
       "       [0.],\n",
       "       [1.],\n",
       "       [0.],\n",
       "       [1.],\n",
       "       [1.],\n",
       "       [0.],\n",
       "       [0.],\n",
       "       [0.],\n",
       "       [0.],\n",
       "       [0.],\n",
       "       [0.],\n",
       "       [0.],\n",
       "       [0.],\n",
       "       [0.],\n",
       "       [1.],\n",
       "       [0.],\n",
       "       [1.],\n",
       "       [1.],\n",
       "       [1.],\n",
       "       [1.],\n",
       "       [1.],\n",
       "       [1.],\n",
       "       [0.],\n",
       "       [0.],\n",
       "       [0.],\n",
       "       [0.],\n",
       "       [1.],\n",
       "       [1.],\n",
       "       [0.],\n",
       "       [1.],\n",
       "       [0.],\n",
       "       [0.],\n",
       "       [1.],\n",
       "       [1.],\n",
       "       [1.],\n",
       "       [1.],\n",
       "       [1.],\n",
       "       [1.],\n",
       "       [0.],\n",
       "       [1.],\n",
       "       [1.],\n",
       "       [0.],\n",
       "       [0.],\n",
       "       [1.],\n",
       "       [1.],\n",
       "       [1.]])"
      ]
     },
     "execution_count": 27,
     "metadata": {},
     "output_type": "execute_result"
    }
   ],
   "source": [
    "y = np.empty([m,1])\n",
    "\n",
    "## y=1 when y was true, y=0 : when y was false\n",
    "y[C1] = 1\n",
    "y[C0] = 0\n",
    "\n",
    "y"
   ]
  },
  {
   "cell_type": "code",
   "execution_count": 28,
   "metadata": {
    "ExecuteTime": {
     "end_time": "2020-09-18T06:34:23.973195Z",
     "start_time": "2020-09-18T06:34:23.782893Z"
    }
   },
   "outputs": [
    {
     "data": {
      "image/png": "[encoded data removed]",
      "text/plain": [
       "<Figure size 720x576 with 1 Axes>"
      ]
     },
     "metadata": {
      "needs_background": "light"
     },
     "output_type": "display_data"
    }
   ],
   "source": [
    "plt.figure(figsize = (10,8))\n",
    "plt.plot(X[C1,1], X[C1,2], 'ro', alpha = 0.3, label = 'C1')\n",
    "plt.plot(X[C0,1], X[C0,2], 'bo', alpha = 0.3, label = 'C0')\n",
    "plt.xlabel(r'$x_1$', fontsize = 15)\n",
    "plt.ylabel(r'$x_2$', fontsize = 15)\n",
    "plt.legend(loc = 1, fontsize = 12)\n",
    "plt.axis('equal')\n",
    "plt.xlim([0,4])\n",
    "plt.ylim([0,4])\n",
    "plt.show()"
   ]
  },
  {
   "cell_type": "code",
   "execution_count": 29,
   "metadata": {
    "ExecuteTime": {
     "end_time": "2020-09-18T06:34:27.352445Z",
     "start_time": "2020-09-18T06:34:27.343351Z"
    }
   },
   "outputs": [],
   "source": [
    "# be careful with matrix shape\n",
    "\n",
    "def h(x,w):\n",
    "    return 1/(1 + np.exp(-x*w))"
   ]
  },
  {
   "cell_type": "code",
   "execution_count": 30,
   "metadata": {
    "ExecuteTime": {
     "end_time": "2020-09-18T06:34:27.983905Z",
     "start_time": "2020-09-18T06:34:27.596913Z"
    }
   },
   "outputs": [
    {
     "name": "stdout",
     "output_type": "stream",
     "text": [
      "[[-32.25561907]\n",
      " [ 10.94542666]\n",
      " [  5.41870514]]\n"
     ]
    }
   ],
   "source": [
    "w = np.zeros([3,1])\n",
    "\n",
    "alpha = 0.01\n",
    "\n",
    "#Update \n",
    "for i in range(10000):   \n",
    "    df = - X.T * (y - h(X,w))\n",
    "    w -= alpha * df\n",
    "\n",
    "print(w)"
   ]
  },
  {
   "cell_type": "code",
   "execution_count": 31,
   "metadata": {
    "ExecuteTime": {
     "end_time": "2020-09-18T06:34:28.209737Z",
     "start_time": "2020-09-18T06:34:28.009568Z"
    }
   },
   "outputs": [
    {
     "data": {
      "image/png": "[encoded data removed]",
      "text/plain": [
       "<Figure size 720x576 with 1 Axes>"
      ]
     },
     "metadata": {
      "needs_background": "light"
     },
     "output_type": "display_data"
    }
   ],
   "source": [
    "xp = np.linspace(0,4,100).reshape(-1,1)\n",
    "yp = - w[1,0]/w[2,0]*xp - w[0,0]/w[2,0]\n",
    "\n",
    "plt.figure(figsize = (10,8))\n",
    "plt.plot(X[C1,1], X[C1,2], 'ro', alpha = 0.3, label = 'C1')\n",
    "plt.plot(X[C0,1], X[C0,2], 'bo', alpha = 0.3, label = 'C0')\n",
    "plt.plot(xp, yp, 'g', linewidth = 4, label = 'Logistic Regression')\n",
    "plt.title('Logistic Regression', fontsize = 15)\n",
    "plt.xlabel(r'$x_1$', fontsize = 15)\n",
    "plt.ylabel(r'$x_2$', fontsize = 15)\n",
    "plt.legend(loc = 1, fontsize = 12)\n",
    "plt.axis('equal')\n",
    "plt.xlim([0,4])\n",
    "plt.ylim([0,4])\n",
    "plt.show()"
   ]
  },
  {
   "cell_type": "code",
   "execution_count": 32,
   "metadata": {
    "ExecuteTime": {
     "end_time": "2020-09-18T06:34:29.014652Z",
     "start_time": "2020-09-18T06:34:29.005234Z"
    }
   },
   "outputs": [
    {
     "data": {
      "text/plain": [
       "(100, 2)"
      ]
     },
     "execution_count": 32,
     "metadata": {},
     "output_type": "execute_result"
    }
   ],
   "source": [
    "X = X[:,1:3]\n",
    "\n",
    "X.shape"
   ]
  },
  {
   "cell_type": "code",
   "execution_count": 33,
   "metadata": {
    "ExecuteTime": {
     "end_time": "2020-09-18T06:34:29.578879Z",
     "start_time": "2020-09-18T06:34:29.556459Z"
    }
   },
   "outputs": [
    {
     "data": {
      "text/plain": [
       "LogisticRegression()"
      ]
     },
     "execution_count": 33,
     "metadata": {},
     "output_type": "execute_result"
    }
   ],
   "source": [
    "from sklearn import linear_model\n",
    "\n",
    "#L-BFGS:목적 함수 값과 목적 함수의 기울기를 사용하여 목적 함수의 (로컬) minimum을 찾는 방법\n",
    "clf = linear_model.LogisticRegression(solver='lbfgs')\n",
    "clf.fit(X,np.ravel(y))"
   ]
  },
  {
   "cell_type": "code",
   "execution_count": 34,
   "metadata": {
    "ExecuteTime": {
     "end_time": "2020-09-18T06:34:30.141978Z",
     "start_time": "2020-09-18T06:34:30.133312Z"
    }
   },
   "outputs": [
    {
     "data": {
      "text/plain": [
       "array([[3.20548483, 1.439914  ]])"
      ]
     },
     "execution_count": 34,
     "metadata": {},
     "output_type": "execute_result"
    }
   ],
   "source": [
    "clf.coef_"
   ]
  },
  {
   "cell_type": "code",
   "execution_count": 35,
   "metadata": {
    "ExecuteTime": {
     "end_time": "2020-09-18T06:34:30.625717Z",
     "start_time": "2020-09-18T06:34:30.616439Z"
    }
   },
   "outputs": [
    {
     "data": {
      "text/plain": [
       "array([-9.40808378])"
      ]
     },
     "execution_count": 35,
     "metadata": {},
     "output_type": "execute_result"
    }
   ],
   "source": [
    "clf.intercept_"
   ]
  },
  {
   "cell_type": "code",
   "execution_count": 37,
   "metadata": {
    "ExecuteTime": {
     "end_time": "2020-09-18T06:34:49.651189Z",
     "start_time": "2020-09-18T06:34:49.456777Z"
    }
   },
   "outputs": [
    {
     "data": {
      "image/png": "[encoded data removed]",
      "text/plain": [
       "<Figure size 720x576 with 1 Axes>"
      ]
     },
     "metadata": {
      "needs_background": "light"
     },
     "output_type": "display_data"
    }
   ],
   "source": [
    "#allocate w0 ~ w2\n",
    "w0 = clf.intercept_[0]\n",
    "w1 = clf.coef_[0][0]\n",
    "w2 = clf.coef_[0][1]\n",
    "\n",
    "xp = np.linspace(0,4,100).reshape(-1,1)\n",
    "yp = - w1/w2*xp - w0/w2\n",
    "\n",
    "plt.figure(figsize = (10,8))\n",
    "plt.plot(X[C1,0], X[C1,1], 'ro', alpha = 0.3, label = 'C1')\n",
    "plt.plot(X[C0,0], X[C0,1], 'bo', alpha = 0.3, label = 'C0')\n",
    "plt.plot(xp, yp, 'g', linewidth = 4, label = 'Logistic Regression')\n",
    "plt.title('Logistic Regression')\n",
    "plt.xlabel(r'$x_1$', fontsize = 15)\n",
    "plt.ylabel(r'$x_2$', fontsize = 15)\n",
    "plt.legend(loc = 1, fontsize = 12)\n",
    "plt.axis('equal')\n",
    "plt.xlim([0,4])\n",
    "plt.ylim([0,4])\n",
    "plt.show()"
   ]
  },
  {
   "cell_type": "code",
   "execution_count": 38,
   "metadata": {
    "ExecuteTime": {
     "end_time": "2020-09-18T06:38:03.771554Z",
     "start_time": "2020-09-18T06:38:03.752385Z"
    }
   },
   "outputs": [],
   "source": [
    "X1 = np.array([[-1.1,0],[-0.3,0.1],[-0.9,1],[0.8,0.4],[0.4,0.9],[0.3,-0.6],\n",
    "               [-0.5,0.3],[-0.8,0.6],[-0.5,-0.5]])\n",
    "     \n",
    "X0 = np.array([[-1,-1.3], [-1.6,2.2],[0.9,-0.7],[1.6,0.5],[1.8,-1.1],[1.6,1.6],\n",
    "               [-1.6,-1.7],[-1.4,1.8],[1.6,-0.9],[0,-1.6],[0.3,1.7],[-1.6,0],[-2.1,0.2]])\n",
    "\n",
    "X1 = np.asmatrix(X1)\n",
    "X0 = np.asmatrix(X0)"
   ]
  },
  {
   "cell_type": "code",
   "execution_count": 39,
   "metadata": {
    "ExecuteTime": {
     "end_time": "2020-09-18T06:38:09.703578Z",
     "start_time": "2020-09-18T06:38:09.528189Z"
    }
   },
   "outputs": [
    {
     "data": {
      "image/png": "[encoded data removed]",
      "text/plain": [
       "<Figure size 720x576 with 1 Axes>"
      ]
     },
     "metadata": {
      "needs_background": "light"
     },
     "output_type": "display_data"
    }
   ],
   "source": [
    "plt.figure(figsize=(10, 8))\n",
    "plt.plot(X1[:,0], X1[:,1], 'ro', label = 'C1')\n",
    "plt.plot(X0[:,0], X0[:,1], 'bo', label = 'C0')\n",
    "plt.title('Logistic Regression for Nonlinear Data', fontsize = 15)\n",
    "plt.xlabel(r'$x_1$', fontsize = 15)\n",
    "plt.ylabel(r'$x_2$', fontsize = 15)\n",
    "plt.axis('equal')\n",
    "plt.legend(loc = 4, fontsize = 15)\n",
    "plt.show()"
   ]
  },
  {
   "cell_type": "code",
   "execution_count": 40,
   "metadata": {
    "ExecuteTime": {
     "end_time": "2020-09-18T06:38:18.584031Z",
     "start_time": "2020-09-18T06:38:18.553139Z"
    }
   },
   "outputs": [
    {
     "data": {
      "text/plain": [
       "LogisticRegression()"
      ]
     },
     "execution_count": 40,
     "metadata": {},
     "output_type": "execute_result"
    }
   ],
   "source": [
    "N = X1.shape[0]\n",
    "M = X0.shape[0]\n",
    "\n",
    "X = np.vstack([X1, X0])\n",
    "y = np.vstack([np.ones([N,1]), -np.ones([M,1])])\n",
    "\n",
    "X = np.asmatrix(X)\n",
    "y = np.asmatrix(y)\n",
    "\n",
    "m = N + M\n",
    "\n",
    "Z = np.hstack([np.ones([m,1]), np.sqrt(2)*X[:,0], np.sqrt(2)*X[:,1], np.square(X[:,0]),\n",
    "               np.sqrt(2)*np.multiply(X[:,0], X[:,1]), np.square(X[:,1])])\n",
    "\n",
    "clf = linear_model.LogisticRegression(solver='lbfgs')\n",
    "clf.fit(Z,np.ravel(y))"
   ]
  },
  {
   "cell_type": "code",
   "execution_count": 41,
   "metadata": {
    "ExecuteTime": {
     "end_time": "2020-09-18T06:42:48.307126Z",
     "start_time": "2020-09-18T06:42:48.296833Z"
    }
   },
   "outputs": [
    {
     "data": {
      "text/plain": [
       "(1, 6)"
      ]
     },
     "execution_count": 41,
     "metadata": {},
     "output_type": "execute_result"
    }
   ],
   "source": [
    "clf.coef_.shape"
   ]
  },
  {
   "cell_type": "code",
   "execution_count": 42,
   "metadata": {
    "ExecuteTime": {
     "end_time": "2020-09-18T06:42:52.395271Z",
     "start_time": "2020-09-18T06:42:52.386458Z"
    }
   },
   "outputs": [
    {
     "data": {
      "text/plain": [
       "(1,)"
      ]
     },
     "execution_count": 42,
     "metadata": {},
     "output_type": "execute_result"
    }
   ],
   "source": [
    "clf.intercept_.shape"
   ]
  },
  {
   "cell_type": "code",
   "execution_count": 43,
   "metadata": {
    "ExecuteTime": {
     "end_time": "2020-09-18T06:42:56.401175Z",
     "start_time": "2020-09-18T06:42:56.393400Z"
    }
   },
   "outputs": [],
   "source": [
    "w=clf.coef_.T\n",
    "w0=clf.intercept_[0]"
   ]
  },
  {
   "cell_type": "code",
   "execution_count": 44,
   "metadata": {
    "ExecuteTime": {
     "end_time": "2020-09-18T06:42:59.667137Z",
     "start_time": "2020-09-18T06:42:59.656751Z"
    }
   },
   "outputs": [
    {
     "data": {
      "text/plain": [
       "(6, 1)"
      ]
     },
     "execution_count": 44,
     "metadata": {},
     "output_type": "execute_result"
    }
   ],
   "source": [
    "w.shape"
   ]
  },
  {
   "cell_type": "code",
   "execution_count": 45,
   "metadata": {
    "ExecuteTime": {
     "end_time": "2020-09-18T06:43:05.449711Z",
     "start_time": "2020-09-18T06:43:05.427663Z"
    }
   },
   "outputs": [],
   "source": [
    "# to plot\n",
    "[X1gr, X2gr] = np.meshgrid(np.arange(-3,3,0.1), np.arange(-3,3,0.1)) #Input points new\n",
    "\n",
    "Xp = np.hstack([X1gr.reshape(-1,1), X2gr.reshape(-1,1)])\n",
    "Xp = np.asmatrix(Xp)\n",
    "\n",
    "m = Xp.shape[0]\n",
    "Zp = np.hstack([np.ones([m,1]), np.sqrt(2)*Xp[:,0], np.sqrt(2)*Xp[:,1], np.square(Xp[:,0]), \n",
    "                np.sqrt(2)*np.multiply(Xp[:,0], Xp[:,1]), np.square(Xp[:,1])])"
   ]
  },
  {
   "cell_type": "code",
   "execution_count": 49,
   "metadata": {
    "ExecuteTime": {
     "end_time": "2020-09-18T06:56:59.223998Z",
     "start_time": "2020-09-18T06:56:59.190221Z"
    }
   },
   "outputs": [
    {
     "data": {
      "text/plain": [
       "matrix([[-0.1, -1.1],\n",
       "        [-0.6, -1. ],\n",
       "        [-0.5, -1. ],\n",
       "        ...,\n",
       "        [-0.3,  1.6],\n",
       "        [-0.2,  1.6],\n",
       "        [-0.1,  1.6]])"
      ]
     },
     "execution_count": 49,
     "metadata": {},
     "output_type": "execute_result"
    }
   ],
   "source": [
    "# Decision boundary \n",
    "q = Zp * w + w0\n",
    "\n",
    "# Boundary matrix\n",
    "\n",
    "B = []\n",
    "for i in range(m):\n",
    "    if q[i, 0] > 0:\n",
    "        B.append(Xp[i,:])\n",
    "    \n",
    "B = np.vstack(B) \n",
    "B"
   ]
  },
  {
   "cell_type": "code",
   "execution_count": 54,
   "metadata": {
    "ExecuteTime": {
     "end_time": "2020-09-18T06:57:40.852963Z",
     "start_time": "2020-09-18T06:57:40.661616Z"
    }
   },
   "outputs": [
    {
     "data": {
      "image/png": "[encoded data removed]",
      "text/plain": [
       "<Figure size 720x576 with 1 Axes>"
      ]
     },
     "metadata": {
      "needs_background": "light"
     },
     "output_type": "display_data"
    }
   ],
   "source": [
    "plt.figure(figsize=(10, 8))\n",
    "plt.plot(X1[:,0], X1[:,1], 'ro', label = 'C1')\n",
    "plt.plot(X0[:,0], X0[:,1], 'bo', label = 'C0')\n",
    "plt.plot(B[:,0], B[:,1], 'gs', markersize = 10, alpha = 0.1, label = 'Logistic Regression')\n",
    "plt.title('Logistic Regression with Kernel', fontsize = 15)\n",
    "plt.xlabel(r'$x_1$', fontsize = 15)\n",
    "plt.ylabel(r'$x_2$', fontsize = 15)\n",
    "plt.axis('equal')\n",
    "plt.legend()\n",
    "plt.show()"
   ]
  },
  {
   "cell_type": "code",
   "execution_count": null,
   "metadata": {},
   "outputs": [],
   "source": []
  }
 ],
 "metadata": {
  "kernelspec": {
   "display_name": "Python 3",
   "language": "python",
   "name": "python3"
  },
  "language_info": {
   "codemirror_mode": {
    "name": "ipython",
    "version": 3
   },
   "file_extension": ".py",
   "mimetype": "text/x-python",
   "name": "python",
   "nbconvert_exporter": "python",
   "pygments_lexer": "ipython3",
   "version": "3.8.3"
  },
  "varInspector": {
   "cols": {
    "lenName": 16,
    "lenType": 16,
    "lenVar": 40
   },
   "kernels_config": {
    "python": {
     "delete_cmd_postfix": "",
     "delete_cmd_prefix": "del ",
     "library": "var_list.py",
     "varRefreshCmd": "print(var_dic_list())"
    },
    "r": {
     "delete_cmd_postfix": ") ",
     "delete_cmd_prefix": "rm(",
     "library": "var_list.r",
     "varRefreshCmd": "cat(var_dic_list()) "
    }
   },
   "types_to_exclude": [
    "module",
    "function",
    "builtin_function_or_method",
    "instance",
    "_Feature"
   ],
   "window_display": false
  }
 },
 "nbformat": 4,
 "nbformat_minor": 4
}

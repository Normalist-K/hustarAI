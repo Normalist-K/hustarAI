{
 "cells": [
  {
   "cell_type": "code",
   "execution_count": 1,
   "metadata": {
    "ExecuteTime": {
     "end_time": "2020-09-18T07:15:30.594538Z",
     "start_time": "2020-09-18T07:15:29.900716Z"
    }
   },
   "outputs": [],
   "source": [
    "import numpy as np\n",
    "import pandas as pd\n",
    "import seaborn as sns\n",
    "import matplotlib.pyplot as plt\n",
    "\n",
    "from sklearn.model_selection import train_test_split\n",
    "from sklearn import metrics\n",
    "from sklearn.metrics import confusion_matrix"
   ]
  },
  {
   "cell_type": "code",
   "execution_count": 3,
   "metadata": {
    "ExecuteTime": {
     "end_time": "2020-09-18T07:15:54.654412Z",
     "start_time": "2020-09-18T07:15:54.603496Z"
    }
   },
   "outputs": [
    {
     "data": {
      "text/html": [
       "<div>\n",
       "<style scoped>\n",
       "    .dataframe tbody tr th:only-of-type {\n",
       "        vertical-align: middle;\n",
       "    }\n",
       "\n",
       "    .dataframe tbody tr th {\n",
       "        vertical-align: top;\n",
       "    }\n",
       "\n",
       "    .dataframe thead th {\n",
       "        text-align: right;\n",
       "    }\n",
       "</style>\n",
       "<table border=\"1\" class=\"dataframe\">\n",
       "  <thead>\n",
       "    <tr style=\"text-align: right;\">\n",
       "      <th></th>\n",
       "      <th>meanfreq</th>\n",
       "      <th>sd</th>\n",
       "      <th>median</th>\n",
       "      <th>Q25</th>\n",
       "      <th>Q75</th>\n",
       "      <th>IQR</th>\n",
       "      <th>skew</th>\n",
       "      <th>kurt</th>\n",
       "      <th>sp.ent</th>\n",
       "      <th>sfm</th>\n",
       "      <th>...</th>\n",
       "      <th>centroid</th>\n",
       "      <th>meanfun</th>\n",
       "      <th>minfun</th>\n",
       "      <th>maxfun</th>\n",
       "      <th>meandom</th>\n",
       "      <th>mindom</th>\n",
       "      <th>maxdom</th>\n",
       "      <th>dfrange</th>\n",
       "      <th>modindx</th>\n",
       "      <th>label</th>\n",
       "    </tr>\n",
       "  </thead>\n",
       "  <tbody>\n",
       "    <tr>\n",
       "      <th>0</th>\n",
       "      <td>0.059781</td>\n",
       "      <td>0.064241</td>\n",
       "      <td>0.032027</td>\n",
       "      <td>0.015071</td>\n",
       "      <td>0.090193</td>\n",
       "      <td>0.075122</td>\n",
       "      <td>12.863462</td>\n",
       "      <td>274.402906</td>\n",
       "      <td>0.893369</td>\n",
       "      <td>0.491918</td>\n",
       "      <td>...</td>\n",
       "      <td>0.059781</td>\n",
       "      <td>0.084279</td>\n",
       "      <td>0.015702</td>\n",
       "      <td>0.275862</td>\n",
       "      <td>0.007812</td>\n",
       "      <td>0.007812</td>\n",
       "      <td>0.007812</td>\n",
       "      <td>0.000000</td>\n",
       "      <td>0.000000</td>\n",
       "      <td>male</td>\n",
       "    </tr>\n",
       "    <tr>\n",
       "      <th>1</th>\n",
       "      <td>0.066009</td>\n",
       "      <td>0.067310</td>\n",
       "      <td>0.040229</td>\n",
       "      <td>0.019414</td>\n",
       "      <td>0.092666</td>\n",
       "      <td>0.073252</td>\n",
       "      <td>22.423285</td>\n",
       "      <td>634.613855</td>\n",
       "      <td>0.892193</td>\n",
       "      <td>0.513724</td>\n",
       "      <td>...</td>\n",
       "      <td>0.066009</td>\n",
       "      <td>0.107937</td>\n",
       "      <td>0.015826</td>\n",
       "      <td>0.250000</td>\n",
       "      <td>0.009014</td>\n",
       "      <td>0.007812</td>\n",
       "      <td>0.054688</td>\n",
       "      <td>0.046875</td>\n",
       "      <td>0.052632</td>\n",
       "      <td>male</td>\n",
       "    </tr>\n",
       "    <tr>\n",
       "      <th>2</th>\n",
       "      <td>0.077316</td>\n",
       "      <td>0.083829</td>\n",
       "      <td>0.036718</td>\n",
       "      <td>0.008701</td>\n",
       "      <td>0.131908</td>\n",
       "      <td>0.123207</td>\n",
       "      <td>30.757155</td>\n",
       "      <td>1024.927705</td>\n",
       "      <td>0.846389</td>\n",
       "      <td>0.478905</td>\n",
       "      <td>...</td>\n",
       "      <td>0.077316</td>\n",
       "      <td>0.098706</td>\n",
       "      <td>0.015656</td>\n",
       "      <td>0.271186</td>\n",
       "      <td>0.007990</td>\n",
       "      <td>0.007812</td>\n",
       "      <td>0.015625</td>\n",
       "      <td>0.007812</td>\n",
       "      <td>0.046512</td>\n",
       "      <td>male</td>\n",
       "    </tr>\n",
       "    <tr>\n",
       "      <th>3</th>\n",
       "      <td>0.151228</td>\n",
       "      <td>0.072111</td>\n",
       "      <td>0.158011</td>\n",
       "      <td>0.096582</td>\n",
       "      <td>0.207955</td>\n",
       "      <td>0.111374</td>\n",
       "      <td>1.232831</td>\n",
       "      <td>4.177296</td>\n",
       "      <td>0.963322</td>\n",
       "      <td>0.727232</td>\n",
       "      <td>...</td>\n",
       "      <td>0.151228</td>\n",
       "      <td>0.088965</td>\n",
       "      <td>0.017798</td>\n",
       "      <td>0.250000</td>\n",
       "      <td>0.201497</td>\n",
       "      <td>0.007812</td>\n",
       "      <td>0.562500</td>\n",
       "      <td>0.554688</td>\n",
       "      <td>0.247119</td>\n",
       "      <td>male</td>\n",
       "    </tr>\n",
       "    <tr>\n",
       "      <th>4</th>\n",
       "      <td>0.135120</td>\n",
       "      <td>0.079146</td>\n",
       "      <td>0.124656</td>\n",
       "      <td>0.078720</td>\n",
       "      <td>0.206045</td>\n",
       "      <td>0.127325</td>\n",
       "      <td>1.101174</td>\n",
       "      <td>4.333713</td>\n",
       "      <td>0.971955</td>\n",
       "      <td>0.783568</td>\n",
       "      <td>...</td>\n",
       "      <td>0.135120</td>\n",
       "      <td>0.106398</td>\n",
       "      <td>0.016931</td>\n",
       "      <td>0.266667</td>\n",
       "      <td>0.712812</td>\n",
       "      <td>0.007812</td>\n",
       "      <td>5.484375</td>\n",
       "      <td>5.476562</td>\n",
       "      <td>0.208274</td>\n",
       "      <td>male</td>\n",
       "    </tr>\n",
       "    <tr>\n",
       "      <th>...</th>\n",
       "      <td>...</td>\n",
       "      <td>...</td>\n",
       "      <td>...</td>\n",
       "      <td>...</td>\n",
       "      <td>...</td>\n",
       "      <td>...</td>\n",
       "      <td>...</td>\n",
       "      <td>...</td>\n",
       "      <td>...</td>\n",
       "      <td>...</td>\n",
       "      <td>...</td>\n",
       "      <td>...</td>\n",
       "      <td>...</td>\n",
       "      <td>...</td>\n",
       "      <td>...</td>\n",
       "      <td>...</td>\n",
       "      <td>...</td>\n",
       "      <td>...</td>\n",
       "      <td>...</td>\n",
       "      <td>...</td>\n",
       "      <td>...</td>\n",
       "    </tr>\n",
       "    <tr>\n",
       "      <th>155</th>\n",
       "      <td>0.109148</td>\n",
       "      <td>0.091542</td>\n",
       "      <td>0.071577</td>\n",
       "      <td>0.024263</td>\n",
       "      <td>0.195321</td>\n",
       "      <td>0.171057</td>\n",
       "      <td>1.899222</td>\n",
       "      <td>6.472859</td>\n",
       "      <td>0.948618</td>\n",
       "      <td>0.678843</td>\n",
       "      <td>...</td>\n",
       "      <td>0.109148</td>\n",
       "      <td>0.190846</td>\n",
       "      <td>0.030189</td>\n",
       "      <td>0.275862</td>\n",
       "      <td>0.359375</td>\n",
       "      <td>0.007812</td>\n",
       "      <td>0.718750</td>\n",
       "      <td>0.710938</td>\n",
       "      <td>0.354396</td>\n",
       "      <td>female</td>\n",
       "    </tr>\n",
       "    <tr>\n",
       "      <th>156</th>\n",
       "      <td>0.158417</td>\n",
       "      <td>0.081200</td>\n",
       "      <td>0.187643</td>\n",
       "      <td>0.085523</td>\n",
       "      <td>0.219079</td>\n",
       "      <td>0.133556</td>\n",
       "      <td>1.817030</td>\n",
       "      <td>7.238168</td>\n",
       "      <td>0.955927</td>\n",
       "      <td>0.698466</td>\n",
       "      <td>...</td>\n",
       "      <td>0.158417</td>\n",
       "      <td>0.192754</td>\n",
       "      <td>0.062500</td>\n",
       "      <td>0.262295</td>\n",
       "      <td>0.359063</td>\n",
       "      <td>0.031250</td>\n",
       "      <td>0.921875</td>\n",
       "      <td>0.890625</td>\n",
       "      <td>0.315027</td>\n",
       "      <td>female</td>\n",
       "    </tr>\n",
       "    <tr>\n",
       "      <th>157</th>\n",
       "      <td>0.116002</td>\n",
       "      <td>0.088799</td>\n",
       "      <td>0.121542</td>\n",
       "      <td>0.023682</td>\n",
       "      <td>0.193980</td>\n",
       "      <td>0.170299</td>\n",
       "      <td>2.193672</td>\n",
       "      <td>8.404158</td>\n",
       "      <td>0.943584</td>\n",
       "      <td>0.676598</td>\n",
       "      <td>...</td>\n",
       "      <td>0.116002</td>\n",
       "      <td>0.184000</td>\n",
       "      <td>0.086486</td>\n",
       "      <td>0.258065</td>\n",
       "      <td>0.338170</td>\n",
       "      <td>0.007812</td>\n",
       "      <td>0.710938</td>\n",
       "      <td>0.703125</td>\n",
       "      <td>0.403419</td>\n",
       "      <td>female</td>\n",
       "    </tr>\n",
       "    <tr>\n",
       "      <th>158</th>\n",
       "      <td>0.097733</td>\n",
       "      <td>0.080078</td>\n",
       "      <td>0.065308</td>\n",
       "      <td>0.032779</td>\n",
       "      <td>0.159893</td>\n",
       "      <td>0.127113</td>\n",
       "      <td>1.272920</td>\n",
       "      <td>3.865641</td>\n",
       "      <td>0.957693</td>\n",
       "      <td>0.715485</td>\n",
       "      <td>...</td>\n",
       "      <td>0.097733</td>\n",
       "      <td>0.178400</td>\n",
       "      <td>0.021680</td>\n",
       "      <td>0.253968</td>\n",
       "      <td>0.525608</td>\n",
       "      <td>0.007812</td>\n",
       "      <td>4.257812</td>\n",
       "      <td>4.250000</td>\n",
       "      <td>0.178741</td>\n",
       "      <td>female</td>\n",
       "    </tr>\n",
       "    <tr>\n",
       "      <th>159</th>\n",
       "      <td>0.134045</td>\n",
       "      <td>0.091723</td>\n",
       "      <td>0.130709</td>\n",
       "      <td>0.041968</td>\n",
       "      <td>0.215606</td>\n",
       "      <td>0.173638</td>\n",
       "      <td>1.402166</td>\n",
       "      <td>5.278480</td>\n",
       "      <td>0.959689</td>\n",
       "      <td>0.725848</td>\n",
       "      <td>...</td>\n",
       "      <td>0.134045</td>\n",
       "      <td>0.194586</td>\n",
       "      <td>0.027397</td>\n",
       "      <td>0.275862</td>\n",
       "      <td>0.396635</td>\n",
       "      <td>0.023438</td>\n",
       "      <td>1.070312</td>\n",
       "      <td>1.046875</td>\n",
       "      <td>0.302861</td>\n",
       "      <td>female</td>\n",
       "    </tr>\n",
       "  </tbody>\n",
       "</table>\n",
       "<p>160 rows × 21 columns</p>\n",
       "</div>"
      ],
      "text/plain": [
       "     meanfreq        sd    median       Q25       Q75       IQR       skew  \\\n",
       "0    0.059781  0.064241  0.032027  0.015071  0.090193  0.075122  12.863462   \n",
       "1    0.066009  0.067310  0.040229  0.019414  0.092666  0.073252  22.423285   \n",
       "2    0.077316  0.083829  0.036718  0.008701  0.131908  0.123207  30.757155   \n",
       "3    0.151228  0.072111  0.158011  0.096582  0.207955  0.111374   1.232831   \n",
       "4    0.135120  0.079146  0.124656  0.078720  0.206045  0.127325   1.101174   \n",
       "..        ...       ...       ...       ...       ...       ...        ...   \n",
       "155  0.109148  0.091542  0.071577  0.024263  0.195321  0.171057   1.899222   \n",
       "156  0.158417  0.081200  0.187643  0.085523  0.219079  0.133556   1.817030   \n",
       "157  0.116002  0.088799  0.121542  0.023682  0.193980  0.170299   2.193672   \n",
       "158  0.097733  0.080078  0.065308  0.032779  0.159893  0.127113   1.272920   \n",
       "159  0.134045  0.091723  0.130709  0.041968  0.215606  0.173638   1.402166   \n",
       "\n",
       "            kurt    sp.ent       sfm  ...  centroid   meanfun    minfun  \\\n",
       "0     274.402906  0.893369  0.491918  ...  0.059781  0.084279  0.015702   \n",
       "1     634.613855  0.892193  0.513724  ...  0.066009  0.107937  0.015826   \n",
       "2    1024.927705  0.846389  0.478905  ...  0.077316  0.098706  0.015656   \n",
       "3       4.177296  0.963322  0.727232  ...  0.151228  0.088965  0.017798   \n",
       "4       4.333713  0.971955  0.783568  ...  0.135120  0.106398  0.016931   \n",
       "..           ...       ...       ...  ...       ...       ...       ...   \n",
       "155     6.472859  0.948618  0.678843  ...  0.109148  0.190846  0.030189   \n",
       "156     7.238168  0.955927  0.698466  ...  0.158417  0.192754  0.062500   \n",
       "157     8.404158  0.943584  0.676598  ...  0.116002  0.184000  0.086486   \n",
       "158     3.865641  0.957693  0.715485  ...  0.097733  0.178400  0.021680   \n",
       "159     5.278480  0.959689  0.725848  ...  0.134045  0.194586  0.027397   \n",
       "\n",
       "       maxfun   meandom    mindom    maxdom   dfrange   modindx   label  \n",
       "0    0.275862  0.007812  0.007812  0.007812  0.000000  0.000000    male  \n",
       "1    0.250000  0.009014  0.007812  0.054688  0.046875  0.052632    male  \n",
       "2    0.271186  0.007990  0.007812  0.015625  0.007812  0.046512    male  \n",
       "3    0.250000  0.201497  0.007812  0.562500  0.554688  0.247119    male  \n",
       "4    0.266667  0.712812  0.007812  5.484375  5.476562  0.208274    male  \n",
       "..        ...       ...       ...       ...       ...       ...     ...  \n",
       "155  0.275862  0.359375  0.007812  0.718750  0.710938  0.354396  female  \n",
       "156  0.262295  0.359063  0.031250  0.921875  0.890625  0.315027  female  \n",
       "157  0.258065  0.338170  0.007812  0.710938  0.703125  0.403419  female  \n",
       "158  0.253968  0.525608  0.007812  4.257812  4.250000  0.178741  female  \n",
       "159  0.275862  0.396635  0.023438  1.070312  1.046875  0.302861  female  \n",
       "\n",
       "[160 rows x 21 columns]"
      ]
     },
     "execution_count": 3,
     "metadata": {},
     "output_type": "execute_result"
    }
   ],
   "source": [
    "voice = pd.read_csv('./voice_ver2.csv')\n",
    "voice"
   ]
  },
  {
   "cell_type": "code",
   "execution_count": 4,
   "metadata": {
    "ExecuteTime": {
     "end_time": "2020-09-18T07:17:24.975915Z",
     "start_time": "2020-09-18T07:17:24.893615Z"
    }
   },
   "outputs": [
    {
     "data": {
      "text/html": [
       "<div>\n",
       "<style scoped>\n",
       "    .dataframe tbody tr th:only-of-type {\n",
       "        vertical-align: middle;\n",
       "    }\n",
       "\n",
       "    .dataframe tbody tr th {\n",
       "        vertical-align: top;\n",
       "    }\n",
       "\n",
       "    .dataframe thead th {\n",
       "        text-align: right;\n",
       "    }\n",
       "</style>\n",
       "<table border=\"1\" class=\"dataframe\">\n",
       "  <thead>\n",
       "    <tr style=\"text-align: right;\">\n",
       "      <th></th>\n",
       "      <th>meanfreq</th>\n",
       "      <th>sd</th>\n",
       "      <th>median</th>\n",
       "      <th>Q25</th>\n",
       "      <th>Q75</th>\n",
       "      <th>IQR</th>\n",
       "      <th>skew</th>\n",
       "      <th>kurt</th>\n",
       "      <th>sp.ent</th>\n",
       "      <th>sfm</th>\n",
       "      <th>mode</th>\n",
       "      <th>centroid</th>\n",
       "      <th>meanfun</th>\n",
       "      <th>minfun</th>\n",
       "      <th>maxfun</th>\n",
       "      <th>meandom</th>\n",
       "      <th>mindom</th>\n",
       "      <th>maxdom</th>\n",
       "      <th>dfrange</th>\n",
       "      <th>modindx</th>\n",
       "    </tr>\n",
       "  </thead>\n",
       "  <tbody>\n",
       "    <tr>\n",
       "      <th>count</th>\n",
       "      <td>160.000000</td>\n",
       "      <td>160.000000</td>\n",
       "      <td>160.000000</td>\n",
       "      <td>160.000000</td>\n",
       "      <td>160.000000</td>\n",
       "      <td>160.000000</td>\n",
       "      <td>160.000000</td>\n",
       "      <td>160.000000</td>\n",
       "      <td>160.000000</td>\n",
       "      <td>160.000000</td>\n",
       "      <td>160.000000</td>\n",
       "      <td>160.000000</td>\n",
       "      <td>160.000000</td>\n",
       "      <td>160.000000</td>\n",
       "      <td>160.000000</td>\n",
       "      <td>160.000000</td>\n",
       "      <td>160.000000</td>\n",
       "      <td>160.000000</td>\n",
       "      <td>160.000000</td>\n",
       "      <td>160.000000</td>\n",
       "    </tr>\n",
       "    <tr>\n",
       "      <th>mean</th>\n",
       "      <td>0.161935</td>\n",
       "      <td>0.070997</td>\n",
       "      <td>0.161434</td>\n",
       "      <td>0.115098</td>\n",
       "      <td>0.219965</td>\n",
       "      <td>0.104866</td>\n",
       "      <td>2.865968</td>\n",
       "      <td>28.879883</td>\n",
       "      <td>0.928948</td>\n",
       "      <td>0.564458</td>\n",
       "      <td>0.119626</td>\n",
       "      <td>0.161935</td>\n",
       "      <td>0.141252</td>\n",
       "      <td>0.025248</td>\n",
       "      <td>0.253990</td>\n",
       "      <td>0.505623</td>\n",
       "      <td>0.028662</td>\n",
       "      <td>3.020508</td>\n",
       "      <td>2.991846</td>\n",
       "      <td>0.207933</td>\n",
       "    </tr>\n",
       "    <tr>\n",
       "      <th>std</th>\n",
       "      <td>0.029566</td>\n",
       "      <td>0.011849</td>\n",
       "      <td>0.042431</td>\n",
       "      <td>0.050383</td>\n",
       "      <td>0.026302</td>\n",
       "      <td>0.040586</td>\n",
       "      <td>3.236689</td>\n",
       "      <td>98.895625</td>\n",
       "      <td>0.030130</td>\n",
       "      <td>0.145481</td>\n",
       "      <td>0.075861</td>\n",
       "      <td>0.029566</td>\n",
       "      <td>0.037592</td>\n",
       "      <td>0.020132</td>\n",
       "      <td>0.028888</td>\n",
       "      <td>0.366337</td>\n",
       "      <td>0.041039</td>\n",
       "      <td>2.279610</td>\n",
       "      <td>2.276682</td>\n",
       "      <td>0.101545</td>\n",
       "    </tr>\n",
       "    <tr>\n",
       "      <th>min</th>\n",
       "      <td>0.059781</td>\n",
       "      <td>0.036543</td>\n",
       "      <td>0.032027</td>\n",
       "      <td>0.008701</td>\n",
       "      <td>0.090193</td>\n",
       "      <td>0.035785</td>\n",
       "      <td>0.141735</td>\n",
       "      <td>2.068455</td>\n",
       "      <td>0.846389</td>\n",
       "      <td>0.169242</td>\n",
       "      <td>0.000000</td>\n",
       "      <td>0.059781</td>\n",
       "      <td>0.055565</td>\n",
       "      <td>0.015640</td>\n",
       "      <td>0.117647</td>\n",
       "      <td>0.007812</td>\n",
       "      <td>0.007812</td>\n",
       "      <td>0.007812</td>\n",
       "      <td>0.000000</td>\n",
       "      <td>0.000000</td>\n",
       "    </tr>\n",
       "    <tr>\n",
       "      <th>25%</th>\n",
       "      <td>0.143414</td>\n",
       "      <td>0.064473</td>\n",
       "      <td>0.137353</td>\n",
       "      <td>0.082039</td>\n",
       "      <td>0.209451</td>\n",
       "      <td>0.064589</td>\n",
       "      <td>1.600196</td>\n",
       "      <td>5.672939</td>\n",
       "      <td>0.907541</td>\n",
       "      <td>0.449460</td>\n",
       "      <td>0.050132</td>\n",
       "      <td>0.143414</td>\n",
       "      <td>0.106285</td>\n",
       "      <td>0.016125</td>\n",
       "      <td>0.250000</td>\n",
       "      <td>0.242415</td>\n",
       "      <td>0.007812</td>\n",
       "      <td>0.730469</td>\n",
       "      <td>0.703125</td>\n",
       "      <td>0.124868</td>\n",
       "    </tr>\n",
       "    <tr>\n",
       "      <th>50%</th>\n",
       "      <td>0.166923</td>\n",
       "      <td>0.071983</td>\n",
       "      <td>0.162532</td>\n",
       "      <td>0.117773</td>\n",
       "      <td>0.224505</td>\n",
       "      <td>0.113332</td>\n",
       "      <td>2.078021</td>\n",
       "      <td>8.392857</td>\n",
       "      <td>0.933053</td>\n",
       "      <td>0.568473</td>\n",
       "      <td>0.121219</td>\n",
       "      <td>0.166923</td>\n",
       "      <td>0.142279</td>\n",
       "      <td>0.017260</td>\n",
       "      <td>0.262295</td>\n",
       "      <td>0.393424</td>\n",
       "      <td>0.007812</td>\n",
       "      <td>2.820312</td>\n",
       "      <td>2.812500</td>\n",
       "      <td>0.204122</td>\n",
       "    </tr>\n",
       "    <tr>\n",
       "      <th>75%</th>\n",
       "      <td>0.185609</td>\n",
       "      <td>0.079885</td>\n",
       "      <td>0.198937</td>\n",
       "      <td>0.158224</td>\n",
       "      <td>0.237257</td>\n",
       "      <td>0.126197</td>\n",
       "      <td>2.988381</td>\n",
       "      <td>15.759551</td>\n",
       "      <td>0.953392</td>\n",
       "      <td>0.690522</td>\n",
       "      <td>0.193531</td>\n",
       "      <td>0.185609</td>\n",
       "      <td>0.175433</td>\n",
       "      <td>0.024778</td>\n",
       "      <td>0.275862</td>\n",
       "      <td>0.707960</td>\n",
       "      <td>0.031250</td>\n",
       "      <td>4.980469</td>\n",
       "      <td>4.972656</td>\n",
       "      <td>0.278276</td>\n",
       "    </tr>\n",
       "    <tr>\n",
       "      <th>max</th>\n",
       "      <td>0.209933</td>\n",
       "      <td>0.091723</td>\n",
       "      <td>0.232552</td>\n",
       "      <td>0.197406</td>\n",
       "      <td>0.256527</td>\n",
       "      <td>0.186555</td>\n",
       "      <td>30.757155</td>\n",
       "      <td>1024.927705</td>\n",
       "      <td>0.978482</td>\n",
       "      <td>0.842936</td>\n",
       "      <td>0.268978</td>\n",
       "      <td>0.209933</td>\n",
       "      <td>0.214127</td>\n",
       "      <td>0.168421</td>\n",
       "      <td>0.275862</td>\n",
       "      <td>2.253551</td>\n",
       "      <td>0.218750</td>\n",
       "      <td>7.000000</td>\n",
       "      <td>6.992188</td>\n",
       "      <td>0.505974</td>\n",
       "    </tr>\n",
       "  </tbody>\n",
       "</table>\n",
       "</div>"
      ],
      "text/plain": [
       "         meanfreq          sd      median         Q25         Q75         IQR  \\\n",
       "count  160.000000  160.000000  160.000000  160.000000  160.000000  160.000000   \n",
       "mean     0.161935    0.070997    0.161434    0.115098    0.219965    0.104866   \n",
       "std      0.029566    0.011849    0.042431    0.050383    0.026302    0.040586   \n",
       "min      0.059781    0.036543    0.032027    0.008701    0.090193    0.035785   \n",
       "25%      0.143414    0.064473    0.137353    0.082039    0.209451    0.064589   \n",
       "50%      0.166923    0.071983    0.162532    0.117773    0.224505    0.113332   \n",
       "75%      0.185609    0.079885    0.198937    0.158224    0.237257    0.126197   \n",
       "max      0.209933    0.091723    0.232552    0.197406    0.256527    0.186555   \n",
       "\n",
       "             skew         kurt      sp.ent         sfm        mode  \\\n",
       "count  160.000000   160.000000  160.000000  160.000000  160.000000   \n",
       "mean     2.865968    28.879883    0.928948    0.564458    0.119626   \n",
       "std      3.236689    98.895625    0.030130    0.145481    0.075861   \n",
       "min      0.141735     2.068455    0.846389    0.169242    0.000000   \n",
       "25%      1.600196     5.672939    0.907541    0.449460    0.050132   \n",
       "50%      2.078021     8.392857    0.933053    0.568473    0.121219   \n",
       "75%      2.988381    15.759551    0.953392    0.690522    0.193531   \n",
       "max     30.757155  1024.927705    0.978482    0.842936    0.268978   \n",
       "\n",
       "         centroid     meanfun      minfun      maxfun     meandom      mindom  \\\n",
       "count  160.000000  160.000000  160.000000  160.000000  160.000000  160.000000   \n",
       "mean     0.161935    0.141252    0.025248    0.253990    0.505623    0.028662   \n",
       "std      0.029566    0.037592    0.020132    0.028888    0.366337    0.041039   \n",
       "min      0.059781    0.055565    0.015640    0.117647    0.007812    0.007812   \n",
       "25%      0.143414    0.106285    0.016125    0.250000    0.242415    0.007812   \n",
       "50%      0.166923    0.142279    0.017260    0.262295    0.393424    0.007812   \n",
       "75%      0.185609    0.175433    0.024778    0.275862    0.707960    0.031250   \n",
       "max      0.209933    0.214127    0.168421    0.275862    2.253551    0.218750   \n",
       "\n",
       "           maxdom     dfrange     modindx  \n",
       "count  160.000000  160.000000  160.000000  \n",
       "mean     3.020508    2.991846    0.207933  \n",
       "std      2.279610    2.276682    0.101545  \n",
       "min      0.007812    0.000000    0.000000  \n",
       "25%      0.730469    0.703125    0.124868  \n",
       "50%      2.820312    2.812500    0.204122  \n",
       "75%      4.980469    4.972656    0.278276  \n",
       "max      7.000000    6.992188    0.505974  "
      ]
     },
     "execution_count": 4,
     "metadata": {},
     "output_type": "execute_result"
    }
   ],
   "source": [
    "voice.describe()"
   ]
  },
  {
   "cell_type": "code",
   "execution_count": 26,
   "metadata": {
    "ExecuteTime": {
     "end_time": "2020-09-18T07:27:22.092820Z",
     "start_time": "2020-09-18T07:27:22.075730Z"
    }
   },
   "outputs": [
    {
     "data": {
      "text/plain": [
       "meanfreq    0\n",
       "sd          0\n",
       "median      0\n",
       "Q25         0\n",
       "Q75         0\n",
       "IQR         0\n",
       "skew        0\n",
       "kurt        0\n",
       "sp.ent      0\n",
       "sfm         0\n",
       "mode        0\n",
       "centroid    0\n",
       "meanfun     0\n",
       "minfun      0\n",
       "maxfun      0\n",
       "meandom     0\n",
       "mindom      0\n",
       "maxdom      0\n",
       "dfrange     0\n",
       "modindx     0\n",
       "label       0\n",
       "dtype: int64"
      ]
     },
     "execution_count": 26,
     "metadata": {},
     "output_type": "execute_result"
    }
   ],
   "source": [
    "voice.isnull().sum()"
   ]
  },
  {
   "cell_type": "code",
   "execution_count": 27,
   "metadata": {
    "ExecuteTime": {
     "end_time": "2020-09-18T07:27:22.464898Z",
     "start_time": "2020-09-18T07:27:22.448153Z"
    }
   },
   "outputs": [
    {
     "data": {
      "text/plain": [
       "array([[1],\n",
       "       [1],\n",
       "       [1],\n",
       "       [1],\n",
       "       [1],\n",
       "       [1],\n",
       "       [1],\n",
       "       [1],\n",
       "       [1],\n",
       "       [1],\n",
       "       [1],\n",
       "       [1],\n",
       "       [1],\n",
       "       [1],\n",
       "       [1],\n",
       "       [1],\n",
       "       [1],\n",
       "       [1],\n",
       "       [1],\n",
       "       [1],\n",
       "       [1],\n",
       "       [1],\n",
       "       [1],\n",
       "       [1],\n",
       "       [1],\n",
       "       [1],\n",
       "       [1],\n",
       "       [1],\n",
       "       [1],\n",
       "       [1],\n",
       "       [1],\n",
       "       [1],\n",
       "       [1],\n",
       "       [1],\n",
       "       [1],\n",
       "       [1],\n",
       "       [1],\n",
       "       [1],\n",
       "       [1],\n",
       "       [1],\n",
       "       [1],\n",
       "       [1],\n",
       "       [1],\n",
       "       [1],\n",
       "       [1],\n",
       "       [1],\n",
       "       [1],\n",
       "       [1],\n",
       "       [1],\n",
       "       [1],\n",
       "       [1],\n",
       "       [1],\n",
       "       [1],\n",
       "       [1],\n",
       "       [1],\n",
       "       [1],\n",
       "       [1],\n",
       "       [1],\n",
       "       [1],\n",
       "       [1],\n",
       "       [1],\n",
       "       [1],\n",
       "       [1],\n",
       "       [1],\n",
       "       [1],\n",
       "       [1],\n",
       "       [1],\n",
       "       [1],\n",
       "       [1],\n",
       "       [1],\n",
       "       [1],\n",
       "       [1],\n",
       "       [1],\n",
       "       [1],\n",
       "       [1],\n",
       "       [1],\n",
       "       [1],\n",
       "       [1],\n",
       "       [1],\n",
       "       [1],\n",
       "       [0],\n",
       "       [0],\n",
       "       [0],\n",
       "       [0],\n",
       "       [0],\n",
       "       [0],\n",
       "       [0],\n",
       "       [0],\n",
       "       [0],\n",
       "       [0],\n",
       "       [0],\n",
       "       [0],\n",
       "       [0],\n",
       "       [0],\n",
       "       [0],\n",
       "       [0],\n",
       "       [0],\n",
       "       [0],\n",
       "       [0],\n",
       "       [0],\n",
       "       [0],\n",
       "       [0],\n",
       "       [0],\n",
       "       [0],\n",
       "       [0],\n",
       "       [0],\n",
       "       [0],\n",
       "       [0],\n",
       "       [0],\n",
       "       [0],\n",
       "       [0],\n",
       "       [0],\n",
       "       [0],\n",
       "       [0],\n",
       "       [0],\n",
       "       [0],\n",
       "       [0],\n",
       "       [0],\n",
       "       [0],\n",
       "       [0],\n",
       "       [0],\n",
       "       [0],\n",
       "       [0],\n",
       "       [0],\n",
       "       [0],\n",
       "       [0],\n",
       "       [0],\n",
       "       [0],\n",
       "       [0],\n",
       "       [0],\n",
       "       [0],\n",
       "       [0],\n",
       "       [0],\n",
       "       [0],\n",
       "       [0],\n",
       "       [0],\n",
       "       [0],\n",
       "       [0],\n",
       "       [0],\n",
       "       [0],\n",
       "       [0],\n",
       "       [0],\n",
       "       [0],\n",
       "       [0],\n",
       "       [0],\n",
       "       [0],\n",
       "       [0],\n",
       "       [0],\n",
       "       [0],\n",
       "       [0],\n",
       "       [0],\n",
       "       [0],\n",
       "       [0],\n",
       "       [0],\n",
       "       [0],\n",
       "       [0],\n",
       "       [0],\n",
       "       [0],\n",
       "       [0],\n",
       "       [0]], dtype=int8)"
      ]
     },
     "execution_count": 27,
     "metadata": {},
     "output_type": "execute_result"
    }
   ],
   "source": [
    "voice_label = pd.Categorical(voice['label']).codes\n",
    "voice_label = voice_label.reshape([-1,1])\n",
    "voice_label"
   ]
  },
  {
   "cell_type": "code",
   "execution_count": 28,
   "metadata": {
    "ExecuteTime": {
     "end_time": "2020-09-18T07:27:22.773857Z",
     "start_time": "2020-09-18T07:27:22.763935Z"
    }
   },
   "outputs": [],
   "source": [
    "voice_feature = voice.iloc[:, :-1].values"
   ]
  },
  {
   "cell_type": "code",
   "execution_count": 29,
   "metadata": {
    "ExecuteTime": {
     "end_time": "2020-09-18T07:27:23.073333Z",
     "start_time": "2020-09-18T07:27:23.066075Z"
    }
   },
   "outputs": [],
   "source": [
    "def gaussianD(data) :\n",
    "    mean_feature = data.mean(axis=0)\n",
    "    pre_feature = data - mean_feature\n",
    "    std_feature = data.std(axis=0)\n",
    "    return pre_feature/std_feature"
   ]
  },
  {
   "cell_type": "code",
   "execution_count": 30,
   "metadata": {
    "ExecuteTime": {
     "end_time": "2020-09-18T07:27:23.371172Z",
     "start_time": "2020-09-18T07:27:23.364032Z"
    }
   },
   "outputs": [],
   "source": [
    "pre_voice_feature = gaussianD(voice_feature)"
   ]
  },
  {
   "cell_type": "code",
   "execution_count": 31,
   "metadata": {
    "ExecuteTime": {
     "end_time": "2020-09-18T07:27:23.700569Z",
     "start_time": "2020-09-18T07:27:23.688446Z"
    }
   },
   "outputs": [
    {
     "name": "stdout",
     "output_type": "stream",
     "text": [
      "Number of train data: 128\n",
      "Number of test data: 32\n"
     ]
    }
   ],
   "source": [
    "x_train, x_test, y_train, y_test = train_test_split(pre_voice_feature, voice_label, test_size=0.2, random_state=1)\n",
    "\n",
    "print(\"Number of train data: {}\".format(y_train.shape[0]))\n",
    "print(\"Number of test data: {}\".format(y_test.shape[0]))"
   ]
  },
  {
   "cell_type": "markdown",
   "metadata": {},
   "source": [
    "# 1. Perceptron"
   ]
  },
  {
   "cell_type": "code",
   "execution_count": 32,
   "metadata": {
    "ExecuteTime": {
     "end_time": "2020-09-18T07:27:23.990054Z",
     "start_time": "2020-09-18T07:27:23.984149Z"
    }
   },
   "outputs": [],
   "source": [
    "from sklearn.linear_model import Perceptron"
   ]
  },
  {
   "cell_type": "code",
   "execution_count": 52,
   "metadata": {
    "ExecuteTime": {
     "end_time": "2020-09-18T07:31:25.382659Z",
     "start_time": "2020-09-18T07:31:25.364726Z"
    }
   },
   "outputs": [
    {
     "name": "stderr",
     "output_type": "stream",
     "text": [
      "/home/pirl/anaconda3/lib/python3.8/site-packages/sklearn/utils/validation.py:73: DataConversionWarning: A column-vector y was passed when a 1d array was expected. Please change the shape of y to (n_samples, ), for example using ravel().\n",
      "  return f(**kwargs)\n"
     ]
    },
    {
     "data": {
      "text/plain": [
       "Perceptron()"
      ]
     },
     "execution_count": 52,
     "metadata": {},
     "output_type": "execute_result"
    }
   ],
   "source": [
    "Per = Perceptron() \n",
    "\n",
    "# Perceptron fitting\n",
    "Per.fit(x_train, y_train)"
   ]
  },
  {
   "cell_type": "code",
   "execution_count": 56,
   "metadata": {
    "ExecuteTime": {
     "end_time": "2020-09-18T07:31:52.002271Z",
     "start_time": "2020-09-18T07:31:51.988452Z"
    }
   },
   "outputs": [
    {
     "name": "stdout",
     "output_type": "stream",
     "text": [
      "Perceptron accuracy : 81.2 %\n"
     ]
    }
   ],
   "source": [
    "# Test Accuracy predict\n",
    "y_pred_per = Per.predict(x_test)\n",
    "Per_acc = np.round(metrics.accuracy_score(y_test, y_pred_per)*100,1)\n",
    "\n",
    "print('Perceptron accuracy :', Per_acc,'%')"
   ]
  },
  {
   "cell_type": "code",
   "execution_count": 57,
   "metadata": {
    "ExecuteTime": {
     "end_time": "2020-09-18T07:31:52.244319Z",
     "start_time": "2020-09-18T07:31:52.232791Z"
    }
   },
   "outputs": [],
   "source": [
    "def draw_confusion(confusion_array) :\n",
    "    conf_matrix = pd.DataFrame(confusion_array, columns=['Predicted:0(Female)','Predicted:1(Male)'],index=['Actual:0(Female)','Actual:1(Male)'])\n",
    "    plt.figure(figsize = (8,6))\n",
    "    #heatmap\n",
    "    sns.heatmap(conf_matrix, annot=True, fmt='d', cmap='YlGnBu')"
   ]
  },
  {
   "cell_type": "code",
   "execution_count": 58,
   "metadata": {
    "ExecuteTime": {
     "end_time": "2020-09-18T07:31:52.892617Z",
     "start_time": "2020-09-18T07:31:52.737922Z"
    }
   },
   "outputs": [
    {
     "data": {
      "image/png": "[encoded data removed]",
      "text/plain": [
       "<Figure size 576x432 with 2 Axes>"
      ]
     },
     "metadata": {
      "needs_background": "light"
     },
     "output_type": "display_data"
    }
   ],
   "source": [
    "Per_confusion = confusion_matrix(y_test, y_pred_per)\n",
    "draw_confusion(Per_confusion)"
   ]
  },
  {
   "cell_type": "markdown",
   "metadata": {},
   "source": [
    "# 2. SVM"
   ]
  },
  {
   "cell_type": "code",
   "execution_count": 59,
   "metadata": {
    "ExecuteTime": {
     "end_time": "2020-09-18T07:31:55.637278Z",
     "start_time": "2020-09-18T07:31:55.629676Z"
    }
   },
   "outputs": [],
   "source": [
    "from sklearn.svm import SVC"
   ]
  },
  {
   "cell_type": "code",
   "execution_count": 60,
   "metadata": {
    "ExecuteTime": {
     "end_time": "2020-09-18T07:32:09.144656Z",
     "start_time": "2020-09-18T07:32:09.125691Z"
    }
   },
   "outputs": [
    {
     "name": "stdout",
     "output_type": "stream",
     "text": [
      "SVM accuracy : 91.0 %\n"
     ]
    },
    {
     "name": "stderr",
     "output_type": "stream",
     "text": [
      "/home/pirl/anaconda3/lib/python3.8/site-packages/sklearn/utils/validation.py:73: DataConversionWarning: A column-vector y was passed when a 1d array was expected. Please change the shape of y to (n_samples, ), for example using ravel().\n",
      "  return f(**kwargs)\n"
     ]
    }
   ],
   "source": [
    "svc = SVC()\n",
    "#SVM fitting\n",
    "svc.fit(x_train, y_train)\n",
    "\n",
    "# Test Accuracy predict\n",
    "y_pred_svm = svc.predict(x_test)\n",
    "svm_acc = np.round(metrics.accuracy_score(y_test,y_pred_svm)*100,0)\n",
    "\n",
    "print('SVM accuracy :', svm_acc,'%')"
   ]
  },
  {
   "cell_type": "code",
   "execution_count": 61,
   "metadata": {
    "ExecuteTime": {
     "end_time": "2020-09-18T07:32:09.489568Z",
     "start_time": "2020-09-18T07:32:09.320651Z"
    }
   },
   "outputs": [
    {
     "data": {
      "image/png": "[encoded data removed]",
      "text/plain": [
       "<Figure size 576x432 with 2 Axes>"
      ]
     },
     "metadata": {
      "needs_background": "light"
     },
     "output_type": "display_data"
    }
   ],
   "source": [
    "svm_confusion = confusion_matrix(y_test, y_pred_svm)\n",
    "draw_confusion(svm_confusion)"
   ]
  },
  {
   "cell_type": "markdown",
   "metadata": {},
   "source": [
    "# 3. Logistic Regression "
   ]
  },
  {
   "cell_type": "code",
   "execution_count": 62,
   "metadata": {
    "ExecuteTime": {
     "end_time": "2020-09-18T07:32:31.724536Z",
     "start_time": "2020-09-18T07:32:31.717335Z"
    }
   },
   "outputs": [],
   "source": [
    "from sklearn.linear_model import LogisticRegression"
   ]
  },
  {
   "cell_type": "code",
   "execution_count": 63,
   "metadata": {
    "ExecuteTime": {
     "end_time": "2020-09-18T07:33:02.130065Z",
     "start_time": "2020-09-18T07:33:02.100151Z"
    }
   },
   "outputs": [
    {
     "name": "stdout",
     "output_type": "stream",
     "text": [
      "Logistic Regression accuracy : 91.0 %\n"
     ]
    },
    {
     "name": "stderr",
     "output_type": "stream",
     "text": [
      "/home/pirl/anaconda3/lib/python3.8/site-packages/sklearn/utils/validation.py:73: DataConversionWarning: A column-vector y was passed when a 1d array was expected. Please change the shape of y to (n_samples, ), for example using ravel().\n",
      "  return f(**kwargs)\n"
     ]
    }
   ],
   "source": [
    "logR = LogisticRegression()\n",
    "\n",
    "#logistic regression fitting\n",
    "logR.fit(x_train, y_train)\n",
    "\n",
    "# Test Accuracy predict\n",
    "y_pred_logi = logR.predict(x_test)\n",
    "logR_acc = np.round(metrics.accuracy_score(y_test,y_pred_logi)*100,0)\n",
    "print('Logistic Regression accuracy :', logR_acc,'%')"
   ]
  },
  {
   "cell_type": "code",
   "execution_count": 64,
   "metadata": {
    "ExecuteTime": {
     "end_time": "2020-09-18T07:33:11.603727Z",
     "start_time": "2020-09-18T07:33:11.443193Z"
    }
   },
   "outputs": [
    {
     "data": {
      "image/png": "[encoded data removed]",
      "text/plain": [
       "<Figure size 576x432 with 2 Axes>"
      ]
     },
     "metadata": {
      "needs_background": "light"
     },
     "output_type": "display_data"
    }
   ],
   "source": [
    "logR_confusion = confusion_matrix(y_test, y_pred_logi)\n",
    "draw_confusion(logR_confusion)"
   ]
  }
 ],
 "metadata": {
  "kernelspec": {
   "display_name": "Python 3",
   "language": "python",
   "name": "python3"
  },
  "language_info": {
   "codemirror_mode": {
    "name": "ipython",
    "version": 3
   },
   "file_extension": ".py",
   "mimetype": "text/x-python",
   "name": "python",
   "nbconvert_exporter": "python",
   "pygments_lexer": "ipython3",
   "version": "3.8.3"
  },
  "varInspector": {
   "cols": {
    "lenName": 16,
    "lenType": 16,
    "lenVar": 40
   },
   "kernels_config": {
    "python": {
     "delete_cmd_postfix": "",
     "delete_cmd_prefix": "del ",
     "library": "var_list.py",
     "varRefreshCmd": "print(var_dic_list())"
    },
    "r": {
     "delete_cmd_postfix": ") ",
     "delete_cmd_prefix": "rm(",
     "library": "var_list.r",
     "varRefreshCmd": "cat(var_dic_list()) "
    }
   },
   "types_to_exclude": [
    "module",
    "function",
    "builtin_function_or_method",
    "instance",
    "_Feature"
   ],
   "window_display": false
  }
 },
 "nbformat": 4,
 "nbformat_minor": 4
}
